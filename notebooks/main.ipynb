{
 "cells": [
  {
   "attachments": {},
   "cell_type": "markdown",
   "metadata": {
    "collapsed": false
   },
   "source": [
    "# Import library"
   ]
  },
  {
   "cell_type": "code",
   "execution_count": 276,
   "metadata": {
    "collapsed": true,
    "is_executing": true
   },
   "outputs": [],
   "source": [
    "import copy\n",
    "import numpy as np\n",
    "import pandas as pd\n",
    "from sklearn.preprocessing import OneHotEncoder\n",
    "import matplotlib.pyplot as plt\n",
    "import seaborn as sns\n",
    "from sklearn.preprocessing import StandardScaler\n",
    "from sklearn.model_selection import train_test_split\n",
    "from sklearn.metrics import mean_squared_error\n",
    "from sklearn.linear_model import LinearRegression\n",
    "from sklearn import metrics\n",
    "from sklearn.metrics import r2_score \n",
    "import pickle\n",
    "from sklearn.compose import make_column_transformer\n",
    "from sklearn.pipeline import make_pipeline\n",
    "from sklearn.ensemble import RandomForestRegressor\n"
   ]
  },
  {
   "attachments": {},
   "cell_type": "markdown",
   "metadata": {
    "collapsed": false
   },
   "source": [
    "# Load data"
   ]
  },
  {
   "cell_type": "code",
   "execution_count": 277,
   "metadata": {
    "collapsed": false,
    "is_executing": true
   },
   "outputs": [],
   "source": [
    "df = pd.read_csv('../data/data.csv')\n",
    "backup = copy.deepcopy(df)"
   ]
  },
  {
   "attachments": {},
   "cell_type": "markdown",
   "metadata": {
    "collapsed": false
   },
   "source": [
    "# Data overview"
   ]
  },
  {
   "cell_type": "code",
   "execution_count": 278,
   "metadata": {
    "collapsed": false,
    "is_executing": true
   },
   "outputs": [
    {
     "name": "stdout",
     "output_type": "stream",
     "text": [
      "Shape of data:\n",
      " (26956, 11)\n",
      "----------------------------------------\n",
      "Columns of data: \n",
      " Index(['car_name', 'year', 'price', 'assemble_place', 'series', 'driven kms',\n",
      "       'num_of_door', 'num_of_seat', 'engine_type', 'transmission', 'url'],\n",
      "      dtype='object')\n",
      "----------------------------------------\n",
      "Data types of data: \n",
      " car_name           object\n",
      "year               object\n",
      "price              object\n",
      "assemble_place     object\n",
      "series             object\n",
      "driven kms        float64\n",
      "num_of_door       float64\n",
      "num_of_seat       float64\n",
      "engine_type        object\n",
      "transmission       object\n",
      "url                object\n",
      "dtype: object\n",
      "----------------------------------------\n",
      "Missing values of data: \n",
      " car_name          38\n",
      "year              11\n",
      "price             11\n",
      "assemble_place    11\n",
      "series            11\n",
      "driven kms        11\n",
      "num_of_door       11\n",
      "num_of_seat       11\n",
      "engine_type       11\n",
      "transmission      11\n",
      "url               11\n",
      "dtype: int64\n",
      "----------------------------------------\n",
      "Describe data: \n",
      "          driven kms   num_of_door   num_of_seat\n",
      "count  2.694500e+04  26945.000000  26945.000000\n",
      "mean   4.809838e+05      4.515272      5.537317\n",
      "std    3.062607e+07      0.913087      1.687252\n",
      "min    1.000000e+00      1.000000      2.000000\n",
      "25%    2.215100e+04      4.000000      5.000000\n",
      "50%    4.900000e+04      5.000000      5.000000\n",
      "75%    8.000000e+04      5.000000      5.000000\n",
      "max    4.294967e+09     54.000000     47.000000\n",
      "----------------------------------------\n",
      "<class 'pandas.core.frame.DataFrame'>\n",
      "RangeIndex: 26956 entries, 0 to 26955\n",
      "Data columns (total 11 columns):\n",
      " #   Column          Non-Null Count  Dtype  \n",
      "---  ------          --------------  -----  \n",
      " 0   car_name        26918 non-null  object \n",
      " 1   year            26945 non-null  object \n",
      " 2   price           26945 non-null  object \n",
      " 3   assemble_place  26945 non-null  object \n",
      " 4   series          26945 non-null  object \n",
      " 5   driven kms      26945 non-null  float64\n",
      " 6   num_of_door     26945 non-null  float64\n",
      " 7   num_of_seat     26945 non-null  float64\n",
      " 8   engine_type     26945 non-null  object \n",
      " 9   transmission    26945 non-null  object \n",
      " 10  url             26945 non-null  object \n",
      "dtypes: float64(3), object(8)\n",
      "memory usage: 2.3+ MB\n",
      "Info data: \n",
      " None\n"
     ]
    }
   ],
   "source": [
    "def describle_data():\n",
    "    print('Shape of data:\\n', df.shape)\n",
    "    print('--'*20)\n",
    "    print('Columns of data: \\n', df.columns)\n",
    "    print('--'*20)\n",
    "    print('Data types of data: \\n', df.dtypes)\n",
    "    print('--'*20)\n",
    "    print('Missing values of data: \\n', df.isna().sum())\n",
    "    print('--'*20)\n",
    "    print('Describe data: \\n', df.describe())\n",
    "    print('--'*20)\n",
    "    print('Info data: \\n', df.info())\n",
    "describle_data()"
   ]
  },
  {
   "attachments": {},
   "cell_type": "markdown",
   "metadata": {
    "collapsed": false
   },
   "source": [
    "# Xóa bỏ những xe bị trùng lặp"
   ]
  },
  {
   "attachments": {},
   "cell_type": "markdown",
   "metadata": {
    "collapsed": false
   },
   "source": []
  },
  {
   "cell_type": "code",
   "execution_count": 279,
   "metadata": {
    "collapsed": false,
    "is_executing": true
   },
   "outputs": [
    {
     "name": "stdout",
     "output_type": "stream",
     "text": [
      "Shape of data:\n",
      " (25157, 11)\n",
      "----------------------------------------\n",
      "Columns of data: \n",
      " Index(['car_name', 'year', 'price', 'assemble_place', 'series', 'driven kms',\n",
      "       'num_of_door', 'num_of_seat', 'engine_type', 'transmission', 'url'],\n",
      "      dtype='object')\n",
      "----------------------------------------\n",
      "Data types of data: \n",
      " car_name           object\n",
      "year               object\n",
      "price              object\n",
      "assemble_place     object\n",
      "series             object\n",
      "driven kms        float64\n",
      "num_of_door       float64\n",
      "num_of_seat       float64\n",
      "engine_type        object\n",
      "transmission       object\n",
      "url                object\n",
      "dtype: object\n",
      "----------------------------------------\n",
      "Missing values of data: \n",
      " car_name          35\n",
      "year               1\n",
      "price              1\n",
      "assemble_place     1\n",
      "series             1\n",
      "driven kms         1\n",
      "num_of_door        1\n",
      "num_of_seat        1\n",
      "engine_type        1\n",
      "transmission       1\n",
      "url                1\n",
      "dtype: int64\n",
      "----------------------------------------\n",
      "Describe data: \n",
      "          driven kms   num_of_door   num_of_seat\n",
      "count  2.515600e+04  25156.000000  25156.000000\n",
      "mean   5.110776e+05      4.515583      5.535737\n",
      "std    3.169618e+07      0.931673      1.693333\n",
      "min    1.000000e+00      1.000000      2.000000\n",
      "25%    2.220425e+04      4.000000      5.000000\n",
      "50%    4.993900e+04      5.000000      5.000000\n",
      "75%    8.000000e+04      5.000000      5.000000\n",
      "max    4.294967e+09     54.000000     47.000000\n",
      "----------------------------------------\n",
      "<class 'pandas.core.frame.DataFrame'>\n",
      "Index: 25157 entries, 0 to 26902\n",
      "Data columns (total 11 columns):\n",
      " #   Column          Non-Null Count  Dtype  \n",
      "---  ------          --------------  -----  \n",
      " 0   car_name        25122 non-null  object \n",
      " 1   year            25156 non-null  object \n",
      " 2   price           25156 non-null  object \n",
      " 3   assemble_place  25156 non-null  object \n",
      " 4   series          25156 non-null  object \n",
      " 5   driven kms      25156 non-null  float64\n",
      " 6   num_of_door     25156 non-null  float64\n",
      " 7   num_of_seat     25156 non-null  float64\n",
      " 8   engine_type     25156 non-null  object \n",
      " 9   transmission    25156 non-null  object \n",
      " 10  url             25156 non-null  object \n",
      "dtypes: float64(3), object(8)\n",
      "memory usage: 2.3+ MB\n",
      "Info data: \n",
      " None\n"
     ]
    }
   ],
   "source": [
    "df.drop_duplicates(subset=['url'], inplace=True)\n",
    "describle_data()"
   ]
  },
  {
   "attachments": {},
   "cell_type": "markdown",
   "metadata": {
    "collapsed": false
   },
   "source": [
    "# Chuyển đổi kiểu dữ liệu cho các cột year, price sang kiểu số thực để có thể thực hiện các phép tính toán"
   ]
  },
  {
   "attachments": {},
   "cell_type": "markdown",
   "metadata": {
    "collapsed": false
   },
   "source": [
    "Year"
   ]
  },
  {
   "cell_type": "code",
   "execution_count": 280,
   "metadata": {
    "collapsed": false,
    "is_executing": true
   },
   "outputs": [
    {
     "name": "stdout",
     "output_type": "stream",
     "text": [
      "Shape of data:\n",
      " (25157, 11)\n",
      "----------------------------------------\n",
      "Columns of data: \n",
      " Index(['car_name', 'year', 'price', 'assemble_place', 'series', 'driven kms',\n",
      "       'num_of_door', 'num_of_seat', 'engine_type', 'transmission', 'url'],\n",
      "      dtype='object')\n",
      "----------------------------------------\n",
      "Data types of data: \n",
      " car_name           object\n",
      "year              float64\n",
      "price              object\n",
      "assemble_place     object\n",
      "series             object\n",
      "driven kms        float64\n",
      "num_of_door       float64\n",
      "num_of_seat       float64\n",
      "engine_type        object\n",
      "transmission       object\n",
      "url                object\n",
      "dtype: object\n",
      "----------------------------------------\n",
      "Missing values of data: \n",
      " car_name          35\n",
      "year               0\n",
      "price              1\n",
      "assemble_place     1\n",
      "series             1\n",
      "driven kms         1\n",
      "num_of_door        1\n",
      "num_of_seat        1\n",
      "engine_type        1\n",
      "transmission       1\n",
      "url                1\n",
      "dtype: int64\n",
      "----------------------------------------\n",
      "Describe data: \n",
      "                year    driven kms   num_of_door   num_of_seat\n",
      "count  25157.000000  2.515600e+04  25156.000000  25156.000000\n",
      "mean    1997.561553  5.110776e+05      4.515583      5.535737\n",
      "std      195.475487  3.169618e+07      0.931673      1.693333\n",
      "min       -1.000000  1.000000e+00      1.000000      2.000000\n",
      "25%     2015.000000  2.220425e+04      4.000000      5.000000\n",
      "50%     2018.000000  4.993900e+04      5.000000      5.000000\n",
      "75%     2020.000000  8.000000e+04      5.000000      5.000000\n",
      "max     2023.000000  4.294967e+09     54.000000     47.000000\n",
      "----------------------------------------\n",
      "<class 'pandas.core.frame.DataFrame'>\n",
      "Index: 25157 entries, 0 to 26902\n",
      "Data columns (total 11 columns):\n",
      " #   Column          Non-Null Count  Dtype  \n",
      "---  ------          --------------  -----  \n",
      " 0   car_name        25122 non-null  object \n",
      " 1   year            25157 non-null  float64\n",
      " 2   price           25156 non-null  object \n",
      " 3   assemble_place  25156 non-null  object \n",
      " 4   series          25156 non-null  object \n",
      " 5   driven kms      25156 non-null  float64\n",
      " 6   num_of_door     25156 non-null  float64\n",
      " 7   num_of_seat     25156 non-null  float64\n",
      " 8   engine_type     25156 non-null  object \n",
      " 9   transmission    25156 non-null  object \n",
      " 10  url             25156 non-null  object \n",
      "dtypes: float64(4), object(7)\n",
      "memory usage: 2.3+ MB\n",
      "Info data: \n",
      " None\n"
     ]
    }
   ],
   "source": [
    "def process_year_colum(year):\n",
    "    if year.isdigit():\n",
    "        return float(year)\n",
    "    else:\n",
    "        return -1\n",
    "df['year'] = df['year'].astype(str).apply(process_year_colum)\n",
    "describle_data()"
   ]
  },
  {
   "attachments": {},
   "cell_type": "markdown",
   "metadata": {},
   "source": [
    "Chuyển đổi giá từ dạng triệu/tỷ về dạng số"
   ]
  },
  {
   "cell_type": "code",
   "execution_count": 281,
   "metadata": {
    "collapsed": false,
    "is_executing": true
   },
   "outputs": [],
   "source": [
    "def process_price(price):\n",
    "    try:\n",
    "        if price.find('Tỷ') != -1:\n",
    "            ty= price.split('Tỷ')[0]\n",
    "            trieu = price.split('Tỷ')[1]\n",
    "            trieu = trieu.split('Triệu')[0]\n",
    "            return float(ty)*1000000000 + float(trieu)*1000000\n",
    "        elif price.find('Triệu') != -1:\n",
    "            trieu = price.split('Triệu')[0]\n",
    "            trieu = trieu.replace(' ','')\n",
    "            return float(trieu)*1000000\n",
    "        else:\n",
    "            return 0\n",
    "    except:\n",
    "        return 0\n",
    "df['price'] = df['price'].astype(str).apply(process_price)"
   ]
  },
  {
   "cell_type": "code",
   "execution_count": 282,
   "metadata": {},
   "outputs": [],
   "source": [
    "# xóa các xe có giá trị km <= 0\n",
    "df = df[df['driven kms'] > 0]"
   ]
  },
  {
   "cell_type": "code",
   "execution_count": 283,
   "metadata": {
    "collapsed": false,
    "is_executing": true
   },
   "outputs": [
    {
     "data": {
      "text/plain": [
       "count    2.515600e+04\n",
       "mean     1.064326e+09\n",
       "std      1.664726e+09\n",
       "min      0.000000e+00\n",
       "25%      3.850000e+08\n",
       "50%      5.600000e+08\n",
       "75%      9.450000e+08\n",
       "max      3.860000e+10\n",
       "Name: price, dtype: float64"
      ]
     },
     "execution_count": 283,
     "metadata": {},
     "output_type": "execute_result"
    }
   ],
   "source": [
    "df['price'].describe()\n"
   ]
  },
  {
   "attachments": {},
   "cell_type": "markdown",
   "metadata": {
    "collapsed": false
   },
   "source": [
    "# Xử lý các cột dạng nhãn"
   ]
  },
  {
   "attachments": {},
   "cell_type": "markdown",
   "metadata": {
    "collapsed": false
   },
   "source": [
    "Car_name có hai phần là hãng xe và tên xe, ta sẽ tách ra thành hai cột là brand và model\n"
   ]
  },
  {
   "cell_type": "code",
   "execution_count": 284,
   "metadata": {
    "collapsed": false,
    "is_executing": true
   },
   "outputs": [],
   "source": [
    "df['brand'] = df['car_name'].str.split().str[0]\n",
    "df['model'] = df['car_name'].str.split().str[1:].str.join(' ')"
   ]
  },
  {
   "cell_type": "code",
   "execution_count": 285,
   "metadata": {},
   "outputs": [
    {
     "data": {
      "text/plain": [
       "brand\n",
       "Toyota        4798\n",
       "Mercedes      2933\n",
       "Hyundai       2832\n",
       "Kia           2681\n",
       "Ford          2236\n",
       "              ... \n",
       "Howo             1\n",
       "Samsung          1\n",
       "Scion            1\n",
       "SHUGUANG         1\n",
       "Brilliance       1\n",
       "Name: count, Length: 85, dtype: int64"
      ]
     },
     "execution_count": 285,
     "metadata": {},
     "output_type": "execute_result"
    }
   ],
   "source": [
    "df['brand'].value_counts()"
   ]
  },
  {
   "cell_type": "code",
   "execution_count": 286,
   "metadata": {},
   "outputs": [],
   "source": [
    "df['model']=df['model'].str.split(' ').str.slice(0,3).str.join(' ')"
   ]
  },
  {
   "cell_type": "code",
   "execution_count": 287,
   "metadata": {},
   "outputs": [],
   "source": [
    "# các model có số lượng dưới 10 xe sẽ được gộp vào thành model Other\n",
    "model_counts = df['model'].value_counts()\n",
    "model_counts[model_counts < 5]\n",
    "model_counts[model_counts < 5].index\n",
    "df['model'] = df['model'].replace(model_counts[model_counts < 5].index, 'Other')"
   ]
  },
  {
   "cell_type": "code",
   "execution_count": 288,
   "metadata": {},
   "outputs": [
    {
     "data": {
      "text/plain": [
       "0          Range Rover HSE\n",
       "1        Outlander 2.0 CVT\n",
       "2            3 1.5L Luxury\n",
       "3                 2 1.5 AT\n",
       "4            Swift GLX 1.2\n",
       "               ...        \n",
       "26898        Swift GLX 1.2\n",
       "26899        i10 Grand 1.2\n",
       "26900         Rush 1.5S AT\n",
       "26901               GX 460\n",
       "26902    Fortuner 2.4G 4x2\n",
       "Name: model, Length: 25156, dtype: object"
      ]
     },
     "execution_count": 288,
     "metadata": {},
     "output_type": "execute_result"
    }
   ],
   "source": [
    "df['model']"
   ]
  },
  {
   "cell_type": "code",
   "execution_count": 289,
   "metadata": {
    "collapsed": false,
    "is_executing": true
   },
   "outputs": [
    {
     "data": {
      "text/html": [
       "<div>\n",
       "<style scoped>\n",
       "    .dataframe tbody tr th:only-of-type {\n",
       "        vertical-align: middle;\n",
       "    }\n",
       "\n",
       "    .dataframe tbody tr th {\n",
       "        vertical-align: top;\n",
       "    }\n",
       "\n",
       "    .dataframe thead th {\n",
       "        text-align: right;\n",
       "    }\n",
       "</style>\n",
       "<table border=\"1\" class=\"dataframe\">\n",
       "  <thead>\n",
       "    <tr style=\"text-align: right;\">\n",
       "      <th></th>\n",
       "      <th>car_name</th>\n",
       "      <th>year</th>\n",
       "      <th>price</th>\n",
       "      <th>assemble_place</th>\n",
       "      <th>series</th>\n",
       "      <th>driven kms</th>\n",
       "      <th>num_of_door</th>\n",
       "      <th>num_of_seat</th>\n",
       "      <th>engine_type</th>\n",
       "      <th>transmission</th>\n",
       "      <th>url</th>\n",
       "      <th>brand</th>\n",
       "      <th>model</th>\n",
       "    </tr>\n",
       "  </thead>\n",
       "  <tbody>\n",
       "    <tr>\n",
       "      <th>0</th>\n",
       "      <td>LandRover Range Rover HSE 3.0</td>\n",
       "      <td>2015.0</td>\n",
       "      <td>2.700000e+09</td>\n",
       "      <td>Nhập khẩu</td>\n",
       "      <td>SUV</td>\n",
       "      <td>65000.0</td>\n",
       "      <td>5.0</td>\n",
       "      <td>5.0</td>\n",
       "      <td>Xăng</td>\n",
       "      <td>Số tự động</td>\n",
       "      <td>https://bonbanh.com/xe-landrover-range_rover-h...</td>\n",
       "      <td>LandRover</td>\n",
       "      <td>Range Rover HSE</td>\n",
       "    </tr>\n",
       "    <tr>\n",
       "      <th>1</th>\n",
       "      <td>Mitsubishi Outlander 2.0 CVT Premium</td>\n",
       "      <td>2018.0</td>\n",
       "      <td>6.660000e+08</td>\n",
       "      <td>Lắp ráp trong nước</td>\n",
       "      <td>SUV</td>\n",
       "      <td>50000.0</td>\n",
       "      <td>5.0</td>\n",
       "      <td>7.0</td>\n",
       "      <td>Xăng</td>\n",
       "      <td>Số tự động</td>\n",
       "      <td>https://bonbanh.com/xe-mitsubishi-outlander-2....</td>\n",
       "      <td>Mitsubishi</td>\n",
       "      <td>Outlander 2.0 CVT</td>\n",
       "    </tr>\n",
       "    <tr>\n",
       "      <th>2</th>\n",
       "      <td>Mazda 3 1.5L Luxury</td>\n",
       "      <td>2019.0</td>\n",
       "      <td>4.900000e+08</td>\n",
       "      <td>Lắp ráp trong nước</td>\n",
       "      <td>Sedan</td>\n",
       "      <td>51000.0</td>\n",
       "      <td>4.0</td>\n",
       "      <td>5.0</td>\n",
       "      <td>Xăng</td>\n",
       "      <td>Số tự động</td>\n",
       "      <td>https://bonbanh.com/xe-mazda-3-1.5l-luxury-201...</td>\n",
       "      <td>Mazda</td>\n",
       "      <td>3 1.5L Luxury</td>\n",
       "    </tr>\n",
       "    <tr>\n",
       "      <th>3</th>\n",
       "      <td>Mazda 2 1.5 AT</td>\n",
       "      <td>2015.0</td>\n",
       "      <td>3.650000e+08</td>\n",
       "      <td>Lắp ráp trong nước</td>\n",
       "      <td>Sedan</td>\n",
       "      <td>38000.0</td>\n",
       "      <td>4.0</td>\n",
       "      <td>5.0</td>\n",
       "      <td>Xăng</td>\n",
       "      <td>Số tự động</td>\n",
       "      <td>https://bonbanh.com/xe-mazda-2-1.5-at-2015-491...</td>\n",
       "      <td>Mazda</td>\n",
       "      <td>2 1.5 AT</td>\n",
       "    </tr>\n",
       "    <tr>\n",
       "      <th>4</th>\n",
       "      <td>Suzuki Swift GLX 1.2 AT</td>\n",
       "      <td>2021.0</td>\n",
       "      <td>5.650000e+08</td>\n",
       "      <td>Nhập khẩu</td>\n",
       "      <td>Hatchback</td>\n",
       "      <td>6000.0</td>\n",
       "      <td>5.0</td>\n",
       "      <td>5.0</td>\n",
       "      <td>Xăng</td>\n",
       "      <td>Số tự động</td>\n",
       "      <td>https://bonbanh.com/xe-suzuki-swift-glx-1.2-at...</td>\n",
       "      <td>Suzuki</td>\n",
       "      <td>Swift GLX 1.2</td>\n",
       "    </tr>\n",
       "  </tbody>\n",
       "</table>\n",
       "</div>"
      ],
      "text/plain": [
       "                                car_name    year         price  \\\n",
       "0          LandRover Range Rover HSE 3.0  2015.0  2.700000e+09   \n",
       "1   Mitsubishi Outlander 2.0 CVT Premium  2018.0  6.660000e+08   \n",
       "2                    Mazda 3 1.5L Luxury  2019.0  4.900000e+08   \n",
       "3                         Mazda 2 1.5 AT  2015.0  3.650000e+08   \n",
       "4                Suzuki Swift GLX 1.2 AT  2021.0  5.650000e+08   \n",
       "\n",
       "       assemble_place     series  driven kms  num_of_door  num_of_seat  \\\n",
       "0           Nhập khẩu        SUV     65000.0          5.0          5.0   \n",
       "1  Lắp ráp trong nước        SUV     50000.0          5.0          7.0   \n",
       "2  Lắp ráp trong nước      Sedan     51000.0          4.0          5.0   \n",
       "3  Lắp ráp trong nước      Sedan     38000.0          4.0          5.0   \n",
       "4           Nhập khẩu  Hatchback      6000.0          5.0          5.0   \n",
       "\n",
       "  engine_type transmission                                                url  \\\n",
       "0        Xăng   Số tự động  https://bonbanh.com/xe-landrover-range_rover-h...   \n",
       "1        Xăng   Số tự động  https://bonbanh.com/xe-mitsubishi-outlander-2....   \n",
       "2        Xăng   Số tự động  https://bonbanh.com/xe-mazda-3-1.5l-luxury-201...   \n",
       "3        Xăng   Số tự động  https://bonbanh.com/xe-mazda-2-1.5-at-2015-491...   \n",
       "4        Xăng   Số tự động  https://bonbanh.com/xe-suzuki-swift-glx-1.2-at...   \n",
       "\n",
       "        brand              model  \n",
       "0   LandRover    Range Rover HSE  \n",
       "1  Mitsubishi  Outlander 2.0 CVT  \n",
       "2       Mazda      3 1.5L Luxury  \n",
       "3       Mazda           2 1.5 AT  \n",
       "4      Suzuki      Swift GLX 1.2  "
      ]
     },
     "execution_count": 289,
     "metadata": {},
     "output_type": "execute_result"
    }
   ],
   "source": [
    "df.head()"
   ]
  },
  {
   "attachments": {},
   "cell_type": "markdown",
   "metadata": {
    "collapsed": false
   },
   "source": [
    "# Xử lý các dữ liệu bị thiếu hoặc sai\n"
   ]
  },
  {
   "attachments": {},
   "cell_type": "markdown",
   "metadata": {
    "collapsed": false
   },
   "source": [
    "Xử lý cột year"
   ]
  },
  {
   "cell_type": "code",
   "execution_count": 290,
   "metadata": {
    "collapsed": false,
    "is_executing": true
   },
   "outputs": [
    {
     "name": "stdout",
     "output_type": "stream",
     "text": [
      "Number of car before 1990:  238\n",
      "Number of car before 1990:  year\n",
      "-1.0      236\n",
      " 200.0      1\n",
      " 700.0      1\n",
      "Name: count, dtype: int64\n"
     ]
    }
   ],
   "source": [
    "car_before_1990 = df[df['year'] < 1990]\n",
    "print('Number of car before 1990: ', car_before_1990.shape[0])\n",
    "print('Number of car before 1990: ', car_before_1990['year'].value_counts())"
   ]
  },
  {
   "attachments": {},
   "cell_type": "markdown",
   "metadata": {
    "collapsed": false
   },
   "source": []
  },
  {
   "attachments": {},
   "cell_type": "markdown",
   "metadata": {
    "collapsed": false
   },
   "source": [
    "Xóa các dòng năm sản xuất không hợp lệ < 1900"
   ]
  },
  {
   "cell_type": "code",
   "execution_count": 291,
   "metadata": {
    "collapsed": false,
    "is_executing": true
   },
   "outputs": [
    {
     "name": "stdout",
     "output_type": "stream",
     "text": [
      "Shape of data:\n",
      " (24893, 13)\n",
      "----------------------------------------\n",
      "Columns of data: \n",
      " Index(['car_name', 'year', 'price', 'assemble_place', 'series', 'driven kms',\n",
      "       'num_of_door', 'num_of_seat', 'engine_type', 'transmission', 'url',\n",
      "       'brand', 'model'],\n",
      "      dtype='object')\n",
      "----------------------------------------\n",
      "Data types of data: \n",
      " car_name           object\n",
      "year              float64\n",
      "price             float64\n",
      "assemble_place     object\n",
      "series             object\n",
      "driven kms        float64\n",
      "num_of_door       float64\n",
      "num_of_seat       float64\n",
      "engine_type        object\n",
      "transmission       object\n",
      "url                object\n",
      "brand              object\n",
      "model              object\n",
      "dtype: object\n",
      "----------------------------------------\n",
      "Missing values of data: \n",
      " car_name          0\n",
      "year              0\n",
      "price             0\n",
      "assemble_place    0\n",
      "series            0\n",
      "driven kms        0\n",
      "num_of_door       0\n",
      "num_of_seat       0\n",
      "engine_type       0\n",
      "transmission      0\n",
      "url               0\n",
      "brand             0\n",
      "model             0\n",
      "dtype: int64\n",
      "----------------------------------------\n",
      "Describe data: \n",
      "                year         price    driven kms   num_of_door   num_of_seat\n",
      "count  24893.000000  2.489300e+04  2.489300e+04  24893.000000  24893.000000\n",
      "mean    2016.721287  1.075413e+09  5.037849e+05      4.513799      5.537139\n",
      "std        4.641435  1.669963e+09  3.180655e+07      0.933953      1.698263\n",
      "min     1991.000000  0.000000e+00  1.000000e+00      1.000000      2.000000\n",
      "25%     2015.000000  3.900000e+08  2.300000e+04      4.000000      5.000000\n",
      "50%     2018.000000  5.650000e+08  5.000000e+04      5.000000      5.000000\n",
      "75%     2020.000000  9.500000e+08  8.000000e+04      5.000000      5.000000\n",
      "max     2023.000000  3.860000e+10  4.294967e+09     54.000000     47.000000\n",
      "----------------------------------------\n",
      "<class 'pandas.core.frame.DataFrame'>\n",
      "Index: 24893 entries, 0 to 26902\n",
      "Data columns (total 13 columns):\n",
      " #   Column          Non-Null Count  Dtype  \n",
      "---  ------          --------------  -----  \n",
      " 0   car_name        24893 non-null  object \n",
      " 1   year            24893 non-null  float64\n",
      " 2   price           24893 non-null  float64\n",
      " 3   assemble_place  24893 non-null  object \n",
      " 4   series          24893 non-null  object \n",
      " 5   driven kms      24893 non-null  float64\n",
      " 6   num_of_door     24893 non-null  float64\n",
      " 7   num_of_seat     24893 non-null  float64\n",
      " 8   engine_type     24893 non-null  object \n",
      " 9   transmission    24893 non-null  object \n",
      " 10  url             24893 non-null  object \n",
      " 11  brand           24893 non-null  object \n",
      " 12  model           24893 non-null  object \n",
      "dtypes: float64(5), object(8)\n",
      "memory usage: 2.7+ MB\n",
      "Info data: \n",
      " None\n"
     ]
    }
   ],
   "source": [
    "df = df[df['year'] > 1990]\n",
    "describle_data()"
   ]
  },
  {
   "attachments": {},
   "cell_type": "markdown",
   "metadata": {
    "collapsed": false
   },
   "source": [
    "Cột price: xóa các giá trị <= 0"
   ]
  },
  {
   "cell_type": "code",
   "execution_count": 292,
   "metadata": {
    "collapsed": false,
    "is_executing": true
   },
   "outputs": [
    {
     "name": "stdout",
     "output_type": "stream",
     "text": [
      "Shape of data:\n",
      " (24814, 13)\n",
      "----------------------------------------\n",
      "Columns of data: \n",
      " Index(['car_name', 'year', 'price', 'assemble_place', 'series', 'driven kms',\n",
      "       'num_of_door', 'num_of_seat', 'engine_type', 'transmission', 'url',\n",
      "       'brand', 'model'],\n",
      "      dtype='object')\n",
      "----------------------------------------\n",
      "Data types of data: \n",
      " car_name           object\n",
      "year              float64\n",
      "price             float64\n",
      "assemble_place     object\n",
      "series             object\n",
      "driven kms        float64\n",
      "num_of_door       float64\n",
      "num_of_seat       float64\n",
      "engine_type        object\n",
      "transmission       object\n",
      "url                object\n",
      "brand              object\n",
      "model              object\n",
      "dtype: object\n",
      "----------------------------------------\n",
      "Missing values of data: \n",
      " car_name          0\n",
      "year              0\n",
      "price             0\n",
      "assemble_place    0\n",
      "series            0\n",
      "driven kms        0\n",
      "num_of_door       0\n",
      "num_of_seat       0\n",
      "engine_type       0\n",
      "transmission      0\n",
      "url               0\n",
      "brand             0\n",
      "model             0\n",
      "dtype: int64\n",
      "----------------------------------------\n",
      "Describe data: \n",
      "                year         price    driven kms   num_of_door   num_of_seat\n",
      "count  24814.000000  2.481400e+04  2.481400e+04  24814.000000  24814.000000\n",
      "mean    2016.713629  1.078837e+09  5.052955e+05      4.514024      5.538124\n",
      "std        4.644224  1.671515e+09  3.185713e+07      0.934234      1.699145\n",
      "min     1991.000000  1.500000e+07  1.000000e+00      1.000000      2.000000\n",
      "25%     2015.000000  3.950000e+08  2.300000e+04      4.000000      5.000000\n",
      "50%     2018.000000  5.650000e+08  5.000000e+04      5.000000      5.000000\n",
      "75%     2020.000000  9.500000e+08  8.000000e+04      5.000000      5.000000\n",
      "max     2023.000000  3.860000e+10  4.294967e+09     54.000000     47.000000\n",
      "----------------------------------------\n",
      "<class 'pandas.core.frame.DataFrame'>\n",
      "Index: 24814 entries, 0 to 26902\n",
      "Data columns (total 13 columns):\n",
      " #   Column          Non-Null Count  Dtype  \n",
      "---  ------          --------------  -----  \n",
      " 0   car_name        24814 non-null  object \n",
      " 1   year            24814 non-null  float64\n",
      " 2   price           24814 non-null  float64\n",
      " 3   assemble_place  24814 non-null  object \n",
      " 4   series          24814 non-null  object \n",
      " 5   driven kms      24814 non-null  float64\n",
      " 6   num_of_door     24814 non-null  float64\n",
      " 7   num_of_seat     24814 non-null  float64\n",
      " 8   engine_type     24814 non-null  object \n",
      " 9   transmission    24814 non-null  object \n",
      " 10  url             24814 non-null  object \n",
      " 11  brand           24814 non-null  object \n",
      " 12  model           24814 non-null  object \n",
      "dtypes: float64(5), object(8)\n",
      "memory usage: 2.7+ MB\n",
      "Info data: \n",
      " None\n"
     ]
    }
   ],
   "source": [
    "df = df[df['price'] > 0]\n",
    "describle_data()"
   ]
  },
  {
   "attachments": {},
   "cell_type": "markdown",
   "metadata": {
    "collapsed": false
   },
   "source": [
    "Cột num_of_door\n",
    "Thông thường các xe có tối đa 5 - 6 cửa, với những giá trị sai ta sẽ điền bằng giá trị xuất hiện nhiều nhất trong cột num_of_door"
   ]
  },
  {
   "cell_type": "code",
   "execution_count": 293,
   "metadata": {
    "collapsed": false,
    "is_executing": true
   },
   "outputs": [],
   "source": [
    "df['num_of_door'] = df['num_of_door'].apply(lambda x: df['num_of_door'].value_counts().index[0] if x > 6 else x)"
   ]
  },
  {
   "attachments": {},
   "cell_type": "markdown",
   "metadata": {
    "collapsed": false
   },
   "source": []
  },
  {
   "attachments": {},
   "cell_type": "markdown",
   "metadata": {
    "collapsed": false
   },
   "source": [
    "Cột brand"
   ]
  },
  {
   "cell_type": "code",
   "execution_count": 294,
   "metadata": {
    "collapsed": false,
    "is_executing": true
   },
   "outputs": [
    {
     "data": {
      "text/plain": [
       "brand\n",
       "Toyota        4775\n",
       "Mercedes      2906\n",
       "Hyundai       2827\n",
       "Kia           2640\n",
       "Ford          2230\n",
       "              ... \n",
       "Howo             1\n",
       "Samsung          1\n",
       "Aston            1\n",
       "Scion            1\n",
       "Brilliance       1\n",
       "Name: count, Length: 83, dtype: int64"
      ]
     },
     "execution_count": 294,
     "metadata": {},
     "output_type": "execute_result"
    }
   ],
   "source": [
    "df['brand'].value_counts()"
   ]
  },
  {
   "attachments": {},
   "cell_type": "markdown",
   "metadata": {
    "collapsed": false
   },
   "source": [
    "Cột brand có một số hãng có số lượng xe rất ít hoặc bị thiếu, ta sẽ gộp các hãng xe này thành một nhóm là 'other'\n",
    "Nếu số xe của hãng đó nhỏ hơn 10 thì sẽ gộp vào nhóm 'Other'"
   ]
  },
  {
   "cell_type": "code",
   "execution_count": 295,
   "metadata": {
    "collapsed": false,
    "is_executing": true
   },
   "outputs": [],
   "source": [
    "threshold = 5\n",
    "car_count = df['brand'].value_counts()\n",
    "small_brands = car_count[car_count < threshold].index.tolist()\n",
    "df['brand'] = df['brand'].apply(lambda x: 'Other' if x in small_brands else x)\n",
    "df['brand'].fillna('Other', inplace=True)"
   ]
  },
  {
   "cell_type": "code",
   "execution_count": 296,
   "metadata": {},
   "outputs": [
    {
     "name": "stdout",
     "output_type": "stream",
     "text": [
      "brand\n",
      "Lamborghini    1.454000e+10\n",
      "Rolls          1.378962e+10\n",
      "Bentley        1.066070e+10\n",
      "McLaren        9.620000e+09\n",
      "Lincoln        6.090806e+09\n",
      "LandRover      4.203340e+09\n",
      "Porsche        4.017987e+09\n",
      "Maserati       3.554455e+09\n",
      "Lexus          3.278581e+09\n",
      "Jeep           2.971826e+09\n",
      "Cadillac       2.515273e+09\n",
      "Volvo          2.218634e+09\n",
      "Mercedes       2.004621e+09\n",
      "Jaguar         1.798727e+09\n",
      "Infiniti       1.742200e+09\n",
      "Mini           1.427632e+09\n",
      "BMW            1.415890e+09\n",
      "Audi           1.258419e+09\n",
      "Other          1.091310e+09\n",
      "Subaru         9.207143e+08\n",
      "Volkswagen     8.474800e+08\n",
      "Peugeot        8.188621e+08\n",
      "Toyota         7.597510e+08\n",
      "Ford           6.421570e+08\n",
      "VinFast        5.650631e+08\n",
      "Mazda          5.529249e+08\n",
      "Hyundai        5.382045e+08\n",
      "Honda          5.294520e+08\n",
      "Baic           5.210000e+08\n",
      "MG             5.098780e+08\n",
      "Mitsubishi     5.069020e+08\n",
      "Kia            4.845394e+08\n",
      "Nissan         4.504627e+08\n",
      "Isuzu          4.026667e+08\n",
      "Suzuki         3.871135e+08\n",
      "Chevrolet      3.729601e+08\n",
      "Renault        3.595000e+08\n",
      "Ssangyong      2.971429e+08\n",
      "Thaco          2.816667e+08\n",
      "Kenbo          1.560000e+08\n",
      "Dongben        1.425000e+08\n",
      "Daihatsu       1.357692e+08\n",
      "Daewoo         1.314697e+08\n",
      "Fiat           1.260000e+08\n",
      "Name: price, dtype: float64\n"
     ]
    }
   ],
   "source": [
    "# in ra tất cả brand\n",
    "# sắp xếp theo thứ tự giảm dần về giá trung bình\n",
    "print(df.groupby('brand')['price'].mean().sort_values(ascending=False))\n"
   ]
  },
  {
   "cell_type": "code",
   "execution_count": 297,
   "metadata": {},
   "outputs": [],
   "source": [
    "# def car_band(x):\n",
    "#     if x in ['Land', 'Lamborghini', 'Jaguar', 'BMW', 'Mercedes', 'Porsche','Jeep',\n",
    "#        'Audi', 'Bentley','Mini','LandRover','Lexus','Maserati','Rolls','Ferrari','Aston','Lincoln','Maserati','Cadillac']:\n",
    "#         return 'HIGH END CAR'    \n",
    "#     elif x in ['Ford',\n",
    "#             'Skoda',\n",
    "#          'Mahindra',\n",
    "#             'Force',\n",
    "#        'Mitsubishi',\n",
    "#            'Toyota',\n",
    "#             'ISUZU',\n",
    "#            'Volvo',\n",
    "#           'Isuzu','Other']:\n",
    "#         return 'MIDDLE RANGE CAR'\n",
    "#     else:\n",
    "#         return 'LOW END CAR'\n",
    "# df['brand']=df['brand'].apply(car_band)\n",
    "def car_band(x):\n",
    "    if x in ['Rolls', 'Bentley', 'Ferrari','Lincoln','Porsche','LandRover','Lexus','Jeep','Lamborghini','McLaren','Maserati',]:\n",
    "        return 'LUXURY CAR'\n",
    "    elif x in ['Cadillac', 'Mercedes', 'Audi', 'BMW', 'Volvo','Jaguar','Infiniti','Mini','BMW']:\n",
    "        return 'PREMIUM CAR'\n",
    "    elif x in ['Subaru', 'Mitsubishi', 'Ford', 'Kia','VinFast','Mazda','Honda','Hyundai','Kia','Baic','Toyota','Mazda','Renault','Other','Volkswagen','Peugeot',]:\n",
    "        return 'VOLUME CAR'\n",
    "    else:\n",
    "        return 'LOW-PRICE CAR'\n",
    "# # def car_band(x):\n",
    "# #     if x in ['Rolls', 'Bentley', 'Lincoln', 'Land Rover', 'Porsche', 'Maserati', 'Lexus', 'Jeep', 'Cadillac']:\n",
    "# #         return 'LUXURY CAR'\n",
    "# #     elif x in ['Mini', 'BMW', 'Audi', 'Volvo', 'Mercedes-Benz', 'Infiniti', 'Jaguar','Other']:\n",
    "# #         return 'PREMIUM CAR'\n",
    "# #     elif x in ['Subaru', 'Volkswagen', 'Peugeot', 'Toyota', 'Ford', 'VinFast', 'Mazda', 'Hyundai', 'Honda']:\n",
    "# #         return 'VOLUME CAR'\n",
    "# #     else:\n",
    "# #         return 'LOW-PRICE CAR'\n",
    "# # def car_band(x):\n",
    "# #     if x in ['Rolls', 'Bentley', 'Lincoln', 'LandRover', 'Porsche', 'Maserati', 'Lexus', 'Jeep', 'Cadillac']:\n",
    "# #         return 'LUXURY'\n",
    "# #     elif x in ['Other', 'Volvo', 'Mercedes', 'Infiniti', 'Jaguar', 'Mini', 'BMW', 'Audi']:\n",
    "# #         return 'PREMIUM'\n",
    "# #     elif x in ['Subaru', 'Volkswagen', 'Peugeot', 'Toyota', 'Ford', 'VinFast', 'Mazda', 'Hyundai', 'Honda','MG','Mitsubishi']:\n",
    "# #         return 'VOLUME'\n",
    "# #     else:\n",
    "# #         return 'LOWEND'\n",
    "\n",
    "# df['brand_segment'] = df['brand'].apply(car_band)\n",
    "# df.drop(columns=['brand'], inplace=True)\n",
    "# df['brand_segment'].value_counts()\n"
   ]
  },
  {
   "cell_type": "code",
   "execution_count": 298,
   "metadata": {},
   "outputs": [
    {
     "data": {
      "text/plain": [
       "car_name          0\n",
       "year              0\n",
       "price             0\n",
       "assemble_place    0\n",
       "series            0\n",
       "driven kms        0\n",
       "num_of_door       0\n",
       "num_of_seat       0\n",
       "engine_type       0\n",
       "transmission      0\n",
       "url               0\n",
       "brand             0\n",
       "model             0\n",
       "dtype: int64"
      ]
     },
     "execution_count": 298,
     "metadata": {},
     "output_type": "execute_result"
    }
   ],
   "source": [
    "df.isna().sum()"
   ]
  },
  {
   "attachments": {},
   "cell_type": "markdown",
   "metadata": {
    "collapsed": false
   },
   "source": [
    "# Trực quan hóa dữ liệu"
   ]
  },
  {
   "attachments": {},
   "cell_type": "markdown",
   "metadata": {
    "collapsed": false
   },
   "source": [
    "Tìm hiểu về mối liên hệ giữa giá xe và các thuộc tính khác"
   ]
  },
  {
   "cell_type": "code",
   "execution_count": 299,
   "metadata": {
    "collapsed": false,
    "is_executing": true
   },
   "outputs": [],
   "source": [
    "#vẽ price theo brand, series,year\n",
    "# plt.figure(figsize=(20, 10))\n",
    "# sns.barplot(x='brand_segment', y='price', data=df)\n",
    "# plt.title('Price by brand')\n",
    "# plt.xticks(rotation=90)\n",
    "# plt.show()"
   ]
  },
  {
   "cell_type": "code",
   "execution_count": 300,
   "metadata": {
    "collapsed": false,
    "is_executing": true
   },
   "outputs": [
    {
     "data": {
      "image/png": "[encoded data removed]",
      "text/plain": [
       "<Figure size 2000x1000 with 1 Axes>"
      ]
     },
     "metadata": {},
     "output_type": "display_data"
    }
   ],
   "source": [
    "plt.figure(figsize=(20, 10))\n",
    "sns.barplot(x='series', y='price', data=df)\n",
    "plt.title('Price by series')\n",
    "plt.xticks(rotation=90)\n",
    "plt.show()"
   ]
  },
  {
   "cell_type": "code",
   "execution_count": 301,
   "metadata": {
    "collapsed": false,
    "is_executing": true
   },
   "outputs": [
    {
     "data": {
      "image/png": "[encoded data removed]",
      "text/plain": [
       "<Figure size 2000x1000 with 1 Axes>"
      ]
     },
     "metadata": {},
     "output_type": "display_data"
    }
   ],
   "source": [
    "plt.figure(figsize=(20, 10))\n",
    "#đổi năm sản xuất thành tuổi xe\n",
    "df['year'] = 2023 - df['year']\n",
    "sns.barplot(x='year', y='price', data=df)\n",
    "plt.title('Price by year')\n",
    "plt.xticks(rotation=90)\n",
    "plt.show()"
   ]
  },
  {
   "cell_type": "code",
   "execution_count": 302,
   "metadata": {
    "collapsed": false,
    "is_executing": true
   },
   "outputs": [
    {
     "data": {
      "image/png": "[encoded data removed]",
      "text/plain": [
       "<Figure size 2000x1000 with 1 Axes>"
      ]
     },
     "metadata": {},
     "output_type": "display_data"
    }
   ],
   "source": [
    "plt.figure(figsize=(20, 10))\n",
    "sns.barplot(x='engine_type', y='price', data=df)\n",
    "plt.title('Price by engine_type')\n",
    "plt.xticks(rotation=90)\n",
    "plt.show()\n"
   ]
  },
  {
   "cell_type": "code",
   "execution_count": 303,
   "metadata": {
    "collapsed": false,
    "is_executing": true
   },
   "outputs": [
    {
     "data": {
      "image/png": "[encoded data removed]",
      "text/plain": [
       "<Figure size 2000x1000 with 2 Axes>"
      ]
     },
     "metadata": {},
     "output_type": "display_data"
    }
   ],
   "source": [
    "plt.figure(figsize=(20, 10))\n",
    "plt.subplot(1, 2, 1)\n",
    "sns.barplot(x='transmission', y='price', data=df)\n",
    "plt.title('Price by transmission')\n",
    "plt.xticks(rotation=90)\n",
    "plt.subplot(1, 2, 2)\n",
    "sns.barplot(x='assemble_place', y='price', data=df)\n",
    "plt.show()"
   ]
  },
  {
   "attachments": {},
   "cell_type": "markdown",
   "metadata": {
    "collapsed": false
   },
   "source": []
  },
  {
   "cell_type": "code",
   "execution_count": 304,
   "metadata": {
    "collapsed": false,
    "is_executing": true
   },
   "outputs": [
    {
     "data": {
      "image/png": "[encoded data removed]",
      "text/plain": [
       "<Figure size 2000x1000 with 2 Axes>"
      ]
     },
     "metadata": {},
     "output_type": "display_data"
    }
   ],
   "source": [
    "plt.figure(figsize=(20, 10))\n",
    "plt.subplot(1, 2, 1)\n",
    "sns.barplot(x='num_of_door', y='price', data=df)\n",
    "plt.title('Price by num_of_door')\n",
    "plt.subplot(1, 2, 2)\n",
    "sns.barplot(x='num_of_seat', y='price', data=df)\n",
    "plt.title('Price by num_of_seat')\n",
    "plt.show()"
   ]
  },
  {
   "attachments": {},
   "cell_type": "markdown",
   "metadata": {
    "collapsed": false
   },
   "source": [
    "# Tìm hiểu về mối liên hệ giữa các thuộc tính với nhau"
   ]
  },
  {
   "cell_type": "code",
   "execution_count": 305,
   "metadata": {
    "collapsed": false,
    "is_executing": true
   },
   "outputs": [
    {
     "data": {
      "image/png": "[encoded data removed]",
      "text/plain": [
       "<Figure size 2000x1000 with 2 Axes>"
      ]
     },
     "metadata": {},
     "output_type": "display_data"
    }
   ],
   "source": [
    "#vẽ biểu đồ nhiệt giữa price và các thuộc tính trừ model\n",
    "plt.figure(figsize=(20, 10))\n",
    "numeric_cols = df.select_dtypes(include=['float64', 'int64'])\n",
    "sns.heatmap(numeric_cols.corr(), annot=True)\n",
    "plt.show()\n",
    "\n"
   ]
  },
  {
   "attachments": {},
   "cell_type": "markdown",
   "metadata": {
    "collapsed": false
   },
   "source": [
    "# Mã hóa các cột dạng nhãn thành dạng số để có thể sử dụng cho mô hình học máy"
   ]
  },
  {
   "attachments": {},
   "cell_type": "markdown",
   "metadata": {
    "collapsed": false
   },
   "source": [
    "Cột assemble_place chỉ có 2 giá trị là 'Lắp ráp trong nước' và 'Nhập khẩu', ta sẽ mã hóa thành 0 và 1"
   ]
  },
  {
   "cell_type": "code",
   "execution_count": 306,
   "metadata": {
    "collapsed": false,
    "is_executing": true
   },
   "outputs": [],
   "source": [
    "df['assemble_place'] = df['assemble_place'].map({'Lắp ráp trong nước': 0, 'Nhập khẩu': 1})"
   ]
  },
  {
   "attachments": {},
   "cell_type": "markdown",
   "metadata": {},
   "source": [
    "Tương tự cho cột transmission"
   ]
  },
  {
   "cell_type": "code",
   "execution_count": 307,
   "metadata": {},
   "outputs": [],
   "source": [
    "df['transmission'] = df['transmission'].map({'Số tay': 0, 'Số tự động': 1})"
   ]
  },
  {
   "cell_type": "code",
   "execution_count": 308,
   "metadata": {},
   "outputs": [
    {
     "data": {
      "text/plain": [
       "Index(['car_name', 'year', 'price', 'assemble_place', 'series', 'driven kms',\n",
       "       'num_of_door', 'num_of_seat', 'engine_type', 'transmission', 'url',\n",
       "       'brand', 'model'],\n",
       "      dtype='object')"
      ]
     },
     "execution_count": 308,
     "metadata": {},
     "output_type": "execute_result"
    }
   ],
   "source": [
    "df.columns"
   ]
  },
  {
   "cell_type": "code",
   "execution_count": 309,
   "metadata": {
    "collapsed": false,
    "is_executing": true
   },
   "outputs": [
    {
     "data": {
      "text/plain": [
       "assemble_place\n",
       "0    14551\n",
       "1    10263\n",
       "Name: count, dtype: int64"
      ]
     },
     "execution_count": 309,
     "metadata": {},
     "output_type": "execute_result"
    }
   ],
   "source": [
    "df['assemble_place'].value_counts()"
   ]
  },
  {
   "attachments": {},
   "cell_type": "markdown",
   "metadata": {
    "collapsed": false
   },
   "source": [
    "Cột brand sẽ được mã hóa bằng phương pháp One-hot encoding"
   ]
  },
  {
   "cell_type": "code",
   "execution_count": 310,
   "metadata": {
    "collapsed": false,
    "is_executing": true
   },
   "outputs": [
    {
     "data": {
      "text/html": [
       "<style>#sk-container-id-11 {color: black;background-color: white;}#sk-container-id-11 pre{padding: 0;}#sk-container-id-11 div.sk-toggleable {background-color: white;}#sk-container-id-11 label.sk-toggleable__label {cursor: pointer;display: block;width: 100%;margin-bottom: 0;padding: 0.3em;box-sizing: border-box;text-align: center;}#sk-container-id-11 label.sk-toggleable__label-arrow:before {content: \"▸\";float: left;margin-right: 0.25em;color: #696969;}#sk-container-id-11 label.sk-toggleable__label-arrow:hover:before {color: black;}#sk-container-id-11 div.sk-estimator:hover label.sk-toggleable__label-arrow:before {color: black;}#sk-container-id-11 div.sk-toggleable__content {max-height: 0;max-width: 0;overflow: hidden;text-align: left;background-color: #f0f8ff;}#sk-container-id-11 div.sk-toggleable__content pre {margin: 0.2em;color: black;border-radius: 0.25em;background-color: #f0f8ff;}#sk-container-id-11 input.sk-toggleable__control:checked~div.sk-toggleable__content {max-height: 200px;max-width: 100%;overflow: auto;}#sk-container-id-11 input.sk-toggleable__control:checked~label.sk-toggleable__label-arrow:before {content: \"▾\";}#sk-container-id-11 div.sk-estimator input.sk-toggleable__control:checked~label.sk-toggleable__label {background-color: #d4ebff;}#sk-container-id-11 div.sk-label input.sk-toggleable__control:checked~label.sk-toggleable__label {background-color: #d4ebff;}#sk-container-id-11 input.sk-hidden--visually {border: 0;clip: rect(1px 1px 1px 1px);clip: rect(1px, 1px, 1px, 1px);height: 1px;margin: -1px;overflow: hidden;padding: 0;position: absolute;width: 1px;}#sk-container-id-11 div.sk-estimator {font-family: monospace;background-color: #f0f8ff;border: 1px dotted black;border-radius: 0.25em;box-sizing: border-box;margin-bottom: 0.5em;}#sk-container-id-11 div.sk-estimator:hover {background-color: #d4ebff;}#sk-container-id-11 div.sk-parallel-item::after {content: \"\";width: 100%;border-bottom: 1px solid gray;flex-grow: 1;}#sk-container-id-11 div.sk-label:hover label.sk-toggleable__label {background-color: #d4ebff;}#sk-container-id-11 div.sk-serial::before {content: \"\";position: absolute;border-left: 1px solid gray;box-sizing: border-box;top: 0;bottom: 0;left: 50%;z-index: 0;}#sk-container-id-11 div.sk-serial {display: flex;flex-direction: column;align-items: center;background-color: white;padding-right: 0.2em;padding-left: 0.2em;position: relative;}#sk-container-id-11 div.sk-item {position: relative;z-index: 1;}#sk-container-id-11 div.sk-parallel {display: flex;align-items: stretch;justify-content: center;background-color: white;position: relative;}#sk-container-id-11 div.sk-item::before, #sk-container-id-11 div.sk-parallel-item::before {content: \"\";position: absolute;border-left: 1px solid gray;box-sizing: border-box;top: 0;bottom: 0;left: 50%;z-index: -1;}#sk-container-id-11 div.sk-parallel-item {display: flex;flex-direction: column;z-index: 1;position: relative;background-color: white;}#sk-container-id-11 div.sk-parallel-item:first-child::after {align-self: flex-end;width: 50%;}#sk-container-id-11 div.sk-parallel-item:last-child::after {align-self: flex-start;width: 50%;}#sk-container-id-11 div.sk-parallel-item:only-child::after {width: 0;}#sk-container-id-11 div.sk-dashed-wrapped {border: 1px dashed gray;margin: 0 0.4em 0.5em 0.4em;box-sizing: border-box;padding-bottom: 0.4em;background-color: white;}#sk-container-id-11 div.sk-label label {font-family: monospace;font-weight: bold;display: inline-block;line-height: 1.2em;}#sk-container-id-11 div.sk-label-container {text-align: center;}#sk-container-id-11 div.sk-container {/* jupyter's `normalize.less` sets `[hidden] { display: none; }` but bootstrap.min.css set `[hidden] { display: none !important; }` so we also need the `!important` here to be able to override the default hidden behavior on the sphinx rendered scikit-learn.org. See: https://github.com/scikit-learn/scikit-learn/issues/21755 */display: inline-block !important;position: relative;}#sk-container-id-11 div.sk-text-repr-fallback {display: none;}</style><div id=\"sk-container-id-11\" class=\"sk-top-container\"><div class=\"sk-text-repr-fallback\"><pre>OneHotEncoder()</pre><b>In a Jupyter environment, please rerun this cell to show the HTML representation or trust the notebook. <br />On GitHub, the HTML representation is unable to render, please try loading this page with nbviewer.org.</b></div><div class=\"sk-container\" hidden><div class=\"sk-item\"><div class=\"sk-estimator sk-toggleable\"><input class=\"sk-toggleable__control sk-hidden--visually\" id=\"sk-estimator-id-51\" type=\"checkbox\" checked><label for=\"sk-estimator-id-51\" class=\"sk-toggleable__label sk-toggleable__label-arrow\">OneHotEncoder</label><div class=\"sk-toggleable__content\"><pre>OneHotEncoder()</pre></div></div></div></div></div>"
      ],
      "text/plain": [
       "OneHotEncoder()"
      ]
     },
     "execution_count": 310,
     "metadata": {},
     "output_type": "execute_result"
    }
   ],
   "source": [
    "one_hot = OneHotEncoder()\n",
    "# one_hot.fit(df[['engine_type','series','model','brand_segment']])\n",
    "one_hot.fit(df[['engine_type','series','model','brand']])\n"
   ]
  },
  {
   "attachments": {},
   "cell_type": "markdown",
   "metadata": {
    "collapsed": false
   },
   "source": []
  },
  {
   "cell_type": "code",
   "execution_count": 311,
   "metadata": {},
   "outputs": [],
   "source": [
    "column_trans=make_column_transformer((OneHotEncoder(categories=one_hot.categories_),['engine_type','series','model','brand']),\n",
    "                                    remainder='passthrough')"
   ]
  },
  {
   "attachments": {},
   "cell_type": "markdown",
   "metadata": {
    "collapsed": false
   },
   "source": [
    "# Sử dụng Standardization để chuẩn hóa dữ liệu"
   ]
  },
  {
   "cell_type": "code",
   "execution_count": 312,
   "metadata": {
    "collapsed": false,
    "is_executing": true
   },
   "outputs": [],
   "source": [
    "scaler = StandardScaler()\n",
    "#fit year và driven kms\n",
    "scaler.fit(df[['driven kms','num_of_seat']])\n",
    "df[['driven kms','num_of_seat']] = scaler.transform(df[['driven kms','num_of_seat']])"
   ]
  },
  {
   "cell_type": "code",
   "execution_count": 313,
   "metadata": {
    "collapsed": false,
    "is_executing": true
   },
   "outputs": [
    {
     "data": {
      "text/html": [
       "<div>\n",
       "<style scoped>\n",
       "    .dataframe tbody tr th:only-of-type {\n",
       "        vertical-align: middle;\n",
       "    }\n",
       "\n",
       "    .dataframe tbody tr th {\n",
       "        vertical-align: top;\n",
       "    }\n",
       "\n",
       "    .dataframe thead th {\n",
       "        text-align: right;\n",
       "    }\n",
       "</style>\n",
       "<table border=\"1\" class=\"dataframe\">\n",
       "  <thead>\n",
       "    <tr style=\"text-align: right;\">\n",
       "      <th></th>\n",
       "      <th>car_name</th>\n",
       "      <th>year</th>\n",
       "      <th>price</th>\n",
       "      <th>assemble_place</th>\n",
       "      <th>series</th>\n",
       "      <th>driven kms</th>\n",
       "      <th>num_of_door</th>\n",
       "      <th>num_of_seat</th>\n",
       "      <th>engine_type</th>\n",
       "      <th>transmission</th>\n",
       "      <th>url</th>\n",
       "      <th>brand</th>\n",
       "      <th>model</th>\n",
       "    </tr>\n",
       "  </thead>\n",
       "  <tbody>\n",
       "    <tr>\n",
       "      <th>0</th>\n",
       "      <td>LandRover Range Rover HSE 3.0</td>\n",
       "      <td>8.0</td>\n",
       "      <td>2.700000e+09</td>\n",
       "      <td>1</td>\n",
       "      <td>SUV</td>\n",
       "      <td>-0.013821</td>\n",
       "      <td>5.0</td>\n",
       "      <td>-0.316709</td>\n",
       "      <td>Xăng</td>\n",
       "      <td>1.0</td>\n",
       "      <td>https://bonbanh.com/xe-landrover-range_rover-h...</td>\n",
       "      <td>LandRover</td>\n",
       "      <td>Range Rover HSE</td>\n",
       "    </tr>\n",
       "    <tr>\n",
       "      <th>1</th>\n",
       "      <td>Mitsubishi Outlander 2.0 CVT Premium</td>\n",
       "      <td>5.0</td>\n",
       "      <td>6.660000e+08</td>\n",
       "      <td>0</td>\n",
       "      <td>SUV</td>\n",
       "      <td>-0.014292</td>\n",
       "      <td>5.0</td>\n",
       "      <td>0.860377</td>\n",
       "      <td>Xăng</td>\n",
       "      <td>1.0</td>\n",
       "      <td>https://bonbanh.com/xe-mitsubishi-outlander-2....</td>\n",
       "      <td>Mitsubishi</td>\n",
       "      <td>Outlander 2.0 CVT</td>\n",
       "    </tr>\n",
       "    <tr>\n",
       "      <th>2</th>\n",
       "      <td>Mazda 3 1.5L Luxury</td>\n",
       "      <td>4.0</td>\n",
       "      <td>4.900000e+08</td>\n",
       "      <td>0</td>\n",
       "      <td>Sedan</td>\n",
       "      <td>-0.014261</td>\n",
       "      <td>4.0</td>\n",
       "      <td>-0.316709</td>\n",
       "      <td>Xăng</td>\n",
       "      <td>1.0</td>\n",
       "      <td>https://bonbanh.com/xe-mazda-3-1.5l-luxury-201...</td>\n",
       "      <td>Mazda</td>\n",
       "      <td>3 1.5L Luxury</td>\n",
       "    </tr>\n",
       "    <tr>\n",
       "      <th>3</th>\n",
       "      <td>Mazda 2 1.5 AT</td>\n",
       "      <td>8.0</td>\n",
       "      <td>3.650000e+08</td>\n",
       "      <td>0</td>\n",
       "      <td>Sedan</td>\n",
       "      <td>-0.014669</td>\n",
       "      <td>4.0</td>\n",
       "      <td>-0.316709</td>\n",
       "      <td>Xăng</td>\n",
       "      <td>1.0</td>\n",
       "      <td>https://bonbanh.com/xe-mazda-2-1.5-at-2015-491...</td>\n",
       "      <td>Mazda</td>\n",
       "      <td>2 1.5 AT</td>\n",
       "    </tr>\n",
       "    <tr>\n",
       "      <th>4</th>\n",
       "      <td>Suzuki Swift GLX 1.2 AT</td>\n",
       "      <td>2.0</td>\n",
       "      <td>5.650000e+08</td>\n",
       "      <td>1</td>\n",
       "      <td>Hatchback</td>\n",
       "      <td>-0.015673</td>\n",
       "      <td>5.0</td>\n",
       "      <td>-0.316709</td>\n",
       "      <td>Xăng</td>\n",
       "      <td>1.0</td>\n",
       "      <td>https://bonbanh.com/xe-suzuki-swift-glx-1.2-at...</td>\n",
       "      <td>Suzuki</td>\n",
       "      <td>Swift GLX 1.2</td>\n",
       "    </tr>\n",
       "  </tbody>\n",
       "</table>\n",
       "</div>"
      ],
      "text/plain": [
       "                                car_name  year         price  assemble_place  \\\n",
       "0          LandRover Range Rover HSE 3.0   8.0  2.700000e+09               1   \n",
       "1   Mitsubishi Outlander 2.0 CVT Premium   5.0  6.660000e+08               0   \n",
       "2                    Mazda 3 1.5L Luxury   4.0  4.900000e+08               0   \n",
       "3                         Mazda 2 1.5 AT   8.0  3.650000e+08               0   \n",
       "4                Suzuki Swift GLX 1.2 AT   2.0  5.650000e+08               1   \n",
       "\n",
       "      series  driven kms  num_of_door  num_of_seat engine_type  transmission  \\\n",
       "0        SUV   -0.013821          5.0    -0.316709        Xăng           1.0   \n",
       "1        SUV   -0.014292          5.0     0.860377        Xăng           1.0   \n",
       "2      Sedan   -0.014261          4.0    -0.316709        Xăng           1.0   \n",
       "3      Sedan   -0.014669          4.0    -0.316709        Xăng           1.0   \n",
       "4  Hatchback   -0.015673          5.0    -0.316709        Xăng           1.0   \n",
       "\n",
       "                                                 url       brand  \\\n",
       "0  https://bonbanh.com/xe-landrover-range_rover-h...   LandRover   \n",
       "1  https://bonbanh.com/xe-mitsubishi-outlander-2....  Mitsubishi   \n",
       "2  https://bonbanh.com/xe-mazda-3-1.5l-luxury-201...       Mazda   \n",
       "3  https://bonbanh.com/xe-mazda-2-1.5-at-2015-491...       Mazda   \n",
       "4  https://bonbanh.com/xe-suzuki-swift-glx-1.2-at...      Suzuki   \n",
       "\n",
       "               model  \n",
       "0    Range Rover HSE  \n",
       "1  Outlander 2.0 CVT  \n",
       "2      3 1.5L Luxury  \n",
       "3           2 1.5 AT  \n",
       "4      Swift GLX 1.2  "
      ]
     },
     "execution_count": 313,
     "metadata": {},
     "output_type": "execute_result"
    }
   ],
   "source": [
    "df.head()"
   ]
  },
  {
   "attachments": {},
   "cell_type": "markdown",
   "metadata": {
    "collapsed": false
   },
   "source": [
    "# Sử dụng hồi quy tuyến tính để dự đoán giá xe"
   ]
  },
  {
   "cell_type": "code",
   "execution_count": 314,
   "metadata": {},
   "outputs": [],
   "source": [
    "df.dropna(inplace=True)"
   ]
  },
  {
   "cell_type": "code",
   "execution_count": 315,
   "metadata": {},
   "outputs": [],
   "source": [
    "X = df[['engine_type','series','model','brand','year','driven kms','num_of_seat','transmission','assemble_place']]\n",
    "y = df['price']"
   ]
  },
  {
   "cell_type": "code",
   "execution_count": 316,
   "metadata": {},
   "outputs": [],
   "source": [
    "X_train,X_test,y_train,y_test=train_test_split(X,y,test_size=0.2,random_state=42)"
   ]
  },
  {
   "cell_type": "code",
   "execution_count": 317,
   "metadata": {
    "collapsed": false,
    "is_executing": true
   },
   "outputs": [],
   "source": [
    "lr=LinearRegression()"
   ]
  },
  {
   "cell_type": "code",
   "execution_count": 318,
   "metadata": {},
   "outputs": [],
   "source": [
    "pipe=make_pipeline(column_trans,lr)\n"
   ]
  },
  {
   "cell_type": "code",
   "execution_count": 319,
   "metadata": {},
   "outputs": [
    {
     "data": {
      "text/html": [
       "<style>#sk-container-id-12 {color: black;background-color: white;}#sk-container-id-12 pre{padding: 0;}#sk-container-id-12 div.sk-toggleable {background-color: white;}#sk-container-id-12 label.sk-toggleable__label {cursor: pointer;display: block;width: 100%;margin-bottom: 0;padding: 0.3em;box-sizing: border-box;text-align: center;}#sk-container-id-12 label.sk-toggleable__label-arrow:before {content: \"▸\";float: left;margin-right: 0.25em;color: #696969;}#sk-container-id-12 label.sk-toggleable__label-arrow:hover:before {color: black;}#sk-container-id-12 div.sk-estimator:hover label.sk-toggleable__label-arrow:before {color: black;}#sk-container-id-12 div.sk-toggleable__content {max-height: 0;max-width: 0;overflow: hidden;text-align: left;background-color: #f0f8ff;}#sk-container-id-12 div.sk-toggleable__content pre {margin: 0.2em;color: black;border-radius: 0.25em;background-color: #f0f8ff;}#sk-container-id-12 input.sk-toggleable__control:checked~div.sk-toggleable__content {max-height: 200px;max-width: 100%;overflow: auto;}#sk-container-id-12 input.sk-toggleable__control:checked~label.sk-toggleable__label-arrow:before {content: \"▾\";}#sk-container-id-12 div.sk-estimator input.sk-toggleable__control:checked~label.sk-toggleable__label {background-color: #d4ebff;}#sk-container-id-12 div.sk-label input.sk-toggleable__control:checked~label.sk-toggleable__label {background-color: #d4ebff;}#sk-container-id-12 input.sk-hidden--visually {border: 0;clip: rect(1px 1px 1px 1px);clip: rect(1px, 1px, 1px, 1px);height: 1px;margin: -1px;overflow: hidden;padding: 0;position: absolute;width: 1px;}#sk-container-id-12 div.sk-estimator {font-family: monospace;background-color: #f0f8ff;border: 1px dotted black;border-radius: 0.25em;box-sizing: border-box;margin-bottom: 0.5em;}#sk-container-id-12 div.sk-estimator:hover {background-color: #d4ebff;}#sk-container-id-12 div.sk-parallel-item::after {content: \"\";width: 100%;border-bottom: 1px solid gray;flex-grow: 1;}#sk-container-id-12 div.sk-label:hover label.sk-toggleable__label {background-color: #d4ebff;}#sk-container-id-12 div.sk-serial::before {content: \"\";position: absolute;border-left: 1px solid gray;box-sizing: border-box;top: 0;bottom: 0;left: 50%;z-index: 0;}#sk-container-id-12 div.sk-serial {display: flex;flex-direction: column;align-items: center;background-color: white;padding-right: 0.2em;padding-left: 0.2em;position: relative;}#sk-container-id-12 div.sk-item {position: relative;z-index: 1;}#sk-container-id-12 div.sk-parallel {display: flex;align-items: stretch;justify-content: center;background-color: white;position: relative;}#sk-container-id-12 div.sk-item::before, #sk-container-id-12 div.sk-parallel-item::before {content: \"\";position: absolute;border-left: 1px solid gray;box-sizing: border-box;top: 0;bottom: 0;left: 50%;z-index: -1;}#sk-container-id-12 div.sk-parallel-item {display: flex;flex-direction: column;z-index: 1;position: relative;background-color: white;}#sk-container-id-12 div.sk-parallel-item:first-child::after {align-self: flex-end;width: 50%;}#sk-container-id-12 div.sk-parallel-item:last-child::after {align-self: flex-start;width: 50%;}#sk-container-id-12 div.sk-parallel-item:only-child::after {width: 0;}#sk-container-id-12 div.sk-dashed-wrapped {border: 1px dashed gray;margin: 0 0.4em 0.5em 0.4em;box-sizing: border-box;padding-bottom: 0.4em;background-color: white;}#sk-container-id-12 div.sk-label label {font-family: monospace;font-weight: bold;display: inline-block;line-height: 1.2em;}#sk-container-id-12 div.sk-label-container {text-align: center;}#sk-container-id-12 div.sk-container {/* jupyter's `normalize.less` sets `[hidden] { display: none; }` but bootstrap.min.css set `[hidden] { display: none !important; }` so we also need the `!important` here to be able to override the default hidden behavior on the sphinx rendered scikit-learn.org. See: https://github.com/scikit-learn/scikit-learn/issues/21755 */display: inline-block !important;position: relative;}#sk-container-id-12 div.sk-text-repr-fallback {display: none;}</style><div id=\"sk-container-id-12\" class=\"sk-top-container\"><div class=\"sk-text-repr-fallback\"><pre>Pipeline(steps=[(&#x27;columntransformer&#x27;,\n",
       "                 ColumnTransformer(remainder=&#x27;passthrough&#x27;,\n",
       "                                   transformers=[(&#x27;onehotencoder&#x27;,\n",
       "                                                  OneHotEncoder(categories=[array([&#x27;-&#x27;, &#x27;Dầu&#x27;, &#x27;Hybrid&#x27;, &#x27;Xăng&#x27;, &#x27;Điện&#x27;], dtype=object),\n",
       "                                                                            array([&#x27;Bán tải / Pickup&#x27;, &#x27;Convertible/Cabriolet&#x27;, &#x27;Coupe&#x27;,\n",
       "       &#x27;Crossover&#x27;, &#x27;Hatchback&#x27;, &#x27;SUV&#x27;, &#x27;Sedan&#x27;, &#x27;Truck&#x27;, &#x27;Van/Minivan&#x27;,\n",
       "       &#x27;Wagon&#x27;], dtype=object),\n",
       "                                                                            array([&#x27;&#x27;, &#x27;2 1.5 AT&#x27;,...\n",
       "       &#x27;Hyundai&#x27;, &#x27;Infiniti&#x27;, &#x27;Isuzu&#x27;, &#x27;Jaguar&#x27;, &#x27;Jeep&#x27;, &#x27;Kenbo&#x27;, &#x27;Kia&#x27;,\n",
       "       &#x27;Lamborghini&#x27;, &#x27;LandRover&#x27;, &#x27;Lexus&#x27;, &#x27;Lincoln&#x27;, &#x27;MG&#x27;, &#x27;Maserati&#x27;,\n",
       "       &#x27;Mazda&#x27;, &#x27;McLaren&#x27;, &#x27;Mercedes&#x27;, &#x27;Mini&#x27;, &#x27;Mitsubishi&#x27;, &#x27;Nissan&#x27;,\n",
       "       &#x27;Other&#x27;, &#x27;Peugeot&#x27;, &#x27;Porsche&#x27;, &#x27;Renault&#x27;, &#x27;Rolls&#x27;, &#x27;Ssangyong&#x27;,\n",
       "       &#x27;Subaru&#x27;, &#x27;Suzuki&#x27;, &#x27;Thaco&#x27;, &#x27;Toyota&#x27;, &#x27;VinFast&#x27;, &#x27;Volkswagen&#x27;,\n",
       "       &#x27;Volvo&#x27;], dtype=object)]),\n",
       "                                                  [&#x27;engine_type&#x27;, &#x27;series&#x27;,\n",
       "                                                   &#x27;model&#x27;, &#x27;brand&#x27;])])),\n",
       "                (&#x27;linearregression&#x27;, LinearRegression())])</pre><b>In a Jupyter environment, please rerun this cell to show the HTML representation or trust the notebook. <br />On GitHub, the HTML representation is unable to render, please try loading this page with nbviewer.org.</b></div><div class=\"sk-container\" hidden><div class=\"sk-item sk-dashed-wrapped\"><div class=\"sk-label-container\"><div class=\"sk-label sk-toggleable\"><input class=\"sk-toggleable__control sk-hidden--visually\" id=\"sk-estimator-id-52\" type=\"checkbox\" ><label for=\"sk-estimator-id-52\" class=\"sk-toggleable__label sk-toggleable__label-arrow\">Pipeline</label><div class=\"sk-toggleable__content\"><pre>Pipeline(steps=[(&#x27;columntransformer&#x27;,\n",
       "                 ColumnTransformer(remainder=&#x27;passthrough&#x27;,\n",
       "                                   transformers=[(&#x27;onehotencoder&#x27;,\n",
       "                                                  OneHotEncoder(categories=[array([&#x27;-&#x27;, &#x27;Dầu&#x27;, &#x27;Hybrid&#x27;, &#x27;Xăng&#x27;, &#x27;Điện&#x27;], dtype=object),\n",
       "                                                                            array([&#x27;Bán tải / Pickup&#x27;, &#x27;Convertible/Cabriolet&#x27;, &#x27;Coupe&#x27;,\n",
       "       &#x27;Crossover&#x27;, &#x27;Hatchback&#x27;, &#x27;SUV&#x27;, &#x27;Sedan&#x27;, &#x27;Truck&#x27;, &#x27;Van/Minivan&#x27;,\n",
       "       &#x27;Wagon&#x27;], dtype=object),\n",
       "                                                                            array([&#x27;&#x27;, &#x27;2 1.5 AT&#x27;,...\n",
       "       &#x27;Hyundai&#x27;, &#x27;Infiniti&#x27;, &#x27;Isuzu&#x27;, &#x27;Jaguar&#x27;, &#x27;Jeep&#x27;, &#x27;Kenbo&#x27;, &#x27;Kia&#x27;,\n",
       "       &#x27;Lamborghini&#x27;, &#x27;LandRover&#x27;, &#x27;Lexus&#x27;, &#x27;Lincoln&#x27;, &#x27;MG&#x27;, &#x27;Maserati&#x27;,\n",
       "       &#x27;Mazda&#x27;, &#x27;McLaren&#x27;, &#x27;Mercedes&#x27;, &#x27;Mini&#x27;, &#x27;Mitsubishi&#x27;, &#x27;Nissan&#x27;,\n",
       "       &#x27;Other&#x27;, &#x27;Peugeot&#x27;, &#x27;Porsche&#x27;, &#x27;Renault&#x27;, &#x27;Rolls&#x27;, &#x27;Ssangyong&#x27;,\n",
       "       &#x27;Subaru&#x27;, &#x27;Suzuki&#x27;, &#x27;Thaco&#x27;, &#x27;Toyota&#x27;, &#x27;VinFast&#x27;, &#x27;Volkswagen&#x27;,\n",
       "       &#x27;Volvo&#x27;], dtype=object)]),\n",
       "                                                  [&#x27;engine_type&#x27;, &#x27;series&#x27;,\n",
       "                                                   &#x27;model&#x27;, &#x27;brand&#x27;])])),\n",
       "                (&#x27;linearregression&#x27;, LinearRegression())])</pre></div></div></div><div class=\"sk-serial\"><div class=\"sk-item sk-dashed-wrapped\"><div class=\"sk-label-container\"><div class=\"sk-label sk-toggleable\"><input class=\"sk-toggleable__control sk-hidden--visually\" id=\"sk-estimator-id-53\" type=\"checkbox\" ><label for=\"sk-estimator-id-53\" class=\"sk-toggleable__label sk-toggleable__label-arrow\">columntransformer: ColumnTransformer</label><div class=\"sk-toggleable__content\"><pre>ColumnTransformer(remainder=&#x27;passthrough&#x27;,\n",
       "                  transformers=[(&#x27;onehotencoder&#x27;,\n",
       "                                 OneHotEncoder(categories=[array([&#x27;-&#x27;, &#x27;Dầu&#x27;, &#x27;Hybrid&#x27;, &#x27;Xăng&#x27;, &#x27;Điện&#x27;], dtype=object),\n",
       "                                                           array([&#x27;Bán tải / Pickup&#x27;, &#x27;Convertible/Cabriolet&#x27;, &#x27;Coupe&#x27;,\n",
       "       &#x27;Crossover&#x27;, &#x27;Hatchback&#x27;, &#x27;SUV&#x27;, &#x27;Sedan&#x27;, &#x27;Truck&#x27;, &#x27;Van/Minivan&#x27;,\n",
       "       &#x27;Wagon&#x27;], dtype=object),\n",
       "                                                           array([&#x27;&#x27;, &#x27;2 1.5 AT&#x27;, &#x27;2 Deluxe&#x27;, &#x27;2 Luxury&#x27;, &#x27;2 S&#x27;, &#x27;2 Sport Luxur...\n",
       "       &#x27;Hyundai&#x27;, &#x27;Infiniti&#x27;, &#x27;Isuzu&#x27;, &#x27;Jaguar&#x27;, &#x27;Jeep&#x27;, &#x27;Kenbo&#x27;, &#x27;Kia&#x27;,\n",
       "       &#x27;Lamborghini&#x27;, &#x27;LandRover&#x27;, &#x27;Lexus&#x27;, &#x27;Lincoln&#x27;, &#x27;MG&#x27;, &#x27;Maserati&#x27;,\n",
       "       &#x27;Mazda&#x27;, &#x27;McLaren&#x27;, &#x27;Mercedes&#x27;, &#x27;Mini&#x27;, &#x27;Mitsubishi&#x27;, &#x27;Nissan&#x27;,\n",
       "       &#x27;Other&#x27;, &#x27;Peugeot&#x27;, &#x27;Porsche&#x27;, &#x27;Renault&#x27;, &#x27;Rolls&#x27;, &#x27;Ssangyong&#x27;,\n",
       "       &#x27;Subaru&#x27;, &#x27;Suzuki&#x27;, &#x27;Thaco&#x27;, &#x27;Toyota&#x27;, &#x27;VinFast&#x27;, &#x27;Volkswagen&#x27;,\n",
       "       &#x27;Volvo&#x27;], dtype=object)]),\n",
       "                                 [&#x27;engine_type&#x27;, &#x27;series&#x27;, &#x27;model&#x27;, &#x27;brand&#x27;])])</pre></div></div></div><div class=\"sk-parallel\"><div class=\"sk-parallel-item\"><div class=\"sk-item\"><div class=\"sk-label-container\"><div class=\"sk-label sk-toggleable\"><input class=\"sk-toggleable__control sk-hidden--visually\" id=\"sk-estimator-id-54\" type=\"checkbox\" ><label for=\"sk-estimator-id-54\" class=\"sk-toggleable__label sk-toggleable__label-arrow\">onehotencoder</label><div class=\"sk-toggleable__content\"><pre>[&#x27;engine_type&#x27;, &#x27;series&#x27;, &#x27;model&#x27;, &#x27;brand&#x27;]</pre></div></div></div><div class=\"sk-serial\"><div class=\"sk-item\"><div class=\"sk-estimator sk-toggleable\"><input class=\"sk-toggleable__control sk-hidden--visually\" id=\"sk-estimator-id-55\" type=\"checkbox\" ><label for=\"sk-estimator-id-55\" class=\"sk-toggleable__label sk-toggleable__label-arrow\">OneHotEncoder</label><div class=\"sk-toggleable__content\"><pre>OneHotEncoder(categories=[array([&#x27;-&#x27;, &#x27;Dầu&#x27;, &#x27;Hybrid&#x27;, &#x27;Xăng&#x27;, &#x27;Điện&#x27;], dtype=object),\n",
       "                          array([&#x27;Bán tải / Pickup&#x27;, &#x27;Convertible/Cabriolet&#x27;, &#x27;Coupe&#x27;,\n",
       "       &#x27;Crossover&#x27;, &#x27;Hatchback&#x27;, &#x27;SUV&#x27;, &#x27;Sedan&#x27;, &#x27;Truck&#x27;, &#x27;Van/Minivan&#x27;,\n",
       "       &#x27;Wagon&#x27;], dtype=object),\n",
       "                          array([&#x27;&#x27;, &#x27;2 1.5 AT&#x27;, &#x27;2 Deluxe&#x27;, &#x27;2 Luxury&#x27;, &#x27;2 S&#x27;, &#x27;2 Sport Luxury&#x27;,\n",
       "       &#x27;2008 Active 1.2&#x27;, &#x27;2008 GT Line&#x27;, &#x27;3 1.5 AT&#x27;, &#x27;3 1.5L Deluxe&#x27;,\n",
       "       &#x27;3 1.5L Luxury&#x27;, &#x27;3 1....\n",
       "       &#x27;Daewoo&#x27;, &#x27;Daihatsu&#x27;, &#x27;Dongben&#x27;, &#x27;Fiat&#x27;, &#x27;Ford&#x27;, &#x27;Honda&#x27;,\n",
       "       &#x27;Hyundai&#x27;, &#x27;Infiniti&#x27;, &#x27;Isuzu&#x27;, &#x27;Jaguar&#x27;, &#x27;Jeep&#x27;, &#x27;Kenbo&#x27;, &#x27;Kia&#x27;,\n",
       "       &#x27;Lamborghini&#x27;, &#x27;LandRover&#x27;, &#x27;Lexus&#x27;, &#x27;Lincoln&#x27;, &#x27;MG&#x27;, &#x27;Maserati&#x27;,\n",
       "       &#x27;Mazda&#x27;, &#x27;McLaren&#x27;, &#x27;Mercedes&#x27;, &#x27;Mini&#x27;, &#x27;Mitsubishi&#x27;, &#x27;Nissan&#x27;,\n",
       "       &#x27;Other&#x27;, &#x27;Peugeot&#x27;, &#x27;Porsche&#x27;, &#x27;Renault&#x27;, &#x27;Rolls&#x27;, &#x27;Ssangyong&#x27;,\n",
       "       &#x27;Subaru&#x27;, &#x27;Suzuki&#x27;, &#x27;Thaco&#x27;, &#x27;Toyota&#x27;, &#x27;VinFast&#x27;, &#x27;Volkswagen&#x27;,\n",
       "       &#x27;Volvo&#x27;], dtype=object)])</pre></div></div></div></div></div></div><div class=\"sk-parallel-item\"><div class=\"sk-item\"><div class=\"sk-label-container\"><div class=\"sk-label sk-toggleable\"><input class=\"sk-toggleable__control sk-hidden--visually\" id=\"sk-estimator-id-56\" type=\"checkbox\" ><label for=\"sk-estimator-id-56\" class=\"sk-toggleable__label sk-toggleable__label-arrow\">remainder</label><div class=\"sk-toggleable__content\"><pre>[&#x27;year&#x27;, &#x27;driven kms&#x27;, &#x27;num_of_seat&#x27;, &#x27;transmission&#x27;, &#x27;assemble_place&#x27;]</pre></div></div></div><div class=\"sk-serial\"><div class=\"sk-item\"><div class=\"sk-estimator sk-toggleable\"><input class=\"sk-toggleable__control sk-hidden--visually\" id=\"sk-estimator-id-57\" type=\"checkbox\" ><label for=\"sk-estimator-id-57\" class=\"sk-toggleable__label sk-toggleable__label-arrow\">passthrough</label><div class=\"sk-toggleable__content\"><pre>passthrough</pre></div></div></div></div></div></div></div></div><div class=\"sk-item\"><div class=\"sk-estimator sk-toggleable\"><input class=\"sk-toggleable__control sk-hidden--visually\" id=\"sk-estimator-id-58\" type=\"checkbox\" ><label for=\"sk-estimator-id-58\" class=\"sk-toggleable__label sk-toggleable__label-arrow\">LinearRegression</label><div class=\"sk-toggleable__content\"><pre>LinearRegression()</pre></div></div></div></div></div></div></div>"
      ],
      "text/plain": [
       "Pipeline(steps=[('columntransformer',\n",
       "                 ColumnTransformer(remainder='passthrough',\n",
       "                                   transformers=[('onehotencoder',\n",
       "                                                  OneHotEncoder(categories=[array(['-', 'Dầu', 'Hybrid', 'Xăng', 'Điện'], dtype=object),\n",
       "                                                                            array(['Bán tải / Pickup', 'Convertible/Cabriolet', 'Coupe',\n",
       "       'Crossover', 'Hatchback', 'SUV', 'Sedan', 'Truck', 'Van/Minivan',\n",
       "       'Wagon'], dtype=object),\n",
       "                                                                            array(['', '2 1.5 AT',...\n",
       "       'Hyundai', 'Infiniti', 'Isuzu', 'Jaguar', 'Jeep', 'Kenbo', 'Kia',\n",
       "       'Lamborghini', 'LandRover', 'Lexus', 'Lincoln', 'MG', 'Maserati',\n",
       "       'Mazda', 'McLaren', 'Mercedes', 'Mini', 'Mitsubishi', 'Nissan',\n",
       "       'Other', 'Peugeot', 'Porsche', 'Renault', 'Rolls', 'Ssangyong',\n",
       "       'Subaru', 'Suzuki', 'Thaco', 'Toyota', 'VinFast', 'Volkswagen',\n",
       "       'Volvo'], dtype=object)]),\n",
       "                                                  ['engine_type', 'series',\n",
       "                                                   'model', 'brand'])])),\n",
       "                ('linearregression', LinearRegression())])"
      ]
     },
     "execution_count": 319,
     "metadata": {},
     "output_type": "execute_result"
    }
   ],
   "source": [
    "pipe.fit(X_train,y_train)"
   ]
  },
  {
   "cell_type": "code",
   "execution_count": 320,
   "metadata": {},
   "outputs": [
    {
     "data": {
      "text/plain": [
       "0.8919680904800891"
      ]
     },
     "execution_count": 320,
     "metadata": {},
     "output_type": "execute_result"
    }
   ],
   "source": [
    "y_pred=pipe.predict(X_test)\n",
    "r2_score(y_test,y_pred)"
   ]
  },
  {
   "cell_type": "code",
   "execution_count": 321,
   "metadata": {
    "collapsed": false,
    "is_executing": true
   },
   "outputs": [
    {
     "data": {
      "image/png": "[encoded data removed]",
      "text/plain": [
       "<Figure size 2000x1000 with 1 Axes>"
      ]
     },
     "metadata": {},
     "output_type": "display_data"
    }
   ],
   "source": [
    "#vẽ biểu đồ phân bố giá trị thực và giá trị dự đoán\n",
    "plt.figure(figsize=(20, 10))\n",
    "plt.scatter(y_test, y_pred)\n",
    "plt.xlabel('Actual')\n",
    "plt.ylabel('Predicted')\n",
    "plt.show()"
   ]
  },
  {
   "cell_type": "code",
   "execution_count": 322,
   "metadata": {},
   "outputs": [
    {
     "data": {
      "text/plain": [
       "array([2.52725752e+08])"
      ]
     },
     "execution_count": 322,
     "metadata": {},
     "output_type": "execute_result"
    }
   ],
   "source": [
    "#predict giá xe cho xe có url là https://bonbanh.com/xe-kia-carens-crdi-2.0-at-2008-5020924\n",
    "car = df[df['url'] == 'https://bonbanh.com/xe-kia-carens-crdi-2.0-at-2008-5020924']\n",
    "pipe.predict(car[['engine_type','series','model','brand','year','driven kms','num_of_seat','transmission','assemble_place']])"
   ]
  },
  {
   "attachments": {},
   "cell_type": "markdown",
   "metadata": {},
   "source": [
    "# Random Forest"
   ]
  },
  {
   "cell_type": "code",
   "execution_count": 323,
   "metadata": {},
   "outputs": [],
   "source": [
    "rf=RandomForestRegressor()\n",
    "pipe = make_pipeline(column_trans,rf)"
   ]
  },
  {
   "cell_type": "code",
   "execution_count": 324,
   "metadata": {
    "collapsed": false,
    "is_executing": true
   },
   "outputs": [],
   "source": [
    "from sklearn.model_selection import KFold, RandomizedSearchCV\n",
    "\n",
    "\"\"\"\n",
    "+ Search over space of hyperparameters to find acceptable ones\n",
    "+ Two search methods implemented by scikit-learn: GridSearch and RandomSearch\n",
    "+ RandomSearch is faster in case we search over large space (too many combinations of hyperparameters)\n",
    "\"\"\"\n",
    "\n",
    "rf_hyperparams = {\n",
    "    'n_estimators': [200, 300, 400, 500],\n",
    "    'max_depth': [None, 10, 50, 90, 110],\n",
    "    'max_features': ['auto', 'sqrt'],\n",
    "    'min_samples_split': [2, 5, 10],\n",
    "    'min_samples_leaf': [1, 2, 4],\n",
    "    'bootstrap': [True, False]\n",
    "}\n",
    "\n",
    "rf_randomized_search = RandomizedSearchCV(\n",
    "    estimator = rf,\n",
    "    param_distributions = rf_hyperparams,\n",
    "    n_iter = 10,\n",
    "    cv=KFold(n_splits=10, shuffle=True, random_state=42),\n",
    "    verbose=2,\n",
    "    random_state=42,\n",
    "    n_jobs = -1\n",
    ")\n",
    "\n"
   ]
  },
  {
   "cell_type": "code",
   "execution_count": 325,
   "metadata": {
    "collapsed": false,
    "is_executing": true
   },
   "outputs": [
    {
     "data": {
      "text/html": [
       "<style>#sk-container-id-13 {color: black;background-color: white;}#sk-container-id-13 pre{padding: 0;}#sk-container-id-13 div.sk-toggleable {background-color: white;}#sk-container-id-13 label.sk-toggleable__label {cursor: pointer;display: block;width: 100%;margin-bottom: 0;padding: 0.3em;box-sizing: border-box;text-align: center;}#sk-container-id-13 label.sk-toggleable__label-arrow:before {content: \"▸\";float: left;margin-right: 0.25em;color: #696969;}#sk-container-id-13 label.sk-toggleable__label-arrow:hover:before {color: black;}#sk-container-id-13 div.sk-estimator:hover label.sk-toggleable__label-arrow:before {color: black;}#sk-container-id-13 div.sk-toggleable__content {max-height: 0;max-width: 0;overflow: hidden;text-align: left;background-color: #f0f8ff;}#sk-container-id-13 div.sk-toggleable__content pre {margin: 0.2em;color: black;border-radius: 0.25em;background-color: #f0f8ff;}#sk-container-id-13 input.sk-toggleable__control:checked~div.sk-toggleable__content {max-height: 200px;max-width: 100%;overflow: auto;}#sk-container-id-13 input.sk-toggleable__control:checked~label.sk-toggleable__label-arrow:before {content: \"▾\";}#sk-container-id-13 div.sk-estimator input.sk-toggleable__control:checked~label.sk-toggleable__label {background-color: #d4ebff;}#sk-container-id-13 div.sk-label input.sk-toggleable__control:checked~label.sk-toggleable__label {background-color: #d4ebff;}#sk-container-id-13 input.sk-hidden--visually {border: 0;clip: rect(1px 1px 1px 1px);clip: rect(1px, 1px, 1px, 1px);height: 1px;margin: -1px;overflow: hidden;padding: 0;position: absolute;width: 1px;}#sk-container-id-13 div.sk-estimator {font-family: monospace;background-color: #f0f8ff;border: 1px dotted black;border-radius: 0.25em;box-sizing: border-box;margin-bottom: 0.5em;}#sk-container-id-13 div.sk-estimator:hover {background-color: #d4ebff;}#sk-container-id-13 div.sk-parallel-item::after {content: \"\";width: 100%;border-bottom: 1px solid gray;flex-grow: 1;}#sk-container-id-13 div.sk-label:hover label.sk-toggleable__label {background-color: #d4ebff;}#sk-container-id-13 div.sk-serial::before {content: \"\";position: absolute;border-left: 1px solid gray;box-sizing: border-box;top: 0;bottom: 0;left: 50%;z-index: 0;}#sk-container-id-13 div.sk-serial {display: flex;flex-direction: column;align-items: center;background-color: white;padding-right: 0.2em;padding-left: 0.2em;position: relative;}#sk-container-id-13 div.sk-item {position: relative;z-index: 1;}#sk-container-id-13 div.sk-parallel {display: flex;align-items: stretch;justify-content: center;background-color: white;position: relative;}#sk-container-id-13 div.sk-item::before, #sk-container-id-13 div.sk-parallel-item::before {content: \"\";position: absolute;border-left: 1px solid gray;box-sizing: border-box;top: 0;bottom: 0;left: 50%;z-index: -1;}#sk-container-id-13 div.sk-parallel-item {display: flex;flex-direction: column;z-index: 1;position: relative;background-color: white;}#sk-container-id-13 div.sk-parallel-item:first-child::after {align-self: flex-end;width: 50%;}#sk-container-id-13 div.sk-parallel-item:last-child::after {align-self: flex-start;width: 50%;}#sk-container-id-13 div.sk-parallel-item:only-child::after {width: 0;}#sk-container-id-13 div.sk-dashed-wrapped {border: 1px dashed gray;margin: 0 0.4em 0.5em 0.4em;box-sizing: border-box;padding-bottom: 0.4em;background-color: white;}#sk-container-id-13 div.sk-label label {font-family: monospace;font-weight: bold;display: inline-block;line-height: 1.2em;}#sk-container-id-13 div.sk-label-container {text-align: center;}#sk-container-id-13 div.sk-container {/* jupyter's `normalize.less` sets `[hidden] { display: none; }` but bootstrap.min.css set `[hidden] { display: none !important; }` so we also need the `!important` here to be able to override the default hidden behavior on the sphinx rendered scikit-learn.org. See: https://github.com/scikit-learn/scikit-learn/issues/21755 */display: inline-block !important;position: relative;}#sk-container-id-13 div.sk-text-repr-fallback {display: none;}</style><div id=\"sk-container-id-13\" class=\"sk-top-container\"><div class=\"sk-text-repr-fallback\"><pre>Pipeline(steps=[(&#x27;columntransformer&#x27;,\n",
       "                 ColumnTransformer(remainder=&#x27;passthrough&#x27;,\n",
       "                                   transformers=[(&#x27;onehotencoder&#x27;,\n",
       "                                                  OneHotEncoder(categories=[array([&#x27;-&#x27;, &#x27;Dầu&#x27;, &#x27;Hybrid&#x27;, &#x27;Xăng&#x27;, &#x27;Điện&#x27;], dtype=object),\n",
       "                                                                            array([&#x27;Bán tải / Pickup&#x27;, &#x27;Convertible/Cabriolet&#x27;, &#x27;Coupe&#x27;,\n",
       "       &#x27;Crossover&#x27;, &#x27;Hatchback&#x27;, &#x27;SUV&#x27;, &#x27;Sedan&#x27;, &#x27;Truck&#x27;, &#x27;Van/Minivan&#x27;,\n",
       "       &#x27;Wagon&#x27;], dtype=object),\n",
       "                                                                            array([&#x27;&#x27;, &#x27;2 1.5 AT&#x27;,...\n",
       "       &#x27;Lamborghini&#x27;, &#x27;LandRover&#x27;, &#x27;Lexus&#x27;, &#x27;Lincoln&#x27;, &#x27;MG&#x27;, &#x27;Maserati&#x27;,\n",
       "       &#x27;Mazda&#x27;, &#x27;McLaren&#x27;, &#x27;Mercedes&#x27;, &#x27;Mini&#x27;, &#x27;Mitsubishi&#x27;, &#x27;Nissan&#x27;,\n",
       "       &#x27;Other&#x27;, &#x27;Peugeot&#x27;, &#x27;Porsche&#x27;, &#x27;Renault&#x27;, &#x27;Rolls&#x27;, &#x27;Ssangyong&#x27;,\n",
       "       &#x27;Subaru&#x27;, &#x27;Suzuki&#x27;, &#x27;Thaco&#x27;, &#x27;Toyota&#x27;, &#x27;VinFast&#x27;, &#x27;Volkswagen&#x27;,\n",
       "       &#x27;Volvo&#x27;], dtype=object)]),\n",
       "                                                  [&#x27;engine_type&#x27;, &#x27;series&#x27;,\n",
       "                                                   &#x27;model&#x27;, &#x27;brand&#x27;])])),\n",
       "                (&#x27;randomforestregressor&#x27;, RandomForestRegressor())])</pre><b>In a Jupyter environment, please rerun this cell to show the HTML representation or trust the notebook. <br />On GitHub, the HTML representation is unable to render, please try loading this page with nbviewer.org.</b></div><div class=\"sk-container\" hidden><div class=\"sk-item sk-dashed-wrapped\"><div class=\"sk-label-container\"><div class=\"sk-label sk-toggleable\"><input class=\"sk-toggleable__control sk-hidden--visually\" id=\"sk-estimator-id-59\" type=\"checkbox\" ><label for=\"sk-estimator-id-59\" class=\"sk-toggleable__label sk-toggleable__label-arrow\">Pipeline</label><div class=\"sk-toggleable__content\"><pre>Pipeline(steps=[(&#x27;columntransformer&#x27;,\n",
       "                 ColumnTransformer(remainder=&#x27;passthrough&#x27;,\n",
       "                                   transformers=[(&#x27;onehotencoder&#x27;,\n",
       "                                                  OneHotEncoder(categories=[array([&#x27;-&#x27;, &#x27;Dầu&#x27;, &#x27;Hybrid&#x27;, &#x27;Xăng&#x27;, &#x27;Điện&#x27;], dtype=object),\n",
       "                                                                            array([&#x27;Bán tải / Pickup&#x27;, &#x27;Convertible/Cabriolet&#x27;, &#x27;Coupe&#x27;,\n",
       "       &#x27;Crossover&#x27;, &#x27;Hatchback&#x27;, &#x27;SUV&#x27;, &#x27;Sedan&#x27;, &#x27;Truck&#x27;, &#x27;Van/Minivan&#x27;,\n",
       "       &#x27;Wagon&#x27;], dtype=object),\n",
       "                                                                            array([&#x27;&#x27;, &#x27;2 1.5 AT&#x27;,...\n",
       "       &#x27;Lamborghini&#x27;, &#x27;LandRover&#x27;, &#x27;Lexus&#x27;, &#x27;Lincoln&#x27;, &#x27;MG&#x27;, &#x27;Maserati&#x27;,\n",
       "       &#x27;Mazda&#x27;, &#x27;McLaren&#x27;, &#x27;Mercedes&#x27;, &#x27;Mini&#x27;, &#x27;Mitsubishi&#x27;, &#x27;Nissan&#x27;,\n",
       "       &#x27;Other&#x27;, &#x27;Peugeot&#x27;, &#x27;Porsche&#x27;, &#x27;Renault&#x27;, &#x27;Rolls&#x27;, &#x27;Ssangyong&#x27;,\n",
       "       &#x27;Subaru&#x27;, &#x27;Suzuki&#x27;, &#x27;Thaco&#x27;, &#x27;Toyota&#x27;, &#x27;VinFast&#x27;, &#x27;Volkswagen&#x27;,\n",
       "       &#x27;Volvo&#x27;], dtype=object)]),\n",
       "                                                  [&#x27;engine_type&#x27;, &#x27;series&#x27;,\n",
       "                                                   &#x27;model&#x27;, &#x27;brand&#x27;])])),\n",
       "                (&#x27;randomforestregressor&#x27;, RandomForestRegressor())])</pre></div></div></div><div class=\"sk-serial\"><div class=\"sk-item sk-dashed-wrapped\"><div class=\"sk-label-container\"><div class=\"sk-label sk-toggleable\"><input class=\"sk-toggleable__control sk-hidden--visually\" id=\"sk-estimator-id-60\" type=\"checkbox\" ><label for=\"sk-estimator-id-60\" class=\"sk-toggleable__label sk-toggleable__label-arrow\">columntransformer: ColumnTransformer</label><div class=\"sk-toggleable__content\"><pre>ColumnTransformer(remainder=&#x27;passthrough&#x27;,\n",
       "                  transformers=[(&#x27;onehotencoder&#x27;,\n",
       "                                 OneHotEncoder(categories=[array([&#x27;-&#x27;, &#x27;Dầu&#x27;, &#x27;Hybrid&#x27;, &#x27;Xăng&#x27;, &#x27;Điện&#x27;], dtype=object),\n",
       "                                                           array([&#x27;Bán tải / Pickup&#x27;, &#x27;Convertible/Cabriolet&#x27;, &#x27;Coupe&#x27;,\n",
       "       &#x27;Crossover&#x27;, &#x27;Hatchback&#x27;, &#x27;SUV&#x27;, &#x27;Sedan&#x27;, &#x27;Truck&#x27;, &#x27;Van/Minivan&#x27;,\n",
       "       &#x27;Wagon&#x27;], dtype=object),\n",
       "                                                           array([&#x27;&#x27;, &#x27;2 1.5 AT&#x27;, &#x27;2 Deluxe&#x27;, &#x27;2 Luxury&#x27;, &#x27;2 S&#x27;, &#x27;2 Sport Luxur...\n",
       "       &#x27;Hyundai&#x27;, &#x27;Infiniti&#x27;, &#x27;Isuzu&#x27;, &#x27;Jaguar&#x27;, &#x27;Jeep&#x27;, &#x27;Kenbo&#x27;, &#x27;Kia&#x27;,\n",
       "       &#x27;Lamborghini&#x27;, &#x27;LandRover&#x27;, &#x27;Lexus&#x27;, &#x27;Lincoln&#x27;, &#x27;MG&#x27;, &#x27;Maserati&#x27;,\n",
       "       &#x27;Mazda&#x27;, &#x27;McLaren&#x27;, &#x27;Mercedes&#x27;, &#x27;Mini&#x27;, &#x27;Mitsubishi&#x27;, &#x27;Nissan&#x27;,\n",
       "       &#x27;Other&#x27;, &#x27;Peugeot&#x27;, &#x27;Porsche&#x27;, &#x27;Renault&#x27;, &#x27;Rolls&#x27;, &#x27;Ssangyong&#x27;,\n",
       "       &#x27;Subaru&#x27;, &#x27;Suzuki&#x27;, &#x27;Thaco&#x27;, &#x27;Toyota&#x27;, &#x27;VinFast&#x27;, &#x27;Volkswagen&#x27;,\n",
       "       &#x27;Volvo&#x27;], dtype=object)]),\n",
       "                                 [&#x27;engine_type&#x27;, &#x27;series&#x27;, &#x27;model&#x27;, &#x27;brand&#x27;])])</pre></div></div></div><div class=\"sk-parallel\"><div class=\"sk-parallel-item\"><div class=\"sk-item\"><div class=\"sk-label-container\"><div class=\"sk-label sk-toggleable\"><input class=\"sk-toggleable__control sk-hidden--visually\" id=\"sk-estimator-id-61\" type=\"checkbox\" ><label for=\"sk-estimator-id-61\" class=\"sk-toggleable__label sk-toggleable__label-arrow\">onehotencoder</label><div class=\"sk-toggleable__content\"><pre>[&#x27;engine_type&#x27;, &#x27;series&#x27;, &#x27;model&#x27;, &#x27;brand&#x27;]</pre></div></div></div><div class=\"sk-serial\"><div class=\"sk-item\"><div class=\"sk-estimator sk-toggleable\"><input class=\"sk-toggleable__control sk-hidden--visually\" id=\"sk-estimator-id-62\" type=\"checkbox\" ><label for=\"sk-estimator-id-62\" class=\"sk-toggleable__label sk-toggleable__label-arrow\">OneHotEncoder</label><div class=\"sk-toggleable__content\"><pre>OneHotEncoder(categories=[array([&#x27;-&#x27;, &#x27;Dầu&#x27;, &#x27;Hybrid&#x27;, &#x27;Xăng&#x27;, &#x27;Điện&#x27;], dtype=object),\n",
       "                          array([&#x27;Bán tải / Pickup&#x27;, &#x27;Convertible/Cabriolet&#x27;, &#x27;Coupe&#x27;,\n",
       "       &#x27;Crossover&#x27;, &#x27;Hatchback&#x27;, &#x27;SUV&#x27;, &#x27;Sedan&#x27;, &#x27;Truck&#x27;, &#x27;Van/Minivan&#x27;,\n",
       "       &#x27;Wagon&#x27;], dtype=object),\n",
       "                          array([&#x27;&#x27;, &#x27;2 1.5 AT&#x27;, &#x27;2 Deluxe&#x27;, &#x27;2 Luxury&#x27;, &#x27;2 S&#x27;, &#x27;2 Sport Luxury&#x27;,\n",
       "       &#x27;2008 Active 1.2&#x27;, &#x27;2008 GT Line&#x27;, &#x27;3 1.5 AT&#x27;, &#x27;3 1.5L Deluxe&#x27;,\n",
       "       &#x27;3 1.5L Luxury&#x27;, &#x27;3 1....\n",
       "       &#x27;Daewoo&#x27;, &#x27;Daihatsu&#x27;, &#x27;Dongben&#x27;, &#x27;Fiat&#x27;, &#x27;Ford&#x27;, &#x27;Honda&#x27;,\n",
       "       &#x27;Hyundai&#x27;, &#x27;Infiniti&#x27;, &#x27;Isuzu&#x27;, &#x27;Jaguar&#x27;, &#x27;Jeep&#x27;, &#x27;Kenbo&#x27;, &#x27;Kia&#x27;,\n",
       "       &#x27;Lamborghini&#x27;, &#x27;LandRover&#x27;, &#x27;Lexus&#x27;, &#x27;Lincoln&#x27;, &#x27;MG&#x27;, &#x27;Maserati&#x27;,\n",
       "       &#x27;Mazda&#x27;, &#x27;McLaren&#x27;, &#x27;Mercedes&#x27;, &#x27;Mini&#x27;, &#x27;Mitsubishi&#x27;, &#x27;Nissan&#x27;,\n",
       "       &#x27;Other&#x27;, &#x27;Peugeot&#x27;, &#x27;Porsche&#x27;, &#x27;Renault&#x27;, &#x27;Rolls&#x27;, &#x27;Ssangyong&#x27;,\n",
       "       &#x27;Subaru&#x27;, &#x27;Suzuki&#x27;, &#x27;Thaco&#x27;, &#x27;Toyota&#x27;, &#x27;VinFast&#x27;, &#x27;Volkswagen&#x27;,\n",
       "       &#x27;Volvo&#x27;], dtype=object)])</pre></div></div></div></div></div></div><div class=\"sk-parallel-item\"><div class=\"sk-item\"><div class=\"sk-label-container\"><div class=\"sk-label sk-toggleable\"><input class=\"sk-toggleable__control sk-hidden--visually\" id=\"sk-estimator-id-63\" type=\"checkbox\" ><label for=\"sk-estimator-id-63\" class=\"sk-toggleable__label sk-toggleable__label-arrow\">remainder</label><div class=\"sk-toggleable__content\"><pre>[&#x27;year&#x27;, &#x27;driven kms&#x27;, &#x27;num_of_seat&#x27;, &#x27;transmission&#x27;, &#x27;assemble_place&#x27;]</pre></div></div></div><div class=\"sk-serial\"><div class=\"sk-item\"><div class=\"sk-estimator sk-toggleable\"><input class=\"sk-toggleable__control sk-hidden--visually\" id=\"sk-estimator-id-64\" type=\"checkbox\" ><label for=\"sk-estimator-id-64\" class=\"sk-toggleable__label sk-toggleable__label-arrow\">passthrough</label><div class=\"sk-toggleable__content\"><pre>passthrough</pre></div></div></div></div></div></div></div></div><div class=\"sk-item\"><div class=\"sk-estimator sk-toggleable\"><input class=\"sk-toggleable__control sk-hidden--visually\" id=\"sk-estimator-id-65\" type=\"checkbox\" ><label for=\"sk-estimator-id-65\" class=\"sk-toggleable__label sk-toggleable__label-arrow\">RandomForestRegressor</label><div class=\"sk-toggleable__content\"><pre>RandomForestRegressor()</pre></div></div></div></div></div></div></div>"
      ],
      "text/plain": [
       "Pipeline(steps=[('columntransformer',\n",
       "                 ColumnTransformer(remainder='passthrough',\n",
       "                                   transformers=[('onehotencoder',\n",
       "                                                  OneHotEncoder(categories=[array(['-', 'Dầu', 'Hybrid', 'Xăng', 'Điện'], dtype=object),\n",
       "                                                                            array(['Bán tải / Pickup', 'Convertible/Cabriolet', 'Coupe',\n",
       "       'Crossover', 'Hatchback', 'SUV', 'Sedan', 'Truck', 'Van/Minivan',\n",
       "       'Wagon'], dtype=object),\n",
       "                                                                            array(['', '2 1.5 AT',...\n",
       "       'Lamborghini', 'LandRover', 'Lexus', 'Lincoln', 'MG', 'Maserati',\n",
       "       'Mazda', 'McLaren', 'Mercedes', 'Mini', 'Mitsubishi', 'Nissan',\n",
       "       'Other', 'Peugeot', 'Porsche', 'Renault', 'Rolls', 'Ssangyong',\n",
       "       'Subaru', 'Suzuki', 'Thaco', 'Toyota', 'VinFast', 'Volkswagen',\n",
       "       'Volvo'], dtype=object)]),\n",
       "                                                  ['engine_type', 'series',\n",
       "                                                   'model', 'brand'])])),\n",
       "                ('randomforestregressor', RandomForestRegressor())])"
      ]
     },
     "execution_count": 325,
     "metadata": {},
     "output_type": "execute_result"
    }
   ],
   "source": [
    "pipe.fit(X_train, y_train)\n"
   ]
  },
  {
   "cell_type": "code",
   "execution_count": 326,
   "metadata": {
    "collapsed": false,
    "is_executing": true
   },
   "outputs": [
    {
     "data": {
      "text/plain": [
       "0.9703527880596284"
      ]
     },
     "execution_count": 326,
     "metadata": {},
     "output_type": "execute_result"
    }
   ],
   "source": [
    "pipe.score(X_test, y_test)"
   ]
  },
  {
   "cell_type": "code",
   "execution_count": null,
   "metadata": {},
   "outputs": [],
   "source": [
    "pickle.dump(pipe,open('RandomeForestModel.pkl','wb'))"
   ]
  },
  {
   "cell_type": "code",
   "execution_count": 327,
   "metadata": {},
   "outputs": [
    {
     "data": {
      "text/plain": [
       "array([2.8535e+08])"
      ]
     },
     "execution_count": 327,
     "metadata": {},
     "output_type": "execute_result"
    }
   ],
   "source": [
    "pipe.predict(car[['engine_type','series','model','brand','year','driven kms','num_of_seat','transmission','assemble_place']])"
   ]
  },
  {
   "cell_type": "code",
   "execution_count": 329,
   "metadata": {
    "collapsed": false,
    "is_executing": true
   },
   "outputs": [
    {
     "ename": "ValueError",
     "evalue": "For a sparse output, all columns should be a numeric or convertible to a numeric.",
     "output_type": "error",
     "traceback": [
      "\u001b[0;31m---------------------------------------------------------------------------\u001b[0m",
      "\u001b[0;31mValueError\u001b[0m                                Traceback (most recent call last)",
      "\u001b[0;32m~/.local/lib/python3.10/site-packages/sklearn/compose/_column_transformer.py\u001b[0m in \u001b[0;36m?\u001b[0;34m(self, Xs)\u001b[0m\n\u001b[1;32m    833\u001b[0m                 ]\n\u001b[1;32m    834\u001b[0m             \u001b[0;32mexcept\u001b[0m \u001b[0mValueError\u001b[0m \u001b[0;32mas\u001b[0m \u001b[0me\u001b[0m\u001b[0;34m:\u001b[0m\u001b[0;34m\u001b[0m\u001b[0;34m\u001b[0m\u001b[0m\n\u001b[0;32m--> 835\u001b[0;31m                 raise ValueError(\n\u001b[0m\u001b[1;32m    836\u001b[0m                     \u001b[0;34m\"For a sparse output, all columns should \"\u001b[0m\u001b[0;34m\u001b[0m\u001b[0;34m\u001b[0m\u001b[0m\n",
      "\u001b[0;32m~/.local/lib/python3.10/site-packages/sklearn/compose/_column_transformer.py\u001b[0m in \u001b[0;36m?\u001b[0;34m(.0)\u001b[0m\n\u001b[1;32m    830\u001b[0m     \u001b[0;32mdef\u001b[0m \u001b[0m_hstack\u001b[0m\u001b[0;34m(\u001b[0m\u001b[0mself\u001b[0m\u001b[0;34m,\u001b[0m \u001b[0mXs\u001b[0m\u001b[0;34m)\u001b[0m\u001b[0;34m:\u001b[0m\u001b[0;34m\u001b[0m\u001b[0;34m\u001b[0m\u001b[0m\n\u001b[0;32m--> 831\u001b[0;31m         \"\"\"Stacks Xs horizontally.\n\u001b[0m\u001b[1;32m    832\u001b[0m \u001b[0;34m\u001b[0m\u001b[0m\n",
      "\u001b[0;32m~/.local/lib/python3.10/site-packages/sklearn/utils/validation.py\u001b[0m in \u001b[0;36m?\u001b[0;34m(array, accept_sparse, accept_large_sparse, dtype, order, copy, force_all_finite, ensure_2d, allow_nd, ensure_min_samples, ensure_min_features, estimator, input_name)\u001b[0m\n\u001b[1;32m    878\u001b[0m                 \u001b[0;32melse\u001b[0m\u001b[0;34m:\u001b[0m\u001b[0;34m\u001b[0m\u001b[0;34m\u001b[0m\u001b[0m\n\u001b[1;32m    879\u001b[0m                     \u001b[0marray\u001b[0m \u001b[0;34m=\u001b[0m \u001b[0m_asarray_with_order\u001b[0m\u001b[0;34m(\u001b[0m\u001b[0marray\u001b[0m\u001b[0;34m,\u001b[0m \u001b[0morder\u001b[0m\u001b[0;34m=\u001b[0m\u001b[0morder\u001b[0m\u001b[0;34m,\u001b[0m \u001b[0mdtype\u001b[0m\u001b[0;34m=\u001b[0m\u001b[0mdtype\u001b[0m\u001b[0;34m,\u001b[0m \u001b[0mxp\u001b[0m\u001b[0;34m=\u001b[0m\u001b[0mxp\u001b[0m\u001b[0;34m)\u001b[0m\u001b[0;34m\u001b[0m\u001b[0;34m\u001b[0m\u001b[0m\n\u001b[0;32m--> 880\u001b[0;31m             \u001b[0;32mexcept\u001b[0m \u001b[0mComplexWarning\u001b[0m \u001b[0;32mas\u001b[0m \u001b[0mcomplex_warning\u001b[0m\u001b[0;34m:\u001b[0m\u001b[0;34m\u001b[0m\u001b[0;34m\u001b[0m\u001b[0m\n\u001b[0m\u001b[1;32m    881\u001b[0m                 raise ValueError(\n",
      "\u001b[0;32m~/.local/lib/python3.10/site-packages/sklearn/utils/_array_api.py\u001b[0m in \u001b[0;36m?\u001b[0;34m(array, dtype, order, copy, xp)\u001b[0m\n\u001b[1;32m    183\u001b[0m     \u001b[0;32mif\u001b[0m \u001b[0mxp\u001b[0m\u001b[0;34m.\u001b[0m\u001b[0m__name__\u001b[0m \u001b[0;32min\u001b[0m \u001b[0;34m{\u001b[0m\u001b[0;34m\"numpy\"\u001b[0m\u001b[0;34m,\u001b[0m \u001b[0;34m\"numpy.array_api\"\u001b[0m\u001b[0;34m}\u001b[0m\u001b[0;34m:\u001b[0m\u001b[0;34m\u001b[0m\u001b[0;34m\u001b[0m\u001b[0m\n\u001b[1;32m    184\u001b[0m         \u001b[0;31m# Use NumPy API to support order\u001b[0m\u001b[0;34m\u001b[0m\u001b[0;34m\u001b[0m\u001b[0m\n\u001b[0;32m--> 185\u001b[0;31m         \u001b[0marray\u001b[0m \u001b[0;34m=\u001b[0m \u001b[0mnumpy\u001b[0m\u001b[0;34m.\u001b[0m\u001b[0masarray\u001b[0m\u001b[0;34m(\u001b[0m\u001b[0marray\u001b[0m\u001b[0;34m,\u001b[0m \u001b[0morder\u001b[0m\u001b[0;34m=\u001b[0m\u001b[0morder\u001b[0m\u001b[0;34m,\u001b[0m \u001b[0mdtype\u001b[0m\u001b[0;34m=\u001b[0m\u001b[0mdtype\u001b[0m\u001b[0;34m)\u001b[0m\u001b[0;34m\u001b[0m\u001b[0;34m\u001b[0m\u001b[0m\n\u001b[0m\u001b[1;32m    186\u001b[0m         \u001b[0;32mreturn\u001b[0m \u001b[0mxp\u001b[0m\u001b[0;34m.\u001b[0m\u001b[0masarray\u001b[0m\u001b[0;34m(\u001b[0m\u001b[0marray\u001b[0m\u001b[0;34m,\u001b[0m \u001b[0mcopy\u001b[0m\u001b[0;34m=\u001b[0m\u001b[0mcopy\u001b[0m\u001b[0;34m)\u001b[0m\u001b[0;34m\u001b[0m\u001b[0;34m\u001b[0m\u001b[0m\n",
      "\u001b[0;32m~/.local/lib/python3.10/site-packages/pandas/core/generic.py\u001b[0m in \u001b[0;36m?\u001b[0;34m(self, dtype)\u001b[0m\n\u001b[1;32m   1996\u001b[0m     \u001b[0;32mdef\u001b[0m \u001b[0m__array__\u001b[0m\u001b[0;34m(\u001b[0m\u001b[0mself\u001b[0m\u001b[0;34m,\u001b[0m \u001b[0mdtype\u001b[0m\u001b[0;34m:\u001b[0m \u001b[0mnpt\u001b[0m\u001b[0;34m.\u001b[0m\u001b[0mDTypeLike\u001b[0m \u001b[0;34m|\u001b[0m \u001b[0;32mNone\u001b[0m \u001b[0;34m=\u001b[0m \u001b[0;32mNone\u001b[0m\u001b[0;34m)\u001b[0m \u001b[0;34m->\u001b[0m \u001b[0mnp\u001b[0m\u001b[0;34m.\u001b[0m\u001b[0mndarray\u001b[0m\u001b[0;34m:\u001b[0m\u001b[0;34m\u001b[0m\u001b[0;34m\u001b[0m\u001b[0m\n\u001b[1;32m   1997\u001b[0m         \u001b[0mvalues\u001b[0m \u001b[0;34m=\u001b[0m \u001b[0mself\u001b[0m\u001b[0;34m.\u001b[0m\u001b[0m_values\u001b[0m\u001b[0;34m\u001b[0m\u001b[0;34m\u001b[0m\u001b[0m\n\u001b[0;32m-> 1998\u001b[0;31m         \u001b[0marr\u001b[0m \u001b[0;34m=\u001b[0m \u001b[0mnp\u001b[0m\u001b[0;34m.\u001b[0m\u001b[0masarray\u001b[0m\u001b[0;34m(\u001b[0m\u001b[0mvalues\u001b[0m\u001b[0;34m,\u001b[0m \u001b[0mdtype\u001b[0m\u001b[0;34m=\u001b[0m\u001b[0mdtype\u001b[0m\u001b[0;34m)\u001b[0m\u001b[0;34m\u001b[0m\u001b[0;34m\u001b[0m\u001b[0m\n\u001b[0m\u001b[1;32m   1999\u001b[0m         if (\n",
      "\u001b[0;31mValueError\u001b[0m: could not convert string to float: 'Số tự động'",
      "\nThe above exception was the direct cause of the following exception:\n",
      "\u001b[0;31mValueError\u001b[0m                                Traceback (most recent call last)",
      "Cell \u001b[0;32mIn[329], line 2\u001b[0m\n\u001b[1;32m      1\u001b[0m car \u001b[39m=\u001b[39m[\u001b[39m'\u001b[39m\u001b[39mXăng\u001b[39m\u001b[39m'\u001b[39m,\u001b[39m'\u001b[39m\u001b[39mSUV\u001b[39m\u001b[39m'\u001b[39m,\u001b[39m'\u001b[39m\u001b[39m4 Runner SR5\u001b[39m\u001b[39m'\u001b[39m,\u001b[39m'\u001b[39m\u001b[39mToyota\u001b[39m\u001b[39m'\u001b[39m,\u001b[39m2011\u001b[39m,\u001b[39m36000\u001b[39m,\u001b[39m7\u001b[39m,\u001b[39m'\u001b[39m\u001b[39mSố tự động\u001b[39m\u001b[39m'\u001b[39m,\u001b[39m'\u001b[39m\u001b[39mNhập khẩu\u001b[39m\u001b[39m'\u001b[39m]\n\u001b[0;32m----> 2\u001b[0m pipe\u001b[39m.\u001b[39;49mpredict(pd\u001b[39m.\u001b[39;49mDataFrame(columns\u001b[39m=\u001b[39;49m[\u001b[39m'\u001b[39;49m\u001b[39mengine_type\u001b[39;49m\u001b[39m'\u001b[39;49m,\u001b[39m'\u001b[39;49m\u001b[39mseries\u001b[39;49m\u001b[39m'\u001b[39;49m,\u001b[39m'\u001b[39;49m\u001b[39mmodel\u001b[39;49m\u001b[39m'\u001b[39;49m,\u001b[39m'\u001b[39;49m\u001b[39mbrand\u001b[39;49m\u001b[39m'\u001b[39;49m,\u001b[39m'\u001b[39;49m\u001b[39myear\u001b[39;49m\u001b[39m'\u001b[39;49m,\u001b[39m'\u001b[39;49m\u001b[39mdriven kms\u001b[39;49m\u001b[39m'\u001b[39;49m,\u001b[39m'\u001b[39;49m\u001b[39mnum_of_seat\u001b[39;49m\u001b[39m'\u001b[39;49m,\u001b[39m'\u001b[39;49m\u001b[39mtransmission\u001b[39;49m\u001b[39m'\u001b[39;49m,\u001b[39m'\u001b[39;49m\u001b[39massemble_place\u001b[39;49m\u001b[39m'\u001b[39;49m],data\u001b[39m=\u001b[39;49mnp\u001b[39m.\u001b[39;49marray([\u001b[39m'\u001b[39;49m\u001b[39mXăng\u001b[39;49m\u001b[39m'\u001b[39;49m,\u001b[39m'\u001b[39;49m\u001b[39mSUV\u001b[39;49m\u001b[39m'\u001b[39;49m,\u001b[39m'\u001b[39;49m\u001b[39mOther\u001b[39;49m\u001b[39m'\u001b[39;49m,\u001b[39m'\u001b[39;49m\u001b[39mToyota\u001b[39;49m\u001b[39m'\u001b[39;49m,\u001b[39m2011\u001b[39;49m,\u001b[39m36000\u001b[39;49m,\u001b[39m7\u001b[39;49m,\u001b[39m'\u001b[39;49m\u001b[39mSố tự động\u001b[39;49m\u001b[39m'\u001b[39;49m,\u001b[39m'\u001b[39;49m\u001b[39mNhập khẩu\u001b[39;49m\u001b[39m'\u001b[39;49m])\u001b[39m.\u001b[39;49mreshape(\u001b[39m1\u001b[39;49m,\u001b[39m9\u001b[39;49m)))\n",
      "File \u001b[0;32m~/.local/lib/python3.10/site-packages/sklearn/pipeline.py:480\u001b[0m, in \u001b[0;36mPipeline.predict\u001b[0;34m(self, X, **predict_params)\u001b[0m\n\u001b[1;32m    478\u001b[0m Xt \u001b[39m=\u001b[39m X\n\u001b[1;32m    479\u001b[0m \u001b[39mfor\u001b[39;00m _, name, transform \u001b[39min\u001b[39;00m \u001b[39mself\u001b[39m\u001b[39m.\u001b[39m_iter(with_final\u001b[39m=\u001b[39m\u001b[39mFalse\u001b[39;00m):\n\u001b[0;32m--> 480\u001b[0m     Xt \u001b[39m=\u001b[39m transform\u001b[39m.\u001b[39;49mtransform(Xt)\n\u001b[1;32m    481\u001b[0m \u001b[39mreturn\u001b[39;00m \u001b[39mself\u001b[39m\u001b[39m.\u001b[39msteps[\u001b[39m-\u001b[39m\u001b[39m1\u001b[39m][\u001b[39m1\u001b[39m]\u001b[39m.\u001b[39mpredict(Xt, \u001b[39m*\u001b[39m\u001b[39m*\u001b[39mpredict_params)\n",
      "File \u001b[0;32m~/.local/lib/python3.10/site-packages/sklearn/utils/_set_output.py:140\u001b[0m, in \u001b[0;36m_wrap_method_output.<locals>.wrapped\u001b[0;34m(self, X, *args, **kwargs)\u001b[0m\n\u001b[1;32m    138\u001b[0m \u001b[39m@wraps\u001b[39m(f)\n\u001b[1;32m    139\u001b[0m \u001b[39mdef\u001b[39;00m \u001b[39mwrapped\u001b[39m(\u001b[39mself\u001b[39m, X, \u001b[39m*\u001b[39margs, \u001b[39m*\u001b[39m\u001b[39m*\u001b[39mkwargs):\n\u001b[0;32m--> 140\u001b[0m     data_to_wrap \u001b[39m=\u001b[39m f(\u001b[39mself\u001b[39;49m, X, \u001b[39m*\u001b[39;49margs, \u001b[39m*\u001b[39;49m\u001b[39m*\u001b[39;49mkwargs)\n\u001b[1;32m    141\u001b[0m     \u001b[39mif\u001b[39;00m \u001b[39misinstance\u001b[39m(data_to_wrap, \u001b[39mtuple\u001b[39m):\n\u001b[1;32m    142\u001b[0m         \u001b[39m# only wrap the first output for cross decomposition\u001b[39;00m\n\u001b[1;32m    143\u001b[0m         \u001b[39mreturn\u001b[39;00m (\n\u001b[1;32m    144\u001b[0m             _wrap_data_with_container(method, data_to_wrap[\u001b[39m0\u001b[39m], X, \u001b[39mself\u001b[39m),\n\u001b[1;32m    145\u001b[0m             \u001b[39m*\u001b[39mdata_to_wrap[\u001b[39m1\u001b[39m:],\n\u001b[1;32m    146\u001b[0m         )\n",
      "File \u001b[0;32m~/.local/lib/python3.10/site-packages/sklearn/compose/_column_transformer.py:813\u001b[0m, in \u001b[0;36mColumnTransformer.transform\u001b[0;34m(self, X)\u001b[0m\n\u001b[1;32m    809\u001b[0m \u001b[39mif\u001b[39;00m \u001b[39mnot\u001b[39;00m Xs:\n\u001b[1;32m    810\u001b[0m     \u001b[39m# All transformers are None\u001b[39;00m\n\u001b[1;32m    811\u001b[0m     \u001b[39mreturn\u001b[39;00m np\u001b[39m.\u001b[39mzeros((X\u001b[39m.\u001b[39mshape[\u001b[39m0\u001b[39m], \u001b[39m0\u001b[39m))\n\u001b[0;32m--> 813\u001b[0m \u001b[39mreturn\u001b[39;00m \u001b[39mself\u001b[39;49m\u001b[39m.\u001b[39;49m_hstack(\u001b[39mlist\u001b[39;49m(Xs))\n",
      "File \u001b[0;32m~/.local/lib/python3.10/site-packages/sklearn/compose/_column_transformer.py:835\u001b[0m, in \u001b[0;36mColumnTransformer._hstack\u001b[0;34m(self, Xs)\u001b[0m\n\u001b[1;32m    830\u001b[0m         converted_Xs \u001b[39m=\u001b[39m [\n\u001b[1;32m    831\u001b[0m             check_array(X, accept_sparse\u001b[39m=\u001b[39m\u001b[39mTrue\u001b[39;00m, force_all_finite\u001b[39m=\u001b[39m\u001b[39mFalse\u001b[39;00m)\n\u001b[1;32m    832\u001b[0m             \u001b[39mfor\u001b[39;00m X \u001b[39min\u001b[39;00m Xs\n\u001b[1;32m    833\u001b[0m         ]\n\u001b[1;32m    834\u001b[0m     \u001b[39mexcept\u001b[39;00m \u001b[39mValueError\u001b[39;00m \u001b[39mas\u001b[39;00m e:\n\u001b[0;32m--> 835\u001b[0m         \u001b[39mraise\u001b[39;00m \u001b[39mValueError\u001b[39;00m(\n\u001b[1;32m    836\u001b[0m             \u001b[39m\"\u001b[39m\u001b[39mFor a sparse output, all columns should \u001b[39m\u001b[39m\"\u001b[39m\n\u001b[1;32m    837\u001b[0m             \u001b[39m\"\u001b[39m\u001b[39mbe a numeric or convertible to a numeric.\u001b[39m\u001b[39m\"\u001b[39m\n\u001b[1;32m    838\u001b[0m         ) \u001b[39mfrom\u001b[39;00m \u001b[39me\u001b[39;00m\n\u001b[1;32m    840\u001b[0m     \u001b[39mreturn\u001b[39;00m sparse\u001b[39m.\u001b[39mhstack(converted_Xs)\u001b[39m.\u001b[39mtocsr()\n\u001b[1;32m    841\u001b[0m \u001b[39melse\u001b[39;00m:\n",
      "\u001b[0;31mValueError\u001b[0m: For a sparse output, all columns should be a numeric or convertible to a numeric."
     ]
    }
   ],
   "source": [
    "\n",
    "car =['Xăng','SUV','4 Runner SR5','Toyota',2011,36000,7,'Số tự động','Nhập khẩu']\n",
    "pipe.predict(pd.DataFrame(columns=['engine_type','series','model','brand','year','driven kms','num_of_seat','transmission','assemble_place'],data=np.array(['Xăng','SUV','Other','Toyota',2011,36000,7,'Số tự động','Nhập khẩu']).reshape(1,9)))"
   ]
  },
  {
   "cell_type": "code",
   "execution_count": null,
   "metadata": {
    "collapsed": false,
    "is_executing": true
   },
   "outputs": [
    {
     "data": {
      "text/plain": [
       "{'n_estimators': 200,\n",
       " 'min_samples_split': 5,\n",
       " 'min_samples_leaf': 2,\n",
       " 'max_features': 'sqrt',\n",
       " 'max_depth': 110,\n",
       " 'bootstrap': True}"
      ]
     },
     "execution_count": 119,
     "metadata": {},
     "output_type": "execute_result"
    }
   ],
   "source": [
    "rf_randomized_search.best_params_"
   ]
  },
  {
   "cell_type": "code",
   "execution_count": null,
   "metadata": {
    "collapsed": false,
    "is_executing": true
   },
   "outputs": [
    {
     "data": {
      "text/plain": [
       "0.4294949157635001"
      ]
     },
     "execution_count": 124,
     "metadata": {},
     "output_type": "execute_result"
    }
   ],
   "source": [
    "from sklearn.linear_model import Ridge\n",
    "rg = Ridge(alpha=1.0)\n",
    "rg.fit(X_train, y_train)\n",
    "rg.score(X_test, y_test)\n"
   ]
  },
  {
   "cell_type": "code",
   "execution_count": null,
   "metadata": {
    "collapsed": false,
    "is_executing": true
   },
   "outputs": [],
   "source": [
    "#Support Vector Regression"
   ]
  },
  {
   "cell_type": "code",
   "execution_count": null,
   "metadata": {
    "collapsed": false,
    "is_executing": true
   },
   "outputs": [
    {
     "data": {
      "text/plain": [
       "-0.0939616610769054"
      ]
     },
     "execution_count": 127,
     "metadata": {},
     "output_type": "execute_result"
    }
   ],
   "source": [
    "from sklearn.svm import SVR\n",
    "\n",
    "svr = SVR(kernel='rbf')\n",
    "svr.fit(X_train, y_train)\n",
    "svr.score(X_test, y_test)"
   ]
  },
  {
   "cell_type": "code",
   "execution_count": null,
   "metadata": {},
   "outputs": [
    {
     "data": {
      "text/html": [
       "<div>\n",
       "<style scoped>\n",
       "    .dataframe tbody tr th:only-of-type {\n",
       "        vertical-align: middle;\n",
       "    }\n",
       "\n",
       "    .dataframe tbody tr th {\n",
       "        vertical-align: top;\n",
       "    }\n",
       "\n",
       "    .dataframe thead th {\n",
       "        text-align: right;\n",
       "    }\n",
       "</style>\n",
       "<table border=\"1\" class=\"dataframe\">\n",
       "  <thead>\n",
       "    <tr style=\"text-align: right;\">\n",
       "      <th></th>\n",
       "      <th>year</th>\n",
       "      <th>price</th>\n",
       "      <th>assemble_place</th>\n",
       "      <th>driven kms</th>\n",
       "      <th>num_of_door</th>\n",
       "      <th>num_of_seat</th>\n",
       "      <th>transmission</th>\n",
       "      <th>brand_segment_LOW-PRICE CAR</th>\n",
       "      <th>brand_segment_LUXURY CAR</th>\n",
       "      <th>brand_segment_PREMIUM CAR</th>\n",
       "      <th>...</th>\n",
       "      <th>series_Hatchback</th>\n",
       "      <th>series_SUV</th>\n",
       "      <th>series_Sedan</th>\n",
       "      <th>series_Truck</th>\n",
       "      <th>series_Van/Minivan</th>\n",
       "      <th>series_Wagon</th>\n",
       "      <th>engine_type_Dầu</th>\n",
       "      <th>engine_type_Hybrid</th>\n",
       "      <th>engine_type_Xăng</th>\n",
       "      <th>engine_type_Điện</th>\n",
       "    </tr>\n",
       "  </thead>\n",
       "  <tbody>\n",
       "    <tr>\n",
       "      <th>0</th>\n",
       "      <td>8.0</td>\n",
       "      <td>2.700000e+09</td>\n",
       "      <td>1</td>\n",
       "      <td>0.379702</td>\n",
       "      <td>5.0</td>\n",
       "      <td>-0.360512</td>\n",
       "      <td>1</td>\n",
       "      <td>False</td>\n",
       "      <td>True</td>\n",
       "      <td>False</td>\n",
       "      <td>...</td>\n",
       "      <td>False</td>\n",
       "      <td>True</td>\n",
       "      <td>False</td>\n",
       "      <td>False</td>\n",
       "      <td>False</td>\n",
       "      <td>False</td>\n",
       "      <td>False</td>\n",
       "      <td>False</td>\n",
       "      <td>True</td>\n",
       "      <td>False</td>\n",
       "    </tr>\n",
       "    <tr>\n",
       "      <th>1</th>\n",
       "      <td>5.0</td>\n",
       "      <td>6.660000e+08</td>\n",
       "      <td>0</td>\n",
       "      <td>-0.037590</td>\n",
       "      <td>5.0</td>\n",
       "      <td>1.109346</td>\n",
       "      <td>1</td>\n",
       "      <td>True</td>\n",
       "      <td>False</td>\n",
       "      <td>False</td>\n",
       "      <td>...</td>\n",
       "      <td>False</td>\n",
       "      <td>True</td>\n",
       "      <td>False</td>\n",
       "      <td>False</td>\n",
       "      <td>False</td>\n",
       "      <td>False</td>\n",
       "      <td>False</td>\n",
       "      <td>False</td>\n",
       "      <td>True</td>\n",
       "      <td>False</td>\n",
       "    </tr>\n",
       "    <tr>\n",
       "      <th>2</th>\n",
       "      <td>4.0</td>\n",
       "      <td>4.900000e+08</td>\n",
       "      <td>0</td>\n",
       "      <td>-0.009771</td>\n",
       "      <td>4.0</td>\n",
       "      <td>-0.360512</td>\n",
       "      <td>1</td>\n",
       "      <td>False</td>\n",
       "      <td>False</td>\n",
       "      <td>False</td>\n",
       "      <td>...</td>\n",
       "      <td>False</td>\n",
       "      <td>False</td>\n",
       "      <td>True</td>\n",
       "      <td>False</td>\n",
       "      <td>False</td>\n",
       "      <td>False</td>\n",
       "      <td>False</td>\n",
       "      <td>False</td>\n",
       "      <td>True</td>\n",
       "      <td>False</td>\n",
       "    </tr>\n",
       "    <tr>\n",
       "      <th>3</th>\n",
       "      <td>8.0</td>\n",
       "      <td>3.650000e+08</td>\n",
       "      <td>0</td>\n",
       "      <td>-0.371425</td>\n",
       "      <td>4.0</td>\n",
       "      <td>-0.360512</td>\n",
       "      <td>1</td>\n",
       "      <td>False</td>\n",
       "      <td>False</td>\n",
       "      <td>False</td>\n",
       "      <td>...</td>\n",
       "      <td>False</td>\n",
       "      <td>False</td>\n",
       "      <td>True</td>\n",
       "      <td>False</td>\n",
       "      <td>False</td>\n",
       "      <td>False</td>\n",
       "      <td>False</td>\n",
       "      <td>False</td>\n",
       "      <td>True</td>\n",
       "      <td>False</td>\n",
       "    </tr>\n",
       "    <tr>\n",
       "      <th>4</th>\n",
       "      <td>2.0</td>\n",
       "      <td>5.650000e+08</td>\n",
       "      <td>1</td>\n",
       "      <td>-1.261649</td>\n",
       "      <td>5.0</td>\n",
       "      <td>-0.360512</td>\n",
       "      <td>1</td>\n",
       "      <td>False</td>\n",
       "      <td>False</td>\n",
       "      <td>False</td>\n",
       "      <td>...</td>\n",
       "      <td>True</td>\n",
       "      <td>False</td>\n",
       "      <td>False</td>\n",
       "      <td>False</td>\n",
       "      <td>False</td>\n",
       "      <td>False</td>\n",
       "      <td>False</td>\n",
       "      <td>False</td>\n",
       "      <td>True</td>\n",
       "      <td>False</td>\n",
       "    </tr>\n",
       "  </tbody>\n",
       "</table>\n",
       "<p>5 rows × 25 columns</p>\n",
       "</div>"
      ],
      "text/plain": [
       "   year         price  assemble_place  driven kms  num_of_door  num_of_seat  \\\n",
       "0   8.0  2.700000e+09               1    0.379702          5.0    -0.360512   \n",
       "1   5.0  6.660000e+08               0   -0.037590          5.0     1.109346   \n",
       "2   4.0  4.900000e+08               0   -0.009771          4.0    -0.360512   \n",
       "3   8.0  3.650000e+08               0   -0.371425          4.0    -0.360512   \n",
       "4   2.0  5.650000e+08               1   -1.261649          5.0    -0.360512   \n",
       "\n",
       "   transmission  brand_segment_LOW-PRICE CAR  brand_segment_LUXURY CAR  \\\n",
       "0             1                        False                      True   \n",
       "1             1                         True                     False   \n",
       "2             1                        False                     False   \n",
       "3             1                        False                     False   \n",
       "4             1                        False                     False   \n",
       "\n",
       "   brand_segment_PREMIUM CAR  ...  series_Hatchback  series_SUV  series_Sedan  \\\n",
       "0                      False  ...             False        True         False   \n",
       "1                      False  ...             False        True         False   \n",
       "2                      False  ...             False       False          True   \n",
       "3                      False  ...             False       False          True   \n",
       "4                      False  ...              True       False         False   \n",
       "\n",
       "   series_Truck  series_Van/Minivan  series_Wagon  engine_type_Dầu  \\\n",
       "0         False               False         False            False   \n",
       "1         False               False         False            False   \n",
       "2         False               False         False            False   \n",
       "3         False               False         False            False   \n",
       "4         False               False         False            False   \n",
       "\n",
       "   engine_type_Hybrid  engine_type_Xăng  engine_type_Điện  \n",
       "0               False              True             False  \n",
       "1               False              True             False  \n",
       "2               False              True             False  \n",
       "3               False              True             False  \n",
       "4               False              True             False  \n",
       "\n",
       "[5 rows x 25 columns]"
      ]
     },
     "execution_count": 128,
     "metadata": {},
     "output_type": "execute_result"
    }
   ],
   "source": [
    "df.head()"
   ]
  },
  {
   "cell_type": "code",
   "execution_count": null,
   "metadata": {},
   "outputs": [],
   "source": [
    "clf.score(X_test, y_test)"
   ]
  },
  {
   "attachments": {},
   "cell_type": "markdown",
   "metadata": {
    "collapsed": false
   },
   "source": [
    "\n"
   ]
  }
 ],
 "metadata": {
  "kernelspec": {
   "display_name": "Python 3",
   "language": "python",
   "name": "python3"
  },
  "language_info": {
   "codemirror_mode": {
    "name": "ipython",
    "version": 3
   },
   "file_extension": ".py",
   "mimetype": "text/x-python",
   "name": "python",
   "nbconvert_exporter": "python",
   "pygments_lexer": "ipython3",
   "version": "3.10.8"
  }
 },
 "nbformat": 4,
 "nbformat_minor": 0
}
