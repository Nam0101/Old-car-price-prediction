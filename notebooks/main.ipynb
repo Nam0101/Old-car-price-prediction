{
 "cells": [
  {
   "cell_type": "markdown",
   "source": [
    "# Import libraries"
   ],
   "metadata": {
    "collapsed": false
   }
  },
  {
   "cell_type": "code",
   "execution_count": 15,
   "metadata": {
    "collapsed": true,
    "ExecuteTime": {
     "end_time": "2023-06-05T10:28:29.988513100Z",
     "start_time": "2023-06-05T10:28:29.940511500Z"
    }
   },
   "outputs": [],
   "source": [
    "import pandas as pd\n",
    "import os"
   ]
  },
  {
   "cell_type": "markdown",
   "source": [
    "# Read data"
   ],
   "metadata": {
    "collapsed": false
   }
  },
  {
   "cell_type": "code",
   "execution_count": 16,
   "outputs": [
    {
     "data": {
      "text/plain": "   Unnamed: 0                                car_name car_prices_in_rupee  \\\n0           0  Jeep Compass 2.0 Longitude Option BSIV          10.03 Lakh   \n1           1            Renault Duster RXZ Turbo CVT          12.83 Lakh   \n2           2                      Toyota Camry 2.5 G          16.40 Lakh   \n3           3                       Honda Jazz VX CVT           7.77 Lakh   \n4           4        Volkswagen Polo 1.2 MPI Highline           5.15 Lakh   \n\n   kms_driven fuel_type transmission  ownership  manufacture   engine    Seats  \n0  86,226 kms    Diesel       Manual  1st Owner         2017  1956 cc  5 Seats  \n1  13,248 kms    Petrol    Automatic  1st Owner         2021  1330 cc  5 Seats  \n2  60,343 kms    Petrol    Automatic  1st Owner         2016  2494 cc  5 Seats  \n3  26,696 kms    Petrol    Automatic  1st Owner         2018  1199 cc  5 Seats  \n4  69,414 kms    Petrol       Manual  1st Owner         2016  1199 cc  5 Seats  ",
      "text/html": "<div>\n<style scoped>\n    .dataframe tbody tr th:only-of-type {\n        vertical-align: middle;\n    }\n\n    .dataframe tbody tr th {\n        vertical-align: top;\n    }\n\n    .dataframe thead th {\n        text-align: right;\n    }\n</style>\n<table border=\"1\" class=\"dataframe\">\n  <thead>\n    <tr style=\"text-align: right;\">\n      <th></th>\n      <th>Unnamed: 0</th>\n      <th>car_name</th>\n      <th>car_prices_in_rupee</th>\n      <th>kms_driven</th>\n      <th>fuel_type</th>\n      <th>transmission</th>\n      <th>ownership</th>\n      <th>manufacture</th>\n      <th>engine</th>\n      <th>Seats</th>\n    </tr>\n  </thead>\n  <tbody>\n    <tr>\n      <th>0</th>\n      <td>0</td>\n      <td>Jeep Compass 2.0 Longitude Option BSIV</td>\n      <td>10.03 Lakh</td>\n      <td>86,226 kms</td>\n      <td>Diesel</td>\n      <td>Manual</td>\n      <td>1st Owner</td>\n      <td>2017</td>\n      <td>1956 cc</td>\n      <td>5 Seats</td>\n    </tr>\n    <tr>\n      <th>1</th>\n      <td>1</td>\n      <td>Renault Duster RXZ Turbo CVT</td>\n      <td>12.83 Lakh</td>\n      <td>13,248 kms</td>\n      <td>Petrol</td>\n      <td>Automatic</td>\n      <td>1st Owner</td>\n      <td>2021</td>\n      <td>1330 cc</td>\n      <td>5 Seats</td>\n    </tr>\n    <tr>\n      <th>2</th>\n      <td>2</td>\n      <td>Toyota Camry 2.5 G</td>\n      <td>16.40 Lakh</td>\n      <td>60,343 kms</td>\n      <td>Petrol</td>\n      <td>Automatic</td>\n      <td>1st Owner</td>\n      <td>2016</td>\n      <td>2494 cc</td>\n      <td>5 Seats</td>\n    </tr>\n    <tr>\n      <th>3</th>\n      <td>3</td>\n      <td>Honda Jazz VX CVT</td>\n      <td>7.77 Lakh</td>\n      <td>26,696 kms</td>\n      <td>Petrol</td>\n      <td>Automatic</td>\n      <td>1st Owner</td>\n      <td>2018</td>\n      <td>1199 cc</td>\n      <td>5 Seats</td>\n    </tr>\n    <tr>\n      <th>4</th>\n      <td>4</td>\n      <td>Volkswagen Polo 1.2 MPI Highline</td>\n      <td>5.15 Lakh</td>\n      <td>69,414 kms</td>\n      <td>Petrol</td>\n      <td>Manual</td>\n      <td>1st Owner</td>\n      <td>2016</td>\n      <td>1199 cc</td>\n      <td>5 Seats</td>\n    </tr>\n  </tbody>\n</table>\n</div>"
     },
     "execution_count": 16,
     "metadata": {},
     "output_type": "execute_result"
    }
   ],
   "source": [
    "path ='../data/car_price.csv'\n",
    "df = pd.read_csv(path)\n",
    "df.head()"
   ],
   "metadata": {
    "collapsed": false,
    "ExecuteTime": {
     "end_time": "2023-06-05T10:28:30.037083Z",
     "start_time": "2023-06-05T10:28:29.952500800Z"
    }
   }
  },
  {
   "cell_type": "markdown",
   "source": [
    "# Describe data\n"
   ],
   "metadata": {
    "collapsed": false
   }
  },
  {
   "cell_type": "code",
   "execution_count": 19,
   "outputs": [
    {
     "name": "stdout",
     "output_type": "stream",
     "text": [
      "Shape of data:  (5512, 10)\n",
      "Columns of data:  Index(['Unnamed: 0', 'car_name', 'car_prices_in_rupee', 'kms_driven',\n",
      "       'fuel_type', 'transmission', 'ownership', 'manufacture', 'engine',\n",
      "       'Seats'],\n",
      "      dtype='object')\n",
      "Data types of data:  Unnamed: 0              int64\n",
      "car_name               object\n",
      "car_prices_in_rupee    object\n",
      "kms_driven             object\n",
      "fuel_type              object\n",
      "transmission           object\n",
      "ownership              object\n",
      "manufacture             int64\n",
      "engine                 object\n",
      "Seats                  object\n",
      "dtype: object\n",
      "Missing values of data:  Unnamed: 0             0\n",
      "car_name               0\n",
      "car_prices_in_rupee    0\n",
      "kms_driven             0\n",
      "fuel_type              0\n",
      "transmission           0\n",
      "ownership              0\n",
      "manufacture            0\n",
      "engine                 0\n",
      "Seats                  0\n",
      "dtype: int64\n",
      "Describe data:          Unnamed: 0  manufacture\n",
      "count  5512.000000  5512.000000\n",
      "mean   2755.500000  2015.455552\n",
      "std    1591.321673     3.927974\n",
      "min       0.000000  1995.000000\n",
      "25%    1377.750000  2013.000000\n",
      "50%    2755.500000  2016.000000\n",
      "75%    4133.250000  2018.000000\n",
      "max    5511.000000  2022.000000\n",
      "<class 'pandas.core.frame.DataFrame'>\n",
      "RangeIndex: 5512 entries, 0 to 5511\n",
      "Data columns (total 10 columns):\n",
      " #   Column               Non-Null Count  Dtype \n",
      "---  ------               --------------  ----- \n",
      " 0   Unnamed: 0           5512 non-null   int64 \n",
      " 1   car_name             5512 non-null   object\n",
      " 2   car_prices_in_rupee  5512 non-null   object\n",
      " 3   kms_driven           5512 non-null   object\n",
      " 4   fuel_type            5512 non-null   object\n",
      " 5   transmission         5512 non-null   object\n",
      " 6   ownership            5512 non-null   object\n",
      " 7   manufacture          5512 non-null   int64 \n",
      " 8   engine               5512 non-null   object\n",
      " 9   Seats                5512 non-null   object\n",
      "dtypes: int64(2), object(8)\n",
      "memory usage: 430.8+ KB\n",
      "Info data:  None\n"
     ]
    }
   ],
   "source": [
    "def describle_data(df):\n",
    "    print('Shape of data: ', df.shape)\n",
    "    print('Columns of data: ', df.columns)\n",
    "    print('Data types of data: ', df.dtypes)\n",
    "    print('Missing values of data: ', df.isnull().sum())\n",
    "    print('Describe data: ', df.describe())\n",
    "    print('Info data: ', df.info())\n",
    "describle_data(df)"
   ],
   "metadata": {
    "collapsed": false,
    "ExecuteTime": {
     "end_time": "2023-06-05T10:30:25.878741300Z",
     "start_time": "2023-06-05T10:30:25.855055100Z"
    }
   }
  },
  {
   "cell_type": "markdown",
   "source": [],
   "metadata": {
    "collapsed": false
   }
  }
 ],
 "metadata": {
  "kernelspec": {
   "display_name": "Python 3",
   "language": "python",
   "name": "python3"
  },
  "language_info": {
   "codemirror_mode": {
    "name": "ipython",
    "version": 2
   },
   "file_extension": ".py",
   "mimetype": "text/x-python",
   "name": "python",
   "nbconvert_exporter": "python",
   "pygments_lexer": "ipython2",
   "version": "2.7.6"
  }
 },
 "nbformat": 4,
 "nbformat_minor": 0
}
