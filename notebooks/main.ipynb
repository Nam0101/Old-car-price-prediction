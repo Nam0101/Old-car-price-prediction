{
 "cells": [
  {
   "attachments": {},
   "cell_type": "markdown",
   "metadata": {
    "collapsed": false
   },
   "source": [
    "# Import library"
   ]
  },
  {
   "cell_type": "code",
   "metadata": {
    "collapsed": true,
    "is_executing": true,
    "ExecuteTime": {
     "end_time": "2024-05-30T20:44:33.894739Z",
     "start_time": "2024-05-30T20:44:33.860977Z"
    }
   },
   "source": [
    "import copy\n",
    "import numpy as np\n",
    "import pandas as pd\n",
    "from sklearn.preprocessing import OneHotEncoder\n",
    "import matplotlib.pyplot as plt\n",
    "import seaborn as sns\n",
    "from sklearn.preprocessing import StandardScaler\n",
    "from sklearn.model_selection import train_test_split\n",
    "from sklearn.metrics import mean_squared_error\n",
    "from sklearn.linear_model import LinearRegression\n",
    "from sklearn import metrics\n",
    "import pickle\n",
    "import lightgbm as lgb\n",
    "import category_encoders as ce"
   ],
   "outputs": [],
   "execution_count": 128
  },
  {
   "attachments": {},
   "cell_type": "markdown",
   "metadata": {
    "collapsed": false
   },
   "source": [
    "# Load data"
   ]
  },
  {
   "cell_type": "code",
   "metadata": {
    "collapsed": false,
    "is_executing": true,
    "ExecuteTime": {
     "end_time": "2024-05-30T20:33:09.030842Z",
     "start_time": "2024-05-30T20:33:08.971525Z"
    }
   },
   "source": "df = pd.read_csv('../crawler/data_bonbanh.csv')",
   "outputs": [],
   "execution_count": 69
  },
  {
   "attachments": {},
   "cell_type": "markdown",
   "metadata": {
    "collapsed": false
   },
   "source": [
    "# Data overview"
   ]
  },
  {
   "cell_type": "code",
   "metadata": {
    "collapsed": false,
    "is_executing": true,
    "ExecuteTime": {
     "end_time": "2024-05-30T20:33:12.798067Z",
     "start_time": "2024-05-30T20:33:12.742606Z"
    }
   },
   "source": [
    "def describle_data():\n",
    "    print('Shape of data:\\n', df.shape)\n",
    "    print('--'*20)\n",
    "    print('Columns of data: \\n', df.columns)\n",
    "    print('--'*20)\n",
    "    print('Data types of data: \\n', df.dtypes)\n",
    "    print('--'*20)\n",
    "    print('Missing values of data: \\n', df.isna().sum())\n",
    "    print('--'*20)\n",
    "    print('Describe data: \\n', df.describe())\n",
    "    print('--'*20)\n",
    "    print('Info data: \\n', df.info())\n",
    "describle_data()"
   ],
   "outputs": [
    {
     "name": "stdout",
     "output_type": "stream",
     "text": [
      "Shape of data:\n",
      " (14212, 9)\n",
      "----------------------------------------\n",
      "Columns of data: \n",
      " Index(['car_name', 'year', 'price', 'assemble_place', 'series', 'km',\n",
      "       'engine_type', 'transmission', 'url'],\n",
      "      dtype='object')\n",
      "----------------------------------------\n",
      "Data types of data: \n",
      " car_name          object\n",
      "year              object\n",
      "price             object\n",
      "assemble_place    object\n",
      "series            object\n",
      "km                object\n",
      "engine_type       object\n",
      "transmission      object\n",
      "url               object\n",
      "dtype: object\n",
      "----------------------------------------\n",
      "Missing values of data: \n",
      " car_name          1\n",
      "year              0\n",
      "price             0\n",
      "assemble_place    0\n",
      "series            0\n",
      "km                0\n",
      "engine_type       0\n",
      "transmission      0\n",
      "url               0\n",
      "dtype: int64\n",
      "----------------------------------------\n",
      "Describe data: \n",
      "                             car_name   year      price      assemble_place  \\\n",
      "count                          14211  14212      14212               14212   \n",
      "unique                          1399     57       1573                   2   \n",
      "top     Mercedes Benz GLC 300 4Matic   2022  465 Triệu  Lắp ráp trong nước   \n",
      "freq                             276   2395        102                8137   \n",
      "\n",
      "       series     km  engine_type transmission  \\\n",
      "count   14212  14212        14212        14212   \n",
      "unique      9   1132           86            2   \n",
      "top       SUV   0 Km  Xăng  2.0 L   Số tự động   \n",
      "freq     5734   1592         3583        12710   \n",
      "\n",
      "                                                     url  \n",
      "count                                              14212  \n",
      "unique                                             14188  \n",
      "top     https://bonbanh.com/xe-lexus-es-250-2015-5637836  \n",
      "freq                                                   3  \n",
      "----------------------------------------\n",
      "<class 'pandas.core.frame.DataFrame'>\n",
      "RangeIndex: 14212 entries, 0 to 14211\n",
      "Data columns (total 9 columns):\n",
      " #   Column          Non-Null Count  Dtype \n",
      "---  ------          --------------  ----- \n",
      " 0   car_name        14211 non-null  object\n",
      " 1   year            14212 non-null  object\n",
      " 2   price           14212 non-null  object\n",
      " 3   assemble_place  14212 non-null  object\n",
      " 4   series          14212 non-null  object\n",
      " 5   km              14212 non-null  object\n",
      " 6   engine_type     14212 non-null  object\n",
      " 7   transmission    14212 non-null  object\n",
      " 8   url             14212 non-null  object\n",
      "dtypes: object(9)\n",
      "memory usage: 999.4+ KB\n",
      "Info data: \n",
      " None\n"
     ]
    }
   ],
   "execution_count": 70
  },
  {
   "attachments": {},
   "cell_type": "markdown",
   "metadata": {
    "collapsed": false
   },
   "source": [
    "# Xóa bỏ những xe bị trùng lặp"
   ]
  },
  {
   "attachments": {},
   "cell_type": "markdown",
   "metadata": {
    "collapsed": false
   },
   "source": []
  },
  {
   "cell_type": "code",
   "metadata": {
    "collapsed": false,
    "is_executing": true,
    "ExecuteTime": {
     "end_time": "2024-05-30T20:33:17.866285Z",
     "start_time": "2024-05-30T20:33:17.812246Z"
    }
   },
   "source": [
    "df.drop_duplicates(subset=['url'], inplace=True)\n",
    "describle_data()"
   ],
   "outputs": [
    {
     "name": "stdout",
     "output_type": "stream",
     "text": [
      "Shape of data:\n",
      " (14188, 9)\n",
      "----------------------------------------\n",
      "Columns of data: \n",
      " Index(['car_name', 'year', 'price', 'assemble_place', 'series', 'km',\n",
      "       'engine_type', 'transmission', 'url'],\n",
      "      dtype='object')\n",
      "----------------------------------------\n",
      "Data types of data: \n",
      " car_name          object\n",
      "year              object\n",
      "price             object\n",
      "assemble_place    object\n",
      "series            object\n",
      "km                object\n",
      "engine_type       object\n",
      "transmission      object\n",
      "url               object\n",
      "dtype: object\n",
      "----------------------------------------\n",
      "Missing values of data: \n",
      " car_name          1\n",
      "year              0\n",
      "price             0\n",
      "assemble_place    0\n",
      "series            0\n",
      "km                0\n",
      "engine_type       0\n",
      "transmission      0\n",
      "url               0\n",
      "dtype: int64\n",
      "----------------------------------------\n",
      "Describe data: \n",
      "                             car_name   year      price      assemble_place  \\\n",
      "count                          14187  14188      14188               14188   \n",
      "unique                          1399     57       1573                   2   \n",
      "top     Mercedes Benz GLC 300 4Matic   2022  495 Triệu  Lắp ráp trong nước   \n",
      "freq                             276   2390        101                8127   \n",
      "\n",
      "       series     km  engine_type transmission  \\\n",
      "count   14188  14188        14188        14188   \n",
      "unique      9   1132           86            2   \n",
      "top       SUV   0 Km  Xăng  2.0 L   Số tự động   \n",
      "freq     5723   1585         3578        12688   \n",
      "\n",
      "                                                      url  \n",
      "count                                               14188  \n",
      "unique                                              14188  \n",
      "top     https://bonbanh.com/xe-kia-sorento-signature-2...  \n",
      "freq                                                    1  \n",
      "----------------------------------------\n",
      "<class 'pandas.core.frame.DataFrame'>\n",
      "Index: 14188 entries, 0 to 14211\n",
      "Data columns (total 9 columns):\n",
      " #   Column          Non-Null Count  Dtype \n",
      "---  ------          --------------  ----- \n",
      " 0   car_name        14187 non-null  object\n",
      " 1   year            14188 non-null  object\n",
      " 2   price           14188 non-null  object\n",
      " 3   assemble_place  14188 non-null  object\n",
      " 4   series          14188 non-null  object\n",
      " 5   km              14188 non-null  object\n",
      " 6   engine_type     14188 non-null  object\n",
      " 7   transmission    14188 non-null  object\n",
      " 8   url             14188 non-null  object\n",
      "dtypes: object(9)\n",
      "memory usage: 1.1+ MB\n",
      "Info data: \n",
      " None\n"
     ]
    }
   ],
   "execution_count": 71
  },
  {
   "attachments": {},
   "cell_type": "markdown",
   "metadata": {
    "collapsed": false
   },
   "source": [
    "# Chuyển đổi kiểu dữ liệu cho các cột year, price sang kiểu số thực để có thể thực hiện các phép tính toán"
   ]
  },
  {
   "attachments": {},
   "cell_type": "markdown",
   "metadata": {
    "collapsed": false
   },
   "source": [
    "Year"
   ]
  },
  {
   "cell_type": "code",
   "metadata": {
    "collapsed": false,
    "is_executing": true,
    "ExecuteTime": {
     "end_time": "2024-05-30T20:33:21.651598Z",
     "start_time": "2024-05-30T20:33:21.622188Z"
    }
   },
   "source": [
    "def process_year_colum(year):\n",
    "    if year.isdigit():\n",
    "        return float(year)\n",
    "    else:\n",
    "        return 0\n",
    "df['year'] = df['year'].astype(str).apply(process_year_colum)\n",
    "describle_data()"
   ],
   "outputs": [
    {
     "name": "stdout",
     "output_type": "stream",
     "text": [
      "Shape of data:\n",
      " (14188, 9)\n",
      "----------------------------------------\n",
      "Columns of data: \n",
      " Index(['car_name', 'year', 'price', 'assemble_place', 'series', 'km',\n",
      "       'engine_type', 'transmission', 'url'],\n",
      "      dtype='object')\n",
      "----------------------------------------\n",
      "Data types of data: \n",
      " car_name           object\n",
      "year              float64\n",
      "price              object\n",
      "assemble_place     object\n",
      "series             object\n",
      "km                 object\n",
      "engine_type        object\n",
      "transmission       object\n",
      "url                object\n",
      "dtype: object\n",
      "----------------------------------------\n",
      "Missing values of data: \n",
      " car_name          1\n",
      "year              0\n",
      "price             0\n",
      "assemble_place    0\n",
      "series            0\n",
      "km                0\n",
      "engine_type       0\n",
      "transmission      0\n",
      "url               0\n",
      "dtype: int64\n",
      "----------------------------------------\n",
      "Describe data: \n",
      "                year\n",
      "count  14188.000000\n",
      "mean    1991.748802\n",
      "std      228.799373\n",
      "min        0.000000\n",
      "25%     2016.000000\n",
      "50%     2019.000000\n",
      "75%     2021.000000\n",
      "max     2024.000000\n",
      "----------------------------------------\n",
      "<class 'pandas.core.frame.DataFrame'>\n",
      "Index: 14188 entries, 0 to 14211\n",
      "Data columns (total 9 columns):\n",
      " #   Column          Non-Null Count  Dtype  \n",
      "---  ------          --------------  -----  \n",
      " 0   car_name        14187 non-null  object \n",
      " 1   year            14188 non-null  float64\n",
      " 2   price           14188 non-null  object \n",
      " 3   assemble_place  14188 non-null  object \n",
      " 4   series          14188 non-null  object \n",
      " 5   km              14188 non-null  object \n",
      " 6   engine_type     14188 non-null  object \n",
      " 7   transmission    14188 non-null  object \n",
      " 8   url             14188 non-null  object \n",
      "dtypes: float64(1), object(8)\n",
      "memory usage: 1.1+ MB\n",
      "Info data: \n",
      " None\n"
     ]
    }
   ],
   "execution_count": 72
  },
  {
   "attachments": {},
   "cell_type": "markdown",
   "metadata": {
    "collapsed": false
   },
   "source": [
    "Price"
   ]
  },
  {
   "cell_type": "code",
   "metadata": {
    "collapsed": false,
    "is_executing": true,
    "ExecuteTime": {
     "end_time": "2024-05-30T20:33:30.322391Z",
     "start_time": "2024-05-30T20:33:30.308031Z"
    }
   },
   "source": [
    "df.isna().sum()\n",
    "df.dropna(subset=['car_name'], inplace=True)"
   ],
   "outputs": [],
   "execution_count": 73
  },
  {
   "cell_type": "code",
   "metadata": {
    "collapsed": false,
    "is_executing": true,
    "ExecuteTime": {
     "end_time": "2024-05-30T20:33:33.221073Z",
     "start_time": "2024-05-30T20:33:33.197975Z"
    }
   },
   "source": [
    "def process_price(price):\n",
    "    try:\n",
    "        if price.find('Tỷ') != -1:\n",
    "            ty= price.split('Tỷ')[0]\n",
    "            trieu = price.split('Tỷ')[1]\n",
    "            trieu = trieu.split('Triệu')[0]\n",
    "            return float(ty)*1000000000 + float(trieu)*1000000\n",
    "        elif price.find('Triệu') != -1:\n",
    "            trieu = price.split('Triệu')[0]\n",
    "            trieu = trieu.replace(' ','')\n",
    "            return float(trieu)*1000000\n",
    "        else:\n",
    "            return 0\n",
    "    except:\n",
    "        return 0\n",
    "df['price'] = df['price'].astype(str).apply(process_price)"
   ],
   "outputs": [],
   "execution_count": 74
  },
  {
   "metadata": {
    "ExecuteTime": {
     "end_time": "2024-05-30T20:33:36.432558Z",
     "start_time": "2024-05-30T20:33:36.405886Z"
    }
   },
   "cell_type": "code",
   "source": [
    "# Remove 'Km' and commas from the 'km' column\n",
    "df['km'] = df['km'].str.replace('Km', '').str.replace(',', '')\n",
    "\n",
    "# Convert the 'km' column to numeric\n",
    "df['km'] = pd.to_numeric(df['km'])\n"
   ],
   "outputs": [],
   "execution_count": 75
  },
  {
   "cell_type": "code",
   "metadata": {
    "collapsed": false,
    "is_executing": true,
    "ExecuteTime": {
     "end_time": "2024-05-30T20:33:38.671897Z",
     "start_time": "2024-05-30T20:33:38.660834Z"
    }
   },
   "source": [
    "df['km'].describe()\n",
    "# lấy ra các xe có số km đi được nhỏ hơn 1000km\n",
    "print(df[df['km'] < 1000]['url'])"
   ],
   "outputs": [
    {
     "name": "stdout",
     "output_type": "stream",
     "text": [
      "1        https://bonbanh.com/xe-maserati-levante-s-gran...\n",
      "3        https://bonbanh.com/xe-toyota-land_cruiser-5.7...\n",
      "5        https://bonbanh.com/xe-ford-focus-titanium-2.0...\n",
      "8        https://bonbanh.com/xe-landrover-range_rover-a...\n",
      "10       https://bonbanh.com/xe-chevrolet-captiva-lt-2....\n",
      "                               ...                        \n",
      "14162    https://bonbanh.com/xe-toyota-venza-2.7-2009-5...\n",
      "14172    https://bonbanh.com/xe-kia-sedona-3.3-gat-prem...\n",
      "14178    https://bonbanh.com/xe-toyota-corolla_cross-1....\n",
      "14190    https://bonbanh.com/xe-mazda-cx5-2.0-luxury-20...\n",
      "14205    https://bonbanh.com/xe-mercedes_benz-glc-300-4...\n",
      "Name: url, Length: 1796, dtype: object\n"
     ]
    }
   ],
   "execution_count": 76
  },
  {
   "cell_type": "code",
   "metadata": {
    "ExecuteTime": {
     "end_time": "2024-05-30T21:59:47.647481Z",
     "start_time": "2024-05-30T21:59:47.501112Z"
    }
   },
   "source": [
    "#drop all rows with driven kms < 1000, nan values in all columns\n",
    "df.drop(df[df['km'] < 1000].index, inplace=True)\n",
    "df.dropna(inplace=True)\n",
    "df.isna().sum()"
   ],
   "outputs": [
    {
     "data": {
      "text/plain": [
       "year                            0.0\n",
       "price                           0.0\n",
       "assemble_place                  0.0\n",
       "km                              0.0\n",
       "transmission                    0.0\n",
       "brand                           0.0\n",
       "series_Bán tải / Pickup       0.0\n",
       "series_Convertible/Cabriolet    0.0\n",
       "series_Coupe                    0.0\n",
       "series_Crossover                0.0\n",
       "series_Hatchback                0.0\n",
       "series_SUV                      0.0\n",
       "series_Sedan                    0.0\n",
       "series_Truck                    0.0\n",
       "series_Van/Minivan              0.0\n",
       "engine_type_Dầu                 0.0\n",
       "engine_type_Hybrid              0.0\n",
       "engine_type_Xăng                0.0\n",
       "engine_type_Điện                0.0\n",
       "dtype: float64"
      ]
     },
     "execution_count": 136,
     "metadata": {},
     "output_type": "execute_result"
    }
   ],
   "execution_count": 136
  },
  {
   "cell_type": "code",
   "metadata": {
    "collapsed": false,
    "is_executing": true,
    "ExecuteTime": {
     "end_time": "2024-05-30T21:59:50.793993Z",
     "start_time": "2024-05-30T21:59:50.786047Z"
    }
   },
   "source": [
    "df['price'].describe()\n"
   ],
   "outputs": [
    {
     "data": {
      "text/plain": [
       "count    0.0\n",
       "mean     NaN\n",
       "std      NaN\n",
       "min      NaN\n",
       "25%      NaN\n",
       "50%      NaN\n",
       "75%      NaN\n",
       "max      NaN\n",
       "Name: price, dtype: float64"
      ]
     },
     "execution_count": 137,
     "metadata": {},
     "output_type": "execute_result"
    }
   ],
   "execution_count": 137
  },
  {
   "metadata": {
    "ExecuteTime": {
     "end_time": "2024-05-30T20:33:48.403440Z",
     "start_time": "2024-05-30T20:33:48.390982Z"
    }
   },
   "cell_type": "code",
   "source": [
    "#loại bỏ các xe có giá trị price = 0\n",
    "df.drop(df[df['price'] == 0].index, inplace=True)\n",
    "df['price'].describe()"
   ],
   "outputs": [
    {
     "data": {
      "text/plain": [
       "count    1.219500e+04\n",
       "mean     1.160486e+09\n",
       "std      1.639408e+09\n",
       "min      2.600000e+07\n",
       "25%      4.700000e+08\n",
       "50%      6.660000e+08\n",
       "75%      1.096500e+09\n",
       "max      4.380000e+10\n",
       "Name: price, dtype: float64"
      ]
     },
     "execution_count": 79,
     "metadata": {},
     "output_type": "execute_result"
    }
   ],
   "execution_count": 79
  },
  {
   "attachments": {},
   "cell_type": "markdown",
   "metadata": {
    "collapsed": false
   },
   "source": [
    "# Xử lý các cột dạng nhãn"
   ]
  },
  {
   "attachments": {},
   "cell_type": "markdown",
   "metadata": {
    "collapsed": false
   },
   "source": [
    "Car_name có hai phần là hãng xe và tên xe, ta sẽ tách ra thành hai cột là brand và model\n"
   ]
  },
  {
   "cell_type": "code",
   "metadata": {
    "collapsed": false,
    "is_executing": true,
    "ExecuteTime": {
     "end_time": "2024-05-30T20:33:53.465936Z",
     "start_time": "2024-05-30T20:33:53.238134Z"
    }
   },
   "source": [
    "df['brand'] = df['car_name'].str.split().str[0]\n",
    "df['model'] = df['car_name'].str.split().str[1:].str.join(' ')"
   ],
   "outputs": [],
   "execution_count": 80
  },
  {
   "cell_type": "code",
   "metadata": {
    "ExecuteTime": {
     "end_time": "2024-05-30T20:33:55.596044Z",
     "start_time": "2024-05-30T20:33:55.586108Z"
    }
   },
   "source": [
    "df['brand'].value_counts()"
   ],
   "outputs": [
    {
     "data": {
      "text/plain": [
       "brand\n",
       "Toyota         2425\n",
       "Mercedes       1582\n",
       "Hyundai        1359\n",
       "Kia            1096\n",
       "Ford           1053\n",
       "Mazda          1001\n",
       "Lexus           576\n",
       "Mitsubishi      496\n",
       "Honda           491\n",
       "VinFast         448\n",
       "BMW             261\n",
       "Porsche         218\n",
       "LandRover       202\n",
       "Peugeot         146\n",
       "Chevrolet       142\n",
       "Suzuki          105\n",
       "Audi            105\n",
       "Nissan           97\n",
       "MG               81\n",
       "Volkswagen       39\n",
       "Mini             33\n",
       "Bentley          30\n",
       "Daewoo           29\n",
       "Rolls            27\n",
       "Volvo            20\n",
       "Jeep             16\n",
       "Maserati         15\n",
       "Cadillac         15\n",
       "Infiniti         12\n",
       "Isuzu            11\n",
       "Jaguar           10\n",
       "Ssangyong         7\n",
       "Dongben           5\n",
       "Maybach           5\n",
       "Fiat              4\n",
       "Ferrari           4\n",
       "Renault           4\n",
       "Subaru            3\n",
       "Thaco             3\n",
       "Lamborghini       2\n",
       "Lincoln           2\n",
       "Hino              2\n",
       "Scion             2\n",
       "RAM               2\n",
       "Daihatsu          1\n",
       "Baic              1\n",
       "Chrysler          1\n",
       "McLaren           1\n",
       "Samsung           1\n",
       "Dongfeng          1\n",
       "Vinaxuki          1\n",
       "Gaz               1\n",
       "Teraco            1\n",
       "Name: count, dtype: int64"
      ]
     },
     "execution_count": 81,
     "metadata": {},
     "output_type": "execute_result"
    }
   ],
   "execution_count": 81
  },
  {
   "cell_type": "code",
   "metadata": {
    "collapsed": false,
    "is_executing": true,
    "ExecuteTime": {
     "end_time": "2024-05-30T20:32:08.079290Z",
     "start_time": "2024-05-30T20:32:08.038133Z"
    }
   },
   "source": [
    "df.head()"
   ],
   "outputs": [
    {
     "data": {
      "text/plain": [
       "                           car_name    year         price      assemble_place  \\\n",
       "0  Kia Sorento Signature 2.2 AT AWD  2020.0  8.990000e+08  Lắp ráp trong nước   \n",
       "2                  Kia Sorento GATH  2018.0  5.680000e+08  Lắp ráp trong nước   \n",
       "4             Mazda CX8 Premium AWD  2022.0  9.290000e+08  Lắp ráp trong nước   \n",
       "6              Nissan Almera 1.0 MT  2022.0  3.690000e+08           Nhập khẩu   \n",
       "7          Bentley Mulsanne 6.75 V8  2011.0  4.900000e+09           Nhập khẩu   \n",
       "\n",
       "  series     km  engine_type transmission  \\\n",
       "0    SUV  60000   Dầu  2.2 L   Số tự động   \n",
       "2    SUV  80000  Xăng  2.4 L   Số tự động   \n",
       "4    SUV  50000  Xăng  2.5 L   Số tự động   \n",
       "6  Sedan  25000  Xăng  1.0 L       Số tay   \n",
       "7  Sedan  80000  Xăng  6.8 L   Số tự động   \n",
       "\n",
       "                                                 url    brand  \\\n",
       "0  https://bonbanh.com/xe-kia-sorento-signature-2...      Kia   \n",
       "2  https://bonbanh.com/xe-kia-sorento-gath-2018-5...      Kia   \n",
       "4  https://bonbanh.com/xe-mazda-cx8-premium-awd-2...    Mazda   \n",
       "6  https://bonbanh.com/xe-nissan-almera-1.0-mt-20...   Nissan   \n",
       "7  https://bonbanh.com/xe-bentley-mulsanne-6.75-v...  Bentley   \n",
       "\n",
       "                          model  \n",
       "0  Sorento Signature 2.2 AT AWD  \n",
       "2                  Sorento GATH  \n",
       "4               CX8 Premium AWD  \n",
       "6                 Almera 1.0 MT  \n",
       "7              Mulsanne 6.75 V8  "
      ],
      "text/html": [
       "<div>\n",
       "<style scoped>\n",
       "    .dataframe tbody tr th:only-of-type {\n",
       "        vertical-align: middle;\n",
       "    }\n",
       "\n",
       "    .dataframe tbody tr th {\n",
       "        vertical-align: top;\n",
       "    }\n",
       "\n",
       "    .dataframe thead th {\n",
       "        text-align: right;\n",
       "    }\n",
       "</style>\n",
       "<table border=\"1\" class=\"dataframe\">\n",
       "  <thead>\n",
       "    <tr style=\"text-align: right;\">\n",
       "      <th></th>\n",
       "      <th>car_name</th>\n",
       "      <th>year</th>\n",
       "      <th>price</th>\n",
       "      <th>assemble_place</th>\n",
       "      <th>series</th>\n",
       "      <th>km</th>\n",
       "      <th>engine_type</th>\n",
       "      <th>transmission</th>\n",
       "      <th>url</th>\n",
       "      <th>brand</th>\n",
       "      <th>model</th>\n",
       "    </tr>\n",
       "  </thead>\n",
       "  <tbody>\n",
       "    <tr>\n",
       "      <th>0</th>\n",
       "      <td>Kia Sorento Signature 2.2 AT AWD</td>\n",
       "      <td>2020.0</td>\n",
       "      <td>8.990000e+08</td>\n",
       "      <td>Lắp ráp trong nước</td>\n",
       "      <td>SUV</td>\n",
       "      <td>60000</td>\n",
       "      <td>Dầu  2.2 L</td>\n",
       "      <td>Số tự động</td>\n",
       "      <td>https://bonbanh.com/xe-kia-sorento-signature-2...</td>\n",
       "      <td>Kia</td>\n",
       "      <td>Sorento Signature 2.2 AT AWD</td>\n",
       "    </tr>\n",
       "    <tr>\n",
       "      <th>2</th>\n",
       "      <td>Kia Sorento GATH</td>\n",
       "      <td>2018.0</td>\n",
       "      <td>5.680000e+08</td>\n",
       "      <td>Lắp ráp trong nước</td>\n",
       "      <td>SUV</td>\n",
       "      <td>80000</td>\n",
       "      <td>Xăng  2.4 L</td>\n",
       "      <td>Số tự động</td>\n",
       "      <td>https://bonbanh.com/xe-kia-sorento-gath-2018-5...</td>\n",
       "      <td>Kia</td>\n",
       "      <td>Sorento GATH</td>\n",
       "    </tr>\n",
       "    <tr>\n",
       "      <th>4</th>\n",
       "      <td>Mazda CX8 Premium AWD</td>\n",
       "      <td>2022.0</td>\n",
       "      <td>9.290000e+08</td>\n",
       "      <td>Lắp ráp trong nước</td>\n",
       "      <td>SUV</td>\n",
       "      <td>50000</td>\n",
       "      <td>Xăng  2.5 L</td>\n",
       "      <td>Số tự động</td>\n",
       "      <td>https://bonbanh.com/xe-mazda-cx8-premium-awd-2...</td>\n",
       "      <td>Mazda</td>\n",
       "      <td>CX8 Premium AWD</td>\n",
       "    </tr>\n",
       "    <tr>\n",
       "      <th>6</th>\n",
       "      <td>Nissan Almera 1.0 MT</td>\n",
       "      <td>2022.0</td>\n",
       "      <td>3.690000e+08</td>\n",
       "      <td>Nhập khẩu</td>\n",
       "      <td>Sedan</td>\n",
       "      <td>25000</td>\n",
       "      <td>Xăng  1.0 L</td>\n",
       "      <td>Số tay</td>\n",
       "      <td>https://bonbanh.com/xe-nissan-almera-1.0-mt-20...</td>\n",
       "      <td>Nissan</td>\n",
       "      <td>Almera 1.0 MT</td>\n",
       "    </tr>\n",
       "    <tr>\n",
       "      <th>7</th>\n",
       "      <td>Bentley Mulsanne 6.75 V8</td>\n",
       "      <td>2011.0</td>\n",
       "      <td>4.900000e+09</td>\n",
       "      <td>Nhập khẩu</td>\n",
       "      <td>Sedan</td>\n",
       "      <td>80000</td>\n",
       "      <td>Xăng  6.8 L</td>\n",
       "      <td>Số tự động</td>\n",
       "      <td>https://bonbanh.com/xe-bentley-mulsanne-6.75-v...</td>\n",
       "      <td>Bentley</td>\n",
       "      <td>Mulsanne 6.75 V8</td>\n",
       "    </tr>\n",
       "  </tbody>\n",
       "</table>\n",
       "</div>"
      ]
     },
     "execution_count": 18,
     "metadata": {},
     "output_type": "execute_result"
    }
   ],
   "execution_count": 18
  },
  {
   "attachments": {},
   "cell_type": "markdown",
   "metadata": {
    "collapsed": false
   },
   "source": [
    "# Xử lý các dữ liệu bị thiếu hoặc sai\n"
   ]
  },
  {
   "attachments": {},
   "cell_type": "markdown",
   "metadata": {
    "collapsed": false
   },
   "source": [
    "Xử lý cột year"
   ]
  },
  {
   "cell_type": "code",
   "metadata": {
    "collapsed": false,
    "is_executing": true,
    "ExecuteTime": {
     "end_time": "2024-05-30T20:34:00.355829Z",
     "start_time": "2024-05-30T20:34:00.348015Z"
    }
   },
   "source": [
    "car_before_1990 = df[df['year'] < 1990]\n",
    "print('Number of car before 1990: ', car_before_1990.shape[0])\n",
    "print('Number of car before 1990: ', car_before_1990['year'].value_counts())"
   ],
   "outputs": [
    {
     "name": "stdout",
     "output_type": "stream",
     "text": [
      "Number of car before 1990:  0\n",
      "Number of car before 1990:  Series([], Name: count, dtype: int64)\n"
     ]
    }
   ],
   "execution_count": 82
  },
  {
   "attachments": {},
   "cell_type": "markdown",
   "metadata": {
    "collapsed": false
   },
   "source": []
  },
  {
   "attachments": {},
   "cell_type": "markdown",
   "metadata": {
    "collapsed": false
   },
   "source": [
    "Điền các giá trị sai trong cột year bằng giá trị xuất hiện nhiều nhất trong cột year"
   ]
  },
  {
   "cell_type": "code",
   "metadata": {
    "collapsed": false,
    "is_executing": true,
    "ExecuteTime": {
     "end_time": "2024-05-30T20:34:03.639757Z",
     "start_time": "2024-05-30T20:34:03.631656Z"
    }
   },
   "source": [
    "df['year'] = df['year'].apply(lambda x: df['year'].value_counts().index[0] if x < 1990 else x)"
   ],
   "outputs": [],
   "execution_count": 83
  },
  {
   "attachments": {},
   "cell_type": "markdown",
   "metadata": {
    "collapsed": false
   },
   "source": [
    "Cột price: các giá trị bằng = 0 sẽ được thay thế bằng giá trung bình của các xe sản xuất trong năm đó"
   ]
  },
  {
   "cell_type": "code",
   "metadata": {
    "collapsed": false,
    "is_executing": true,
    "ExecuteTime": {
     "end_time": "2024-05-30T20:34:06.283837Z",
     "start_time": "2024-05-30T20:34:06.267286Z"
    }
   },
   "source": [
    "df['price'] = df['price'].apply(lambda x: df[df['year'] == x]['price'].mean() if x == 0 else x)\n",
    "df['price'].describe()"
   ],
   "outputs": [
    {
     "data": {
      "text/plain": [
       "count    1.219500e+04\n",
       "mean     1.160486e+09\n",
       "std      1.639408e+09\n",
       "min      2.600000e+07\n",
       "25%      4.700000e+08\n",
       "50%      6.660000e+08\n",
       "75%      1.096500e+09\n",
       "max      4.380000e+10\n",
       "Name: price, dtype: float64"
      ]
     },
     "execution_count": 84,
     "metadata": {},
     "output_type": "execute_result"
    }
   ],
   "execution_count": 84
  },
  {
   "attachments": {},
   "cell_type": "markdown",
   "metadata": {
    "collapsed": false
   },
   "source": [
    "Cột brand"
   ]
  },
  {
   "cell_type": "code",
   "metadata": {
    "collapsed": false,
    "is_executing": true,
    "ExecuteTime": {
     "end_time": "2024-05-30T20:34:10.352555Z",
     "start_time": "2024-05-30T20:34:10.343891Z"
    }
   },
   "source": [
    "df['brand'].value_counts()"
   ],
   "outputs": [
    {
     "data": {
      "text/plain": [
       "brand\n",
       "Toyota         2425\n",
       "Mercedes       1582\n",
       "Hyundai        1359\n",
       "Kia            1096\n",
       "Ford           1053\n",
       "Mazda          1001\n",
       "Lexus           576\n",
       "Mitsubishi      496\n",
       "Honda           491\n",
       "VinFast         448\n",
       "BMW             261\n",
       "Porsche         218\n",
       "LandRover       202\n",
       "Peugeot         146\n",
       "Chevrolet       142\n",
       "Suzuki          105\n",
       "Audi            105\n",
       "Nissan           97\n",
       "MG               81\n",
       "Volkswagen       39\n",
       "Mini             33\n",
       "Bentley          30\n",
       "Daewoo           29\n",
       "Rolls            27\n",
       "Volvo            20\n",
       "Jeep             16\n",
       "Maserati         15\n",
       "Cadillac         15\n",
       "Infiniti         12\n",
       "Isuzu            11\n",
       "Jaguar           10\n",
       "Ssangyong         7\n",
       "Dongben           5\n",
       "Maybach           5\n",
       "Fiat              4\n",
       "Ferrari           4\n",
       "Renault           4\n",
       "Subaru            3\n",
       "Thaco             3\n",
       "Lamborghini       2\n",
       "Lincoln           2\n",
       "Hino              2\n",
       "Scion             2\n",
       "RAM               2\n",
       "Daihatsu          1\n",
       "Baic              1\n",
       "Chrysler          1\n",
       "McLaren           1\n",
       "Samsung           1\n",
       "Dongfeng          1\n",
       "Vinaxuki          1\n",
       "Gaz               1\n",
       "Teraco            1\n",
       "Name: count, dtype: int64"
      ]
     },
     "execution_count": 85,
     "metadata": {},
     "output_type": "execute_result"
    }
   ],
   "execution_count": 85
  },
  {
   "attachments": {},
   "cell_type": "markdown",
   "metadata": {
    "collapsed": false
   },
   "source": [
    "Cột brand có một số hãng có số lượng xe rất ít hoặc bị thiếu, ta sẽ gộp các hãng xe này thành một nhóm là 'other'\n",
    "Nếu số xe của hãng đó nhỏ hơn 10 thì sẽ gộp vào nhóm 'Other'"
   ]
  },
  {
   "cell_type": "code",
   "metadata": {
    "collapsed": false,
    "is_executing": true,
    "ExecuteTime": {
     "end_time": "2024-05-30T20:34:18.547024Z",
     "start_time": "2024-05-30T20:34:18.533686Z"
    }
   },
   "source": [
    "threshold = 10\n",
    "car_count = df['brand'].value_counts()\n",
    "small_brands = car_count[car_count < threshold].index.tolist()\n",
    "df['brand'] = df['brand'].apply(lambda x: 'Other' if x in small_brands else x)\n",
    "df['brand'].fillna('Other', inplace=True)"
   ],
   "outputs": [],
   "execution_count": 86
  },
  {
   "cell_type": "code",
   "metadata": {
    "ExecuteTime": {
     "end_time": "2024-05-30T20:34:20.769781Z",
     "start_time": "2024-05-30T20:34:20.759243Z"
    }
   },
   "source": [
    "# in ra tất cả brand\n",
    "# sắp xếp theo thứ tự giảm dần về giá trung bình\n",
    "print(df.groupby('brand')['price'].mean().sort_values(ascending=False))\n"
   ],
   "outputs": [
    {
     "name": "stdout",
     "output_type": "stream",
     "text": [
      "brand\n",
      "Rolls         1.567563e+10\n",
      "Bentley       5.436433e+09\n",
      "Porsche       3.769440e+09\n",
      "LandRover     3.488574e+09\n",
      "Lexus         3.280689e+09\n",
      "Maserati      3.246600e+09\n",
      "Other         3.190852e+09\n",
      "Cadillac      2.918267e+09\n",
      "Volvo         2.740050e+09\n",
      "Jeep          2.654688e+09\n",
      "Mercedes      1.897352e+09\n",
      "Jaguar        1.548800e+09\n",
      "Mini          1.501061e+09\n",
      "BMW           1.437004e+09\n",
      "Audi          1.133371e+09\n",
      "Infiniti      1.050250e+09\n",
      "Toyota        8.939118e+08\n",
      "Volkswagen    8.273846e+08\n",
      "Peugeot       7.799247e+08\n",
      "Ford          7.532536e+08\n",
      "Hyundai       6.230787e+08\n",
      "Mazda         6.160559e+08\n",
      "Honda         5.976497e+08\n",
      "Kia           5.950712e+08\n",
      "VinFast       5.875848e+08\n",
      "Mitsubishi    5.188448e+08\n",
      "MG            4.642840e+08\n",
      "Nissan        4.599278e+08\n",
      "Isuzu         4.460909e+08\n",
      "Suzuki        3.879619e+08\n",
      "Chevrolet     3.207535e+08\n",
      "Daewoo        1.451724e+08\n",
      "Name: price, dtype: float64\n"
     ]
    }
   ],
   "execution_count": 87
  },
  {
   "cell_type": "code",
   "metadata": {
    "ExecuteTime": {
     "end_time": "2024-05-30T20:32:09.210587Z",
     "start_time": "2024-05-30T20:32:09.189562Z"
    }
   },
   "source": [
    "# def car_band(x):\n",
    "#     if x in ['Land', 'Lamborghini', 'Jaguar', 'BMW', 'Mercedes', 'Porsche','Jeep',\n",
    "#        'Audi', 'Bentley','Mini','LandRover','Lexus','Maserati','Rolls','Ferrari','Aston','Lincoln','Maserati','Cadillac']:\n",
    "#         return 'HIGH END CAR'    \n",
    "#     elif x in ['Ford',\n",
    "#             'Skoda',\n",
    "#          'Mahindra',\n",
    "#             'Force',\n",
    "#        'Mitsubishi',\n",
    "#            'Toyota',\n",
    "#             'ISUZU',\n",
    "#            'Volvo',\n",
    "#           'Isuzu','Other']:\n",
    "#         return 'MIDDLE RANGE CAR'\n",
    "#     else:\n",
    "#         return 'LOW END CAR'\n",
    "# df['brand']=df['brand'].apply(car_band)\n",
    "# def car_band(x):\n",
    "#     if x in ['Rolls', 'Bentley', 'Ferrari','Lincoln','Porsche','LandRover','Lexus','Jeep']:\n",
    "#         return 'LUXURY CAR'\n",
    "#     elif x in ['Maserati', 'Cadillac', 'Lincoln', 'Mercedes', 'Audi', 'BMW', 'Volvo']:\n",
    "#         return 'PREMIUM CAR'\n",
    "#     elif x in ['VW', 'Seat', 'Ford', 'Opel','VinFast','Mazda','Honda','Hyundai','Kia','Chevrolet','Toyota','Suzuki','Nissan','Renault','Other']:\n",
    "#         return 'VOLUME CAR'\n",
    "#     else:\n",
    "#         return 'LOW-PRICE CAR'\n",
    "# def car_band(x):\n",
    "#     if x in ['Rolls-Royce', 'Bentley', 'Lincoln', 'Land Rover', 'Porsche', 'Maserati', 'Lexus', 'Jeep', 'Cadillac']:\n",
    "#         return 'LUXURY CAR'\n",
    "#     elif x in ['Mini', 'BMW', 'Audi', 'Volvo', 'Mercedes-Benz', 'Infiniti', 'Jaguar','Other']:\n",
    "#         return 'PREMIUM CAR'\n",
    "#     elif x in ['Subaru', 'Volkswagen', 'Peugeot', 'Toyota', 'Ford', 'VinFast', 'Mazda', 'Hyundai', 'Honda']:\n",
    "#         return 'VOLUME CAR'\n",
    "#     else:\n",
    "#         return 'LOW-PRICE CAR'\n",
    "def car_band(x):\n",
    "    if x in ['Rolls', 'Bentley', 'Lincoln', 'LandRover', 'Porsche', 'Maserati', 'Lexus', 'Jeep', 'Cadillac']:\n",
    "        return 'LUXURY'\n",
    "    elif x in ['Other', 'Volvo', 'Mercedes', 'Infiniti', 'Jaguar', 'Mini', 'BMW', 'Audi']:\n",
    "        return 'PREMIUM'\n",
    "    elif x in ['Subaru', 'Volkswagen', 'Peugeot', 'Toyota', 'Ford', 'VinFast', 'Mazda', 'Hyundai', 'Honda','MG','Mitsubishi']:\n",
    "        return 'VOLUME'\n",
    "    else:\n",
    "        return 'LOWEND'\n",
    "\n",
    "df['brand_segment'] = df['brand'].apply(car_band)\n",
    "df.drop(columns=['brand'], inplace=True)\n",
    "df['brand_segment'].value_counts()\n"
   ],
   "outputs": [
    {
     "data": {
      "text/plain": [
       "brand_segment\n",
       "VOLUME     7539\n",
       "PREMIUM    2077\n",
       "LOWEND     1480\n",
       "LUXURY     1099\n",
       "Name: count, dtype: int64"
      ]
     },
     "execution_count": 25,
     "metadata": {},
     "output_type": "execute_result"
    }
   ],
   "execution_count": 25
  },
  {
   "attachments": {},
   "cell_type": "markdown",
   "metadata": {
    "collapsed": false
   },
   "source": [
    "Cột series: ta thấy các giá trị của cột series có giá trị nan, ta sẽ điền các giá trị này bằng giá trị xuất hiện nhiều nhất trong cột series"
   ]
  },
  {
   "cell_type": "code",
   "metadata": {
    "collapsed": false,
    "is_executing": true,
    "ExecuteTime": {
     "end_time": "2024-05-30T20:34:35.966532Z",
     "start_time": "2024-05-30T20:34:35.951530Z"
    }
   },
   "source": [
    "df['series'] = df['series'].apply(lambda x: df['series'].value_counts().index[0] if x == '-' else x)\n",
    "df['series'].fillna(df['series'].value_counts().index[0], inplace=True)"
   ],
   "outputs": [],
   "execution_count": 88
  },
  {
   "cell_type": "code",
   "metadata": {
    "collapsed": false,
    "is_executing": true,
    "ExecuteTime": {
     "end_time": "2024-05-30T20:34:38.091895Z",
     "start_time": "2024-05-30T20:34:38.083428Z"
    }
   },
   "source": [
    "df['series'].isna().sum()"
   ],
   "outputs": [
    {
     "data": {
      "text/plain": [
       "0"
      ]
     },
     "execution_count": 89,
     "metadata": {},
     "output_type": "execute_result"
    }
   ],
   "execution_count": 89
  },
  {
   "attachments": {},
   "cell_type": "markdown",
   "metadata": {
    "collapsed": false
   },
   "source": [
    "Cột engine_type: ta thấy có một vài giá trị bị thiếu, ta sẽ điền các giá trị này bằng giá trị xuất hiện nhiều nhất trong cột engine_type"
   ]
  },
  {
   "cell_type": "code",
   "metadata": {
    "collapsed": false,
    "is_executing": true,
    "ExecuteTime": {
     "end_time": "2024-05-30T20:34:41.798252Z",
     "start_time": "2024-05-30T20:34:41.786333Z"
    }
   },
   "source": [
    "df['engine_type'] = df['engine_type'].apply(lambda x: df['engine_type'].value_counts().index[0] if x == '-' else x)\n",
    "df['engine_type'].fillna(df['engine_type'].value_counts().index[0], inplace=True)"
   ],
   "outputs": [],
   "execution_count": 90
  },
  {
   "cell_type": "code",
   "metadata": {
    "collapsed": false,
    "is_executing": true,
    "ExecuteTime": {
     "end_time": "2024-05-30T20:34:43.876001Z",
     "start_time": "2024-05-30T20:34:43.868467Z"
    }
   },
   "source": [
    "df['engine_type'].isna().sum()"
   ],
   "outputs": [
    {
     "data": {
      "text/plain": [
       "0"
      ]
     },
     "execution_count": 91,
     "metadata": {},
     "output_type": "execute_result"
    }
   ],
   "execution_count": 91
  },
  {
   "attachments": {},
   "cell_type": "markdown",
   "metadata": {
    "collapsed": false
   },
   "source": [
    "Cột transmission tương tự cột engine_type"
   ]
  },
  {
   "cell_type": "code",
   "metadata": {
    "collapsed": false,
    "is_executing": true,
    "ExecuteTime": {
     "end_time": "2024-05-30T20:34:52.351110Z",
     "start_time": "2024-05-30T20:34:52.341707Z"
    }
   },
   "source": [
    "df['transmission'] = df['transmission'].apply(lambda x: df['transmission'].value_counts().index[0] if x == '-' else x)\n",
    "df['transmission'].fillna(df['transmission'].value_counts().index[0], inplace=True)"
   ],
   "outputs": [],
   "execution_count": 92
  },
  {
   "cell_type": "code",
   "metadata": {
    "collapsed": false,
    "is_executing": true,
    "ExecuteTime": {
     "end_time": "2024-05-30T20:32:09.804859Z",
     "start_time": "2024-05-30T20:32:09.798057Z"
    }
   },
   "source": [
    "df['transmission'].isna().sum()"
   ],
   "outputs": [
    {
     "data": {
      "text/plain": [
       "0"
      ]
     },
     "execution_count": 31,
     "metadata": {},
     "output_type": "execute_result"
    }
   ],
   "execution_count": 31
  },
  {
   "metadata": {
    "ExecuteTime": {
     "end_time": "2024-05-30T20:34:55.498466Z",
     "start_time": "2024-05-30T20:34:55.481972Z"
    }
   },
   "cell_type": "code",
   "source": "df['engine_type'] = df['engine_type'].str.split().str[0]#%% md\n",
   "outputs": [],
   "execution_count": 93
  },
  {
   "metadata": {
    "ExecuteTime": {
     "end_time": "2024-05-30T20:34:57.181486Z",
     "start_time": "2024-05-30T20:34:57.171326Z"
    }
   },
   "cell_type": "code",
   "source": "df['engine_type'].value_counts()",
   "outputs": [
    {
     "data": {
      "text/plain": [
       "engine_type\n",
       "Xăng      10264\n",
       "Dầu        1724\n",
       "Hybrid      131\n",
       "Điện         76\n",
       "Name: count, dtype: int64"
      ]
     },
     "execution_count": 94,
     "metadata": {},
     "output_type": "execute_result"
    }
   ],
   "execution_count": 94
  },
  {
   "attachments": {},
   "cell_type": "markdown",
   "metadata": {
    "collapsed": false
   },
   "source": [
    "Tìm hiểu về mối liên hệ giữa giá xe và các thuộc tính khác"
   ]
  },
  {
   "cell_type": "code",
   "metadata": {
    "collapsed": false,
    "is_executing": true,
    "ExecuteTime": {
     "end_time": "2024-05-30T20:35:20.233039Z",
     "start_time": "2024-05-30T20:35:18.480514Z"
    }
   },
   "source": [
    "#vẽ price theo brand, series,year\n",
    "plt.figure(figsize=(20, 10))\n",
    "sns.barplot(x='brand', y='price', data=df)\n",
    "plt.title('Price by brand')\n",
    "plt.xticks(rotation=90)\n",
    "plt.show()"
   ],
   "outputs": [
    {
     "data": {
      "text/plain": [
       "<Figure size 2000x1000 with 1 Axes>"
      ],
      "image/png": "[encoded data removed]"
     },
     "metadata": {},
     "output_type": "display_data"
    }
   ],
   "execution_count": 97
  },
  {
   "cell_type": "code",
   "metadata": {
    "collapsed": false,
    "is_executing": true,
    "ExecuteTime": {
     "end_time": "2024-05-30T20:35:31.982303Z",
     "start_time": "2024-05-30T20:35:31.126244Z"
    }
   },
   "source": [
    "plt.figure(figsize=(20, 10))\n",
    "sns.barplot(x='series', y='price', data=df)\n",
    "plt.title('Price by series')\n",
    "plt.xticks(rotation=90)\n",
    "plt.show()"
   ],
   "outputs": [
    {
     "data": {
      "text/plain": [
       "<Figure size 2000x1000 with 1 Axes>"
      ],
      "image/png": "[encoded data removed]"
     },
     "metadata": {},
     "output_type": "display_data"
    }
   ],
   "execution_count": 98
  },
  {
   "cell_type": "code",
   "metadata": {
    "collapsed": false,
    "is_executing": true,
    "ExecuteTime": {
     "end_time": "2024-05-30T20:35:36.914115Z",
     "start_time": "2024-05-30T20:35:35.474509Z"
    }
   },
   "source": [
    "plt.figure(figsize=(20, 10))\n",
    "#đổi năm sản xuất thành tuổi xe\n",
    "df['year'] = 2024 - df['year']\n",
    "sns.barplot(x='year', y='price', data=df)\n",
    "plt.title('Price by year')\n",
    "plt.xticks(rotation=90)\n",
    "plt.show()"
   ],
   "outputs": [
    {
     "data": {
      "text/plain": [
       "<Figure size 2000x1000 with 1 Axes>"
      ],
      "image/png": "[encoded data removed]"
     },
     "metadata": {},
     "output_type": "display_data"
    }
   ],
   "execution_count": 99
  },
  {
   "cell_type": "code",
   "metadata": {
    "collapsed": false,
    "is_executing": true,
    "ExecuteTime": {
     "end_time": "2024-05-30T20:35:43.686535Z",
     "start_time": "2024-05-30T20:35:43.070282Z"
    }
   },
   "source": [
    "plt.figure(figsize=(20, 10))\n",
    "sns.barplot(x='engine_type', y='price', data=df)\n",
    "plt.title('Price by engine_type')\n",
    "plt.xticks(rotation=90)\n",
    "plt.show()\n"
   ],
   "outputs": [
    {
     "data": {
      "text/plain": [
       "<Figure size 2000x1000 with 1 Axes>"
      ],
      "image/png": "[encoded data removed]"
     },
     "metadata": {},
     "output_type": "display_data"
    }
   ],
   "execution_count": 100
  },
  {
   "cell_type": "code",
   "metadata": {
    "collapsed": false,
    "is_executing": true,
    "ExecuteTime": {
     "end_time": "2024-05-30T20:35:48.057230Z",
     "start_time": "2024-05-30T20:35:47.160673Z"
    }
   },
   "source": [
    "plt.figure(figsize=(20, 10))\n",
    "plt.subplot(1, 2, 1)\n",
    "sns.barplot(x='transmission', y='price', data=df)\n",
    "plt.title('Price by transmission')\n",
    "plt.xticks(rotation=90)\n",
    "plt.subplot(1, 2, 2)\n",
    "sns.barplot(x='assemble_place', y='price', data=df)\n",
    "plt.show()"
   ],
   "outputs": [
    {
     "data": {
      "text/plain": [
       "<Figure size 2000x1000 with 2 Axes>"
      ],
      "image/png": "[encoded data removed]"
     },
     "metadata": {},
     "output_type": "display_data"
    }
   ],
   "execution_count": 101
  },
  {
   "attachments": {},
   "cell_type": "markdown",
   "metadata": {
    "collapsed": false
   },
   "source": []
  },
  {
   "attachments": {},
   "cell_type": "markdown",
   "metadata": {
    "collapsed": false
   },
   "source": [
    "# Tìm hiểu về mối liên hệ giữa các thuộc tính với nhau"
   ]
  },
  {
   "cell_type": "code",
   "metadata": {
    "collapsed": false,
    "is_executing": true,
    "ExecuteTime": {
     "end_time": "2024-05-30T20:35:51.857950Z",
     "start_time": "2024-05-30T20:35:51.342524Z"
    }
   },
   "source": [
    "#vẽ biểu đồ nhiệt giữa price và các thuộc tính trừ model\n",
    "plt.figure(figsize=(20, 10))\n",
    "numeric_cols = df.select_dtypes(include=['float64', 'int64'])\n",
    "sns.heatmap(numeric_cols.corr(), annot=True)\n",
    "plt.show()"
   ],
   "outputs": [
    {
     "data": {
      "text/plain": [
       "<Figure size 2000x1000 with 2 Axes>"
      ],
      "image/png": "[encoded data removed]"
     },
     "metadata": {},
     "output_type": "display_data"
    }
   ],
   "execution_count": 102
  },
  {
   "attachments": {},
   "cell_type": "markdown",
   "metadata": {
    "collapsed": false
   },
   "source": [
    "# Mã hóa các cột dạng nhãn thành dạng số để có thể sử dụng cho mô hình học máy"
   ]
  },
  {
   "attachments": {},
   "cell_type": "markdown",
   "metadata": {
    "collapsed": false
   },
   "source": [
    "Cột assemble_place chỉ có 2 giá trị là 'Lắp ráp trong nước' và 'Nhập khẩu', ta sẽ mã hóa thành 0 và 1"
   ]
  },
  {
   "cell_type": "code",
   "metadata": {
    "collapsed": false,
    "is_executing": true,
    "ExecuteTime": {
     "end_time": "2024-05-30T20:36:10.552416Z",
     "start_time": "2024-05-30T20:36:10.545312Z"
    }
   },
   "source": [
    "df['assemble_place'] = df['assemble_place'].map({'Lắp ráp trong nước': 0, 'Nhập khẩu': 1})"
   ],
   "outputs": [],
   "execution_count": 103
  },
  {
   "metadata": {
    "ExecuteTime": {
     "end_time": "2024-05-30T20:36:12.644509Z",
     "start_time": "2024-05-30T20:36:12.636721Z"
    }
   },
   "cell_type": "code",
   "source": "df['transmission'] = df['transmission'].map({'Số tự động': 0, 'Số tay': 1})",
   "outputs": [],
   "execution_count": 104
  },
  {
   "cell_type": "code",
   "metadata": {
    "collapsed": false,
    "is_executing": true,
    "ExecuteTime": {
     "end_time": "2024-05-30T20:36:14.558349Z",
     "start_time": "2024-05-30T20:36:14.552049Z"
    }
   },
   "source": [
    "df['assemble_place'].value_counts()"
   ],
   "outputs": [
    {
     "data": {
      "text/plain": [
       "assemble_place\n",
       "0    7046\n",
       "1    5149\n",
       "Name: count, dtype: int64"
      ]
     },
     "execution_count": 105,
     "metadata": {},
     "output_type": "execute_result"
    }
   ],
   "execution_count": 105
  },
  {
   "attachments": {},
   "cell_type": "markdown",
   "metadata": {
    "collapsed": false
   },
   "source": [
    "Cột brand sẽ được mã hóa bằng phương pháp One-hot encoding"
   ]
  },
  {
   "cell_type": "code",
   "metadata": {
    "collapsed": false,
    "is_executing": true,
    "ExecuteTime": {
     "end_time": "2024-05-30T20:32:13.829373Z",
     "start_time": "2024-05-30T20:32:13.811109Z"
    }
   },
   "source": [
    "# one_hot = OneHotEncoder()\n",
    "# one_hot.fit(df[['brand_segment']])\n",
    "# one_hot_brand = pd.get_dummies(df['brand_segment'], prefix='brand_segment')\n",
    "# df = pd.concat([df, one_hot_brand], axis=1)\n",
    "# df.drop('brand_segment', axis=1, inplace=True)\n",
    "# df.head()"
   ],
   "outputs": [
    {
     "data": {
      "text/plain": [
       "                           car_name  year         price  assemble_place  \\\n",
       "0  Kia Sorento Signature 2.2 AT AWD   4.0  8.990000e+08               0   \n",
       "2                  Kia Sorento GATH   6.0  5.680000e+08               0   \n",
       "4             Mazda CX8 Premium AWD   2.0  9.290000e+08               0   \n",
       "6              Nissan Almera 1.0 MT   2.0  3.690000e+08               1   \n",
       "7          Bentley Mulsanne 6.75 V8  13.0  4.900000e+09               1   \n",
       "\n",
       "  series     km engine_type  transmission  \\\n",
       "0    SUV  60000         Dầu             0   \n",
       "2    SUV  80000        Xăng             0   \n",
       "4    SUV  50000        Xăng             0   \n",
       "6  Sedan  25000        Xăng             1   \n",
       "7  Sedan  80000        Xăng             0   \n",
       "\n",
       "                                                 url  \\\n",
       "0  https://bonbanh.com/xe-kia-sorento-signature-2...   \n",
       "2  https://bonbanh.com/xe-kia-sorento-gath-2018-5...   \n",
       "4  https://bonbanh.com/xe-mazda-cx8-premium-awd-2...   \n",
       "6  https://bonbanh.com/xe-nissan-almera-1.0-mt-20...   \n",
       "7  https://bonbanh.com/xe-bentley-mulsanne-6.75-v...   \n",
       "\n",
       "                          model  brand_segment_LOWEND  brand_segment_LUXURY  \\\n",
       "0  Sorento Signature 2.2 AT AWD                  True                 False   \n",
       "2                  Sorento GATH                  True                 False   \n",
       "4               CX8 Premium AWD                 False                 False   \n",
       "6                 Almera 1.0 MT                  True                 False   \n",
       "7              Mulsanne 6.75 V8                 False                  True   \n",
       "\n",
       "   brand_segment_PREMIUM  brand_segment_VOLUME  \n",
       "0                  False                 False  \n",
       "2                  False                 False  \n",
       "4                  False                  True  \n",
       "6                  False                 False  \n",
       "7                  False                 False  "
      ],
      "text/html": [
       "<div>\n",
       "<style scoped>\n",
       "    .dataframe tbody tr th:only-of-type {\n",
       "        vertical-align: middle;\n",
       "    }\n",
       "\n",
       "    .dataframe tbody tr th {\n",
       "        vertical-align: top;\n",
       "    }\n",
       "\n",
       "    .dataframe thead th {\n",
       "        text-align: right;\n",
       "    }\n",
       "</style>\n",
       "<table border=\"1\" class=\"dataframe\">\n",
       "  <thead>\n",
       "    <tr style=\"text-align: right;\">\n",
       "      <th></th>\n",
       "      <th>car_name</th>\n",
       "      <th>year</th>\n",
       "      <th>price</th>\n",
       "      <th>assemble_place</th>\n",
       "      <th>series</th>\n",
       "      <th>km</th>\n",
       "      <th>engine_type</th>\n",
       "      <th>transmission</th>\n",
       "      <th>url</th>\n",
       "      <th>model</th>\n",
       "      <th>brand_segment_LOWEND</th>\n",
       "      <th>brand_segment_LUXURY</th>\n",
       "      <th>brand_segment_PREMIUM</th>\n",
       "      <th>brand_segment_VOLUME</th>\n",
       "    </tr>\n",
       "  </thead>\n",
       "  <tbody>\n",
       "    <tr>\n",
       "      <th>0</th>\n",
       "      <td>Kia Sorento Signature 2.2 AT AWD</td>\n",
       "      <td>4.0</td>\n",
       "      <td>8.990000e+08</td>\n",
       "      <td>0</td>\n",
       "      <td>SUV</td>\n",
       "      <td>60000</td>\n",
       "      <td>Dầu</td>\n",
       "      <td>0</td>\n",
       "      <td>https://bonbanh.com/xe-kia-sorento-signature-2...</td>\n",
       "      <td>Sorento Signature 2.2 AT AWD</td>\n",
       "      <td>True</td>\n",
       "      <td>False</td>\n",
       "      <td>False</td>\n",
       "      <td>False</td>\n",
       "    </tr>\n",
       "    <tr>\n",
       "      <th>2</th>\n",
       "      <td>Kia Sorento GATH</td>\n",
       "      <td>6.0</td>\n",
       "      <td>5.680000e+08</td>\n",
       "      <td>0</td>\n",
       "      <td>SUV</td>\n",
       "      <td>80000</td>\n",
       "      <td>Xăng</td>\n",
       "      <td>0</td>\n",
       "      <td>https://bonbanh.com/xe-kia-sorento-gath-2018-5...</td>\n",
       "      <td>Sorento GATH</td>\n",
       "      <td>True</td>\n",
       "      <td>False</td>\n",
       "      <td>False</td>\n",
       "      <td>False</td>\n",
       "    </tr>\n",
       "    <tr>\n",
       "      <th>4</th>\n",
       "      <td>Mazda CX8 Premium AWD</td>\n",
       "      <td>2.0</td>\n",
       "      <td>9.290000e+08</td>\n",
       "      <td>0</td>\n",
       "      <td>SUV</td>\n",
       "      <td>50000</td>\n",
       "      <td>Xăng</td>\n",
       "      <td>0</td>\n",
       "      <td>https://bonbanh.com/xe-mazda-cx8-premium-awd-2...</td>\n",
       "      <td>CX8 Premium AWD</td>\n",
       "      <td>False</td>\n",
       "      <td>False</td>\n",
       "      <td>False</td>\n",
       "      <td>True</td>\n",
       "    </tr>\n",
       "    <tr>\n",
       "      <th>6</th>\n",
       "      <td>Nissan Almera 1.0 MT</td>\n",
       "      <td>2.0</td>\n",
       "      <td>3.690000e+08</td>\n",
       "      <td>1</td>\n",
       "      <td>Sedan</td>\n",
       "      <td>25000</td>\n",
       "      <td>Xăng</td>\n",
       "      <td>1</td>\n",
       "      <td>https://bonbanh.com/xe-nissan-almera-1.0-mt-20...</td>\n",
       "      <td>Almera 1.0 MT</td>\n",
       "      <td>True</td>\n",
       "      <td>False</td>\n",
       "      <td>False</td>\n",
       "      <td>False</td>\n",
       "    </tr>\n",
       "    <tr>\n",
       "      <th>7</th>\n",
       "      <td>Bentley Mulsanne 6.75 V8</td>\n",
       "      <td>13.0</td>\n",
       "      <td>4.900000e+09</td>\n",
       "      <td>1</td>\n",
       "      <td>Sedan</td>\n",
       "      <td>80000</td>\n",
       "      <td>Xăng</td>\n",
       "      <td>0</td>\n",
       "      <td>https://bonbanh.com/xe-bentley-mulsanne-6.75-v...</td>\n",
       "      <td>Mulsanne 6.75 V8</td>\n",
       "      <td>False</td>\n",
       "      <td>True</td>\n",
       "      <td>False</td>\n",
       "      <td>False</td>\n",
       "    </tr>\n",
       "  </tbody>\n",
       "</table>\n",
       "</div>"
      ]
     },
     "execution_count": 43,
     "metadata": {},
     "output_type": "execute_result"
    }
   ],
   "execution_count": 43
  },
  {
   "attachments": {},
   "cell_type": "markdown",
   "metadata": {
    "collapsed": false
   },
   "source": []
  },
  {
   "metadata": {},
   "cell_type": "code",
   "outputs": [],
   "execution_count": null,
   "source": "#cột brand được mã hóa bằng TargetEncoder"
  },
  {
   "metadata": {
    "ExecuteTime": {
     "end_time": "2024-05-30T20:38:38.027246Z",
     "start_time": "2024-05-30T20:38:37.977132Z"
    }
   },
   "cell_type": "code",
   "source": [
    "target_encoder = ce.TargetEncoder()\n",
    "df['brand'] = target_encoder.fit_transform(df['brand'], df['price'])\n"
   ],
   "outputs": [],
   "execution_count": 108
  },
  {
   "metadata": {
    "ExecuteTime": {
     "end_time": "2024-05-30T20:38:46.105865Z",
     "start_time": "2024-05-30T20:38:46.094237Z"
    }
   },
   "cell_type": "code",
   "source": "df.head()",
   "outputs": [
    {
     "data": {
      "text/plain": [
       "                           car_name  year         price  assemble_place  \\\n",
       "0  Kia Sorento Signature 2.2 AT AWD   4.0  8.990000e+08               0   \n",
       "2                  Kia Sorento GATH   6.0  5.680000e+08               0   \n",
       "4             Mazda CX8 Premium AWD   2.0  9.290000e+08               0   \n",
       "6              Nissan Almera 1.0 MT   2.0  3.690000e+08               1   \n",
       "7          Bentley Mulsanne 6.75 V8  13.0  4.900000e+09               1   \n",
       "\n",
       "  series     km engine_type  transmission  \\\n",
       "0    SUV  60000         Dầu             0   \n",
       "2    SUV  80000        Xăng             0   \n",
       "4    SUV  50000        Xăng             0   \n",
       "6  Sedan  25000        Xăng             1   \n",
       "7  Sedan  80000        Xăng             0   \n",
       "\n",
       "                                                 url         brand  \\\n",
       "0  https://bonbanh.com/xe-kia-sorento-signature-2...  5.950712e+08   \n",
       "2  https://bonbanh.com/xe-kia-sorento-gath-2018-5...  5.950712e+08   \n",
       "4  https://bonbanh.com/xe-mazda-cx8-premium-awd-2...  6.160559e+08   \n",
       "6  https://bonbanh.com/xe-nissan-almera-1.0-mt-20...  4.602449e+08   \n",
       "7  https://bonbanh.com/xe-bentley-mulsanne-6.75-v...  4.286454e+09   \n",
       "\n",
       "                          model  \n",
       "0  Sorento Signature 2.2 AT AWD  \n",
       "2                  Sorento GATH  \n",
       "4               CX8 Premium AWD  \n",
       "6                 Almera 1.0 MT  \n",
       "7              Mulsanne 6.75 V8  "
      ],
      "text/html": [
       "<div>\n",
       "<style scoped>\n",
       "    .dataframe tbody tr th:only-of-type {\n",
       "        vertical-align: middle;\n",
       "    }\n",
       "\n",
       "    .dataframe tbody tr th {\n",
       "        vertical-align: top;\n",
       "    }\n",
       "\n",
       "    .dataframe thead th {\n",
       "        text-align: right;\n",
       "    }\n",
       "</style>\n",
       "<table border=\"1\" class=\"dataframe\">\n",
       "  <thead>\n",
       "    <tr style=\"text-align: right;\">\n",
       "      <th></th>\n",
       "      <th>car_name</th>\n",
       "      <th>year</th>\n",
       "      <th>price</th>\n",
       "      <th>assemble_place</th>\n",
       "      <th>series</th>\n",
       "      <th>km</th>\n",
       "      <th>engine_type</th>\n",
       "      <th>transmission</th>\n",
       "      <th>url</th>\n",
       "      <th>brand</th>\n",
       "      <th>model</th>\n",
       "    </tr>\n",
       "  </thead>\n",
       "  <tbody>\n",
       "    <tr>\n",
       "      <th>0</th>\n",
       "      <td>Kia Sorento Signature 2.2 AT AWD</td>\n",
       "      <td>4.0</td>\n",
       "      <td>8.990000e+08</td>\n",
       "      <td>0</td>\n",
       "      <td>SUV</td>\n",
       "      <td>60000</td>\n",
       "      <td>Dầu</td>\n",
       "      <td>0</td>\n",
       "      <td>https://bonbanh.com/xe-kia-sorento-signature-2...</td>\n",
       "      <td>5.950712e+08</td>\n",
       "      <td>Sorento Signature 2.2 AT AWD</td>\n",
       "    </tr>\n",
       "    <tr>\n",
       "      <th>2</th>\n",
       "      <td>Kia Sorento GATH</td>\n",
       "      <td>6.0</td>\n",
       "      <td>5.680000e+08</td>\n",
       "      <td>0</td>\n",
       "      <td>SUV</td>\n",
       "      <td>80000</td>\n",
       "      <td>Xăng</td>\n",
       "      <td>0</td>\n",
       "      <td>https://bonbanh.com/xe-kia-sorento-gath-2018-5...</td>\n",
       "      <td>5.950712e+08</td>\n",
       "      <td>Sorento GATH</td>\n",
       "    </tr>\n",
       "    <tr>\n",
       "      <th>4</th>\n",
       "      <td>Mazda CX8 Premium AWD</td>\n",
       "      <td>2.0</td>\n",
       "      <td>9.290000e+08</td>\n",
       "      <td>0</td>\n",
       "      <td>SUV</td>\n",
       "      <td>50000</td>\n",
       "      <td>Xăng</td>\n",
       "      <td>0</td>\n",
       "      <td>https://bonbanh.com/xe-mazda-cx8-premium-awd-2...</td>\n",
       "      <td>6.160559e+08</td>\n",
       "      <td>CX8 Premium AWD</td>\n",
       "    </tr>\n",
       "    <tr>\n",
       "      <th>6</th>\n",
       "      <td>Nissan Almera 1.0 MT</td>\n",
       "      <td>2.0</td>\n",
       "      <td>3.690000e+08</td>\n",
       "      <td>1</td>\n",
       "      <td>Sedan</td>\n",
       "      <td>25000</td>\n",
       "      <td>Xăng</td>\n",
       "      <td>1</td>\n",
       "      <td>https://bonbanh.com/xe-nissan-almera-1.0-mt-20...</td>\n",
       "      <td>4.602449e+08</td>\n",
       "      <td>Almera 1.0 MT</td>\n",
       "    </tr>\n",
       "    <tr>\n",
       "      <th>7</th>\n",
       "      <td>Bentley Mulsanne 6.75 V8</td>\n",
       "      <td>13.0</td>\n",
       "      <td>4.900000e+09</td>\n",
       "      <td>1</td>\n",
       "      <td>Sedan</td>\n",
       "      <td>80000</td>\n",
       "      <td>Xăng</td>\n",
       "      <td>0</td>\n",
       "      <td>https://bonbanh.com/xe-bentley-mulsanne-6.75-v...</td>\n",
       "      <td>4.286454e+09</td>\n",
       "      <td>Mulsanne 6.75 V8</td>\n",
       "    </tr>\n",
       "  </tbody>\n",
       "</table>\n",
       "</div>"
      ]
     },
     "execution_count": 109,
     "metadata": {},
     "output_type": "execute_result"
    }
   ],
   "execution_count": 109
  },
  {
   "metadata": {},
   "cell_type": "code",
   "outputs": [],
   "execution_count": null,
   "source": ""
  },
  {
   "attachments": {},
   "cell_type": "markdown",
   "metadata": {
    "collapsed": false
   },
   "source": [
    "Cột series sẽ được mã hóa bằng phương pháp One-hot encoding"
   ]
  },
  {
   "cell_type": "code",
   "metadata": {
    "collapsed": false,
    "is_executing": true,
    "ExecuteTime": {
     "end_time": "2024-05-30T20:40:19.101444Z",
     "start_time": "2024-05-30T20:40:19.090368Z"
    }
   },
   "source": [
    "one_hot = OneHotEncoder()\n",
    "one_hot.fit(df[['series']])\n",
    "one_hot_series = pd.get_dummies(df['series'], prefix='series')\n",
    "df = pd.concat([df, one_hot_series], axis=1)"
   ],
   "outputs": [],
   "execution_count": 110
  },
  {
   "attachments": {},
   "cell_type": "markdown",
   "metadata": {
    "collapsed": false
   },
   "source": [
    "Cột engine_type sẽ được mã hóa bằng phương pháp One-hot encoding"
   ]
  },
  {
   "cell_type": "code",
   "metadata": {
    "collapsed": false,
    "is_executing": true,
    "ExecuteTime": {
     "end_time": "2024-05-30T20:32:13.864058Z",
     "start_time": "2024-05-30T20:32:13.840501Z"
    }
   },
   "source": [
    "df.head()"
   ],
   "outputs": [
    {
     "data": {
      "text/plain": [
       "                           car_name  year         price  assemble_place  \\\n",
       "0  Kia Sorento Signature 2.2 AT AWD   4.0  8.990000e+08               0   \n",
       "2                  Kia Sorento GATH   6.0  5.680000e+08               0   \n",
       "4             Mazda CX8 Premium AWD   2.0  9.290000e+08               0   \n",
       "6              Nissan Almera 1.0 MT   2.0  3.690000e+08               1   \n",
       "7          Bentley Mulsanne 6.75 V8  13.0  4.900000e+09               1   \n",
       "\n",
       "  series     km engine_type  transmission  \\\n",
       "0    SUV  60000         Dầu             0   \n",
       "2    SUV  80000        Xăng             0   \n",
       "4    SUV  50000        Xăng             0   \n",
       "6  Sedan  25000        Xăng             1   \n",
       "7  Sedan  80000        Xăng             0   \n",
       "\n",
       "                                                 url  \\\n",
       "0  https://bonbanh.com/xe-kia-sorento-signature-2...   \n",
       "2  https://bonbanh.com/xe-kia-sorento-gath-2018-5...   \n",
       "4  https://bonbanh.com/xe-mazda-cx8-premium-awd-2...   \n",
       "6  https://bonbanh.com/xe-nissan-almera-1.0-mt-20...   \n",
       "7  https://bonbanh.com/xe-bentley-mulsanne-6.75-v...   \n",
       "\n",
       "                          model  ...  brand_segment_VOLUME  \\\n",
       "0  Sorento Signature 2.2 AT AWD  ...                 False   \n",
       "2                  Sorento GATH  ...                 False   \n",
       "4               CX8 Premium AWD  ...                  True   \n",
       "6                 Almera 1.0 MT  ...                 False   \n",
       "7              Mulsanne 6.75 V8  ...                 False   \n",
       "\n",
       "   series_Bán tải / Pickup  series_Convertible/Cabriolet  series_Coupe  \\\n",
       "0                      False                         False         False   \n",
       "2                      False                         False         False   \n",
       "4                      False                         False         False   \n",
       "6                      False                         False         False   \n",
       "7                      False                         False         False   \n",
       "\n",
       "   series_Crossover  series_Hatchback  series_SUV  series_Sedan  series_Truck  \\\n",
       "0             False             False        True         False         False   \n",
       "2             False             False        True         False         False   \n",
       "4             False             False        True         False         False   \n",
       "6             False             False       False          True         False   \n",
       "7             False             False       False          True         False   \n",
       "\n",
       "   series_Van/Minivan  \n",
       "0               False  \n",
       "2               False  \n",
       "4               False  \n",
       "6               False  \n",
       "7               False  \n",
       "\n",
       "[5 rows x 23 columns]"
      ],
      "text/html": [
       "<div>\n",
       "<style scoped>\n",
       "    .dataframe tbody tr th:only-of-type {\n",
       "        vertical-align: middle;\n",
       "    }\n",
       "\n",
       "    .dataframe tbody tr th {\n",
       "        vertical-align: top;\n",
       "    }\n",
       "\n",
       "    .dataframe thead th {\n",
       "        text-align: right;\n",
       "    }\n",
       "</style>\n",
       "<table border=\"1\" class=\"dataframe\">\n",
       "  <thead>\n",
       "    <tr style=\"text-align: right;\">\n",
       "      <th></th>\n",
       "      <th>car_name</th>\n",
       "      <th>year</th>\n",
       "      <th>price</th>\n",
       "      <th>assemble_place</th>\n",
       "      <th>series</th>\n",
       "      <th>km</th>\n",
       "      <th>engine_type</th>\n",
       "      <th>transmission</th>\n",
       "      <th>url</th>\n",
       "      <th>model</th>\n",
       "      <th>...</th>\n",
       "      <th>brand_segment_VOLUME</th>\n",
       "      <th>series_Bán tải / Pickup</th>\n",
       "      <th>series_Convertible/Cabriolet</th>\n",
       "      <th>series_Coupe</th>\n",
       "      <th>series_Crossover</th>\n",
       "      <th>series_Hatchback</th>\n",
       "      <th>series_SUV</th>\n",
       "      <th>series_Sedan</th>\n",
       "      <th>series_Truck</th>\n",
       "      <th>series_Van/Minivan</th>\n",
       "    </tr>\n",
       "  </thead>\n",
       "  <tbody>\n",
       "    <tr>\n",
       "      <th>0</th>\n",
       "      <td>Kia Sorento Signature 2.2 AT AWD</td>\n",
       "      <td>4.0</td>\n",
       "      <td>8.990000e+08</td>\n",
       "      <td>0</td>\n",
       "      <td>SUV</td>\n",
       "      <td>60000</td>\n",
       "      <td>Dầu</td>\n",
       "      <td>0</td>\n",
       "      <td>https://bonbanh.com/xe-kia-sorento-signature-2...</td>\n",
       "      <td>Sorento Signature 2.2 AT AWD</td>\n",
       "      <td>...</td>\n",
       "      <td>False</td>\n",
       "      <td>False</td>\n",
       "      <td>False</td>\n",
       "      <td>False</td>\n",
       "      <td>False</td>\n",
       "      <td>False</td>\n",
       "      <td>True</td>\n",
       "      <td>False</td>\n",
       "      <td>False</td>\n",
       "      <td>False</td>\n",
       "    </tr>\n",
       "    <tr>\n",
       "      <th>2</th>\n",
       "      <td>Kia Sorento GATH</td>\n",
       "      <td>6.0</td>\n",
       "      <td>5.680000e+08</td>\n",
       "      <td>0</td>\n",
       "      <td>SUV</td>\n",
       "      <td>80000</td>\n",
       "      <td>Xăng</td>\n",
       "      <td>0</td>\n",
       "      <td>https://bonbanh.com/xe-kia-sorento-gath-2018-5...</td>\n",
       "      <td>Sorento GATH</td>\n",
       "      <td>...</td>\n",
       "      <td>False</td>\n",
       "      <td>False</td>\n",
       "      <td>False</td>\n",
       "      <td>False</td>\n",
       "      <td>False</td>\n",
       "      <td>False</td>\n",
       "      <td>True</td>\n",
       "      <td>False</td>\n",
       "      <td>False</td>\n",
       "      <td>False</td>\n",
       "    </tr>\n",
       "    <tr>\n",
       "      <th>4</th>\n",
       "      <td>Mazda CX8 Premium AWD</td>\n",
       "      <td>2.0</td>\n",
       "      <td>9.290000e+08</td>\n",
       "      <td>0</td>\n",
       "      <td>SUV</td>\n",
       "      <td>50000</td>\n",
       "      <td>Xăng</td>\n",
       "      <td>0</td>\n",
       "      <td>https://bonbanh.com/xe-mazda-cx8-premium-awd-2...</td>\n",
       "      <td>CX8 Premium AWD</td>\n",
       "      <td>...</td>\n",
       "      <td>True</td>\n",
       "      <td>False</td>\n",
       "      <td>False</td>\n",
       "      <td>False</td>\n",
       "      <td>False</td>\n",
       "      <td>False</td>\n",
       "      <td>True</td>\n",
       "      <td>False</td>\n",
       "      <td>False</td>\n",
       "      <td>False</td>\n",
       "    </tr>\n",
       "    <tr>\n",
       "      <th>6</th>\n",
       "      <td>Nissan Almera 1.0 MT</td>\n",
       "      <td>2.0</td>\n",
       "      <td>3.690000e+08</td>\n",
       "      <td>1</td>\n",
       "      <td>Sedan</td>\n",
       "      <td>25000</td>\n",
       "      <td>Xăng</td>\n",
       "      <td>1</td>\n",
       "      <td>https://bonbanh.com/xe-nissan-almera-1.0-mt-20...</td>\n",
       "      <td>Almera 1.0 MT</td>\n",
       "      <td>...</td>\n",
       "      <td>False</td>\n",
       "      <td>False</td>\n",
       "      <td>False</td>\n",
       "      <td>False</td>\n",
       "      <td>False</td>\n",
       "      <td>False</td>\n",
       "      <td>False</td>\n",
       "      <td>True</td>\n",
       "      <td>False</td>\n",
       "      <td>False</td>\n",
       "    </tr>\n",
       "    <tr>\n",
       "      <th>7</th>\n",
       "      <td>Bentley Mulsanne 6.75 V8</td>\n",
       "      <td>13.0</td>\n",
       "      <td>4.900000e+09</td>\n",
       "      <td>1</td>\n",
       "      <td>Sedan</td>\n",
       "      <td>80000</td>\n",
       "      <td>Xăng</td>\n",
       "      <td>0</td>\n",
       "      <td>https://bonbanh.com/xe-bentley-mulsanne-6.75-v...</td>\n",
       "      <td>Mulsanne 6.75 V8</td>\n",
       "      <td>...</td>\n",
       "      <td>False</td>\n",
       "      <td>False</td>\n",
       "      <td>False</td>\n",
       "      <td>False</td>\n",
       "      <td>False</td>\n",
       "      <td>False</td>\n",
       "      <td>False</td>\n",
       "      <td>True</td>\n",
       "      <td>False</td>\n",
       "      <td>False</td>\n",
       "    </tr>\n",
       "  </tbody>\n",
       "</table>\n",
       "<p>5 rows × 23 columns</p>\n",
       "</div>"
      ]
     },
     "execution_count": 45,
     "metadata": {},
     "output_type": "execute_result"
    }
   ],
   "execution_count": 45
  },
  {
   "cell_type": "code",
   "metadata": {
    "collapsed": false,
    "is_executing": true,
    "ExecuteTime": {
     "end_time": "2024-05-30T20:40:25.680805Z",
     "start_time": "2024-05-30T20:40:25.666162Z"
    }
   },
   "source": [
    "one_hot = OneHotEncoder()\n",
    "one_hot.fit(df[['engine_type']])\n",
    "one_hot_engine_type = pd.get_dummies(df['engine_type'], prefix='engine_type')\n",
    "df = pd.concat([df, one_hot_engine_type], axis=1)"
   ],
   "outputs": [],
   "execution_count": 111
  },
  {
   "cell_type": "code",
   "metadata": {
    "collapsed": false,
    "is_executing": true,
    "ExecuteTime": {
     "end_time": "2024-05-30T20:32:13.892503Z",
     "start_time": "2024-05-30T20:32:13.877753Z"
    }
   },
   "source": [
    "df.head()"
   ],
   "outputs": [
    {
     "data": {
      "text/plain": [
       "                           car_name  year         price  assemble_place  \\\n",
       "0  Kia Sorento Signature 2.2 AT AWD   4.0  8.990000e+08               0   \n",
       "2                  Kia Sorento GATH   6.0  5.680000e+08               0   \n",
       "4             Mazda CX8 Premium AWD   2.0  9.290000e+08               0   \n",
       "6              Nissan Almera 1.0 MT   2.0  3.690000e+08               1   \n",
       "7          Bentley Mulsanne 6.75 V8  13.0  4.900000e+09               1   \n",
       "\n",
       "  series     km engine_type  transmission  \\\n",
       "0    SUV  60000         Dầu             0   \n",
       "2    SUV  80000        Xăng             0   \n",
       "4    SUV  50000        Xăng             0   \n",
       "6  Sedan  25000        Xăng             1   \n",
       "7  Sedan  80000        Xăng             0   \n",
       "\n",
       "                                                 url  \\\n",
       "0  https://bonbanh.com/xe-kia-sorento-signature-2...   \n",
       "2  https://bonbanh.com/xe-kia-sorento-gath-2018-5...   \n",
       "4  https://bonbanh.com/xe-mazda-cx8-premium-awd-2...   \n",
       "6  https://bonbanh.com/xe-nissan-almera-1.0-mt-20...   \n",
       "7  https://bonbanh.com/xe-bentley-mulsanne-6.75-v...   \n",
       "\n",
       "                          model  ...  series_Crossover  series_Hatchback  \\\n",
       "0  Sorento Signature 2.2 AT AWD  ...             False             False   \n",
       "2                  Sorento GATH  ...             False             False   \n",
       "4               CX8 Premium AWD  ...             False             False   \n",
       "6                 Almera 1.0 MT  ...             False             False   \n",
       "7              Mulsanne 6.75 V8  ...             False             False   \n",
       "\n",
       "   series_SUV  series_Sedan  series_Truck  series_Van/Minivan  \\\n",
       "0        True         False         False               False   \n",
       "2        True         False         False               False   \n",
       "4        True         False         False               False   \n",
       "6       False          True         False               False   \n",
       "7       False          True         False               False   \n",
       "\n",
       "   engine_type_Dầu  engine_type_Hybrid  engine_type_Xăng  engine_type_Điện  \n",
       "0             True               False             False             False  \n",
       "2            False               False              True             False  \n",
       "4            False               False              True             False  \n",
       "6            False               False              True             False  \n",
       "7            False               False              True             False  \n",
       "\n",
       "[5 rows x 27 columns]"
      ],
      "text/html": [
       "<div>\n",
       "<style scoped>\n",
       "    .dataframe tbody tr th:only-of-type {\n",
       "        vertical-align: middle;\n",
       "    }\n",
       "\n",
       "    .dataframe tbody tr th {\n",
       "        vertical-align: top;\n",
       "    }\n",
       "\n",
       "    .dataframe thead th {\n",
       "        text-align: right;\n",
       "    }\n",
       "</style>\n",
       "<table border=\"1\" class=\"dataframe\">\n",
       "  <thead>\n",
       "    <tr style=\"text-align: right;\">\n",
       "      <th></th>\n",
       "      <th>car_name</th>\n",
       "      <th>year</th>\n",
       "      <th>price</th>\n",
       "      <th>assemble_place</th>\n",
       "      <th>series</th>\n",
       "      <th>km</th>\n",
       "      <th>engine_type</th>\n",
       "      <th>transmission</th>\n",
       "      <th>url</th>\n",
       "      <th>model</th>\n",
       "      <th>...</th>\n",
       "      <th>series_Crossover</th>\n",
       "      <th>series_Hatchback</th>\n",
       "      <th>series_SUV</th>\n",
       "      <th>series_Sedan</th>\n",
       "      <th>series_Truck</th>\n",
       "      <th>series_Van/Minivan</th>\n",
       "      <th>engine_type_Dầu</th>\n",
       "      <th>engine_type_Hybrid</th>\n",
       "      <th>engine_type_Xăng</th>\n",
       "      <th>engine_type_Điện</th>\n",
       "    </tr>\n",
       "  </thead>\n",
       "  <tbody>\n",
       "    <tr>\n",
       "      <th>0</th>\n",
       "      <td>Kia Sorento Signature 2.2 AT AWD</td>\n",
       "      <td>4.0</td>\n",
       "      <td>8.990000e+08</td>\n",
       "      <td>0</td>\n",
       "      <td>SUV</td>\n",
       "      <td>60000</td>\n",
       "      <td>Dầu</td>\n",
       "      <td>0</td>\n",
       "      <td>https://bonbanh.com/xe-kia-sorento-signature-2...</td>\n",
       "      <td>Sorento Signature 2.2 AT AWD</td>\n",
       "      <td>...</td>\n",
       "      <td>False</td>\n",
       "      <td>False</td>\n",
       "      <td>True</td>\n",
       "      <td>False</td>\n",
       "      <td>False</td>\n",
       "      <td>False</td>\n",
       "      <td>True</td>\n",
       "      <td>False</td>\n",
       "      <td>False</td>\n",
       "      <td>False</td>\n",
       "    </tr>\n",
       "    <tr>\n",
       "      <th>2</th>\n",
       "      <td>Kia Sorento GATH</td>\n",
       "      <td>6.0</td>\n",
       "      <td>5.680000e+08</td>\n",
       "      <td>0</td>\n",
       "      <td>SUV</td>\n",
       "      <td>80000</td>\n",
       "      <td>Xăng</td>\n",
       "      <td>0</td>\n",
       "      <td>https://bonbanh.com/xe-kia-sorento-gath-2018-5...</td>\n",
       "      <td>Sorento GATH</td>\n",
       "      <td>...</td>\n",
       "      <td>False</td>\n",
       "      <td>False</td>\n",
       "      <td>True</td>\n",
       "      <td>False</td>\n",
       "      <td>False</td>\n",
       "      <td>False</td>\n",
       "      <td>False</td>\n",
       "      <td>False</td>\n",
       "      <td>True</td>\n",
       "      <td>False</td>\n",
       "    </tr>\n",
       "    <tr>\n",
       "      <th>4</th>\n",
       "      <td>Mazda CX8 Premium AWD</td>\n",
       "      <td>2.0</td>\n",
       "      <td>9.290000e+08</td>\n",
       "      <td>0</td>\n",
       "      <td>SUV</td>\n",
       "      <td>50000</td>\n",
       "      <td>Xăng</td>\n",
       "      <td>0</td>\n",
       "      <td>https://bonbanh.com/xe-mazda-cx8-premium-awd-2...</td>\n",
       "      <td>CX8 Premium AWD</td>\n",
       "      <td>...</td>\n",
       "      <td>False</td>\n",
       "      <td>False</td>\n",
       "      <td>True</td>\n",
       "      <td>False</td>\n",
       "      <td>False</td>\n",
       "      <td>False</td>\n",
       "      <td>False</td>\n",
       "      <td>False</td>\n",
       "      <td>True</td>\n",
       "      <td>False</td>\n",
       "    </tr>\n",
       "    <tr>\n",
       "      <th>6</th>\n",
       "      <td>Nissan Almera 1.0 MT</td>\n",
       "      <td>2.0</td>\n",
       "      <td>3.690000e+08</td>\n",
       "      <td>1</td>\n",
       "      <td>Sedan</td>\n",
       "      <td>25000</td>\n",
       "      <td>Xăng</td>\n",
       "      <td>1</td>\n",
       "      <td>https://bonbanh.com/xe-nissan-almera-1.0-mt-20...</td>\n",
       "      <td>Almera 1.0 MT</td>\n",
       "      <td>...</td>\n",
       "      <td>False</td>\n",
       "      <td>False</td>\n",
       "      <td>False</td>\n",
       "      <td>True</td>\n",
       "      <td>False</td>\n",
       "      <td>False</td>\n",
       "      <td>False</td>\n",
       "      <td>False</td>\n",
       "      <td>True</td>\n",
       "      <td>False</td>\n",
       "    </tr>\n",
       "    <tr>\n",
       "      <th>7</th>\n",
       "      <td>Bentley Mulsanne 6.75 V8</td>\n",
       "      <td>13.0</td>\n",
       "      <td>4.900000e+09</td>\n",
       "      <td>1</td>\n",
       "      <td>Sedan</td>\n",
       "      <td>80000</td>\n",
       "      <td>Xăng</td>\n",
       "      <td>0</td>\n",
       "      <td>https://bonbanh.com/xe-bentley-mulsanne-6.75-v...</td>\n",
       "      <td>Mulsanne 6.75 V8</td>\n",
       "      <td>...</td>\n",
       "      <td>False</td>\n",
       "      <td>False</td>\n",
       "      <td>False</td>\n",
       "      <td>True</td>\n",
       "      <td>False</td>\n",
       "      <td>False</td>\n",
       "      <td>False</td>\n",
       "      <td>False</td>\n",
       "      <td>True</td>\n",
       "      <td>False</td>\n",
       "    </tr>\n",
       "  </tbody>\n",
       "</table>\n",
       "<p>5 rows × 27 columns</p>\n",
       "</div>"
      ]
     },
     "execution_count": 47,
     "metadata": {},
     "output_type": "execute_result"
    }
   ],
   "execution_count": 47
  },
  {
   "cell_type": "code",
   "metadata": {
    "collapsed": false,
    "is_executing": true,
    "ExecuteTime": {
     "end_time": "2024-05-30T20:40:30.156874Z",
     "start_time": "2024-05-30T20:40:30.144859Z"
    }
   },
   "source": [
    "save_df = copy.deepcopy(df)"
   ],
   "outputs": [],
   "execution_count": 112
  },
  {
   "cell_type": "code",
   "metadata": {
    "collapsed": false,
    "is_executing": true,
    "ExecuteTime": {
     "end_time": "2024-05-30T20:40:31.886763Z",
     "start_time": "2024-05-30T20:40:31.866950Z"
    }
   },
   "source": [
    "save_df.head()"
   ],
   "outputs": [
    {
     "data": {
      "text/plain": [
       "                           car_name  year         price  assemble_place  \\\n",
       "0  Kia Sorento Signature 2.2 AT AWD   4.0  8.990000e+08               0   \n",
       "2                  Kia Sorento GATH   6.0  5.680000e+08               0   \n",
       "4             Mazda CX8 Premium AWD   2.0  9.290000e+08               0   \n",
       "6              Nissan Almera 1.0 MT   2.0  3.690000e+08               1   \n",
       "7          Bentley Mulsanne 6.75 V8  13.0  4.900000e+09               1   \n",
       "\n",
       "  series     km engine_type  transmission  \\\n",
       "0    SUV  60000         Dầu             0   \n",
       "2    SUV  80000        Xăng             0   \n",
       "4    SUV  50000        Xăng             0   \n",
       "6  Sedan  25000        Xăng             1   \n",
       "7  Sedan  80000        Xăng             0   \n",
       "\n",
       "                                                 url         brand  ...  \\\n",
       "0  https://bonbanh.com/xe-kia-sorento-signature-2...  5.950712e+08  ...   \n",
       "2  https://bonbanh.com/xe-kia-sorento-gath-2018-5...  5.950712e+08  ...   \n",
       "4  https://bonbanh.com/xe-mazda-cx8-premium-awd-2...  6.160559e+08  ...   \n",
       "6  https://bonbanh.com/xe-nissan-almera-1.0-mt-20...  4.602449e+08  ...   \n",
       "7  https://bonbanh.com/xe-bentley-mulsanne-6.75-v...  4.286454e+09  ...   \n",
       "\n",
       "  series_Crossover  series_Hatchback  series_SUV  series_Sedan  series_Truck  \\\n",
       "0            False             False        True         False         False   \n",
       "2            False             False        True         False         False   \n",
       "4            False             False        True         False         False   \n",
       "6            False             False       False          True         False   \n",
       "7            False             False       False          True         False   \n",
       "\n",
       "   series_Van/Minivan  engine_type_Dầu  engine_type_Hybrid  engine_type_Xăng  \\\n",
       "0               False             True               False             False   \n",
       "2               False            False               False              True   \n",
       "4               False            False               False              True   \n",
       "6               False            False               False              True   \n",
       "7               False            False               False              True   \n",
       "\n",
       "   engine_type_Điện  \n",
       "0             False  \n",
       "2             False  \n",
       "4             False  \n",
       "6             False  \n",
       "7             False  \n",
       "\n",
       "[5 rows x 24 columns]"
      ],
      "text/html": [
       "<div>\n",
       "<style scoped>\n",
       "    .dataframe tbody tr th:only-of-type {\n",
       "        vertical-align: middle;\n",
       "    }\n",
       "\n",
       "    .dataframe tbody tr th {\n",
       "        vertical-align: top;\n",
       "    }\n",
       "\n",
       "    .dataframe thead th {\n",
       "        text-align: right;\n",
       "    }\n",
       "</style>\n",
       "<table border=\"1\" class=\"dataframe\">\n",
       "  <thead>\n",
       "    <tr style=\"text-align: right;\">\n",
       "      <th></th>\n",
       "      <th>car_name</th>\n",
       "      <th>year</th>\n",
       "      <th>price</th>\n",
       "      <th>assemble_place</th>\n",
       "      <th>series</th>\n",
       "      <th>km</th>\n",
       "      <th>engine_type</th>\n",
       "      <th>transmission</th>\n",
       "      <th>url</th>\n",
       "      <th>brand</th>\n",
       "      <th>...</th>\n",
       "      <th>series_Crossover</th>\n",
       "      <th>series_Hatchback</th>\n",
       "      <th>series_SUV</th>\n",
       "      <th>series_Sedan</th>\n",
       "      <th>series_Truck</th>\n",
       "      <th>series_Van/Minivan</th>\n",
       "      <th>engine_type_Dầu</th>\n",
       "      <th>engine_type_Hybrid</th>\n",
       "      <th>engine_type_Xăng</th>\n",
       "      <th>engine_type_Điện</th>\n",
       "    </tr>\n",
       "  </thead>\n",
       "  <tbody>\n",
       "    <tr>\n",
       "      <th>0</th>\n",
       "      <td>Kia Sorento Signature 2.2 AT AWD</td>\n",
       "      <td>4.0</td>\n",
       "      <td>8.990000e+08</td>\n",
       "      <td>0</td>\n",
       "      <td>SUV</td>\n",
       "      <td>60000</td>\n",
       "      <td>Dầu</td>\n",
       "      <td>0</td>\n",
       "      <td>https://bonbanh.com/xe-kia-sorento-signature-2...</td>\n",
       "      <td>5.950712e+08</td>\n",
       "      <td>...</td>\n",
       "      <td>False</td>\n",
       "      <td>False</td>\n",
       "      <td>True</td>\n",
       "      <td>False</td>\n",
       "      <td>False</td>\n",
       "      <td>False</td>\n",
       "      <td>True</td>\n",
       "      <td>False</td>\n",
       "      <td>False</td>\n",
       "      <td>False</td>\n",
       "    </tr>\n",
       "    <tr>\n",
       "      <th>2</th>\n",
       "      <td>Kia Sorento GATH</td>\n",
       "      <td>6.0</td>\n",
       "      <td>5.680000e+08</td>\n",
       "      <td>0</td>\n",
       "      <td>SUV</td>\n",
       "      <td>80000</td>\n",
       "      <td>Xăng</td>\n",
       "      <td>0</td>\n",
       "      <td>https://bonbanh.com/xe-kia-sorento-gath-2018-5...</td>\n",
       "      <td>5.950712e+08</td>\n",
       "      <td>...</td>\n",
       "      <td>False</td>\n",
       "      <td>False</td>\n",
       "      <td>True</td>\n",
       "      <td>False</td>\n",
       "      <td>False</td>\n",
       "      <td>False</td>\n",
       "      <td>False</td>\n",
       "      <td>False</td>\n",
       "      <td>True</td>\n",
       "      <td>False</td>\n",
       "    </tr>\n",
       "    <tr>\n",
       "      <th>4</th>\n",
       "      <td>Mazda CX8 Premium AWD</td>\n",
       "      <td>2.0</td>\n",
       "      <td>9.290000e+08</td>\n",
       "      <td>0</td>\n",
       "      <td>SUV</td>\n",
       "      <td>50000</td>\n",
       "      <td>Xăng</td>\n",
       "      <td>0</td>\n",
       "      <td>https://bonbanh.com/xe-mazda-cx8-premium-awd-2...</td>\n",
       "      <td>6.160559e+08</td>\n",
       "      <td>...</td>\n",
       "      <td>False</td>\n",
       "      <td>False</td>\n",
       "      <td>True</td>\n",
       "      <td>False</td>\n",
       "      <td>False</td>\n",
       "      <td>False</td>\n",
       "      <td>False</td>\n",
       "      <td>False</td>\n",
       "      <td>True</td>\n",
       "      <td>False</td>\n",
       "    </tr>\n",
       "    <tr>\n",
       "      <th>6</th>\n",
       "      <td>Nissan Almera 1.0 MT</td>\n",
       "      <td>2.0</td>\n",
       "      <td>3.690000e+08</td>\n",
       "      <td>1</td>\n",
       "      <td>Sedan</td>\n",
       "      <td>25000</td>\n",
       "      <td>Xăng</td>\n",
       "      <td>1</td>\n",
       "      <td>https://bonbanh.com/xe-nissan-almera-1.0-mt-20...</td>\n",
       "      <td>4.602449e+08</td>\n",
       "      <td>...</td>\n",
       "      <td>False</td>\n",
       "      <td>False</td>\n",
       "      <td>False</td>\n",
       "      <td>True</td>\n",
       "      <td>False</td>\n",
       "      <td>False</td>\n",
       "      <td>False</td>\n",
       "      <td>False</td>\n",
       "      <td>True</td>\n",
       "      <td>False</td>\n",
       "    </tr>\n",
       "    <tr>\n",
       "      <th>7</th>\n",
       "      <td>Bentley Mulsanne 6.75 V8</td>\n",
       "      <td>13.0</td>\n",
       "      <td>4.900000e+09</td>\n",
       "      <td>1</td>\n",
       "      <td>Sedan</td>\n",
       "      <td>80000</td>\n",
       "      <td>Xăng</td>\n",
       "      <td>0</td>\n",
       "      <td>https://bonbanh.com/xe-bentley-mulsanne-6.75-v...</td>\n",
       "      <td>4.286454e+09</td>\n",
       "      <td>...</td>\n",
       "      <td>False</td>\n",
       "      <td>False</td>\n",
       "      <td>False</td>\n",
       "      <td>True</td>\n",
       "      <td>False</td>\n",
       "      <td>False</td>\n",
       "      <td>False</td>\n",
       "      <td>False</td>\n",
       "      <td>True</td>\n",
       "      <td>False</td>\n",
       "    </tr>\n",
       "  </tbody>\n",
       "</table>\n",
       "<p>5 rows × 24 columns</p>\n",
       "</div>"
      ]
     },
     "execution_count": 113,
     "metadata": {},
     "output_type": "execute_result"
    }
   ],
   "execution_count": 113
  },
  {
   "metadata": {},
   "cell_type": "markdown",
   "source": "# Sử dụng Standardization để chuẩn hóa dữ liệu"
  },
  {
   "cell_type": "code",
   "metadata": {
    "collapsed": false,
    "is_executing": true,
    "ExecuteTime": {
     "end_time": "2024-05-30T20:40:38.265217Z",
     "start_time": "2024-05-30T20:40:38.252898Z"
    }
   },
   "source": [
    "scaler = StandardScaler()\n",
    "df=save_df.copy()\n",
    "#fit year và driven kms\n",
    "scaler.fit(df[['km']])\n",
    "df[['km']] = scaler.transform(df[['km']])"
   ],
   "outputs": [],
   "execution_count": 114
  },
  {
   "cell_type": "code",
   "metadata": {
    "collapsed": false,
    "is_executing": true,
    "ExecuteTime": {
     "end_time": "2024-05-30T20:40:40.291794Z",
     "start_time": "2024-05-30T20:40:40.281845Z"
    }
   },
   "source": "df['km'].describe()",
   "outputs": [
    {
     "data": {
      "text/plain": [
       "count    1.219500e+04\n",
       "mean     1.165302e-18\n",
       "std      1.000041e+00\n",
       "min     -3.459210e-02\n",
       "25%     -2.481958e-02\n",
       "50%     -1.749019e-02\n",
       "75%     -7.717668e-03\n",
       "max      9.070989e+01\n",
       "Name: km, dtype: float64"
      ]
     },
     "execution_count": 115,
     "metadata": {},
     "output_type": "execute_result"
    }
   ],
   "execution_count": 115
  },
  {
   "attachments": {},
   "cell_type": "markdown",
   "metadata": {
    "collapsed": false
   },
   "source": [
    "# Sử dụng hồi quy tuyến tính để dự đoán giá xe"
   ]
  },
  {
   "cell_type": "code",
   "metadata": {
    "collapsed": false,
    "is_executing": true,
    "ExecuteTime": {
     "end_time": "2024-05-30T20:32:13.970527Z",
     "start_time": "2024-05-30T20:32:13.953841Z"
    }
   },
   "source": [
    "df.head()"
   ],
   "outputs": [
    {
     "data": {
      "text/plain": [
       "                           car_name  year         price  assemble_place  \\\n",
       "0  Kia Sorento Signature 2.2 AT AWD   4.0  8.990000e+08               0   \n",
       "2                  Kia Sorento GATH   6.0  5.680000e+08               0   \n",
       "4             Mazda CX8 Premium AWD   2.0  9.290000e+08               0   \n",
       "6              Nissan Almera 1.0 MT   2.0  3.690000e+08               1   \n",
       "7          Bentley Mulsanne 6.75 V8  13.0  4.900000e+09               1   \n",
       "\n",
       "  series        km engine_type  transmission  \\\n",
       "0    SUV -0.014000         Dầu             0   \n",
       "2    SUV -0.007020        Xăng             0   \n",
       "4    SUV -0.017490        Xăng             0   \n",
       "6  Sedan -0.026216        Xăng             1   \n",
       "7  Sedan -0.007020        Xăng             0   \n",
       "\n",
       "                                                 url  \\\n",
       "0  https://bonbanh.com/xe-kia-sorento-signature-2...   \n",
       "2  https://bonbanh.com/xe-kia-sorento-gath-2018-5...   \n",
       "4  https://bonbanh.com/xe-mazda-cx8-premium-awd-2...   \n",
       "6  https://bonbanh.com/xe-nissan-almera-1.0-mt-20...   \n",
       "7  https://bonbanh.com/xe-bentley-mulsanne-6.75-v...   \n",
       "\n",
       "                          model  ...  series_Crossover  series_Hatchback  \\\n",
       "0  Sorento Signature 2.2 AT AWD  ...             False             False   \n",
       "2                  Sorento GATH  ...             False             False   \n",
       "4               CX8 Premium AWD  ...             False             False   \n",
       "6                 Almera 1.0 MT  ...             False             False   \n",
       "7              Mulsanne 6.75 V8  ...             False             False   \n",
       "\n",
       "   series_SUV  series_Sedan  series_Truck  series_Van/Minivan  \\\n",
       "0        True         False         False               False   \n",
       "2        True         False         False               False   \n",
       "4        True         False         False               False   \n",
       "6       False          True         False               False   \n",
       "7       False          True         False               False   \n",
       "\n",
       "   engine_type_Dầu  engine_type_Hybrid  engine_type_Xăng  engine_type_Điện  \n",
       "0             True               False             False             False  \n",
       "2            False               False              True             False  \n",
       "4            False               False              True             False  \n",
       "6            False               False              True             False  \n",
       "7            False               False              True             False  \n",
       "\n",
       "[5 rows x 27 columns]"
      ],
      "text/html": [
       "<div>\n",
       "<style scoped>\n",
       "    .dataframe tbody tr th:only-of-type {\n",
       "        vertical-align: middle;\n",
       "    }\n",
       "\n",
       "    .dataframe tbody tr th {\n",
       "        vertical-align: top;\n",
       "    }\n",
       "\n",
       "    .dataframe thead th {\n",
       "        text-align: right;\n",
       "    }\n",
       "</style>\n",
       "<table border=\"1\" class=\"dataframe\">\n",
       "  <thead>\n",
       "    <tr style=\"text-align: right;\">\n",
       "      <th></th>\n",
       "      <th>car_name</th>\n",
       "      <th>year</th>\n",
       "      <th>price</th>\n",
       "      <th>assemble_place</th>\n",
       "      <th>series</th>\n",
       "      <th>km</th>\n",
       "      <th>engine_type</th>\n",
       "      <th>transmission</th>\n",
       "      <th>url</th>\n",
       "      <th>model</th>\n",
       "      <th>...</th>\n",
       "      <th>series_Crossover</th>\n",
       "      <th>series_Hatchback</th>\n",
       "      <th>series_SUV</th>\n",
       "      <th>series_Sedan</th>\n",
       "      <th>series_Truck</th>\n",
       "      <th>series_Van/Minivan</th>\n",
       "      <th>engine_type_Dầu</th>\n",
       "      <th>engine_type_Hybrid</th>\n",
       "      <th>engine_type_Xăng</th>\n",
       "      <th>engine_type_Điện</th>\n",
       "    </tr>\n",
       "  </thead>\n",
       "  <tbody>\n",
       "    <tr>\n",
       "      <th>0</th>\n",
       "      <td>Kia Sorento Signature 2.2 AT AWD</td>\n",
       "      <td>4.0</td>\n",
       "      <td>8.990000e+08</td>\n",
       "      <td>0</td>\n",
       "      <td>SUV</td>\n",
       "      <td>-0.014000</td>\n",
       "      <td>Dầu</td>\n",
       "      <td>0</td>\n",
       "      <td>https://bonbanh.com/xe-kia-sorento-signature-2...</td>\n",
       "      <td>Sorento Signature 2.2 AT AWD</td>\n",
       "      <td>...</td>\n",
       "      <td>False</td>\n",
       "      <td>False</td>\n",
       "      <td>True</td>\n",
       "      <td>False</td>\n",
       "      <td>False</td>\n",
       "      <td>False</td>\n",
       "      <td>True</td>\n",
       "      <td>False</td>\n",
       "      <td>False</td>\n",
       "      <td>False</td>\n",
       "    </tr>\n",
       "    <tr>\n",
       "      <th>2</th>\n",
       "      <td>Kia Sorento GATH</td>\n",
       "      <td>6.0</td>\n",
       "      <td>5.680000e+08</td>\n",
       "      <td>0</td>\n",
       "      <td>SUV</td>\n",
       "      <td>-0.007020</td>\n",
       "      <td>Xăng</td>\n",
       "      <td>0</td>\n",
       "      <td>https://bonbanh.com/xe-kia-sorento-gath-2018-5...</td>\n",
       "      <td>Sorento GATH</td>\n",
       "      <td>...</td>\n",
       "      <td>False</td>\n",
       "      <td>False</td>\n",
       "      <td>True</td>\n",
       "      <td>False</td>\n",
       "      <td>False</td>\n",
       "      <td>False</td>\n",
       "      <td>False</td>\n",
       "      <td>False</td>\n",
       "      <td>True</td>\n",
       "      <td>False</td>\n",
       "    </tr>\n",
       "    <tr>\n",
       "      <th>4</th>\n",
       "      <td>Mazda CX8 Premium AWD</td>\n",
       "      <td>2.0</td>\n",
       "      <td>9.290000e+08</td>\n",
       "      <td>0</td>\n",
       "      <td>SUV</td>\n",
       "      <td>-0.017490</td>\n",
       "      <td>Xăng</td>\n",
       "      <td>0</td>\n",
       "      <td>https://bonbanh.com/xe-mazda-cx8-premium-awd-2...</td>\n",
       "      <td>CX8 Premium AWD</td>\n",
       "      <td>...</td>\n",
       "      <td>False</td>\n",
       "      <td>False</td>\n",
       "      <td>True</td>\n",
       "      <td>False</td>\n",
       "      <td>False</td>\n",
       "      <td>False</td>\n",
       "      <td>False</td>\n",
       "      <td>False</td>\n",
       "      <td>True</td>\n",
       "      <td>False</td>\n",
       "    </tr>\n",
       "    <tr>\n",
       "      <th>6</th>\n",
       "      <td>Nissan Almera 1.0 MT</td>\n",
       "      <td>2.0</td>\n",
       "      <td>3.690000e+08</td>\n",
       "      <td>1</td>\n",
       "      <td>Sedan</td>\n",
       "      <td>-0.026216</td>\n",
       "      <td>Xăng</td>\n",
       "      <td>1</td>\n",
       "      <td>https://bonbanh.com/xe-nissan-almera-1.0-mt-20...</td>\n",
       "      <td>Almera 1.0 MT</td>\n",
       "      <td>...</td>\n",
       "      <td>False</td>\n",
       "      <td>False</td>\n",
       "      <td>False</td>\n",
       "      <td>True</td>\n",
       "      <td>False</td>\n",
       "      <td>False</td>\n",
       "      <td>False</td>\n",
       "      <td>False</td>\n",
       "      <td>True</td>\n",
       "      <td>False</td>\n",
       "    </tr>\n",
       "    <tr>\n",
       "      <th>7</th>\n",
       "      <td>Bentley Mulsanne 6.75 V8</td>\n",
       "      <td>13.0</td>\n",
       "      <td>4.900000e+09</td>\n",
       "      <td>1</td>\n",
       "      <td>Sedan</td>\n",
       "      <td>-0.007020</td>\n",
       "      <td>Xăng</td>\n",
       "      <td>0</td>\n",
       "      <td>https://bonbanh.com/xe-bentley-mulsanne-6.75-v...</td>\n",
       "      <td>Mulsanne 6.75 V8</td>\n",
       "      <td>...</td>\n",
       "      <td>False</td>\n",
       "      <td>False</td>\n",
       "      <td>False</td>\n",
       "      <td>True</td>\n",
       "      <td>False</td>\n",
       "      <td>False</td>\n",
       "      <td>False</td>\n",
       "      <td>False</td>\n",
       "      <td>True</td>\n",
       "      <td>False</td>\n",
       "    </tr>\n",
       "  </tbody>\n",
       "</table>\n",
       "<p>5 rows × 27 columns</p>\n",
       "</div>"
      ]
     },
     "execution_count": 52,
     "metadata": {},
     "output_type": "execute_result"
    }
   ],
   "execution_count": 52
  },
  {
   "cell_type": "code",
   "metadata": {
    "ExecuteTime": {
     "end_time": "2024-05-30T20:32:13.977723Z",
     "start_time": "2024-05-30T20:32:13.971537Z"
    }
   },
   "source": [
    "print(df.columns)"
   ],
   "outputs": [
    {
     "name": "stdout",
     "output_type": "stream",
     "text": [
      "Index(['car_name', 'year', 'price', 'assemble_place', 'series', 'km',\n",
      "       'engine_type', 'transmission', 'url', 'model', 'brand_segment_LOWEND',\n",
      "       'brand_segment_LUXURY', 'brand_segment_PREMIUM', 'brand_segment_VOLUME',\n",
      "       'series_Bán tải / Pickup', 'series_Convertible/Cabriolet',\n",
      "       'series_Coupe', 'series_Crossover', 'series_Hatchback', 'series_SUV',\n",
      "       'series_Sedan', 'series_Truck', 'series_Van/Minivan', 'engine_type_Dầu',\n",
      "       'engine_type_Hybrid', 'engine_type_Xăng', 'engine_type_Điện'],\n",
      "      dtype='object')\n"
     ]
    }
   ],
   "execution_count": 53
  },
  {
   "cell_type": "code",
   "metadata": {
    "collapsed": false,
    "is_executing": true,
    "ExecuteTime": {
     "end_time": "2024-05-30T20:40:48.576362Z",
     "start_time": "2024-05-30T20:40:48.568839Z"
    }
   },
   "source": [
    "df.drop(['model', 'series', 'engine_type','car_name','url'], axis=1, inplace=True)"
   ],
   "outputs": [],
   "execution_count": 116
  },
  {
   "cell_type": "code",
   "metadata": {
    "collapsed": false,
    "is_executing": true,
    "ExecuteTime": {
     "end_time": "2024-05-30T20:40:50.552296Z",
     "start_time": "2024-05-30T20:40:50.525286Z"
    }
   },
   "source": [
    "df.head()"
   ],
   "outputs": [
    {
     "data": {
      "text/plain": [
       "   year         price  assemble_place        km  transmission         brand  \\\n",
       "0   4.0  8.990000e+08               0 -0.014000             0  5.950712e+08   \n",
       "2   6.0  5.680000e+08               0 -0.007020             0  5.950712e+08   \n",
       "4   2.0  9.290000e+08               0 -0.017490             0  6.160559e+08   \n",
       "6   2.0  3.690000e+08               1 -0.026216             1  4.602449e+08   \n",
       "7  13.0  4.900000e+09               1 -0.007020             0  4.286454e+09   \n",
       "\n",
       "   series_Bán tải / Pickup  series_Convertible/Cabriolet  series_Coupe  \\\n",
       "0                      False                         False         False   \n",
       "2                      False                         False         False   \n",
       "4                      False                         False         False   \n",
       "6                      False                         False         False   \n",
       "7                      False                         False         False   \n",
       "\n",
       "   series_Crossover  series_Hatchback  series_SUV  series_Sedan  series_Truck  \\\n",
       "0             False             False        True         False         False   \n",
       "2             False             False        True         False         False   \n",
       "4             False             False        True         False         False   \n",
       "6             False             False       False          True         False   \n",
       "7             False             False       False          True         False   \n",
       "\n",
       "   series_Van/Minivan  engine_type_Dầu  engine_type_Hybrid  engine_type_Xăng  \\\n",
       "0               False             True               False             False   \n",
       "2               False            False               False              True   \n",
       "4               False            False               False              True   \n",
       "6               False            False               False              True   \n",
       "7               False            False               False              True   \n",
       "\n",
       "   engine_type_Điện  \n",
       "0             False  \n",
       "2             False  \n",
       "4             False  \n",
       "6             False  \n",
       "7             False  "
      ],
      "text/html": [
       "<div>\n",
       "<style scoped>\n",
       "    .dataframe tbody tr th:only-of-type {\n",
       "        vertical-align: middle;\n",
       "    }\n",
       "\n",
       "    .dataframe tbody tr th {\n",
       "        vertical-align: top;\n",
       "    }\n",
       "\n",
       "    .dataframe thead th {\n",
       "        text-align: right;\n",
       "    }\n",
       "</style>\n",
       "<table border=\"1\" class=\"dataframe\">\n",
       "  <thead>\n",
       "    <tr style=\"text-align: right;\">\n",
       "      <th></th>\n",
       "      <th>year</th>\n",
       "      <th>price</th>\n",
       "      <th>assemble_place</th>\n",
       "      <th>km</th>\n",
       "      <th>transmission</th>\n",
       "      <th>brand</th>\n",
       "      <th>series_Bán tải / Pickup</th>\n",
       "      <th>series_Convertible/Cabriolet</th>\n",
       "      <th>series_Coupe</th>\n",
       "      <th>series_Crossover</th>\n",
       "      <th>series_Hatchback</th>\n",
       "      <th>series_SUV</th>\n",
       "      <th>series_Sedan</th>\n",
       "      <th>series_Truck</th>\n",
       "      <th>series_Van/Minivan</th>\n",
       "      <th>engine_type_Dầu</th>\n",
       "      <th>engine_type_Hybrid</th>\n",
       "      <th>engine_type_Xăng</th>\n",
       "      <th>engine_type_Điện</th>\n",
       "    </tr>\n",
       "  </thead>\n",
       "  <tbody>\n",
       "    <tr>\n",
       "      <th>0</th>\n",
       "      <td>4.0</td>\n",
       "      <td>8.990000e+08</td>\n",
       "      <td>0</td>\n",
       "      <td>-0.014000</td>\n",
       "      <td>0</td>\n",
       "      <td>5.950712e+08</td>\n",
       "      <td>False</td>\n",
       "      <td>False</td>\n",
       "      <td>False</td>\n",
       "      <td>False</td>\n",
       "      <td>False</td>\n",
       "      <td>True</td>\n",
       "      <td>False</td>\n",
       "      <td>False</td>\n",
       "      <td>False</td>\n",
       "      <td>True</td>\n",
       "      <td>False</td>\n",
       "      <td>False</td>\n",
       "      <td>False</td>\n",
       "    </tr>\n",
       "    <tr>\n",
       "      <th>2</th>\n",
       "      <td>6.0</td>\n",
       "      <td>5.680000e+08</td>\n",
       "      <td>0</td>\n",
       "      <td>-0.007020</td>\n",
       "      <td>0</td>\n",
       "      <td>5.950712e+08</td>\n",
       "      <td>False</td>\n",
       "      <td>False</td>\n",
       "      <td>False</td>\n",
       "      <td>False</td>\n",
       "      <td>False</td>\n",
       "      <td>True</td>\n",
       "      <td>False</td>\n",
       "      <td>False</td>\n",
       "      <td>False</td>\n",
       "      <td>False</td>\n",
       "      <td>False</td>\n",
       "      <td>True</td>\n",
       "      <td>False</td>\n",
       "    </tr>\n",
       "    <tr>\n",
       "      <th>4</th>\n",
       "      <td>2.0</td>\n",
       "      <td>9.290000e+08</td>\n",
       "      <td>0</td>\n",
       "      <td>-0.017490</td>\n",
       "      <td>0</td>\n",
       "      <td>6.160559e+08</td>\n",
       "      <td>False</td>\n",
       "      <td>False</td>\n",
       "      <td>False</td>\n",
       "      <td>False</td>\n",
       "      <td>False</td>\n",
       "      <td>True</td>\n",
       "      <td>False</td>\n",
       "      <td>False</td>\n",
       "      <td>False</td>\n",
       "      <td>False</td>\n",
       "      <td>False</td>\n",
       "      <td>True</td>\n",
       "      <td>False</td>\n",
       "    </tr>\n",
       "    <tr>\n",
       "      <th>6</th>\n",
       "      <td>2.0</td>\n",
       "      <td>3.690000e+08</td>\n",
       "      <td>1</td>\n",
       "      <td>-0.026216</td>\n",
       "      <td>1</td>\n",
       "      <td>4.602449e+08</td>\n",
       "      <td>False</td>\n",
       "      <td>False</td>\n",
       "      <td>False</td>\n",
       "      <td>False</td>\n",
       "      <td>False</td>\n",
       "      <td>False</td>\n",
       "      <td>True</td>\n",
       "      <td>False</td>\n",
       "      <td>False</td>\n",
       "      <td>False</td>\n",
       "      <td>False</td>\n",
       "      <td>True</td>\n",
       "      <td>False</td>\n",
       "    </tr>\n",
       "    <tr>\n",
       "      <th>7</th>\n",
       "      <td>13.0</td>\n",
       "      <td>4.900000e+09</td>\n",
       "      <td>1</td>\n",
       "      <td>-0.007020</td>\n",
       "      <td>0</td>\n",
       "      <td>4.286454e+09</td>\n",
       "      <td>False</td>\n",
       "      <td>False</td>\n",
       "      <td>False</td>\n",
       "      <td>False</td>\n",
       "      <td>False</td>\n",
       "      <td>False</td>\n",
       "      <td>True</td>\n",
       "      <td>False</td>\n",
       "      <td>False</td>\n",
       "      <td>False</td>\n",
       "      <td>False</td>\n",
       "      <td>True</td>\n",
       "      <td>False</td>\n",
       "    </tr>\n",
       "  </tbody>\n",
       "</table>\n",
       "</div>"
      ]
     },
     "execution_count": 117,
     "metadata": {},
     "output_type": "execute_result"
    }
   ],
   "execution_count": 117
  },
  {
   "cell_type": "code",
   "metadata": {
    "collapsed": false,
    "is_executing": true,
    "ExecuteTime": {
     "end_time": "2024-05-30T20:32:14.016802Z",
     "start_time": "2024-05-30T20:32:14.009766Z"
    }
   },
   "source": [
    "df.dropna(inplace=True)"
   ],
   "outputs": [],
   "execution_count": 56
  },
  {
   "cell_type": "code",
   "metadata": {
    "ExecuteTime": {
     "end_time": "2024-05-30T21:16:00.720921Z",
     "start_time": "2024-05-30T21:16:00.576079Z"
    }
   },
   "source": [
    "model = LinearRegression()\n",
    "X = df.drop('price', axis=1)\n",
    "y = df['price']\n",
    "X_train, X_test, y_train, y_test = train_test_split(X, y, test_size=0.2, random_state=42)\n",
    "model.fit(X_train, y_train)\n",
    "y_pred = model.predict(X_test)\n",
    "print(model.score(X_test, y_test))\n"
   ],
   "outputs": [
    {
     "name": "stdout",
     "output_type": "stream",
     "text": [
      "0.5333186811644978\n"
     ]
    }
   ],
   "execution_count": 133
  },
  {
   "cell_type": "code",
   "metadata": {
    "ExecuteTime": {
     "end_time": "2024-05-30T20:32:14.315996Z",
     "start_time": "2024-05-30T20:32:14.299636Z"
    }
   },
   "source": [
    "df.head()"
   ],
   "outputs": [
    {
     "data": {
      "text/plain": [
       "   year         price  assemble_place        km  transmission  \\\n",
       "0   4.0  8.990000e+08               0 -0.014000             0   \n",
       "2   6.0  5.680000e+08               0 -0.007020             0   \n",
       "4   2.0  9.290000e+08               0 -0.017490             0   \n",
       "6   2.0  3.690000e+08               1 -0.026216             1   \n",
       "7  13.0  4.900000e+09               1 -0.007020             0   \n",
       "\n",
       "   brand_segment_LOWEND  brand_segment_LUXURY  brand_segment_PREMIUM  \\\n",
       "0                  True                 False                  False   \n",
       "2                  True                 False                  False   \n",
       "4                 False                 False                  False   \n",
       "6                  True                 False                  False   \n",
       "7                 False                  True                  False   \n",
       "\n",
       "   brand_segment_VOLUME  series_Bán tải / Pickup  ...  series_Crossover  \\\n",
       "0                 False                      False  ...             False   \n",
       "2                 False                      False  ...             False   \n",
       "4                  True                      False  ...             False   \n",
       "6                 False                      False  ...             False   \n",
       "7                 False                      False  ...             False   \n",
       "\n",
       "   series_Hatchback  series_SUV  series_Sedan  series_Truck  \\\n",
       "0             False        True         False         False   \n",
       "2             False        True         False         False   \n",
       "4             False        True         False         False   \n",
       "6             False       False          True         False   \n",
       "7             False       False          True         False   \n",
       "\n",
       "   series_Van/Minivan  engine_type_Dầu  engine_type_Hybrid  engine_type_Xăng  \\\n",
       "0               False             True               False             False   \n",
       "2               False            False               False              True   \n",
       "4               False            False               False              True   \n",
       "6               False            False               False              True   \n",
       "7               False            False               False              True   \n",
       "\n",
       "   engine_type_Điện  \n",
       "0             False  \n",
       "2             False  \n",
       "4             False  \n",
       "6             False  \n",
       "7             False  \n",
       "\n",
       "[5 rows x 22 columns]"
      ],
      "text/html": [
       "<div>\n",
       "<style scoped>\n",
       "    .dataframe tbody tr th:only-of-type {\n",
       "        vertical-align: middle;\n",
       "    }\n",
       "\n",
       "    .dataframe tbody tr th {\n",
       "        vertical-align: top;\n",
       "    }\n",
       "\n",
       "    .dataframe thead th {\n",
       "        text-align: right;\n",
       "    }\n",
       "</style>\n",
       "<table border=\"1\" class=\"dataframe\">\n",
       "  <thead>\n",
       "    <tr style=\"text-align: right;\">\n",
       "      <th></th>\n",
       "      <th>year</th>\n",
       "      <th>price</th>\n",
       "      <th>assemble_place</th>\n",
       "      <th>km</th>\n",
       "      <th>transmission</th>\n",
       "      <th>brand_segment_LOWEND</th>\n",
       "      <th>brand_segment_LUXURY</th>\n",
       "      <th>brand_segment_PREMIUM</th>\n",
       "      <th>brand_segment_VOLUME</th>\n",
       "      <th>series_Bán tải / Pickup</th>\n",
       "      <th>...</th>\n",
       "      <th>series_Crossover</th>\n",
       "      <th>series_Hatchback</th>\n",
       "      <th>series_SUV</th>\n",
       "      <th>series_Sedan</th>\n",
       "      <th>series_Truck</th>\n",
       "      <th>series_Van/Minivan</th>\n",
       "      <th>engine_type_Dầu</th>\n",
       "      <th>engine_type_Hybrid</th>\n",
       "      <th>engine_type_Xăng</th>\n",
       "      <th>engine_type_Điện</th>\n",
       "    </tr>\n",
       "  </thead>\n",
       "  <tbody>\n",
       "    <tr>\n",
       "      <th>0</th>\n",
       "      <td>4.0</td>\n",
       "      <td>8.990000e+08</td>\n",
       "      <td>0</td>\n",
       "      <td>-0.014000</td>\n",
       "      <td>0</td>\n",
       "      <td>True</td>\n",
       "      <td>False</td>\n",
       "      <td>False</td>\n",
       "      <td>False</td>\n",
       "      <td>False</td>\n",
       "      <td>...</td>\n",
       "      <td>False</td>\n",
       "      <td>False</td>\n",
       "      <td>True</td>\n",
       "      <td>False</td>\n",
       "      <td>False</td>\n",
       "      <td>False</td>\n",
       "      <td>True</td>\n",
       "      <td>False</td>\n",
       "      <td>False</td>\n",
       "      <td>False</td>\n",
       "    </tr>\n",
       "    <tr>\n",
       "      <th>2</th>\n",
       "      <td>6.0</td>\n",
       "      <td>5.680000e+08</td>\n",
       "      <td>0</td>\n",
       "      <td>-0.007020</td>\n",
       "      <td>0</td>\n",
       "      <td>True</td>\n",
       "      <td>False</td>\n",
       "      <td>False</td>\n",
       "      <td>False</td>\n",
       "      <td>False</td>\n",
       "      <td>...</td>\n",
       "      <td>False</td>\n",
       "      <td>False</td>\n",
       "      <td>True</td>\n",
       "      <td>False</td>\n",
       "      <td>False</td>\n",
       "      <td>False</td>\n",
       "      <td>False</td>\n",
       "      <td>False</td>\n",
       "      <td>True</td>\n",
       "      <td>False</td>\n",
       "    </tr>\n",
       "    <tr>\n",
       "      <th>4</th>\n",
       "      <td>2.0</td>\n",
       "      <td>9.290000e+08</td>\n",
       "      <td>0</td>\n",
       "      <td>-0.017490</td>\n",
       "      <td>0</td>\n",
       "      <td>False</td>\n",
       "      <td>False</td>\n",
       "      <td>False</td>\n",
       "      <td>True</td>\n",
       "      <td>False</td>\n",
       "      <td>...</td>\n",
       "      <td>False</td>\n",
       "      <td>False</td>\n",
       "      <td>True</td>\n",
       "      <td>False</td>\n",
       "      <td>False</td>\n",
       "      <td>False</td>\n",
       "      <td>False</td>\n",
       "      <td>False</td>\n",
       "      <td>True</td>\n",
       "      <td>False</td>\n",
       "    </tr>\n",
       "    <tr>\n",
       "      <th>6</th>\n",
       "      <td>2.0</td>\n",
       "      <td>3.690000e+08</td>\n",
       "      <td>1</td>\n",
       "      <td>-0.026216</td>\n",
       "      <td>1</td>\n",
       "      <td>True</td>\n",
       "      <td>False</td>\n",
       "      <td>False</td>\n",
       "      <td>False</td>\n",
       "      <td>False</td>\n",
       "      <td>...</td>\n",
       "      <td>False</td>\n",
       "      <td>False</td>\n",
       "      <td>False</td>\n",
       "      <td>True</td>\n",
       "      <td>False</td>\n",
       "      <td>False</td>\n",
       "      <td>False</td>\n",
       "      <td>False</td>\n",
       "      <td>True</td>\n",
       "      <td>False</td>\n",
       "    </tr>\n",
       "    <tr>\n",
       "      <th>7</th>\n",
       "      <td>13.0</td>\n",
       "      <td>4.900000e+09</td>\n",
       "      <td>1</td>\n",
       "      <td>-0.007020</td>\n",
       "      <td>0</td>\n",
       "      <td>False</td>\n",
       "      <td>True</td>\n",
       "      <td>False</td>\n",
       "      <td>False</td>\n",
       "      <td>False</td>\n",
       "      <td>...</td>\n",
       "      <td>False</td>\n",
       "      <td>False</td>\n",
       "      <td>False</td>\n",
       "      <td>True</td>\n",
       "      <td>False</td>\n",
       "      <td>False</td>\n",
       "      <td>False</td>\n",
       "      <td>False</td>\n",
       "      <td>True</td>\n",
       "      <td>False</td>\n",
       "    </tr>\n",
       "  </tbody>\n",
       "</table>\n",
       "<p>5 rows × 22 columns</p>\n",
       "</div>"
      ]
     },
     "execution_count": 58,
     "metadata": {},
     "output_type": "execute_result"
    }
   ],
   "execution_count": 58
  },
  {
   "cell_type": "code",
   "metadata": {
    "collapsed": false,
    "is_executing": true,
    "ExecuteTime": {
     "end_time": "2024-05-30T20:41:02.508631Z",
     "start_time": "2024-05-30T20:41:02.310175Z"
    }
   },
   "source": [
    "predict = model.predict(X_test)\n",
    "plt.scatter(y_test, predict)\n",
    "plt.xlabel('y_test')\n",
    "plt.ylabel('predict')\n",
    "plt.show()"
   ],
   "outputs": [
    {
     "data": {
      "text/plain": [
       "<Figure size 640x480 with 1 Axes>"
      ],
      "image/png": "[encoded data removed]"
     },
     "metadata": {},
     "output_type": "display_data"
    }
   ],
   "execution_count": 119
  },
  {
   "cell_type": "code",
   "metadata": {
    "collapsed": false,
    "is_executing": true,
    "ExecuteTime": {
     "end_time": "2024-05-30T20:32:14.875762Z",
     "start_time": "2024-05-30T20:32:14.606440Z"
    }
   },
   "source": "sns.histplot((y_test-predict),bins=50);\n",
   "outputs": [
    {
     "data": {
      "text/plain": [
       "<Figure size 640x480 with 1 Axes>"
      ],
      "image/png": "[encoded data removed]"
     },
     "metadata": {},
     "output_type": "display_data"
    }
   ],
   "execution_count": 60
  },
  {
   "cell_type": "code",
   "metadata": {
    "collapsed": false,
    "is_executing": true,
    "ExecuteTime": {
     "end_time": "2024-05-30T20:32:14.886186Z",
     "start_time": "2024-05-30T20:32:14.879066Z"
    }
   },
   "source": [
    "\n",
    "\n",
    "print('MAE:', metrics.mean_absolute_error(y_test, predict))\n",
    "print('MSE:', metrics.mean_squared_error(y_test, predict))\n",
    "print('RMSE:', np.sqrt(metrics.mean_squared_error(y_test, predict)))\n"
   ],
   "outputs": [
    {
     "name": "stdout",
     "output_type": "stream",
     "text": [
      "MAE: 573689421.8739787\n",
      "MSE: 1.482859259153998e+18\n",
      "RMSE: 1217727087.304047\n"
     ]
    }
   ],
   "execution_count": 61
  },
  {
   "cell_type": "code",
   "metadata": {
    "collapsed": false,
    "is_executing": true,
    "ExecuteTime": {
     "end_time": "2024-05-30T20:32:14.895394Z",
     "start_time": "2024-05-30T20:32:14.887730Z"
    }
   },
   "source": [
    "# thử sử dụng random forest"
   ],
   "outputs": [],
   "execution_count": 62
  },
  {
   "cell_type": "code",
   "metadata": {
    "collapsed": false,
    "is_executing": true,
    "ExecuteTime": {
     "end_time": "2024-05-30T20:41:06.575091Z",
     "start_time": "2024-05-30T20:41:06.567371Z"
    }
   },
   "source": [
    "from sklearn.ensemble import RandomForestRegressor\n",
    "\n",
    "rf = RandomForestRegressor(n_estimators=100)\n",
    "rf.get_params()\n"
   ],
   "outputs": [
    {
     "data": {
      "text/plain": [
       "{'bootstrap': True,\n",
       " 'ccp_alpha': 0.0,\n",
       " 'criterion': 'squared_error',\n",
       " 'max_depth': None,\n",
       " 'max_features': 1.0,\n",
       " 'max_leaf_nodes': None,\n",
       " 'max_samples': None,\n",
       " 'min_impurity_decrease': 0.0,\n",
       " 'min_samples_leaf': 1,\n",
       " 'min_samples_split': 2,\n",
       " 'min_weight_fraction_leaf': 0.0,\n",
       " 'monotonic_cst': None,\n",
       " 'n_estimators': 100,\n",
       " 'n_jobs': None,\n",
       " 'oob_score': False,\n",
       " 'random_state': None,\n",
       " 'verbose': 0,\n",
       " 'warm_start': False}"
      ]
     },
     "execution_count": 120,
     "metadata": {},
     "output_type": "execute_result"
    }
   ],
   "execution_count": 120
  },
  {
   "cell_type": "code",
   "metadata": {
    "collapsed": false,
    "is_executing": true,
    "ExecuteTime": {
     "end_time": "2024-05-30T20:41:13.495556Z",
     "start_time": "2024-05-30T20:41:13.489359Z"
    }
   },
   "source": [
    "from sklearn.model_selection import KFold, RandomizedSearchCV\n",
    "\n",
    "\"\"\"\n",
    "+ Search over space of hyperparameters to find acceptable ones\n",
    "+ Two search methods implemented by scikit-learn: GridSearch and RandomSearch\n",
    "+ RandomSearch is faster in case we search over large space (too many combinations of hyperparameters)\n",
    "\"\"\"\n",
    "\n",
    "rf_hyperparams = {\n",
    "    'n_estimators': [200, 300, 400, 500],\n",
    "    'max_depth': [None, 10, 50, 90, 110],\n",
    "    'max_features': ['sqrt'],\n",
    "    'min_samples_split': [2, 5, 10],\n",
    "    'min_samples_leaf': [1, 2, 4],\n",
    "    'bootstrap': [True, False]\n",
    "}\n",
    "\n",
    "rf_randomized_search = RandomizedSearchCV(\n",
    "    estimator = rf,\n",
    "    param_distributions = rf_hyperparams,\n",
    "    n_iter = 10,\n",
    "    cv=KFold(n_splits=10, shuffle=True, random_state=42),\n",
    "    verbose=2,\n",
    "    random_state=42,\n",
    "    n_jobs = -1\n",
    ")\n",
    "\n"
   ],
   "outputs": [],
   "execution_count": 122
  },
  {
   "cell_type": "code",
   "metadata": {
    "collapsed": false,
    "is_executing": true,
    "ExecuteTime": {
     "end_time": "2024-05-30T20:42:00.790705Z",
     "start_time": "2024-05-30T20:41:15.769781Z"
    }
   },
   "source": [
    "rf_randomized_search.fit(X_train, y_train)\n"
   ],
   "outputs": [
    {
     "name": "stdout",
     "output_type": "stream",
     "text": [
      "Fitting 10 folds for each of 10 candidates, totalling 100 fits\n"
     ]
    },
    {
     "data": {
      "text/plain": [
       "RandomizedSearchCV(cv=KFold(n_splits=10, random_state=42, shuffle=True),\n",
       "                   estimator=RandomForestRegressor(), n_jobs=-1,\n",
       "                   param_distributions={'bootstrap': [True, False],\n",
       "                                        'max_depth': [None, 10, 50, 90, 110],\n",
       "                                        'max_features': ['sqrt'],\n",
       "                                        'min_samples_leaf': [1, 2, 4],\n",
       "                                        'min_samples_split': [2, 5, 10],\n",
       "                                        'n_estimators': [200, 300, 400, 500]},\n",
       "                   random_state=42, verbose=2)"
      ],
      "text/html": [
       "<style>#sk-container-id-1 {\n",
       "  /* Definition of color scheme common for light and dark mode */\n",
       "  --sklearn-color-text: black;\n",
       "  --sklearn-color-line: gray;\n",
       "  /* Definition of color scheme for unfitted estimators */\n",
       "  --sklearn-color-unfitted-level-0: #fff5e6;\n",
       "  --sklearn-color-unfitted-level-1: #f6e4d2;\n",
       "  --sklearn-color-unfitted-level-2: #ffe0b3;\n",
       "  --sklearn-color-unfitted-level-3: chocolate;\n",
       "  /* Definition of color scheme for fitted estimators */\n",
       "  --sklearn-color-fitted-level-0: #f0f8ff;\n",
       "  --sklearn-color-fitted-level-1: #d4ebff;\n",
       "  --sklearn-color-fitted-level-2: #b3dbfd;\n",
       "  --sklearn-color-fitted-level-3: cornflowerblue;\n",
       "\n",
       "  /* Specific color for light theme */\n",
       "  --sklearn-color-text-on-default-background: var(--sg-text-color, var(--theme-code-foreground, var(--jp-content-font-color1, black)));\n",
       "  --sklearn-color-background: var(--sg-background-color, var(--theme-background, var(--jp-layout-color0, white)));\n",
       "  --sklearn-color-border-box: var(--sg-text-color, var(--theme-code-foreground, var(--jp-content-font-color1, black)));\n",
       "  --sklearn-color-icon: #696969;\n",
       "\n",
       "  @media (prefers-color-scheme: dark) {\n",
       "    /* Redefinition of color scheme for dark theme */\n",
       "    --sklearn-color-text-on-default-background: var(--sg-text-color, var(--theme-code-foreground, var(--jp-content-font-color1, white)));\n",
       "    --sklearn-color-background: var(--sg-background-color, var(--theme-background, var(--jp-layout-color0, #111)));\n",
       "    --sklearn-color-border-box: var(--sg-text-color, var(--theme-code-foreground, var(--jp-content-font-color1, white)));\n",
       "    --sklearn-color-icon: #878787;\n",
       "  }\n",
       "}\n",
       "\n",
       "#sk-container-id-1 {\n",
       "  color: var(--sklearn-color-text);\n",
       "}\n",
       "\n",
       "#sk-container-id-1 pre {\n",
       "  padding: 0;\n",
       "}\n",
       "\n",
       "#sk-container-id-1 input.sk-hidden--visually {\n",
       "  border: 0;\n",
       "  clip: rect(1px 1px 1px 1px);\n",
       "  clip: rect(1px, 1px, 1px, 1px);\n",
       "  height: 1px;\n",
       "  margin: -1px;\n",
       "  overflow: hidden;\n",
       "  padding: 0;\n",
       "  position: absolute;\n",
       "  width: 1px;\n",
       "}\n",
       "\n",
       "#sk-container-id-1 div.sk-dashed-wrapped {\n",
       "  border: 1px dashed var(--sklearn-color-line);\n",
       "  margin: 0 0.4em 0.5em 0.4em;\n",
       "  box-sizing: border-box;\n",
       "  padding-bottom: 0.4em;\n",
       "  background-color: var(--sklearn-color-background);\n",
       "}\n",
       "\n",
       "#sk-container-id-1 div.sk-container {\n",
       "  /* jupyter's `normalize.less` sets `[hidden] { display: none; }`\n",
       "     but bootstrap.min.css set `[hidden] { display: none !important; }`\n",
       "     so we also need the `!important` here to be able to override the\n",
       "     default hidden behavior on the sphinx rendered scikit-learn.org.\n",
       "     See: https://github.com/scikit-learn/scikit-learn/issues/21755 */\n",
       "  display: inline-block !important;\n",
       "  position: relative;\n",
       "}\n",
       "\n",
       "#sk-container-id-1 div.sk-text-repr-fallback {\n",
       "  display: none;\n",
       "}\n",
       "\n",
       "div.sk-parallel-item,\n",
       "div.sk-serial,\n",
       "div.sk-item {\n",
       "  /* draw centered vertical line to link estimators */\n",
       "  background-image: linear-gradient(var(--sklearn-color-text-on-default-background), var(--sklearn-color-text-on-default-background));\n",
       "  background-size: 2px 100%;\n",
       "  background-repeat: no-repeat;\n",
       "  background-position: center center;\n",
       "}\n",
       "\n",
       "/* Parallel-specific style estimator block */\n",
       "\n",
       "#sk-container-id-1 div.sk-parallel-item::after {\n",
       "  content: \"\";\n",
       "  width: 100%;\n",
       "  border-bottom: 2px solid var(--sklearn-color-text-on-default-background);\n",
       "  flex-grow: 1;\n",
       "}\n",
       "\n",
       "#sk-container-id-1 div.sk-parallel {\n",
       "  display: flex;\n",
       "  align-items: stretch;\n",
       "  justify-content: center;\n",
       "  background-color: var(--sklearn-color-background);\n",
       "  position: relative;\n",
       "}\n",
       "\n",
       "#sk-container-id-1 div.sk-parallel-item {\n",
       "  display: flex;\n",
       "  flex-direction: column;\n",
       "}\n",
       "\n",
       "#sk-container-id-1 div.sk-parallel-item:first-child::after {\n",
       "  align-self: flex-end;\n",
       "  width: 50%;\n",
       "}\n",
       "\n",
       "#sk-container-id-1 div.sk-parallel-item:last-child::after {\n",
       "  align-self: flex-start;\n",
       "  width: 50%;\n",
       "}\n",
       "\n",
       "#sk-container-id-1 div.sk-parallel-item:only-child::after {\n",
       "  width: 0;\n",
       "}\n",
       "\n",
       "/* Serial-specific style estimator block */\n",
       "\n",
       "#sk-container-id-1 div.sk-serial {\n",
       "  display: flex;\n",
       "  flex-direction: column;\n",
       "  align-items: center;\n",
       "  background-color: var(--sklearn-color-background);\n",
       "  padding-right: 1em;\n",
       "  padding-left: 1em;\n",
       "}\n",
       "\n",
       "\n",
       "/* Toggleable style: style used for estimator/Pipeline/ColumnTransformer box that is\n",
       "clickable and can be expanded/collapsed.\n",
       "- Pipeline and ColumnTransformer use this feature and define the default style\n",
       "- Estimators will overwrite some part of the style using the `sk-estimator` class\n",
       "*/\n",
       "\n",
       "/* Pipeline and ColumnTransformer style (default) */\n",
       "\n",
       "#sk-container-id-1 div.sk-toggleable {\n",
       "  /* Default theme specific background. It is overwritten whether we have a\n",
       "  specific estimator or a Pipeline/ColumnTransformer */\n",
       "  background-color: var(--sklearn-color-background);\n",
       "}\n",
       "\n",
       "/* Toggleable label */\n",
       "#sk-container-id-1 label.sk-toggleable__label {\n",
       "  cursor: pointer;\n",
       "  display: block;\n",
       "  width: 100%;\n",
       "  margin-bottom: 0;\n",
       "  padding: 0.5em;\n",
       "  box-sizing: border-box;\n",
       "  text-align: center;\n",
       "}\n",
       "\n",
       "#sk-container-id-1 label.sk-toggleable__label-arrow:before {\n",
       "  /* Arrow on the left of the label */\n",
       "  content: \"▸\";\n",
       "  float: left;\n",
       "  margin-right: 0.25em;\n",
       "  color: var(--sklearn-color-icon);\n",
       "}\n",
       "\n",
       "#sk-container-id-1 label.sk-toggleable__label-arrow:hover:before {\n",
       "  color: var(--sklearn-color-text);\n",
       "}\n",
       "\n",
       "/* Toggleable content - dropdown */\n",
       "\n",
       "#sk-container-id-1 div.sk-toggleable__content {\n",
       "  max-height: 0;\n",
       "  max-width: 0;\n",
       "  overflow: hidden;\n",
       "  text-align: left;\n",
       "  /* unfitted */\n",
       "  background-color: var(--sklearn-color-unfitted-level-0);\n",
       "}\n",
       "\n",
       "#sk-container-id-1 div.sk-toggleable__content.fitted {\n",
       "  /* fitted */\n",
       "  background-color: var(--sklearn-color-fitted-level-0);\n",
       "}\n",
       "\n",
       "#sk-container-id-1 div.sk-toggleable__content pre {\n",
       "  margin: 0.2em;\n",
       "  border-radius: 0.25em;\n",
       "  color: var(--sklearn-color-text);\n",
       "  /* unfitted */\n",
       "  background-color: var(--sklearn-color-unfitted-level-0);\n",
       "}\n",
       "\n",
       "#sk-container-id-1 div.sk-toggleable__content.fitted pre {\n",
       "  /* unfitted */\n",
       "  background-color: var(--sklearn-color-fitted-level-0);\n",
       "}\n",
       "\n",
       "#sk-container-id-1 input.sk-toggleable__control:checked~div.sk-toggleable__content {\n",
       "  /* Expand drop-down */\n",
       "  max-height: 200px;\n",
       "  max-width: 100%;\n",
       "  overflow: auto;\n",
       "}\n",
       "\n",
       "#sk-container-id-1 input.sk-toggleable__control:checked~label.sk-toggleable__label-arrow:before {\n",
       "  content: \"▾\";\n",
       "}\n",
       "\n",
       "/* Pipeline/ColumnTransformer-specific style */\n",
       "\n",
       "#sk-container-id-1 div.sk-label input.sk-toggleable__control:checked~label.sk-toggleable__label {\n",
       "  color: var(--sklearn-color-text);\n",
       "  background-color: var(--sklearn-color-unfitted-level-2);\n",
       "}\n",
       "\n",
       "#sk-container-id-1 div.sk-label.fitted input.sk-toggleable__control:checked~label.sk-toggleable__label {\n",
       "  background-color: var(--sklearn-color-fitted-level-2);\n",
       "}\n",
       "\n",
       "/* Estimator-specific style */\n",
       "\n",
       "/* Colorize estimator box */\n",
       "#sk-container-id-1 div.sk-estimator input.sk-toggleable__control:checked~label.sk-toggleable__label {\n",
       "  /* unfitted */\n",
       "  background-color: var(--sklearn-color-unfitted-level-2);\n",
       "}\n",
       "\n",
       "#sk-container-id-1 div.sk-estimator.fitted input.sk-toggleable__control:checked~label.sk-toggleable__label {\n",
       "  /* fitted */\n",
       "  background-color: var(--sklearn-color-fitted-level-2);\n",
       "}\n",
       "\n",
       "#sk-container-id-1 div.sk-label label.sk-toggleable__label,\n",
       "#sk-container-id-1 div.sk-label label {\n",
       "  /* The background is the default theme color */\n",
       "  color: var(--sklearn-color-text-on-default-background);\n",
       "}\n",
       "\n",
       "/* On hover, darken the color of the background */\n",
       "#sk-container-id-1 div.sk-label:hover label.sk-toggleable__label {\n",
       "  color: var(--sklearn-color-text);\n",
       "  background-color: var(--sklearn-color-unfitted-level-2);\n",
       "}\n",
       "\n",
       "/* Label box, darken color on hover, fitted */\n",
       "#sk-container-id-1 div.sk-label.fitted:hover label.sk-toggleable__label.fitted {\n",
       "  color: var(--sklearn-color-text);\n",
       "  background-color: var(--sklearn-color-fitted-level-2);\n",
       "}\n",
       "\n",
       "/* Estimator label */\n",
       "\n",
       "#sk-container-id-1 div.sk-label label {\n",
       "  font-family: monospace;\n",
       "  font-weight: bold;\n",
       "  display: inline-block;\n",
       "  line-height: 1.2em;\n",
       "}\n",
       "\n",
       "#sk-container-id-1 div.sk-label-container {\n",
       "  text-align: center;\n",
       "}\n",
       "\n",
       "/* Estimator-specific */\n",
       "#sk-container-id-1 div.sk-estimator {\n",
       "  font-family: monospace;\n",
       "  border: 1px dotted var(--sklearn-color-border-box);\n",
       "  border-radius: 0.25em;\n",
       "  box-sizing: border-box;\n",
       "  margin-bottom: 0.5em;\n",
       "  /* unfitted */\n",
       "  background-color: var(--sklearn-color-unfitted-level-0);\n",
       "}\n",
       "\n",
       "#sk-container-id-1 div.sk-estimator.fitted {\n",
       "  /* fitted */\n",
       "  background-color: var(--sklearn-color-fitted-level-0);\n",
       "}\n",
       "\n",
       "/* on hover */\n",
       "#sk-container-id-1 div.sk-estimator:hover {\n",
       "  /* unfitted */\n",
       "  background-color: var(--sklearn-color-unfitted-level-2);\n",
       "}\n",
       "\n",
       "#sk-container-id-1 div.sk-estimator.fitted:hover {\n",
       "  /* fitted */\n",
       "  background-color: var(--sklearn-color-fitted-level-2);\n",
       "}\n",
       "\n",
       "/* Specification for estimator info (e.g. \"i\" and \"?\") */\n",
       "\n",
       "/* Common style for \"i\" and \"?\" */\n",
       "\n",
       ".sk-estimator-doc-link,\n",
       "a:link.sk-estimator-doc-link,\n",
       "a:visited.sk-estimator-doc-link {\n",
       "  float: right;\n",
       "  font-size: smaller;\n",
       "  line-height: 1em;\n",
       "  font-family: monospace;\n",
       "  background-color: var(--sklearn-color-background);\n",
       "  border-radius: 1em;\n",
       "  height: 1em;\n",
       "  width: 1em;\n",
       "  text-decoration: none !important;\n",
       "  margin-left: 1ex;\n",
       "  /* unfitted */\n",
       "  border: var(--sklearn-color-unfitted-level-1) 1pt solid;\n",
       "  color: var(--sklearn-color-unfitted-level-1);\n",
       "}\n",
       "\n",
       ".sk-estimator-doc-link.fitted,\n",
       "a:link.sk-estimator-doc-link.fitted,\n",
       "a:visited.sk-estimator-doc-link.fitted {\n",
       "  /* fitted */\n",
       "  border: var(--sklearn-color-fitted-level-1) 1pt solid;\n",
       "  color: var(--sklearn-color-fitted-level-1);\n",
       "}\n",
       "\n",
       "/* On hover */\n",
       "div.sk-estimator:hover .sk-estimator-doc-link:hover,\n",
       ".sk-estimator-doc-link:hover,\n",
       "div.sk-label-container:hover .sk-estimator-doc-link:hover,\n",
       ".sk-estimator-doc-link:hover {\n",
       "  /* unfitted */\n",
       "  background-color: var(--sklearn-color-unfitted-level-3);\n",
       "  color: var(--sklearn-color-background);\n",
       "  text-decoration: none;\n",
       "}\n",
       "\n",
       "div.sk-estimator.fitted:hover .sk-estimator-doc-link.fitted:hover,\n",
       ".sk-estimator-doc-link.fitted:hover,\n",
       "div.sk-label-container:hover .sk-estimator-doc-link.fitted:hover,\n",
       ".sk-estimator-doc-link.fitted:hover {\n",
       "  /* fitted */\n",
       "  background-color: var(--sklearn-color-fitted-level-3);\n",
       "  color: var(--sklearn-color-background);\n",
       "  text-decoration: none;\n",
       "}\n",
       "\n",
       "/* Span, style for the box shown on hovering the info icon */\n",
       ".sk-estimator-doc-link span {\n",
       "  display: none;\n",
       "  z-index: 9999;\n",
       "  position: relative;\n",
       "  font-weight: normal;\n",
       "  right: .2ex;\n",
       "  padding: .5ex;\n",
       "  margin: .5ex;\n",
       "  width: min-content;\n",
       "  min-width: 20ex;\n",
       "  max-width: 50ex;\n",
       "  color: var(--sklearn-color-text);\n",
       "  box-shadow: 2pt 2pt 4pt #999;\n",
       "  /* unfitted */\n",
       "  background: var(--sklearn-color-unfitted-level-0);\n",
       "  border: .5pt solid var(--sklearn-color-unfitted-level-3);\n",
       "}\n",
       "\n",
       ".sk-estimator-doc-link.fitted span {\n",
       "  /* fitted */\n",
       "  background: var(--sklearn-color-fitted-level-0);\n",
       "  border: var(--sklearn-color-fitted-level-3);\n",
       "}\n",
       "\n",
       ".sk-estimator-doc-link:hover span {\n",
       "  display: block;\n",
       "}\n",
       "\n",
       "/* \"?\"-specific style due to the `<a>` HTML tag */\n",
       "\n",
       "#sk-container-id-1 a.estimator_doc_link {\n",
       "  float: right;\n",
       "  font-size: 1rem;\n",
       "  line-height: 1em;\n",
       "  font-family: monospace;\n",
       "  background-color: var(--sklearn-color-background);\n",
       "  border-radius: 1rem;\n",
       "  height: 1rem;\n",
       "  width: 1rem;\n",
       "  text-decoration: none;\n",
       "  /* unfitted */\n",
       "  color: var(--sklearn-color-unfitted-level-1);\n",
       "  border: var(--sklearn-color-unfitted-level-1) 1pt solid;\n",
       "}\n",
       "\n",
       "#sk-container-id-1 a.estimator_doc_link.fitted {\n",
       "  /* fitted */\n",
       "  border: var(--sklearn-color-fitted-level-1) 1pt solid;\n",
       "  color: var(--sklearn-color-fitted-level-1);\n",
       "}\n",
       "\n",
       "/* On hover */\n",
       "#sk-container-id-1 a.estimator_doc_link:hover {\n",
       "  /* unfitted */\n",
       "  background-color: var(--sklearn-color-unfitted-level-3);\n",
       "  color: var(--sklearn-color-background);\n",
       "  text-decoration: none;\n",
       "}\n",
       "\n",
       "#sk-container-id-1 a.estimator_doc_link.fitted:hover {\n",
       "  /* fitted */\n",
       "  background-color: var(--sklearn-color-fitted-level-3);\n",
       "}\n",
       "</style><div id=\"sk-container-id-1\" class=\"sk-top-container\"><div class=\"sk-text-repr-fallback\"><pre>RandomizedSearchCV(cv=KFold(n_splits=10, random_state=42, shuffle=True),\n",
       "                   estimator=RandomForestRegressor(), n_jobs=-1,\n",
       "                   param_distributions={&#x27;bootstrap&#x27;: [True, False],\n",
       "                                        &#x27;max_depth&#x27;: [None, 10, 50, 90, 110],\n",
       "                                        &#x27;max_features&#x27;: [&#x27;sqrt&#x27;],\n",
       "                                        &#x27;min_samples_leaf&#x27;: [1, 2, 4],\n",
       "                                        &#x27;min_samples_split&#x27;: [2, 5, 10],\n",
       "                                        &#x27;n_estimators&#x27;: [200, 300, 400, 500]},\n",
       "                   random_state=42, verbose=2)</pre><b>In a Jupyter environment, please rerun this cell to show the HTML representation or trust the notebook. <br />On GitHub, the HTML representation is unable to render, please try loading this page with nbviewer.org.</b></div><div class=\"sk-container\" hidden><div class=\"sk-item sk-dashed-wrapped\"><div class=\"sk-label-container\"><div class=\"sk-label fitted sk-toggleable\"><input class=\"sk-toggleable__control sk-hidden--visually\" id=\"sk-estimator-id-1\" type=\"checkbox\" ><label for=\"sk-estimator-id-1\" class=\"sk-toggleable__label fitted sk-toggleable__label-arrow fitted\">&nbsp;&nbsp;RandomizedSearchCV<a class=\"sk-estimator-doc-link fitted\" rel=\"noreferrer\" target=\"_blank\" href=\"https://scikit-learn.org/1.5/modules/generated/sklearn.model_selection.RandomizedSearchCV.html\">?<span>Documentation for RandomizedSearchCV</span></a><span class=\"sk-estimator-doc-link fitted\">i<span>Fitted</span></span></label><div class=\"sk-toggleable__content fitted\"><pre>RandomizedSearchCV(cv=KFold(n_splits=10, random_state=42, shuffle=True),\n",
       "                   estimator=RandomForestRegressor(), n_jobs=-1,\n",
       "                   param_distributions={&#x27;bootstrap&#x27;: [True, False],\n",
       "                                        &#x27;max_depth&#x27;: [None, 10, 50, 90, 110],\n",
       "                                        &#x27;max_features&#x27;: [&#x27;sqrt&#x27;],\n",
       "                                        &#x27;min_samples_leaf&#x27;: [1, 2, 4],\n",
       "                                        &#x27;min_samples_split&#x27;: [2, 5, 10],\n",
       "                                        &#x27;n_estimators&#x27;: [200, 300, 400, 500]},\n",
       "                   random_state=42, verbose=2)</pre></div> </div></div><div class=\"sk-parallel\"><div class=\"sk-parallel-item\"><div class=\"sk-item\"><div class=\"sk-label-container\"><div class=\"sk-label fitted sk-toggleable\"><input class=\"sk-toggleable__control sk-hidden--visually\" id=\"sk-estimator-id-2\" type=\"checkbox\" ><label for=\"sk-estimator-id-2\" class=\"sk-toggleable__label fitted sk-toggleable__label-arrow fitted\">best_estimator_: RandomForestRegressor</label><div class=\"sk-toggleable__content fitted\"><pre>RandomForestRegressor(bootstrap=False, max_depth=90, max_features=&#x27;sqrt&#x27;,\n",
       "                      min_samples_leaf=2, n_estimators=400)</pre></div> </div></div><div class=\"sk-serial\"><div class=\"sk-item\"><div class=\"sk-estimator fitted sk-toggleable\"><input class=\"sk-toggleable__control sk-hidden--visually\" id=\"sk-estimator-id-3\" type=\"checkbox\" ><label for=\"sk-estimator-id-3\" class=\"sk-toggleable__label fitted sk-toggleable__label-arrow fitted\">&nbsp;RandomForestRegressor<a class=\"sk-estimator-doc-link fitted\" rel=\"noreferrer\" target=\"_blank\" href=\"https://scikit-learn.org/1.5/modules/generated/sklearn.ensemble.RandomForestRegressor.html\">?<span>Documentation for RandomForestRegressor</span></a></label><div class=\"sk-toggleable__content fitted\"><pre>RandomForestRegressor(bootstrap=False, max_depth=90, max_features=&#x27;sqrt&#x27;,\n",
       "                      min_samples_leaf=2, n_estimators=400)</pre></div> </div></div></div></div></div></div></div></div></div>"
      ]
     },
     "execution_count": 123,
     "metadata": {},
     "output_type": "execute_result"
    }
   ],
   "execution_count": 123
  },
  {
   "cell_type": "code",
   "metadata": {
    "collapsed": false,
    "is_executing": true,
    "ExecuteTime": {
     "end_time": "2024-05-30T20:42:20.786796Z",
     "start_time": "2024-05-30T20:42:20.573800Z"
    }
   },
   "source": [
    "rf_randomized_search.score(X_test, y_test)"
   ],
   "outputs": [
    {
     "data": {
      "text/plain": [
       "0.8240194876982042"
      ]
     },
     "execution_count": 124,
     "metadata": {},
     "output_type": "execute_result"
    }
   ],
   "execution_count": 124
  },
  {
   "metadata": {
    "ExecuteTime": {
     "end_time": "2024-05-30T21:16:54.309981Z",
     "start_time": "2024-05-30T21:16:54.267982Z"
    }
   },
   "cell_type": "code",
   "source": "",
   "outputs": [
    {
     "name": "stdout",
     "output_type": "stream",
     "text": [
      "Feature ranking:\n",
      "year: 8.876903553726152e-05\n",
      "assemble_place: 0.00011135372324852206\n",
      "km: 0.001284903528910872\n",
      "transmission: 0.0034971540912132333\n",
      "brand: 0.0038133175354108885\n",
      "series_Bán tải / Pickup: 0.005523034356081265\n",
      "series_Convertible/Cabriolet: 0.0055419291687774964\n",
      "series_Coupe: 0.006571679570564624\n",
      "series_Crossover: 0.008251450691619018\n",
      "series_Hatchback: 0.009023244701816317\n",
      "series_SUV: 0.009131792431153614\n",
      "series_Sedan: 0.010623601180807811\n",
      "series_Truck: 0.012203944491022061\n",
      "series_Van/Minivan: 0.02485706808848919\n",
      "engine_type_Dầu: 0.09366358612256165\n",
      "engine_type_Hybrid: 0.10091728939278923\n",
      "engine_type_Xăng: 0.18083754716038225\n",
      "engine_type_Điện: 0.5240583347296148\n"
     ]
    }
   ],
   "execution_count": 135
  },
  {
   "cell_type": "code",
   "metadata": {
    "collapsed": false,
    "is_executing": true,
    "ExecuteTime": {
     "end_time": "2024-05-30T20:42:25.122018Z",
     "start_time": "2024-05-30T20:42:24.098284Z"
    }
   },
   "source": [
    "print('MAE:', metrics.mean_absolute_error(y_test, rf_randomized_search.predict(X_test)))\n",
    "print('MSE:', metrics.mean_squared_error(y_test, rf_randomized_search.predict(X_test)))\n",
    "print('RMSE:', np.sqrt(metrics.mean_squared_error(y_test, rf_randomized_search.predict(X_test))))\n"
   ],
   "outputs": [
    {
     "name": "stdout",
     "output_type": "stream",
     "text": [
      "MAE: 245776520.87919354\n",
      "MSE: 4.556200739024877e+17\n",
      "RMSE: 674996351.0290169\n"
     ]
    }
   ],
   "execution_count": 125
  },
  {
   "cell_type": "code",
   "metadata": {
    "collapsed": false,
    "is_executing": true,
    "ExecuteTime": {
     "end_time": "2024-05-30T20:42:27.917606Z",
     "start_time": "2024-05-30T20:42:27.891282Z"
    }
   },
   "source": [
    "# predict thử cho xe có url:https://bonbanh.com/xe-toyota-prado-vx-2.7l-2022-4925201 trong tập data set\n",
    "car =save_df[save_df['url'] == 'https://bonbanh.com/xe-peugeot-3008-al-2022-5577577']\n",
    "car.drop(['model', 'series', 'engine_type','car_name','url','price'], axis=1, inplace=True)\n",
    "print('price of car is: ',rf_randomized_search.predict(car)[0])\n"
   ],
   "outputs": [
    {
     "name": "stdout",
     "output_type": "stream",
     "text": [
      "price of car is:  683531564.8981954\n"
     ]
    },
    {
     "name": "stderr",
     "output_type": "stream",
     "text": [
      "C:\\Users\\NamNV\\AppData\\Local\\Temp\\ipykernel_2344\\3925268102.py:3: SettingWithCopyWarning: \n",
      "A value is trying to be set on a copy of a slice from a DataFrame\n",
      "\n",
      "See the caveats in the documentation: https://pandas.pydata.org/pandas-docs/stable/user_guide/indexing.html#returning-a-view-versus-a-copy\n",
      "  car.drop(['model', 'series', 'engine_type','car_name','url','price'], axis=1, inplace=True)\n"
     ]
    }
   ],
   "execution_count": 126
  },
  {
   "metadata": {
    "ExecuteTime": {
     "end_time": "2024-05-30T20:45:55.763286Z",
     "start_time": "2024-05-30T20:45:55.661545Z"
    }
   },
   "cell_type": "code",
   "source": [
    "lgbm = lgb.LGBMRegressor()\n",
    "lgbm.fit(X_train, y_train)\n",
    "\n",
    "y_pred = lgbm.predict(X_test)\n",
    "print('MAE:', metrics.mean_absolute_error(y_test, y_pred))\n",
    "print('MSE:', metrics.mean_squared_error(y_test, y_pred))\n",
    "print('RMSE:', np.sqrt(metrics.mean_squared_error(y_test, y_pred)))\n",
    "#score\n",
    "print(\"score: \",lgbm.score(X_test,y_test))"
   ],
   "outputs": [
    {
     "name": "stdout",
     "output_type": "stream",
     "text": [
      "[LightGBM] [Warning] Found whitespace in feature_names, replace with underlines\n",
      "[LightGBM] [Info] Auto-choosing row-wise multi-threading, the overhead of testing was 0.000754 seconds.\n",
      "You can set `force_row_wise=true` to remove the overhead.\n",
      "And if memory is not enough, you can set `force_col_wise=true`.\n",
      "[LightGBM] [Info] Total Bins 347\n",
      "[LightGBM] [Info] Number of data points in the train set: 9756, number of used features: 18\n",
      "[LightGBM] [Info] Start training from score 1159885304.357524\n",
      "MAE: 305750530.0458264\n",
      "MSE: 5.6274373273302995e+17\n",
      "RMSE: 750162470.8908263\n",
      "score:  0.7826436189855446\n"
     ]
    }
   ],
   "execution_count": 131
  },
  {
   "cell_type": "code",
   "metadata": {
    "collapsed": false,
    "is_executing": true
   },
   "source": [
    "from sklearn.linear_model import Ridge\n",
    "rg = Ridge(alpha=1.0)\n",
    "rg.fit(X_train, y_train)\n",
    "rg.score(X_test, y_test)\n"
   ],
   "outputs": [],
   "execution_count": null
  },
  {
   "cell_type": "code",
   "metadata": {
    "collapsed": false,
    "is_executing": true
   },
   "source": [
    "#Support Vector Regression"
   ],
   "outputs": [],
   "execution_count": null
  },
  {
   "cell_type": "code",
   "metadata": {
    "collapsed": false,
    "is_executing": true
   },
   "source": [
    "from sklearn.svm import SVR\n",
    "\n",
    "svr = SVR(kernel='rbf')\n",
    "svr.fit(X_train, y_train)\n",
    "svr.score(X_test, y_test)"
   ],
   "outputs": [],
   "execution_count": null
  },
  {
   "cell_type": "code",
   "metadata": {},
   "source": [
    "df.head()"
   ],
   "outputs": [],
   "execution_count": null
  },
  {
   "cell_type": "code",
   "metadata": {},
   "source": [
    "from sklearn.neural_network import MLPRegressor\n",
    "from sklearn.model_selection import GridSearchCV\n",
    "\n",
    "# Định nghĩa lưới các tham số\n",
    "param_grid = {\n",
    "    'hidden_layer_sizes': [(50,), (100,), (50,50)],\n",
    "    'activation': ['tanh', 'relu'],\n",
    "    'solver': ['sgd', 'adam'],\n",
    "    'alpha': [0.0001, 0.05],\n",
    "    'learning_rate': ['constant','adaptive'],\n",
    "}\n",
    "\n",
    "mlp = MLPRegressor(max_iter=500)\n",
    "\n",
    "clf = GridSearchCV(mlp, param_grid, cv=5, scoring='neg_mean_squared_error')\n",
    "\n",
    "clf.fit(X_train, y_train)\n",
    "\n",
    "print(f'Best parameters: {clf.best_params_}')\n"
   ],
   "outputs": [],
   "execution_count": null
  },
  {
   "cell_type": "code",
   "metadata": {},
   "source": [
    "clf.score(X_test, y_test)"
   ],
   "outputs": [],
   "execution_count": null
  },
  {
   "attachments": {},
   "cell_type": "markdown",
   "metadata": {
    "collapsed": false
   },
   "source": [
    "\n"
   ]
  }
 ],
 "metadata": {
  "kernelspec": {
   "display_name": "Python 3",
   "language": "python",
   "name": "python3"
  },
  "language_info": {
   "codemirror_mode": {
    "name": "ipython",
    "version": 3
   },
   "file_extension": ".py",
   "mimetype": "text/x-python",
   "name": "python",
   "nbconvert_exporter": "python",
   "pygments_lexer": "ipython3",
   "version": "3.10.8"
  }
 },
 "nbformat": 4,
 "nbformat_minor": 0
}
