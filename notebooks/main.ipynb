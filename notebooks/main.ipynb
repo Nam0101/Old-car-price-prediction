{
 "cells": [
  {
   "attachments": {},
   "cell_type": "markdown",
   "metadata": {
    "collapsed": false
   },
   "source": [
    "# Import library"
   ]
  },
  {
   "cell_type": "code",
   "execution_count": 1,
   "metadata": {
    "collapsed": true,
    "is_executing": true
   },
   "outputs": [],
   "source": [
    "import copy\n",
    "import numpy as np\n",
    "import pandas as pd\n",
    "from sklearn.preprocessing import OneHotEncoder\n",
    "import matplotlib.pyplot as plt\n",
    "import seaborn as sns\n",
    "from sklearn.preprocessing import StandardScaler\n",
    "from sklearn.model_selection import train_test_split\n",
    "from sklearn.metrics import mean_squared_error\n",
    "from sklearn.linear_model import LinearRegression\n",
    "from sklearn import metrics"
   ]
  },
  {
   "attachments": {},
   "cell_type": "markdown",
   "metadata": {
    "collapsed": false
   },
   "source": [
    "# Load data"
   ]
  },
  {
   "cell_type": "code",
   "execution_count": 2,
   "metadata": {
    "collapsed": false,
    "is_executing": true
   },
   "outputs": [],
   "source": [
    "df = pd.read_csv('../data/data.csv')"
   ]
  },
  {
   "attachments": {},
   "cell_type": "markdown",
   "metadata": {
    "collapsed": false
   },
   "source": [
    "# Data overview"
   ]
  },
  {
   "cell_type": "code",
   "execution_count": 3,
   "metadata": {
    "collapsed": false,
    "is_executing": true
   },
   "outputs": [
    {
     "name": "stdout",
     "output_type": "stream",
     "text": [
      "Shape of data:\n",
      " (26956, 11)\n",
      "----------------------------------------\n",
      "Columns of data: \n",
      " Index(['car_name', 'year', 'price', 'assemble_place', 'series', 'driven kms',\n",
      "       'num_of_door', 'num_of_seat', 'engine_type', 'transmission', 'url'],\n",
      "      dtype='object')\n",
      "----------------------------------------\n",
      "Data types of data: \n",
      " car_name           object\n",
      "year               object\n",
      "price              object\n",
      "assemble_place     object\n",
      "series             object\n",
      "driven kms        float64\n",
      "num_of_door       float64\n",
      "num_of_seat       float64\n",
      "engine_type        object\n",
      "transmission       object\n",
      "url                object\n",
      "dtype: object\n",
      "----------------------------------------\n",
      "Missing values of data: \n",
      " car_name          38\n",
      "year              11\n",
      "price             11\n",
      "assemble_place    11\n",
      "series            11\n",
      "driven kms        11\n",
      "num_of_door       11\n",
      "num_of_seat       11\n",
      "engine_type       11\n",
      "transmission      11\n",
      "url               11\n",
      "dtype: int64\n",
      "----------------------------------------\n",
      "Describe data: \n",
      "          driven kms   num_of_door   num_of_seat\n",
      "count  2.694500e+04  26945.000000  26945.000000\n",
      "mean   4.809838e+05      4.515272      5.537317\n",
      "std    3.062607e+07      0.913087      1.687252\n",
      "min    1.000000e+00      1.000000      2.000000\n",
      "25%    2.215100e+04      4.000000      5.000000\n",
      "50%    4.900000e+04      5.000000      5.000000\n",
      "75%    8.000000e+04      5.000000      5.000000\n",
      "max    4.294967e+09     54.000000     47.000000\n",
      "----------------------------------------\n",
      "<class 'pandas.core.frame.DataFrame'>\n",
      "RangeIndex: 26956 entries, 0 to 26955\n",
      "Data columns (total 11 columns):\n",
      " #   Column          Non-Null Count  Dtype  \n",
      "---  ------          --------------  -----  \n",
      " 0   car_name        26918 non-null  object \n",
      " 1   year            26945 non-null  object \n",
      " 2   price           26945 non-null  object \n",
      " 3   assemble_place  26945 non-null  object \n",
      " 4   series          26945 non-null  object \n",
      " 5   driven kms      26945 non-null  float64\n",
      " 6   num_of_door     26945 non-null  float64\n",
      " 7   num_of_seat     26945 non-null  float64\n",
      " 8   engine_type     26945 non-null  object \n",
      " 9   transmission    26945 non-null  object \n",
      " 10  url             26945 non-null  object \n",
      "dtypes: float64(3), object(8)\n",
      "memory usage: 2.3+ MB\n",
      "Info data: \n",
      " None\n"
     ]
    }
   ],
   "source": [
    "def describle_data():\n",
    "    print('Shape of data:\\n', df.shape)\n",
    "    print('--'*20)\n",
    "    print('Columns of data: \\n', df.columns)\n",
    "    print('--'*20)\n",
    "    print('Data types of data: \\n', df.dtypes)\n",
    "    print('--'*20)\n",
    "    print('Missing values of data: \\n', df.isna().sum())\n",
    "    print('--'*20)\n",
    "    print('Describe data: \\n', df.describe())\n",
    "    print('--'*20)\n",
    "    print('Info data: \\n', df.info())\n",
    "describle_data()"
   ]
  },
  {
   "attachments": {},
   "cell_type": "markdown",
   "metadata": {
    "collapsed": false
   },
   "source": [
    "# Xóa bỏ những xe bị trùng lặp"
   ]
  },
  {
   "attachments": {},
   "cell_type": "markdown",
   "metadata": {
    "collapsed": false
   },
   "source": []
  },
  {
   "cell_type": "code",
   "execution_count": 4,
   "metadata": {
    "collapsed": false,
    "is_executing": true
   },
   "outputs": [
    {
     "name": "stdout",
     "output_type": "stream",
     "text": [
      "Shape of data:\n",
      " (25157, 11)\n",
      "----------------------------------------\n",
      "Columns of data: \n",
      " Index(['car_name', 'year', 'price', 'assemble_place', 'series', 'driven kms',\n",
      "       'num_of_door', 'num_of_seat', 'engine_type', 'transmission', 'url'],\n",
      "      dtype='object')\n",
      "----------------------------------------\n",
      "Data types of data: \n",
      " car_name           object\n",
      "year               object\n",
      "price              object\n",
      "assemble_place     object\n",
      "series             object\n",
      "driven kms        float64\n",
      "num_of_door       float64\n",
      "num_of_seat       float64\n",
      "engine_type        object\n",
      "transmission       object\n",
      "url                object\n",
      "dtype: object\n",
      "----------------------------------------\n",
      "Missing values of data: \n",
      " car_name          35\n",
      "year               1\n",
      "price              1\n",
      "assemble_place     1\n",
      "series             1\n",
      "driven kms         1\n",
      "num_of_door        1\n",
      "num_of_seat        1\n",
      "engine_type        1\n",
      "transmission       1\n",
      "url                1\n",
      "dtype: int64\n",
      "----------------------------------------\n",
      "Describe data: \n",
      "          driven kms   num_of_door   num_of_seat\n",
      "count  2.515600e+04  25156.000000  25156.000000\n",
      "mean   5.110776e+05      4.515583      5.535737\n",
      "std    3.169618e+07      0.931673      1.693333\n",
      "min    1.000000e+00      1.000000      2.000000\n",
      "25%    2.220425e+04      4.000000      5.000000\n",
      "50%    4.993900e+04      5.000000      5.000000\n",
      "75%    8.000000e+04      5.000000      5.000000\n",
      "max    4.294967e+09     54.000000     47.000000\n",
      "----------------------------------------\n",
      "<class 'pandas.core.frame.DataFrame'>\n",
      "Index: 25157 entries, 0 to 26902\n",
      "Data columns (total 11 columns):\n",
      " #   Column          Non-Null Count  Dtype  \n",
      "---  ------          --------------  -----  \n",
      " 0   car_name        25122 non-null  object \n",
      " 1   year            25156 non-null  object \n",
      " 2   price           25156 non-null  object \n",
      " 3   assemble_place  25156 non-null  object \n",
      " 4   series          25156 non-null  object \n",
      " 5   driven kms      25156 non-null  float64\n",
      " 6   num_of_door     25156 non-null  float64\n",
      " 7   num_of_seat     25156 non-null  float64\n",
      " 8   engine_type     25156 non-null  object \n",
      " 9   transmission    25156 non-null  object \n",
      " 10  url             25156 non-null  object \n",
      "dtypes: float64(3), object(8)\n",
      "memory usage: 2.3+ MB\n",
      "Info data: \n",
      " None\n"
     ]
    }
   ],
   "source": [
    "df.drop_duplicates(subset=['url'], inplace=True)\n",
    "describle_data()"
   ]
  },
  {
   "attachments": {},
   "cell_type": "markdown",
   "metadata": {
    "collapsed": false
   },
   "source": [
    "# Chuyển đổi kiểu dữ liệu cho các cột year, price sang kiểu số thực để có thể thực hiện các phép tính toán"
   ]
  },
  {
   "attachments": {},
   "cell_type": "markdown",
   "metadata": {
    "collapsed": false
   },
   "source": [
    "Year"
   ]
  },
  {
   "cell_type": "code",
   "execution_count": 5,
   "metadata": {
    "collapsed": false,
    "is_executing": true
   },
   "outputs": [
    {
     "name": "stdout",
     "output_type": "stream",
     "text": [
      "Shape of data:\n",
      " (25157, 11)\n",
      "----------------------------------------\n",
      "Columns of data: \n",
      " Index(['car_name', 'year', 'price', 'assemble_place', 'series', 'driven kms',\n",
      "       'num_of_door', 'num_of_seat', 'engine_type', 'transmission', 'url'],\n",
      "      dtype='object')\n",
      "----------------------------------------\n",
      "Data types of data: \n",
      " car_name           object\n",
      "year              float64\n",
      "price              object\n",
      "assemble_place     object\n",
      "series             object\n",
      "driven kms        float64\n",
      "num_of_door       float64\n",
      "num_of_seat       float64\n",
      "engine_type        object\n",
      "transmission       object\n",
      "url                object\n",
      "dtype: object\n",
      "----------------------------------------\n",
      "Missing values of data: \n",
      " car_name          35\n",
      "year               0\n",
      "price              1\n",
      "assemble_place     1\n",
      "series             1\n",
      "driven kms         1\n",
      "num_of_door        1\n",
      "num_of_seat        1\n",
      "engine_type        1\n",
      "transmission       1\n",
      "url                1\n",
      "dtype: int64\n",
      "----------------------------------------\n",
      "Describe data: \n",
      "                year    driven kms   num_of_door   num_of_seat\n",
      "count  25157.000000  2.515600e+04  25156.000000  25156.000000\n",
      "mean    1997.570974  5.110776e+05      4.515583      5.535737\n",
      "std      195.379164  3.169618e+07      0.931673      1.693333\n",
      "min        0.000000  1.000000e+00      1.000000      2.000000\n",
      "25%     2015.000000  2.220425e+04      4.000000      5.000000\n",
      "50%     2018.000000  4.993900e+04      5.000000      5.000000\n",
      "75%     2020.000000  8.000000e+04      5.000000      5.000000\n",
      "max     2023.000000  4.294967e+09     54.000000     47.000000\n",
      "----------------------------------------\n",
      "<class 'pandas.core.frame.DataFrame'>\n",
      "Index: 25157 entries, 0 to 26902\n",
      "Data columns (total 11 columns):\n",
      " #   Column          Non-Null Count  Dtype  \n",
      "---  ------          --------------  -----  \n",
      " 0   car_name        25122 non-null  object \n",
      " 1   year            25157 non-null  float64\n",
      " 2   price           25156 non-null  object \n",
      " 3   assemble_place  25156 non-null  object \n",
      " 4   series          25156 non-null  object \n",
      " 5   driven kms      25156 non-null  float64\n",
      " 6   num_of_door     25156 non-null  float64\n",
      " 7   num_of_seat     25156 non-null  float64\n",
      " 8   engine_type     25156 non-null  object \n",
      " 9   transmission    25156 non-null  object \n",
      " 10  url             25156 non-null  object \n",
      "dtypes: float64(4), object(7)\n",
      "memory usage: 2.3+ MB\n",
      "Info data: \n",
      " None\n"
     ]
    }
   ],
   "source": [
    "def process_year_colum(year):\n",
    "    if year.isdigit():\n",
    "        return float(year)\n",
    "    else:\n",
    "        return 0\n",
    "df['year'] = df['year'].astype(str).apply(process_year_colum)\n",
    "describle_data()"
   ]
  },
  {
   "attachments": {},
   "cell_type": "markdown",
   "metadata": {
    "collapsed": false
   },
   "source": [
    "Price"
   ]
  },
  {
   "cell_type": "code",
   "execution_count": 6,
   "metadata": {
    "collapsed": false,
    "is_executing": true
   },
   "outputs": [],
   "source": [
    "df.isna().sum()\n",
    "df.dropna(subset=['car_name'], inplace=True)"
   ]
  },
  {
   "cell_type": "code",
   "execution_count": 7,
   "metadata": {
    "collapsed": false,
    "is_executing": true
   },
   "outputs": [],
   "source": [
    "def process_price(price):\n",
    "    try:\n",
    "        if price.find('Tỷ') != -1:\n",
    "            ty= price.split('Tỷ')[0]\n",
    "            trieu = price.split('Tỷ')[1]\n",
    "            trieu = trieu.split('Triệu')[0]\n",
    "            return float(ty)*1000000000 + float(trieu)*1000000\n",
    "        elif price.find('Triệu') != -1:\n",
    "            trieu = price.split('Triệu')[0]\n",
    "            trieu = trieu.replace(' ','')\n",
    "            return float(trieu)*1000000\n",
    "        else:\n",
    "            return 0\n",
    "    except:\n",
    "        return 0\n",
    "df['price'] = df['price'].astype(str).apply(process_price)"
   ]
  },
  {
   "cell_type": "code",
   "execution_count": 8,
   "metadata": {
    "collapsed": false,
    "is_executing": true
   },
   "outputs": [
    {
     "name": "stdout",
     "output_type": "stream",
     "text": [
      "57       https://bonbanh.com/xe-mercedes_benz-c_class-c...\n",
      "64       https://bonbanh.com/xe-mercedes_benz-c_class-c...\n",
      "89       https://bonbanh.com/xe-mercedes_benz-c_class-c...\n",
      "153      https://bonbanh.com/xe-gaz-khac-sadko-2002-493...\n",
      "169      https://bonbanh.com/xe-kia-morning-slx-1.0-at-...\n",
      "                               ...                        \n",
      "26814    https://bonbanh.com/xe-mazda-3-1.5-at-2015-483...\n",
      "26829    https://bonbanh.com/xe-toyota-camry-2.5hv-2022...\n",
      "26889    https://bonbanh.com/xe-mercedes_benz-glc-300-4...\n",
      "26890    https://bonbanh.com/xe-mercedes_benz-e_class-e...\n",
      "26894    https://bonbanh.com/xe-toyota-venza-2.7-2009-4...\n",
      "Name: url, Length: 627, dtype: object\n"
     ]
    }
   ],
   "source": [
    "df['driven kms'].describe()\n",
    "# lấy ra các xe có số km đi được nhỏ hơn 1000km\n",
    "print(df[df['driven kms'] < 1000]['url'])"
   ]
  },
  {
   "cell_type": "code",
   "execution_count": 9,
   "metadata": {},
   "outputs": [
    {
     "data": {
      "text/plain": [
       "car_name          0\n",
       "year              0\n",
       "price             0\n",
       "assemble_place    0\n",
       "series            0\n",
       "driven kms        0\n",
       "num_of_door       0\n",
       "num_of_seat       0\n",
       "engine_type       0\n",
       "transmission      0\n",
       "url               0\n",
       "dtype: int64"
      ]
     },
     "execution_count": 9,
     "metadata": {},
     "output_type": "execute_result"
    }
   ],
   "source": [
    "#drop all rows with driven kms < 1000, nan values in all columns\n",
    "df.drop(df[df['driven kms'] < 1000].index, inplace=True)\n",
    "df.dropna(inplace=True)\n",
    "df.isna().sum()"
   ]
  },
  {
   "cell_type": "code",
   "execution_count": 10,
   "metadata": {
    "collapsed": false,
    "is_executing": true
   },
   "outputs": [
    {
     "data": {
      "text/plain": [
       "count    2.449400e+04\n",
       "mean     1.059076e+09\n",
       "std      1.652340e+09\n",
       "min      0.000000e+00\n",
       "25%      3.880000e+08\n",
       "50%      5.600000e+08\n",
       "75%      9.350000e+08\n",
       "max      3.860000e+10\n",
       "Name: price, dtype: float64"
      ]
     },
     "execution_count": 10,
     "metadata": {},
     "output_type": "execute_result"
    }
   ],
   "source": [
    "df['price'].describe()\n"
   ]
  },
  {
   "attachments": {},
   "cell_type": "markdown",
   "metadata": {
    "collapsed": false
   },
   "source": [
    "# Xử lý các cột dạng nhãn"
   ]
  },
  {
   "attachments": {},
   "cell_type": "markdown",
   "metadata": {
    "collapsed": false
   },
   "source": [
    "Car_name có hai phần là hãng xe và tên xe, ta sẽ tách ra thành hai cột là brand và model\n"
   ]
  },
  {
   "cell_type": "code",
   "execution_count": 11,
   "metadata": {
    "collapsed": false,
    "is_executing": true
   },
   "outputs": [],
   "source": [
    "df['brand'] = df['car_name'].str.split().str[0]\n",
    "df['model'] = df['car_name'].str.split().str[1:].str.join(' ')"
   ]
  },
  {
   "cell_type": "code",
   "execution_count": 12,
   "metadata": {},
   "outputs": [
    {
     "data": {
      "text/plain": [
       "brand\n",
       "Toyota        4673\n",
       "Hyundai       2775\n",
       "Mercedes      2732\n",
       "Kia           2628\n",
       "Ford          2198\n",
       "              ... \n",
       "Haima            1\n",
       "Scion            1\n",
       "Dothanh          1\n",
       "B                1\n",
       "Brilliance       1\n",
       "Name: count, Length: 84, dtype: int64"
      ]
     },
     "execution_count": 12,
     "metadata": {},
     "output_type": "execute_result"
    }
   ],
   "source": [
    "df['brand'].value_counts()"
   ]
  },
  {
   "cell_type": "code",
   "execution_count": 13,
   "metadata": {
    "collapsed": false,
    "is_executing": true
   },
   "outputs": [
    {
     "data": {
      "text/html": [
       "<div>\n",
       "<style scoped>\n",
       "    .dataframe tbody tr th:only-of-type {\n",
       "        vertical-align: middle;\n",
       "    }\n",
       "\n",
       "    .dataframe tbody tr th {\n",
       "        vertical-align: top;\n",
       "    }\n",
       "\n",
       "    .dataframe thead th {\n",
       "        text-align: right;\n",
       "    }\n",
       "</style>\n",
       "<table border=\"1\" class=\"dataframe\">\n",
       "  <thead>\n",
       "    <tr style=\"text-align: right;\">\n",
       "      <th></th>\n",
       "      <th>car_name</th>\n",
       "      <th>year</th>\n",
       "      <th>price</th>\n",
       "      <th>assemble_place</th>\n",
       "      <th>series</th>\n",
       "      <th>driven kms</th>\n",
       "      <th>num_of_door</th>\n",
       "      <th>num_of_seat</th>\n",
       "      <th>engine_type</th>\n",
       "      <th>transmission</th>\n",
       "      <th>url</th>\n",
       "      <th>brand</th>\n",
       "      <th>model</th>\n",
       "    </tr>\n",
       "  </thead>\n",
       "  <tbody>\n",
       "    <tr>\n",
       "      <th>0</th>\n",
       "      <td>LandRover Range Rover HSE 3.0</td>\n",
       "      <td>2015.0</td>\n",
       "      <td>2.700000e+09</td>\n",
       "      <td>Nhập khẩu</td>\n",
       "      <td>SUV</td>\n",
       "      <td>65000.0</td>\n",
       "      <td>5.0</td>\n",
       "      <td>5.0</td>\n",
       "      <td>Xăng</td>\n",
       "      <td>Số tự động</td>\n",
       "      <td>https://bonbanh.com/xe-landrover-range_rover-h...</td>\n",
       "      <td>LandRover</td>\n",
       "      <td>Range Rover HSE 3.0</td>\n",
       "    </tr>\n",
       "    <tr>\n",
       "      <th>1</th>\n",
       "      <td>Mitsubishi Outlander 2.0 CVT Premium</td>\n",
       "      <td>2018.0</td>\n",
       "      <td>6.660000e+08</td>\n",
       "      <td>Lắp ráp trong nước</td>\n",
       "      <td>SUV</td>\n",
       "      <td>50000.0</td>\n",
       "      <td>5.0</td>\n",
       "      <td>7.0</td>\n",
       "      <td>Xăng</td>\n",
       "      <td>Số tự động</td>\n",
       "      <td>https://bonbanh.com/xe-mitsubishi-outlander-2....</td>\n",
       "      <td>Mitsubishi</td>\n",
       "      <td>Outlander 2.0 CVT Premium</td>\n",
       "    </tr>\n",
       "    <tr>\n",
       "      <th>2</th>\n",
       "      <td>Mazda 3 1.5L Luxury</td>\n",
       "      <td>2019.0</td>\n",
       "      <td>4.900000e+08</td>\n",
       "      <td>Lắp ráp trong nước</td>\n",
       "      <td>Sedan</td>\n",
       "      <td>51000.0</td>\n",
       "      <td>4.0</td>\n",
       "      <td>5.0</td>\n",
       "      <td>Xăng</td>\n",
       "      <td>Số tự động</td>\n",
       "      <td>https://bonbanh.com/xe-mazda-3-1.5l-luxury-201...</td>\n",
       "      <td>Mazda</td>\n",
       "      <td>3 1.5L Luxury</td>\n",
       "    </tr>\n",
       "    <tr>\n",
       "      <th>3</th>\n",
       "      <td>Mazda 2 1.5 AT</td>\n",
       "      <td>2015.0</td>\n",
       "      <td>3.650000e+08</td>\n",
       "      <td>Lắp ráp trong nước</td>\n",
       "      <td>Sedan</td>\n",
       "      <td>38000.0</td>\n",
       "      <td>4.0</td>\n",
       "      <td>5.0</td>\n",
       "      <td>Xăng</td>\n",
       "      <td>Số tự động</td>\n",
       "      <td>https://bonbanh.com/xe-mazda-2-1.5-at-2015-491...</td>\n",
       "      <td>Mazda</td>\n",
       "      <td>2 1.5 AT</td>\n",
       "    </tr>\n",
       "    <tr>\n",
       "      <th>4</th>\n",
       "      <td>Suzuki Swift GLX 1.2 AT</td>\n",
       "      <td>2021.0</td>\n",
       "      <td>5.650000e+08</td>\n",
       "      <td>Nhập khẩu</td>\n",
       "      <td>Hatchback</td>\n",
       "      <td>6000.0</td>\n",
       "      <td>5.0</td>\n",
       "      <td>5.0</td>\n",
       "      <td>Xăng</td>\n",
       "      <td>Số tự động</td>\n",
       "      <td>https://bonbanh.com/xe-suzuki-swift-glx-1.2-at...</td>\n",
       "      <td>Suzuki</td>\n",
       "      <td>Swift GLX 1.2 AT</td>\n",
       "    </tr>\n",
       "  </tbody>\n",
       "</table>\n",
       "</div>"
      ],
      "text/plain": [
       "                                car_name    year         price  \\\n",
       "0          LandRover Range Rover HSE 3.0  2015.0  2.700000e+09   \n",
       "1   Mitsubishi Outlander 2.0 CVT Premium  2018.0  6.660000e+08   \n",
       "2                    Mazda 3 1.5L Luxury  2019.0  4.900000e+08   \n",
       "3                         Mazda 2 1.5 AT  2015.0  3.650000e+08   \n",
       "4                Suzuki Swift GLX 1.2 AT  2021.0  5.650000e+08   \n",
       "\n",
       "       assemble_place     series  driven kms  num_of_door  num_of_seat  \\\n",
       "0           Nhập khẩu        SUV     65000.0          5.0          5.0   \n",
       "1  Lắp ráp trong nước        SUV     50000.0          5.0          7.0   \n",
       "2  Lắp ráp trong nước      Sedan     51000.0          4.0          5.0   \n",
       "3  Lắp ráp trong nước      Sedan     38000.0          4.0          5.0   \n",
       "4           Nhập khẩu  Hatchback      6000.0          5.0          5.0   \n",
       "\n",
       "  engine_type transmission                                                url  \\\n",
       "0        Xăng   Số tự động  https://bonbanh.com/xe-landrover-range_rover-h...   \n",
       "1        Xăng   Số tự động  https://bonbanh.com/xe-mitsubishi-outlander-2....   \n",
       "2        Xăng   Số tự động  https://bonbanh.com/xe-mazda-3-1.5l-luxury-201...   \n",
       "3        Xăng   Số tự động  https://bonbanh.com/xe-mazda-2-1.5-at-2015-491...   \n",
       "4        Xăng   Số tự động  https://bonbanh.com/xe-suzuki-swift-glx-1.2-at...   \n",
       "\n",
       "        brand                      model  \n",
       "0   LandRover        Range Rover HSE 3.0  \n",
       "1  Mitsubishi  Outlander 2.0 CVT Premium  \n",
       "2       Mazda              3 1.5L Luxury  \n",
       "3       Mazda                   2 1.5 AT  \n",
       "4      Suzuki           Swift GLX 1.2 AT  "
      ]
     },
     "execution_count": 13,
     "metadata": {},
     "output_type": "execute_result"
    }
   ],
   "source": [
    "df.head()"
   ]
  },
  {
   "attachments": {},
   "cell_type": "markdown",
   "metadata": {
    "collapsed": false
   },
   "source": [
    "# Xử lý các dữ liệu bị thiếu hoặc sai\n"
   ]
  },
  {
   "attachments": {},
   "cell_type": "markdown",
   "metadata": {
    "collapsed": false
   },
   "source": [
    "Xử lý cột year"
   ]
  },
  {
   "cell_type": "code",
   "execution_count": 14,
   "metadata": {
    "collapsed": false,
    "is_executing": true
   },
   "outputs": [
    {
     "name": "stdout",
     "output_type": "stream",
     "text": [
      "Number of car before 1990:  197\n",
      "Number of car before 1990:  year\n",
      "0.0      195\n",
      "200.0      1\n",
      "700.0      1\n",
      "Name: count, dtype: int64\n"
     ]
    }
   ],
   "source": [
    "car_before_1990 = df[df['year'] < 1990]\n",
    "print('Number of car before 1990: ', car_before_1990.shape[0])\n",
    "print('Number of car before 1990: ', car_before_1990['year'].value_counts())"
   ]
  },
  {
   "attachments": {},
   "cell_type": "markdown",
   "metadata": {
    "collapsed": false
   },
   "source": []
  },
  {
   "attachments": {},
   "cell_type": "markdown",
   "metadata": {
    "collapsed": false
   },
   "source": [
    "Điền các giá trị sai trong cột year bằng giá trị xuất hiện nhiều nhất trong cột year"
   ]
  },
  {
   "cell_type": "code",
   "execution_count": 15,
   "metadata": {
    "collapsed": false,
    "is_executing": true
   },
   "outputs": [],
   "source": [
    "df['year'] = df['year'].apply(lambda x: df['year'].value_counts().index[0] if x < 1990 else x)"
   ]
  },
  {
   "attachments": {},
   "cell_type": "markdown",
   "metadata": {
    "collapsed": false
   },
   "source": [
    "Cột price: các giá trị bằng = 0 sẽ được thay thế bằng giá trung bình của các xe sản xuất trong năm đó"
   ]
  },
  {
   "cell_type": "code",
   "execution_count": 16,
   "metadata": {
    "collapsed": false,
    "is_executing": true
   },
   "outputs": [
    {
     "data": {
      "text/plain": [
       "count    2.422200e+04\n",
       "mean     1.070969e+09\n",
       "std      1.657754e+09\n",
       "min      1.500000e+07\n",
       "25%      3.950000e+08\n",
       "50%      5.650000e+08\n",
       "75%      9.450000e+08\n",
       "max      3.860000e+10\n",
       "Name: price, dtype: float64"
      ]
     },
     "execution_count": 16,
     "metadata": {},
     "output_type": "execute_result"
    }
   ],
   "source": [
    "df['price'] = df['price'].apply(lambda x: df[df['year'] == x]['price'].mean() if x == 0 else x)\n",
    "df['price'].describe()"
   ]
  },
  {
   "attachments": {},
   "cell_type": "markdown",
   "metadata": {
    "collapsed": false
   },
   "source": [
    "Cột num_of_door\n",
    "Thông thường các xe có tối đa 5 - 6 cửa, với những giá trị sai ta sẽ điền bằng giá trị xuất hiện nhiều nhất trong cột num_of_door"
   ]
  },
  {
   "cell_type": "code",
   "execution_count": 17,
   "metadata": {
    "collapsed": false,
    "is_executing": true
   },
   "outputs": [],
   "source": [
    "df['num_of_door'] = df['num_of_door'].apply(lambda x: df['num_of_door'].value_counts().index[0] if x > 6 else x)"
   ]
  },
  {
   "attachments": {},
   "cell_type": "markdown",
   "metadata": {
    "collapsed": false
   },
   "source": []
  },
  {
   "attachments": {},
   "cell_type": "markdown",
   "metadata": {
    "collapsed": false
   },
   "source": [
    "Cột brand"
   ]
  },
  {
   "cell_type": "code",
   "execution_count": 18,
   "metadata": {
    "collapsed": false,
    "is_executing": true
   },
   "outputs": [
    {
     "data": {
      "text/plain": [
       "brand\n",
       "Toyota        4673\n",
       "Hyundai       2775\n",
       "Mercedes      2732\n",
       "Kia           2628\n",
       "Ford          2198\n",
       "              ... \n",
       "Haima            1\n",
       "Scion            1\n",
       "Dothanh          1\n",
       "B                1\n",
       "Brilliance       1\n",
       "Name: count, Length: 84, dtype: int64"
      ]
     },
     "execution_count": 18,
     "metadata": {},
     "output_type": "execute_result"
    }
   ],
   "source": [
    "df['brand'].value_counts()"
   ]
  },
  {
   "attachments": {},
   "cell_type": "markdown",
   "metadata": {
    "collapsed": false
   },
   "source": [
    "Cột brand có một số hãng có số lượng xe rất ít hoặc bị thiếu, ta sẽ gộp các hãng xe này thành một nhóm là 'other'\n",
    "Nếu số xe của hãng đó nhỏ hơn 10 thì sẽ gộp vào nhóm 'Other'"
   ]
  },
  {
   "cell_type": "code",
   "execution_count": 19,
   "metadata": {
    "collapsed": false,
    "is_executing": true
   },
   "outputs": [],
   "source": [
    "threshold = 10\n",
    "car_count = df['brand'].value_counts()\n",
    "small_brands = car_count[car_count < threshold].index.tolist()\n",
    "df['brand'] = df['brand'].apply(lambda x: 'Other' if x in small_brands else x)\n",
    "df['brand'].fillna('Other', inplace=True)"
   ]
  },
  {
   "cell_type": "code",
   "execution_count": 20,
   "metadata": {},
   "outputs": [
    {
     "name": "stdout",
     "output_type": "stream",
     "text": [
      "brand\n",
      "Rolls         1.353504e+10\n",
      "Bentley       1.051563e+10\n",
      "Lincoln       6.090806e+09\n",
      "LandRover     4.225815e+09\n",
      "Porsche       3.935113e+09\n",
      "Maserati      3.554455e+09\n",
      "Lexus         3.269779e+09\n",
      "Jeep          2.567481e+09\n",
      "Cadillac      2.515273e+09\n",
      "Other         2.386693e+09\n",
      "Volvo         2.218634e+09\n",
      "Mercedes      1.983761e+09\n",
      "Infiniti      1.817357e+09\n",
      "Jaguar        1.798727e+09\n",
      "Mini          1.427632e+09\n",
      "BMW           1.419686e+09\n",
      "Audi          1.260817e+09\n",
      "Subaru        9.207143e+08\n",
      "Volkswagen    8.610816e+08\n",
      "Peugeot       8.171441e+08\n",
      "Toyota        7.603698e+08\n",
      "Ford          6.443476e+08\n",
      "VinFast       5.645952e+08\n",
      "Mazda         5.533326e+08\n",
      "Hyundai       5.407181e+08\n",
      "Honda         5.288325e+08\n",
      "MG            5.091250e+08\n",
      "Mitsubishi    5.085244e+08\n",
      "Kia           4.866314e+08\n",
      "Nissan        4.486019e+08\n",
      "Acura         4.450000e+08\n",
      "Isuzu         4.026667e+08\n",
      "Suzuki        3.881957e+08\n",
      "Chevrolet     3.774071e+08\n",
      "Ssangyong     3.037500e+08\n",
      "Thaco         2.841250e+08\n",
      "Dongben       1.425000e+08\n",
      "Daihatsu      1.357692e+08\n",
      "Daewoo        1.326911e+08\n",
      "Fiat          1.260000e+08\n",
      "Land                   NaN\n",
      "Name: price, dtype: float64\n"
     ]
    }
   ],
   "source": [
    "# in ra tất cả brand\n",
    "# sắp xếp theo thứ tự giảm dần về giá trung bình\n",
    "print(df.groupby('brand')['price'].mean().sort_values(ascending=False))\n",
    "\n",
    "\n"
   ]
  },
  {
   "cell_type": "code",
   "execution_count": 21,
   "metadata": {},
   "outputs": [
    {
     "data": {
      "text/plain": [
       "brand_segment\n",
       "LOW-PRICE CAR    16743\n",
       "PREMIUM CAR       5435\n",
       "VOLUME CAR        2198\n",
       "LUXURY CAR         118\n",
       "Name: count, dtype: int64"
      ]
     },
     "execution_count": 21,
     "metadata": {},
     "output_type": "execute_result"
    }
   ],
   "source": [
    "# def car_band(x):\n",
    "#     if x in ['Land', 'Lamborghini', 'Jaguar', 'BMW', 'Mercedes', 'Porsche','Jeep',\n",
    "#        'Audi', 'Bentley','Mini','LandRover','Lexus','Maserati','Rolls','Ferrari','Aston','Lincoln','Maserati','Cadillac']:\n",
    "#         return 'HIGH END CAR'    \n",
    "#     elif x in ['Ford',\n",
    "#             'Skoda',\n",
    "#          'Mahindra',\n",
    "#             'Force',\n",
    "#        'Mitsubishi',\n",
    "#            'Toyota',\n",
    "#             'ISUZU',\n",
    "#            'Volvo',\n",
    "#           'Isuzu','Other']:\n",
    "#         return 'MIDDLE RANGE CAR'\n",
    "#     else:\n",
    "#         return 'LOW END CAR'\n",
    "# df['brand']=df['brand'].apply(car_band)\n",
    "def car_band(x):\n",
    "    if x in ['Rolls', 'Bentley', 'Ferrari']:\n",
    "        return 'LUXURY CAR'\n",
    "    elif x in ['LandRover', 'Porsche', 'Maserati', 'Lexus', 'Cadillac', 'Lincoln', 'Mercedes', 'Audi', 'BMW', 'Volvo']:\n",
    "        return 'PREMIUM CAR'\n",
    "    elif x in ['VW', 'Seat', 'Ford', 'Opel']:\n",
    "        return 'VOLUME CAR'\n",
    "    else:\n",
    "        return 'LOW-PRICE CAR'\n",
    "\n",
    "df['brand_segment'] = df['brand'].apply(car_band)\n",
    "df.drop(columns=['brand'], inplace=True)\n",
    "df['brand_segment'].value_counts()\n"
   ]
  },
  {
   "cell_type": "code",
   "execution_count": 22,
   "metadata": {},
   "outputs": [],
   "source": [
    "# labels = [0, 1, 2, 3, 4]\n",
    "# cut_bins = [0, 200000000, 1200000000, 2500000000, 5000000000, float('inf')]\n",
    "# # Tạo cột mới \"price_segment\" chứa nhãn tương ứng cho mỗi dòng\n",
    "# df['brand_segment'] = pd.cut(df['price'], bins=cut_bins, labels=labels)\n",
    "# # Hiển thị số lượng mẫu trong từng phân khúc\n",
    "# segment_counts = df['brand_segment'].value_counts()\n",
    "# print(segment_counts)"
   ]
  },
  {
   "attachments": {},
   "cell_type": "markdown",
   "metadata": {
    "collapsed": false
   },
   "source": [
    "Cột series: ta thấy các giá trị của cột series có giá trị nan, ta sẽ điền các giá trị này bằng giá trị xuất hiện nhiều nhất trong cột series"
   ]
  },
  {
   "cell_type": "code",
   "execution_count": 23,
   "metadata": {
    "collapsed": false,
    "is_executing": true
   },
   "outputs": [],
   "source": [
    "df['series'] = df['series'].apply(lambda x: df['series'].value_counts().index[0] if x == '-' else x)\n",
    "df['series'].fillna(df['series'].value_counts().index[0], inplace=True)"
   ]
  },
  {
   "cell_type": "code",
   "execution_count": 24,
   "metadata": {
    "collapsed": false,
    "is_executing": true
   },
   "outputs": [
    {
     "data": {
      "text/plain": [
       "0"
      ]
     },
     "execution_count": 24,
     "metadata": {},
     "output_type": "execute_result"
    }
   ],
   "source": [
    "df['series'].isna().sum()"
   ]
  },
  {
   "attachments": {},
   "cell_type": "markdown",
   "metadata": {
    "collapsed": false
   },
   "source": [
    "Cột engine_type: ta thấy có một vài giá trị bị thiếu, ta sẽ điền các giá trị này bằng giá trị xuất hiện nhiều nhất trong cột engine_type"
   ]
  },
  {
   "cell_type": "code",
   "execution_count": 25,
   "metadata": {
    "collapsed": false,
    "is_executing": true
   },
   "outputs": [],
   "source": [
    "df['engine_type'] = df['engine_type'].apply(lambda x: df['engine_type'].value_counts().index[0] if x == '-' else x)\n",
    "df['engine_type'].fillna(df['engine_type'].value_counts().index[0], inplace=True)"
   ]
  },
  {
   "cell_type": "code",
   "execution_count": 26,
   "metadata": {
    "collapsed": false,
    "is_executing": true
   },
   "outputs": [
    {
     "data": {
      "text/plain": [
       "0"
      ]
     },
     "execution_count": 26,
     "metadata": {},
     "output_type": "execute_result"
    }
   ],
   "source": [
    "df['engine_type'].isna().sum()"
   ]
  },
  {
   "attachments": {},
   "cell_type": "markdown",
   "metadata": {
    "collapsed": false
   },
   "source": [
    "Cột transmission tương tự cột engine_type"
   ]
  },
  {
   "cell_type": "code",
   "execution_count": 27,
   "metadata": {
    "collapsed": false,
    "is_executing": true
   },
   "outputs": [],
   "source": [
    "df['transmission'] = df['transmission'].apply(lambda x: df['transmission'].value_counts().index[0] if x == '-' else x)\n",
    "df['transmission'].fillna(df['transmission'].value_counts().index[0], inplace=True)"
   ]
  },
  {
   "cell_type": "code",
   "execution_count": 28,
   "metadata": {
    "collapsed": false,
    "is_executing": true
   },
   "outputs": [
    {
     "data": {
      "text/plain": [
       "0"
      ]
     },
     "execution_count": 28,
     "metadata": {},
     "output_type": "execute_result"
    }
   ],
   "source": [
    "df['transmission'].isna().sum()"
   ]
  },
  {
   "attachments": {},
   "cell_type": "markdown",
   "metadata": {
    "collapsed": false
   },
   "source": [
    "# Trực quan hóa dữ liệu"
   ]
  },
  {
   "attachments": {},
   "cell_type": "markdown",
   "metadata": {
    "collapsed": false
   },
   "source": [
    "Tìm hiểu về mối liên hệ giữa giá xe và các thuộc tính khác"
   ]
  },
  {
   "cell_type": "code",
   "execution_count": 29,
   "metadata": {
    "collapsed": false,
    "is_executing": true
   },
   "outputs": [
    {
     "data": {
      "image/png": "[encoded data removed]",
      "text/plain": [
       "<Figure size 2000x1000 with 1 Axes>"
      ]
     },
     "metadata": {},
     "output_type": "display_data"
    }
   ],
   "source": [
    "#vẽ price theo brand, series,year\n",
    "plt.figure(figsize=(20, 10))\n",
    "sns.barplot(x='brand_segment', y='price', data=df)\n",
    "plt.title('Price by brand')\n",
    "plt.xticks(rotation=90)\n",
    "plt.show()"
   ]
  },
  {
   "cell_type": "code",
   "execution_count": 30,
   "metadata": {
    "collapsed": false,
    "is_executing": true
   },
   "outputs": [
    {
     "data": {
      "image/png": "[encoded data removed]",
      "text/plain": [
       "<Figure size 2000x1000 with 1 Axes>"
      ]
     },
     "metadata": {},
     "output_type": "display_data"
    }
   ],
   "source": [
    "plt.figure(figsize=(20, 10))\n",
    "sns.barplot(x='series', y='price', data=df)\n",
    "plt.title('Price by series')\n",
    "plt.xticks(rotation=90)\n",
    "plt.show()"
   ]
  },
  {
   "cell_type": "code",
   "execution_count": 31,
   "metadata": {
    "collapsed": false,
    "is_executing": true
   },
   "outputs": [
    {
     "data": {
      "image/png": "[encoded data removed]",
      "text/plain": [
       "<Figure size 2000x1000 with 1 Axes>"
      ]
     },
     "metadata": {},
     "output_type": "display_data"
    }
   ],
   "source": [
    "plt.figure(figsize=(20, 10))\n",
    "#đổi năm sản xuất thành tuổi xe\n",
    "df['year'] = 2023 - df['year']\n",
    "sns.barplot(x='year', y='price', data=df)\n",
    "plt.title('Price by year')\n",
    "plt.xticks(rotation=90)\n",
    "plt.show()"
   ]
  },
  {
   "cell_type": "code",
   "execution_count": 32,
   "metadata": {
    "collapsed": false,
    "is_executing": true
   },
   "outputs": [
    {
     "data": {
      "image/png": "[encoded data removed]",
      "text/plain": [
       "<Figure size 2000x1000 with 1 Axes>"
      ]
     },
     "metadata": {},
     "output_type": "display_data"
    }
   ],
   "source": [
    "plt.figure(figsize=(20, 10))\n",
    "sns.barplot(x='engine_type', y='price', data=df)\n",
    "plt.title('Price by engine_type')\n",
    "plt.xticks(rotation=90)\n",
    "plt.show()\n"
   ]
  },
  {
   "cell_type": "code",
   "execution_count": 33,
   "metadata": {
    "collapsed": false,
    "is_executing": true
   },
   "outputs": [
    {
     "data": {
      "image/png": "[encoded data removed]",
      "text/plain": [
       "<Figure size 2000x1000 with 2 Axes>"
      ]
     },
     "metadata": {},
     "output_type": "display_data"
    }
   ],
   "source": [
    "plt.figure(figsize=(20, 10))\n",
    "plt.subplot(1, 2, 1)\n",
    "sns.barplot(x='transmission', y='price', data=df)\n",
    "plt.title('Price by transmission')\n",
    "plt.xticks(rotation=90)\n",
    "plt.subplot(1, 2, 2)\n",
    "sns.barplot(x='assemble_place', y='price', data=df)\n",
    "plt.show()"
   ]
  },
  {
   "attachments": {},
   "cell_type": "markdown",
   "metadata": {
    "collapsed": false
   },
   "source": []
  },
  {
   "cell_type": "code",
   "execution_count": 34,
   "metadata": {
    "collapsed": false,
    "is_executing": true
   },
   "outputs": [
    {
     "data": {
      "image/png": "[encoded data removed]",
      "text/plain": [
       "<Figure size 2000x1000 with 2 Axes>"
      ]
     },
     "metadata": {},
     "output_type": "display_data"
    }
   ],
   "source": [
    "plt.figure(figsize=(20, 10))\n",
    "plt.subplot(1, 2, 1)\n",
    "sns.barplot(x='num_of_door', y='price', data=df)\n",
    "plt.title('Price by num_of_door')\n",
    "plt.subplot(1, 2, 2)\n",
    "sns.barplot(x='num_of_seat', y='price', data=df)\n",
    "plt.title('Price by num_of_seat')\n",
    "plt.show()"
   ]
  },
  {
   "attachments": {},
   "cell_type": "markdown",
   "metadata": {
    "collapsed": false
   },
   "source": [
    "# Tìm hiểu về mối liên hệ giữa các thuộc tính với nhau"
   ]
  },
  {
   "cell_type": "code",
   "execution_count": 35,
   "metadata": {
    "collapsed": false,
    "is_executing": true
   },
   "outputs": [
    {
     "data": {
      "image/png": "[encoded data removed]",
      "text/plain": [
       "<Figure size 2000x1000 with 2 Axes>"
      ]
     },
     "metadata": {},
     "output_type": "display_data"
    }
   ],
   "source": [
    "#vẽ biểu đồ nhiệt giữa price và các thuộc tính trừ model\n",
    "plt.figure(figsize=(20, 10))\n",
    "numeric_cols = df.select_dtypes(include=['float64', 'int64'])\n",
    "sns.heatmap(numeric_cols.corr(), annot=True)\n",
    "plt.show()\n",
    "\n"
   ]
  },
  {
   "attachments": {},
   "cell_type": "markdown",
   "metadata": {
    "collapsed": false
   },
   "source": [
    "# Mã hóa các cột dạng nhãn thành dạng số để có thể sử dụng cho mô hình học máy"
   ]
  },
  {
   "attachments": {},
   "cell_type": "markdown",
   "metadata": {
    "collapsed": false
   },
   "source": [
    "Cột assemble_place chỉ có 2 giá trị là 'Lắp ráp trong nước' và 'Nhập khẩu', ta sẽ mã hóa thành 0 và 1"
   ]
  },
  {
   "cell_type": "code",
   "execution_count": 36,
   "metadata": {
    "collapsed": false,
    "is_executing": true
   },
   "outputs": [],
   "source": [
    "df['assemble_place'] = df['assemble_place'].map({'Lắp ráp trong nước': 0, 'Nhập khẩu': 1})"
   ]
  },
  {
   "cell_type": "code",
   "execution_count": 37,
   "metadata": {
    "collapsed": false,
    "is_executing": true
   },
   "outputs": [
    {
     "data": {
      "text/plain": [
       "assemble_place\n",
       "0    14230\n",
       "1    10264\n",
       "Name: count, dtype: int64"
      ]
     },
     "execution_count": 37,
     "metadata": {},
     "output_type": "execute_result"
    }
   ],
   "source": [
    "df['assemble_place'].value_counts()"
   ]
  },
  {
   "attachments": {},
   "cell_type": "markdown",
   "metadata": {
    "collapsed": false
   },
   "source": [
    "Cột brand sẽ được mã hóa bằng phương pháp One-hot encoding"
   ]
  },
  {
   "cell_type": "code",
   "execution_count": 38,
   "metadata": {
    "collapsed": false,
    "is_executing": true
   },
   "outputs": [
    {
     "data": {
      "text/html": [
       "<div>\n",
       "<style scoped>\n",
       "    .dataframe tbody tr th:only-of-type {\n",
       "        vertical-align: middle;\n",
       "    }\n",
       "\n",
       "    .dataframe tbody tr th {\n",
       "        vertical-align: top;\n",
       "    }\n",
       "\n",
       "    .dataframe thead th {\n",
       "        text-align: right;\n",
       "    }\n",
       "</style>\n",
       "<table border=\"1\" class=\"dataframe\">\n",
       "  <thead>\n",
       "    <tr style=\"text-align: right;\">\n",
       "      <th></th>\n",
       "      <th>car_name</th>\n",
       "      <th>year</th>\n",
       "      <th>price</th>\n",
       "      <th>assemble_place</th>\n",
       "      <th>series</th>\n",
       "      <th>driven kms</th>\n",
       "      <th>num_of_door</th>\n",
       "      <th>num_of_seat</th>\n",
       "      <th>engine_type</th>\n",
       "      <th>transmission</th>\n",
       "      <th>url</th>\n",
       "      <th>model</th>\n",
       "      <th>brand_segment_LOW-PRICE CAR</th>\n",
       "      <th>brand_segment_LUXURY CAR</th>\n",
       "      <th>brand_segment_PREMIUM CAR</th>\n",
       "      <th>brand_segment_VOLUME CAR</th>\n",
       "    </tr>\n",
       "  </thead>\n",
       "  <tbody>\n",
       "    <tr>\n",
       "      <th>0</th>\n",
       "      <td>LandRover Range Rover HSE 3.0</td>\n",
       "      <td>8.0</td>\n",
       "      <td>2.700000e+09</td>\n",
       "      <td>1</td>\n",
       "      <td>SUV</td>\n",
       "      <td>65000.0</td>\n",
       "      <td>5.0</td>\n",
       "      <td>5.0</td>\n",
       "      <td>Xăng</td>\n",
       "      <td>Số tự động</td>\n",
       "      <td>https://bonbanh.com/xe-landrover-range_rover-h...</td>\n",
       "      <td>Range Rover HSE 3.0</td>\n",
       "      <td>False</td>\n",
       "      <td>False</td>\n",
       "      <td>True</td>\n",
       "      <td>False</td>\n",
       "    </tr>\n",
       "    <tr>\n",
       "      <th>1</th>\n",
       "      <td>Mitsubishi Outlander 2.0 CVT Premium</td>\n",
       "      <td>5.0</td>\n",
       "      <td>6.660000e+08</td>\n",
       "      <td>0</td>\n",
       "      <td>SUV</td>\n",
       "      <td>50000.0</td>\n",
       "      <td>5.0</td>\n",
       "      <td>7.0</td>\n",
       "      <td>Xăng</td>\n",
       "      <td>Số tự động</td>\n",
       "      <td>https://bonbanh.com/xe-mitsubishi-outlander-2....</td>\n",
       "      <td>Outlander 2.0 CVT Premium</td>\n",
       "      <td>True</td>\n",
       "      <td>False</td>\n",
       "      <td>False</td>\n",
       "      <td>False</td>\n",
       "    </tr>\n",
       "    <tr>\n",
       "      <th>2</th>\n",
       "      <td>Mazda 3 1.5L Luxury</td>\n",
       "      <td>4.0</td>\n",
       "      <td>4.900000e+08</td>\n",
       "      <td>0</td>\n",
       "      <td>Sedan</td>\n",
       "      <td>51000.0</td>\n",
       "      <td>4.0</td>\n",
       "      <td>5.0</td>\n",
       "      <td>Xăng</td>\n",
       "      <td>Số tự động</td>\n",
       "      <td>https://bonbanh.com/xe-mazda-3-1.5l-luxury-201...</td>\n",
       "      <td>3 1.5L Luxury</td>\n",
       "      <td>True</td>\n",
       "      <td>False</td>\n",
       "      <td>False</td>\n",
       "      <td>False</td>\n",
       "    </tr>\n",
       "    <tr>\n",
       "      <th>3</th>\n",
       "      <td>Mazda 2 1.5 AT</td>\n",
       "      <td>8.0</td>\n",
       "      <td>3.650000e+08</td>\n",
       "      <td>0</td>\n",
       "      <td>Sedan</td>\n",
       "      <td>38000.0</td>\n",
       "      <td>4.0</td>\n",
       "      <td>5.0</td>\n",
       "      <td>Xăng</td>\n",
       "      <td>Số tự động</td>\n",
       "      <td>https://bonbanh.com/xe-mazda-2-1.5-at-2015-491...</td>\n",
       "      <td>2 1.5 AT</td>\n",
       "      <td>True</td>\n",
       "      <td>False</td>\n",
       "      <td>False</td>\n",
       "      <td>False</td>\n",
       "    </tr>\n",
       "    <tr>\n",
       "      <th>4</th>\n",
       "      <td>Suzuki Swift GLX 1.2 AT</td>\n",
       "      <td>2.0</td>\n",
       "      <td>5.650000e+08</td>\n",
       "      <td>1</td>\n",
       "      <td>Hatchback</td>\n",
       "      <td>6000.0</td>\n",
       "      <td>5.0</td>\n",
       "      <td>5.0</td>\n",
       "      <td>Xăng</td>\n",
       "      <td>Số tự động</td>\n",
       "      <td>https://bonbanh.com/xe-suzuki-swift-glx-1.2-at...</td>\n",
       "      <td>Swift GLX 1.2 AT</td>\n",
       "      <td>True</td>\n",
       "      <td>False</td>\n",
       "      <td>False</td>\n",
       "      <td>False</td>\n",
       "    </tr>\n",
       "  </tbody>\n",
       "</table>\n",
       "</div>"
      ],
      "text/plain": [
       "                                car_name  year         price  assemble_place  \\\n",
       "0          LandRover Range Rover HSE 3.0   8.0  2.700000e+09               1   \n",
       "1   Mitsubishi Outlander 2.0 CVT Premium   5.0  6.660000e+08               0   \n",
       "2                    Mazda 3 1.5L Luxury   4.0  4.900000e+08               0   \n",
       "3                         Mazda 2 1.5 AT   8.0  3.650000e+08               0   \n",
       "4                Suzuki Swift GLX 1.2 AT   2.0  5.650000e+08               1   \n",
       "\n",
       "      series  driven kms  num_of_door  num_of_seat engine_type transmission  \\\n",
       "0        SUV     65000.0          5.0          5.0        Xăng   Số tự động   \n",
       "1        SUV     50000.0          5.0          7.0        Xăng   Số tự động   \n",
       "2      Sedan     51000.0          4.0          5.0        Xăng   Số tự động   \n",
       "3      Sedan     38000.0          4.0          5.0        Xăng   Số tự động   \n",
       "4  Hatchback      6000.0          5.0          5.0        Xăng   Số tự động   \n",
       "\n",
       "                                                 url  \\\n",
       "0  https://bonbanh.com/xe-landrover-range_rover-h...   \n",
       "1  https://bonbanh.com/xe-mitsubishi-outlander-2....   \n",
       "2  https://bonbanh.com/xe-mazda-3-1.5l-luxury-201...   \n",
       "3  https://bonbanh.com/xe-mazda-2-1.5-at-2015-491...   \n",
       "4  https://bonbanh.com/xe-suzuki-swift-glx-1.2-at...   \n",
       "\n",
       "                       model  brand_segment_LOW-PRICE CAR  \\\n",
       "0        Range Rover HSE 3.0                        False   \n",
       "1  Outlander 2.0 CVT Premium                         True   \n",
       "2              3 1.5L Luxury                         True   \n",
       "3                   2 1.5 AT                         True   \n",
       "4           Swift GLX 1.2 AT                         True   \n",
       "\n",
       "   brand_segment_LUXURY CAR  brand_segment_PREMIUM CAR  \\\n",
       "0                     False                       True   \n",
       "1                     False                      False   \n",
       "2                     False                      False   \n",
       "3                     False                      False   \n",
       "4                     False                      False   \n",
       "\n",
       "   brand_segment_VOLUME CAR  \n",
       "0                     False  \n",
       "1                     False  \n",
       "2                     False  \n",
       "3                     False  \n",
       "4                     False  "
      ]
     },
     "execution_count": 38,
     "metadata": {},
     "output_type": "execute_result"
    }
   ],
   "source": [
    "one_hot = OneHotEncoder()\n",
    "one_hot.fit(df[['brand_segment']])\n",
    "one_hot_brand = pd.get_dummies(df['brand_segment'], prefix='brand_segment')\n",
    "df = pd.concat([df, one_hot_brand], axis=1)\n",
    "df.drop('brand_segment', axis=1, inplace=True)\n",
    "df.head()"
   ]
  },
  {
   "attachments": {},
   "cell_type": "markdown",
   "metadata": {
    "collapsed": false
   },
   "source": []
  },
  {
   "attachments": {},
   "cell_type": "markdown",
   "metadata": {
    "collapsed": false
   },
   "source": [
    "Cột series sẽ được mã hóa bằng phương pháp One-hot encoding"
   ]
  },
  {
   "cell_type": "code",
   "execution_count": 39,
   "metadata": {
    "collapsed": false,
    "is_executing": true
   },
   "outputs": [],
   "source": [
    "one_hot = OneHotEncoder()\n",
    "one_hot.fit(df[['series']])\n",
    "one_hot_series = pd.get_dummies(df['series'], prefix='series')\n",
    "df = pd.concat([df, one_hot_series], axis=1)"
   ]
  },
  {
   "attachments": {},
   "cell_type": "markdown",
   "metadata": {
    "collapsed": false
   },
   "source": [
    "Cột engine_type sẽ được mã hóa bằng phương pháp One-hot encoding"
   ]
  },
  {
   "cell_type": "code",
   "execution_count": 40,
   "metadata": {
    "collapsed": false,
    "is_executing": true
   },
   "outputs": [
    {
     "data": {
      "text/html": [
       "<div>\n",
       "<style scoped>\n",
       "    .dataframe tbody tr th:only-of-type {\n",
       "        vertical-align: middle;\n",
       "    }\n",
       "\n",
       "    .dataframe tbody tr th {\n",
       "        vertical-align: top;\n",
       "    }\n",
       "\n",
       "    .dataframe thead th {\n",
       "        text-align: right;\n",
       "    }\n",
       "</style>\n",
       "<table border=\"1\" class=\"dataframe\">\n",
       "  <thead>\n",
       "    <tr style=\"text-align: right;\">\n",
       "      <th></th>\n",
       "      <th>car_name</th>\n",
       "      <th>year</th>\n",
       "      <th>price</th>\n",
       "      <th>assemble_place</th>\n",
       "      <th>series</th>\n",
       "      <th>driven kms</th>\n",
       "      <th>num_of_door</th>\n",
       "      <th>num_of_seat</th>\n",
       "      <th>engine_type</th>\n",
       "      <th>transmission</th>\n",
       "      <th>...</th>\n",
       "      <th>series_Bán tải / Pickup</th>\n",
       "      <th>series_Convertible/Cabriolet</th>\n",
       "      <th>series_Coupe</th>\n",
       "      <th>series_Crossover</th>\n",
       "      <th>series_Hatchback</th>\n",
       "      <th>series_SUV</th>\n",
       "      <th>series_Sedan</th>\n",
       "      <th>series_Truck</th>\n",
       "      <th>series_Van/Minivan</th>\n",
       "      <th>series_Wagon</th>\n",
       "    </tr>\n",
       "  </thead>\n",
       "  <tbody>\n",
       "    <tr>\n",
       "      <th>0</th>\n",
       "      <td>LandRover Range Rover HSE 3.0</td>\n",
       "      <td>8.0</td>\n",
       "      <td>2.700000e+09</td>\n",
       "      <td>1</td>\n",
       "      <td>SUV</td>\n",
       "      <td>65000.0</td>\n",
       "      <td>5.0</td>\n",
       "      <td>5.0</td>\n",
       "      <td>Xăng</td>\n",
       "      <td>Số tự động</td>\n",
       "      <td>...</td>\n",
       "      <td>False</td>\n",
       "      <td>False</td>\n",
       "      <td>False</td>\n",
       "      <td>False</td>\n",
       "      <td>False</td>\n",
       "      <td>True</td>\n",
       "      <td>False</td>\n",
       "      <td>False</td>\n",
       "      <td>False</td>\n",
       "      <td>False</td>\n",
       "    </tr>\n",
       "    <tr>\n",
       "      <th>1</th>\n",
       "      <td>Mitsubishi Outlander 2.0 CVT Premium</td>\n",
       "      <td>5.0</td>\n",
       "      <td>6.660000e+08</td>\n",
       "      <td>0</td>\n",
       "      <td>SUV</td>\n",
       "      <td>50000.0</td>\n",
       "      <td>5.0</td>\n",
       "      <td>7.0</td>\n",
       "      <td>Xăng</td>\n",
       "      <td>Số tự động</td>\n",
       "      <td>...</td>\n",
       "      <td>False</td>\n",
       "      <td>False</td>\n",
       "      <td>False</td>\n",
       "      <td>False</td>\n",
       "      <td>False</td>\n",
       "      <td>True</td>\n",
       "      <td>False</td>\n",
       "      <td>False</td>\n",
       "      <td>False</td>\n",
       "      <td>False</td>\n",
       "    </tr>\n",
       "    <tr>\n",
       "      <th>2</th>\n",
       "      <td>Mazda 3 1.5L Luxury</td>\n",
       "      <td>4.0</td>\n",
       "      <td>4.900000e+08</td>\n",
       "      <td>0</td>\n",
       "      <td>Sedan</td>\n",
       "      <td>51000.0</td>\n",
       "      <td>4.0</td>\n",
       "      <td>5.0</td>\n",
       "      <td>Xăng</td>\n",
       "      <td>Số tự động</td>\n",
       "      <td>...</td>\n",
       "      <td>False</td>\n",
       "      <td>False</td>\n",
       "      <td>False</td>\n",
       "      <td>False</td>\n",
       "      <td>False</td>\n",
       "      <td>False</td>\n",
       "      <td>True</td>\n",
       "      <td>False</td>\n",
       "      <td>False</td>\n",
       "      <td>False</td>\n",
       "    </tr>\n",
       "    <tr>\n",
       "      <th>3</th>\n",
       "      <td>Mazda 2 1.5 AT</td>\n",
       "      <td>8.0</td>\n",
       "      <td>3.650000e+08</td>\n",
       "      <td>0</td>\n",
       "      <td>Sedan</td>\n",
       "      <td>38000.0</td>\n",
       "      <td>4.0</td>\n",
       "      <td>5.0</td>\n",
       "      <td>Xăng</td>\n",
       "      <td>Số tự động</td>\n",
       "      <td>...</td>\n",
       "      <td>False</td>\n",
       "      <td>False</td>\n",
       "      <td>False</td>\n",
       "      <td>False</td>\n",
       "      <td>False</td>\n",
       "      <td>False</td>\n",
       "      <td>True</td>\n",
       "      <td>False</td>\n",
       "      <td>False</td>\n",
       "      <td>False</td>\n",
       "    </tr>\n",
       "    <tr>\n",
       "      <th>4</th>\n",
       "      <td>Suzuki Swift GLX 1.2 AT</td>\n",
       "      <td>2.0</td>\n",
       "      <td>5.650000e+08</td>\n",
       "      <td>1</td>\n",
       "      <td>Hatchback</td>\n",
       "      <td>6000.0</td>\n",
       "      <td>5.0</td>\n",
       "      <td>5.0</td>\n",
       "      <td>Xăng</td>\n",
       "      <td>Số tự động</td>\n",
       "      <td>...</td>\n",
       "      <td>False</td>\n",
       "      <td>False</td>\n",
       "      <td>False</td>\n",
       "      <td>False</td>\n",
       "      <td>True</td>\n",
       "      <td>False</td>\n",
       "      <td>False</td>\n",
       "      <td>False</td>\n",
       "      <td>False</td>\n",
       "      <td>False</td>\n",
       "    </tr>\n",
       "  </tbody>\n",
       "</table>\n",
       "<p>5 rows × 26 columns</p>\n",
       "</div>"
      ],
      "text/plain": [
       "                                car_name  year         price  assemble_place  \\\n",
       "0          LandRover Range Rover HSE 3.0   8.0  2.700000e+09               1   \n",
       "1   Mitsubishi Outlander 2.0 CVT Premium   5.0  6.660000e+08               0   \n",
       "2                    Mazda 3 1.5L Luxury   4.0  4.900000e+08               0   \n",
       "3                         Mazda 2 1.5 AT   8.0  3.650000e+08               0   \n",
       "4                Suzuki Swift GLX 1.2 AT   2.0  5.650000e+08               1   \n",
       "\n",
       "      series  driven kms  num_of_door  num_of_seat engine_type transmission  \\\n",
       "0        SUV     65000.0          5.0          5.0        Xăng   Số tự động   \n",
       "1        SUV     50000.0          5.0          7.0        Xăng   Số tự động   \n",
       "2      Sedan     51000.0          4.0          5.0        Xăng   Số tự động   \n",
       "3      Sedan     38000.0          4.0          5.0        Xăng   Số tự động   \n",
       "4  Hatchback      6000.0          5.0          5.0        Xăng   Số tự động   \n",
       "\n",
       "   ... series_Bán tải / Pickup series_Convertible/Cabriolet  series_Coupe  \\\n",
       "0  ...                     False                        False         False   \n",
       "1  ...                     False                        False         False   \n",
       "2  ...                     False                        False         False   \n",
       "3  ...                     False                        False         False   \n",
       "4  ...                     False                        False         False   \n",
       "\n",
       "   series_Crossover  series_Hatchback  series_SUV  series_Sedan  series_Truck  \\\n",
       "0             False             False        True         False         False   \n",
       "1             False             False        True         False         False   \n",
       "2             False             False       False          True         False   \n",
       "3             False             False       False          True         False   \n",
       "4             False              True       False         False         False   \n",
       "\n",
       "   series_Van/Minivan  series_Wagon  \n",
       "0               False         False  \n",
       "1               False         False  \n",
       "2               False         False  \n",
       "3               False         False  \n",
       "4               False         False  \n",
       "\n",
       "[5 rows x 26 columns]"
      ]
     },
     "execution_count": 40,
     "metadata": {},
     "output_type": "execute_result"
    }
   ],
   "source": [
    "df.head()"
   ]
  },
  {
   "cell_type": "code",
   "execution_count": 41,
   "metadata": {
    "collapsed": false,
    "is_executing": true
   },
   "outputs": [],
   "source": [
    "one_hot = OneHotEncoder()\n",
    "one_hot.fit(df[['engine_type']])\n",
    "one_hot_engine_type = pd.get_dummies(df['engine_type'], prefix='engine_type')\n",
    "df = pd.concat([df, one_hot_engine_type], axis=1)"
   ]
  },
  {
   "attachments": {},
   "cell_type": "markdown",
   "metadata": {
    "collapsed": false
   },
   "source": [
    "Cột transmission chỉ có hai giá trị nên sẽ được mã hóa thành 0 và 1"
   ]
  },
  {
   "cell_type": "code",
   "execution_count": 42,
   "metadata": {
    "collapsed": false,
    "is_executing": true
   },
   "outputs": [],
   "source": [
    "df['transmission'] = df['transmission'].map({'Số tay': 0, 'Số tự động': 1})"
   ]
  },
  {
   "cell_type": "code",
   "execution_count": 43,
   "metadata": {
    "collapsed": false,
    "is_executing": true
   },
   "outputs": [
    {
     "data": {
      "text/html": [
       "<div>\n",
       "<style scoped>\n",
       "    .dataframe tbody tr th:only-of-type {\n",
       "        vertical-align: middle;\n",
       "    }\n",
       "\n",
       "    .dataframe tbody tr th {\n",
       "        vertical-align: top;\n",
       "    }\n",
       "\n",
       "    .dataframe thead th {\n",
       "        text-align: right;\n",
       "    }\n",
       "</style>\n",
       "<table border=\"1\" class=\"dataframe\">\n",
       "  <thead>\n",
       "    <tr style=\"text-align: right;\">\n",
       "      <th></th>\n",
       "      <th>car_name</th>\n",
       "      <th>year</th>\n",
       "      <th>price</th>\n",
       "      <th>assemble_place</th>\n",
       "      <th>series</th>\n",
       "      <th>driven kms</th>\n",
       "      <th>num_of_door</th>\n",
       "      <th>num_of_seat</th>\n",
       "      <th>engine_type</th>\n",
       "      <th>transmission</th>\n",
       "      <th>...</th>\n",
       "      <th>series_Hatchback</th>\n",
       "      <th>series_SUV</th>\n",
       "      <th>series_Sedan</th>\n",
       "      <th>series_Truck</th>\n",
       "      <th>series_Van/Minivan</th>\n",
       "      <th>series_Wagon</th>\n",
       "      <th>engine_type_Dầu</th>\n",
       "      <th>engine_type_Hybrid</th>\n",
       "      <th>engine_type_Xăng</th>\n",
       "      <th>engine_type_Điện</th>\n",
       "    </tr>\n",
       "  </thead>\n",
       "  <tbody>\n",
       "    <tr>\n",
       "      <th>0</th>\n",
       "      <td>LandRover Range Rover HSE 3.0</td>\n",
       "      <td>8.0</td>\n",
       "      <td>2.700000e+09</td>\n",
       "      <td>1</td>\n",
       "      <td>SUV</td>\n",
       "      <td>65000.0</td>\n",
       "      <td>5.0</td>\n",
       "      <td>5.0</td>\n",
       "      <td>Xăng</td>\n",
       "      <td>1</td>\n",
       "      <td>...</td>\n",
       "      <td>False</td>\n",
       "      <td>True</td>\n",
       "      <td>False</td>\n",
       "      <td>False</td>\n",
       "      <td>False</td>\n",
       "      <td>False</td>\n",
       "      <td>False</td>\n",
       "      <td>False</td>\n",
       "      <td>True</td>\n",
       "      <td>False</td>\n",
       "    </tr>\n",
       "    <tr>\n",
       "      <th>1</th>\n",
       "      <td>Mitsubishi Outlander 2.0 CVT Premium</td>\n",
       "      <td>5.0</td>\n",
       "      <td>6.660000e+08</td>\n",
       "      <td>0</td>\n",
       "      <td>SUV</td>\n",
       "      <td>50000.0</td>\n",
       "      <td>5.0</td>\n",
       "      <td>7.0</td>\n",
       "      <td>Xăng</td>\n",
       "      <td>1</td>\n",
       "      <td>...</td>\n",
       "      <td>False</td>\n",
       "      <td>True</td>\n",
       "      <td>False</td>\n",
       "      <td>False</td>\n",
       "      <td>False</td>\n",
       "      <td>False</td>\n",
       "      <td>False</td>\n",
       "      <td>False</td>\n",
       "      <td>True</td>\n",
       "      <td>False</td>\n",
       "    </tr>\n",
       "    <tr>\n",
       "      <th>2</th>\n",
       "      <td>Mazda 3 1.5L Luxury</td>\n",
       "      <td>4.0</td>\n",
       "      <td>4.900000e+08</td>\n",
       "      <td>0</td>\n",
       "      <td>Sedan</td>\n",
       "      <td>51000.0</td>\n",
       "      <td>4.0</td>\n",
       "      <td>5.0</td>\n",
       "      <td>Xăng</td>\n",
       "      <td>1</td>\n",
       "      <td>...</td>\n",
       "      <td>False</td>\n",
       "      <td>False</td>\n",
       "      <td>True</td>\n",
       "      <td>False</td>\n",
       "      <td>False</td>\n",
       "      <td>False</td>\n",
       "      <td>False</td>\n",
       "      <td>False</td>\n",
       "      <td>True</td>\n",
       "      <td>False</td>\n",
       "    </tr>\n",
       "    <tr>\n",
       "      <th>3</th>\n",
       "      <td>Mazda 2 1.5 AT</td>\n",
       "      <td>8.0</td>\n",
       "      <td>3.650000e+08</td>\n",
       "      <td>0</td>\n",
       "      <td>Sedan</td>\n",
       "      <td>38000.0</td>\n",
       "      <td>4.0</td>\n",
       "      <td>5.0</td>\n",
       "      <td>Xăng</td>\n",
       "      <td>1</td>\n",
       "      <td>...</td>\n",
       "      <td>False</td>\n",
       "      <td>False</td>\n",
       "      <td>True</td>\n",
       "      <td>False</td>\n",
       "      <td>False</td>\n",
       "      <td>False</td>\n",
       "      <td>False</td>\n",
       "      <td>False</td>\n",
       "      <td>True</td>\n",
       "      <td>False</td>\n",
       "    </tr>\n",
       "    <tr>\n",
       "      <th>4</th>\n",
       "      <td>Suzuki Swift GLX 1.2 AT</td>\n",
       "      <td>2.0</td>\n",
       "      <td>5.650000e+08</td>\n",
       "      <td>1</td>\n",
       "      <td>Hatchback</td>\n",
       "      <td>6000.0</td>\n",
       "      <td>5.0</td>\n",
       "      <td>5.0</td>\n",
       "      <td>Xăng</td>\n",
       "      <td>1</td>\n",
       "      <td>...</td>\n",
       "      <td>True</td>\n",
       "      <td>False</td>\n",
       "      <td>False</td>\n",
       "      <td>False</td>\n",
       "      <td>False</td>\n",
       "      <td>False</td>\n",
       "      <td>False</td>\n",
       "      <td>False</td>\n",
       "      <td>True</td>\n",
       "      <td>False</td>\n",
       "    </tr>\n",
       "  </tbody>\n",
       "</table>\n",
       "<p>5 rows × 30 columns</p>\n",
       "</div>"
      ],
      "text/plain": [
       "                                car_name  year         price  assemble_place  \\\n",
       "0          LandRover Range Rover HSE 3.0   8.0  2.700000e+09               1   \n",
       "1   Mitsubishi Outlander 2.0 CVT Premium   5.0  6.660000e+08               0   \n",
       "2                    Mazda 3 1.5L Luxury   4.0  4.900000e+08               0   \n",
       "3                         Mazda 2 1.5 AT   8.0  3.650000e+08               0   \n",
       "4                Suzuki Swift GLX 1.2 AT   2.0  5.650000e+08               1   \n",
       "\n",
       "      series  driven kms  num_of_door  num_of_seat engine_type  transmission  \\\n",
       "0        SUV     65000.0          5.0          5.0        Xăng             1   \n",
       "1        SUV     50000.0          5.0          7.0        Xăng             1   \n",
       "2      Sedan     51000.0          4.0          5.0        Xăng             1   \n",
       "3      Sedan     38000.0          4.0          5.0        Xăng             1   \n",
       "4  Hatchback      6000.0          5.0          5.0        Xăng             1   \n",
       "\n",
       "   ... series_Hatchback series_SUV  series_Sedan  series_Truck  \\\n",
       "0  ...            False       True         False         False   \n",
       "1  ...            False       True         False         False   \n",
       "2  ...            False      False          True         False   \n",
       "3  ...            False      False          True         False   \n",
       "4  ...             True      False         False         False   \n",
       "\n",
       "   series_Van/Minivan  series_Wagon  engine_type_Dầu  engine_type_Hybrid  \\\n",
       "0               False         False            False               False   \n",
       "1               False         False            False               False   \n",
       "2               False         False            False               False   \n",
       "3               False         False            False               False   \n",
       "4               False         False            False               False   \n",
       "\n",
       "   engine_type_Xăng  engine_type_Điện  \n",
       "0              True             False  \n",
       "1              True             False  \n",
       "2              True             False  \n",
       "3              True             False  \n",
       "4              True             False  \n",
       "\n",
       "[5 rows x 30 columns]"
      ]
     },
     "execution_count": 43,
     "metadata": {},
     "output_type": "execute_result"
    }
   ],
   "source": [
    "df.head()"
   ]
  },
  {
   "cell_type": "code",
   "execution_count": 44,
   "metadata": {
    "collapsed": false,
    "is_executing": true
   },
   "outputs": [],
   "source": [
    "save_df = copy.deepcopy(df)"
   ]
  },
  {
   "cell_type": "code",
   "execution_count": 45,
   "metadata": {
    "collapsed": false,
    "is_executing": true
   },
   "outputs": [
    {
     "data": {
      "text/html": [
       "<div>\n",
       "<style scoped>\n",
       "    .dataframe tbody tr th:only-of-type {\n",
       "        vertical-align: middle;\n",
       "    }\n",
       "\n",
       "    .dataframe tbody tr th {\n",
       "        vertical-align: top;\n",
       "    }\n",
       "\n",
       "    .dataframe thead th {\n",
       "        text-align: right;\n",
       "    }\n",
       "</style>\n",
       "<table border=\"1\" class=\"dataframe\">\n",
       "  <thead>\n",
       "    <tr style=\"text-align: right;\">\n",
       "      <th></th>\n",
       "      <th>car_name</th>\n",
       "      <th>year</th>\n",
       "      <th>price</th>\n",
       "      <th>assemble_place</th>\n",
       "      <th>series</th>\n",
       "      <th>driven kms</th>\n",
       "      <th>num_of_door</th>\n",
       "      <th>num_of_seat</th>\n",
       "      <th>engine_type</th>\n",
       "      <th>transmission</th>\n",
       "      <th>...</th>\n",
       "      <th>series_Hatchback</th>\n",
       "      <th>series_SUV</th>\n",
       "      <th>series_Sedan</th>\n",
       "      <th>series_Truck</th>\n",
       "      <th>series_Van/Minivan</th>\n",
       "      <th>series_Wagon</th>\n",
       "      <th>engine_type_Dầu</th>\n",
       "      <th>engine_type_Hybrid</th>\n",
       "      <th>engine_type_Xăng</th>\n",
       "      <th>engine_type_Điện</th>\n",
       "    </tr>\n",
       "  </thead>\n",
       "  <tbody>\n",
       "    <tr>\n",
       "      <th>0</th>\n",
       "      <td>LandRover Range Rover HSE 3.0</td>\n",
       "      <td>8.0</td>\n",
       "      <td>2.700000e+09</td>\n",
       "      <td>1</td>\n",
       "      <td>SUV</td>\n",
       "      <td>65000.0</td>\n",
       "      <td>5.0</td>\n",
       "      <td>5.0</td>\n",
       "      <td>Xăng</td>\n",
       "      <td>1</td>\n",
       "      <td>...</td>\n",
       "      <td>False</td>\n",
       "      <td>True</td>\n",
       "      <td>False</td>\n",
       "      <td>False</td>\n",
       "      <td>False</td>\n",
       "      <td>False</td>\n",
       "      <td>False</td>\n",
       "      <td>False</td>\n",
       "      <td>True</td>\n",
       "      <td>False</td>\n",
       "    </tr>\n",
       "    <tr>\n",
       "      <th>1</th>\n",
       "      <td>Mitsubishi Outlander 2.0 CVT Premium</td>\n",
       "      <td>5.0</td>\n",
       "      <td>6.660000e+08</td>\n",
       "      <td>0</td>\n",
       "      <td>SUV</td>\n",
       "      <td>50000.0</td>\n",
       "      <td>5.0</td>\n",
       "      <td>7.0</td>\n",
       "      <td>Xăng</td>\n",
       "      <td>1</td>\n",
       "      <td>...</td>\n",
       "      <td>False</td>\n",
       "      <td>True</td>\n",
       "      <td>False</td>\n",
       "      <td>False</td>\n",
       "      <td>False</td>\n",
       "      <td>False</td>\n",
       "      <td>False</td>\n",
       "      <td>False</td>\n",
       "      <td>True</td>\n",
       "      <td>False</td>\n",
       "    </tr>\n",
       "    <tr>\n",
       "      <th>2</th>\n",
       "      <td>Mazda 3 1.5L Luxury</td>\n",
       "      <td>4.0</td>\n",
       "      <td>4.900000e+08</td>\n",
       "      <td>0</td>\n",
       "      <td>Sedan</td>\n",
       "      <td>51000.0</td>\n",
       "      <td>4.0</td>\n",
       "      <td>5.0</td>\n",
       "      <td>Xăng</td>\n",
       "      <td>1</td>\n",
       "      <td>...</td>\n",
       "      <td>False</td>\n",
       "      <td>False</td>\n",
       "      <td>True</td>\n",
       "      <td>False</td>\n",
       "      <td>False</td>\n",
       "      <td>False</td>\n",
       "      <td>False</td>\n",
       "      <td>False</td>\n",
       "      <td>True</td>\n",
       "      <td>False</td>\n",
       "    </tr>\n",
       "    <tr>\n",
       "      <th>3</th>\n",
       "      <td>Mazda 2 1.5 AT</td>\n",
       "      <td>8.0</td>\n",
       "      <td>3.650000e+08</td>\n",
       "      <td>0</td>\n",
       "      <td>Sedan</td>\n",
       "      <td>38000.0</td>\n",
       "      <td>4.0</td>\n",
       "      <td>5.0</td>\n",
       "      <td>Xăng</td>\n",
       "      <td>1</td>\n",
       "      <td>...</td>\n",
       "      <td>False</td>\n",
       "      <td>False</td>\n",
       "      <td>True</td>\n",
       "      <td>False</td>\n",
       "      <td>False</td>\n",
       "      <td>False</td>\n",
       "      <td>False</td>\n",
       "      <td>False</td>\n",
       "      <td>True</td>\n",
       "      <td>False</td>\n",
       "    </tr>\n",
       "    <tr>\n",
       "      <th>4</th>\n",
       "      <td>Suzuki Swift GLX 1.2 AT</td>\n",
       "      <td>2.0</td>\n",
       "      <td>5.650000e+08</td>\n",
       "      <td>1</td>\n",
       "      <td>Hatchback</td>\n",
       "      <td>6000.0</td>\n",
       "      <td>5.0</td>\n",
       "      <td>5.0</td>\n",
       "      <td>Xăng</td>\n",
       "      <td>1</td>\n",
       "      <td>...</td>\n",
       "      <td>True</td>\n",
       "      <td>False</td>\n",
       "      <td>False</td>\n",
       "      <td>False</td>\n",
       "      <td>False</td>\n",
       "      <td>False</td>\n",
       "      <td>False</td>\n",
       "      <td>False</td>\n",
       "      <td>True</td>\n",
       "      <td>False</td>\n",
       "    </tr>\n",
       "  </tbody>\n",
       "</table>\n",
       "<p>5 rows × 30 columns</p>\n",
       "</div>"
      ],
      "text/plain": [
       "                                car_name  year         price  assemble_place  \\\n",
       "0          LandRover Range Rover HSE 3.0   8.0  2.700000e+09               1   \n",
       "1   Mitsubishi Outlander 2.0 CVT Premium   5.0  6.660000e+08               0   \n",
       "2                    Mazda 3 1.5L Luxury   4.0  4.900000e+08               0   \n",
       "3                         Mazda 2 1.5 AT   8.0  3.650000e+08               0   \n",
       "4                Suzuki Swift GLX 1.2 AT   2.0  5.650000e+08               1   \n",
       "\n",
       "      series  driven kms  num_of_door  num_of_seat engine_type  transmission  \\\n",
       "0        SUV     65000.0          5.0          5.0        Xăng             1   \n",
       "1        SUV     50000.0          5.0          7.0        Xăng             1   \n",
       "2      Sedan     51000.0          4.0          5.0        Xăng             1   \n",
       "3      Sedan     38000.0          4.0          5.0        Xăng             1   \n",
       "4  Hatchback      6000.0          5.0          5.0        Xăng             1   \n",
       "\n",
       "   ... series_Hatchback series_SUV  series_Sedan  series_Truck  \\\n",
       "0  ...            False       True         False         False   \n",
       "1  ...            False       True         False         False   \n",
       "2  ...            False      False          True         False   \n",
       "3  ...            False      False          True         False   \n",
       "4  ...             True      False         False         False   \n",
       "\n",
       "   series_Van/Minivan  series_Wagon  engine_type_Dầu  engine_type_Hybrid  \\\n",
       "0               False         False            False               False   \n",
       "1               False         False            False               False   \n",
       "2               False         False            False               False   \n",
       "3               False         False            False               False   \n",
       "4               False         False            False               False   \n",
       "\n",
       "   engine_type_Xăng  engine_type_Điện  \n",
       "0              True             False  \n",
       "1              True             False  \n",
       "2              True             False  \n",
       "3              True             False  \n",
       "4              True             False  \n",
       "\n",
       "[5 rows x 30 columns]"
      ]
     },
     "execution_count": 45,
     "metadata": {},
     "output_type": "execute_result"
    }
   ],
   "source": [
    "save_df.head()"
   ]
  },
  {
   "attachments": {},
   "cell_type": "markdown",
   "metadata": {
    "collapsed": false
   },
   "source": [
    "# Sử dụng Standardization để chuẩn hóa dữ liệu"
   ]
  },
  {
   "cell_type": "code",
   "execution_count": 46,
   "metadata": {
    "collapsed": false,
    "is_executing": true
   },
   "outputs": [],
   "source": [
    "scaler = StandardScaler()\n",
    "df=save_df.copy()\n",
    "#fit year và driven kms\n",
    "scaler.fit(df[['driven kms','num_of_seat']])\n",
    "df[['driven kms','num_of_seat']] = scaler.transform(df[['driven kms','num_of_seat']])"
   ]
  },
  {
   "cell_type": "code",
   "execution_count": 47,
   "metadata": {
    "collapsed": false,
    "is_executing": true
   },
   "outputs": [
    {
     "data": {
      "text/html": [
       "<div>\n",
       "<style scoped>\n",
       "    .dataframe tbody tr th:only-of-type {\n",
       "        vertical-align: middle;\n",
       "    }\n",
       "\n",
       "    .dataframe tbody tr th {\n",
       "        vertical-align: top;\n",
       "    }\n",
       "\n",
       "    .dataframe thead th {\n",
       "        text-align: right;\n",
       "    }\n",
       "</style>\n",
       "<table border=\"1\" class=\"dataframe\">\n",
       "  <thead>\n",
       "    <tr style=\"text-align: right;\">\n",
       "      <th></th>\n",
       "      <th>car_name</th>\n",
       "      <th>year</th>\n",
       "      <th>price</th>\n",
       "      <th>assemble_place</th>\n",
       "      <th>series</th>\n",
       "      <th>driven kms</th>\n",
       "      <th>num_of_door</th>\n",
       "      <th>num_of_seat</th>\n",
       "      <th>engine_type</th>\n",
       "      <th>transmission</th>\n",
       "      <th>...</th>\n",
       "      <th>series_Hatchback</th>\n",
       "      <th>series_SUV</th>\n",
       "      <th>series_Sedan</th>\n",
       "      <th>series_Truck</th>\n",
       "      <th>series_Van/Minivan</th>\n",
       "      <th>series_Wagon</th>\n",
       "      <th>engine_type_Dầu</th>\n",
       "      <th>engine_type_Hybrid</th>\n",
       "      <th>engine_type_Xăng</th>\n",
       "      <th>engine_type_Điện</th>\n",
       "    </tr>\n",
       "  </thead>\n",
       "  <tbody>\n",
       "    <tr>\n",
       "      <th>0</th>\n",
       "      <td>LandRover Range Rover HSE 3.0</td>\n",
       "      <td>8.0</td>\n",
       "      <td>2.700000e+09</td>\n",
       "      <td>1</td>\n",
       "      <td>SUV</td>\n",
       "      <td>-0.014315</td>\n",
       "      <td>5.0</td>\n",
       "      <td>-0.316591</td>\n",
       "      <td>Xăng</td>\n",
       "      <td>1</td>\n",
       "      <td>...</td>\n",
       "      <td>False</td>\n",
       "      <td>True</td>\n",
       "      <td>False</td>\n",
       "      <td>False</td>\n",
       "      <td>False</td>\n",
       "      <td>False</td>\n",
       "      <td>False</td>\n",
       "      <td>False</td>\n",
       "      <td>True</td>\n",
       "      <td>False</td>\n",
       "    </tr>\n",
       "    <tr>\n",
       "      <th>1</th>\n",
       "      <td>Mitsubishi Outlander 2.0 CVT Premium</td>\n",
       "      <td>5.0</td>\n",
       "      <td>6.660000e+08</td>\n",
       "      <td>0</td>\n",
       "      <td>SUV</td>\n",
       "      <td>-0.014782</td>\n",
       "      <td>5.0</td>\n",
       "      <td>0.863261</td>\n",
       "      <td>Xăng</td>\n",
       "      <td>1</td>\n",
       "      <td>...</td>\n",
       "      <td>False</td>\n",
       "      <td>True</td>\n",
       "      <td>False</td>\n",
       "      <td>False</td>\n",
       "      <td>False</td>\n",
       "      <td>False</td>\n",
       "      <td>False</td>\n",
       "      <td>False</td>\n",
       "      <td>True</td>\n",
       "      <td>False</td>\n",
       "    </tr>\n",
       "    <tr>\n",
       "      <th>2</th>\n",
       "      <td>Mazda 3 1.5L Luxury</td>\n",
       "      <td>4.0</td>\n",
       "      <td>4.900000e+08</td>\n",
       "      <td>0</td>\n",
       "      <td>Sedan</td>\n",
       "      <td>-0.014751</td>\n",
       "      <td>4.0</td>\n",
       "      <td>-0.316591</td>\n",
       "      <td>Xăng</td>\n",
       "      <td>1</td>\n",
       "      <td>...</td>\n",
       "      <td>False</td>\n",
       "      <td>False</td>\n",
       "      <td>True</td>\n",
       "      <td>False</td>\n",
       "      <td>False</td>\n",
       "      <td>False</td>\n",
       "      <td>False</td>\n",
       "      <td>False</td>\n",
       "      <td>True</td>\n",
       "      <td>False</td>\n",
       "    </tr>\n",
       "    <tr>\n",
       "      <th>3</th>\n",
       "      <td>Mazda 2 1.5 AT</td>\n",
       "      <td>8.0</td>\n",
       "      <td>3.650000e+08</td>\n",
       "      <td>0</td>\n",
       "      <td>Sedan</td>\n",
       "      <td>-0.015156</td>\n",
       "      <td>4.0</td>\n",
       "      <td>-0.316591</td>\n",
       "      <td>Xăng</td>\n",
       "      <td>1</td>\n",
       "      <td>...</td>\n",
       "      <td>False</td>\n",
       "      <td>False</td>\n",
       "      <td>True</td>\n",
       "      <td>False</td>\n",
       "      <td>False</td>\n",
       "      <td>False</td>\n",
       "      <td>False</td>\n",
       "      <td>False</td>\n",
       "      <td>True</td>\n",
       "      <td>False</td>\n",
       "    </tr>\n",
       "    <tr>\n",
       "      <th>4</th>\n",
       "      <td>Suzuki Swift GLX 1.2 AT</td>\n",
       "      <td>2.0</td>\n",
       "      <td>5.650000e+08</td>\n",
       "      <td>1</td>\n",
       "      <td>Hatchback</td>\n",
       "      <td>-0.016152</td>\n",
       "      <td>5.0</td>\n",
       "      <td>-0.316591</td>\n",
       "      <td>Xăng</td>\n",
       "      <td>1</td>\n",
       "      <td>...</td>\n",
       "      <td>True</td>\n",
       "      <td>False</td>\n",
       "      <td>False</td>\n",
       "      <td>False</td>\n",
       "      <td>False</td>\n",
       "      <td>False</td>\n",
       "      <td>False</td>\n",
       "      <td>False</td>\n",
       "      <td>True</td>\n",
       "      <td>False</td>\n",
       "    </tr>\n",
       "  </tbody>\n",
       "</table>\n",
       "<p>5 rows × 30 columns</p>\n",
       "</div>"
      ],
      "text/plain": [
       "                                car_name  year         price  assemble_place  \\\n",
       "0          LandRover Range Rover HSE 3.0   8.0  2.700000e+09               1   \n",
       "1   Mitsubishi Outlander 2.0 CVT Premium   5.0  6.660000e+08               0   \n",
       "2                    Mazda 3 1.5L Luxury   4.0  4.900000e+08               0   \n",
       "3                         Mazda 2 1.5 AT   8.0  3.650000e+08               0   \n",
       "4                Suzuki Swift GLX 1.2 AT   2.0  5.650000e+08               1   \n",
       "\n",
       "      series  driven kms  num_of_door  num_of_seat engine_type  transmission  \\\n",
       "0        SUV   -0.014315          5.0    -0.316591        Xăng             1   \n",
       "1        SUV   -0.014782          5.0     0.863261        Xăng             1   \n",
       "2      Sedan   -0.014751          4.0    -0.316591        Xăng             1   \n",
       "3      Sedan   -0.015156          4.0    -0.316591        Xăng             1   \n",
       "4  Hatchback   -0.016152          5.0    -0.316591        Xăng             1   \n",
       "\n",
       "   ... series_Hatchback series_SUV  series_Sedan  series_Truck  \\\n",
       "0  ...            False       True         False         False   \n",
       "1  ...            False       True         False         False   \n",
       "2  ...            False      False          True         False   \n",
       "3  ...            False      False          True         False   \n",
       "4  ...             True      False         False         False   \n",
       "\n",
       "   series_Van/Minivan  series_Wagon  engine_type_Dầu  engine_type_Hybrid  \\\n",
       "0               False         False            False               False   \n",
       "1               False         False            False               False   \n",
       "2               False         False            False               False   \n",
       "3               False         False            False               False   \n",
       "4               False         False            False               False   \n",
       "\n",
       "   engine_type_Xăng  engine_type_Điện  \n",
       "0              True             False  \n",
       "1              True             False  \n",
       "2              True             False  \n",
       "3              True             False  \n",
       "4              True             False  \n",
       "\n",
       "[5 rows x 30 columns]"
      ]
     },
     "execution_count": 47,
     "metadata": {},
     "output_type": "execute_result"
    }
   ],
   "source": [
    "df.head()"
   ]
  },
  {
   "attachments": {},
   "cell_type": "markdown",
   "metadata": {
    "collapsed": false
   },
   "source": [
    "# Sử dụng hồi quy tuyến tính để dự đoán giá xe"
   ]
  },
  {
   "cell_type": "code",
   "execution_count": 48,
   "metadata": {
    "collapsed": false,
    "is_executing": true
   },
   "outputs": [
    {
     "data": {
      "text/html": [
       "<div>\n",
       "<style scoped>\n",
       "    .dataframe tbody tr th:only-of-type {\n",
       "        vertical-align: middle;\n",
       "    }\n",
       "\n",
       "    .dataframe tbody tr th {\n",
       "        vertical-align: top;\n",
       "    }\n",
       "\n",
       "    .dataframe thead th {\n",
       "        text-align: right;\n",
       "    }\n",
       "</style>\n",
       "<table border=\"1\" class=\"dataframe\">\n",
       "  <thead>\n",
       "    <tr style=\"text-align: right;\">\n",
       "      <th></th>\n",
       "      <th>car_name</th>\n",
       "      <th>year</th>\n",
       "      <th>price</th>\n",
       "      <th>assemble_place</th>\n",
       "      <th>series</th>\n",
       "      <th>driven kms</th>\n",
       "      <th>num_of_door</th>\n",
       "      <th>num_of_seat</th>\n",
       "      <th>engine_type</th>\n",
       "      <th>transmission</th>\n",
       "      <th>...</th>\n",
       "      <th>series_Hatchback</th>\n",
       "      <th>series_SUV</th>\n",
       "      <th>series_Sedan</th>\n",
       "      <th>series_Truck</th>\n",
       "      <th>series_Van/Minivan</th>\n",
       "      <th>series_Wagon</th>\n",
       "      <th>engine_type_Dầu</th>\n",
       "      <th>engine_type_Hybrid</th>\n",
       "      <th>engine_type_Xăng</th>\n",
       "      <th>engine_type_Điện</th>\n",
       "    </tr>\n",
       "  </thead>\n",
       "  <tbody>\n",
       "    <tr>\n",
       "      <th>0</th>\n",
       "      <td>LandRover Range Rover HSE 3.0</td>\n",
       "      <td>8.0</td>\n",
       "      <td>2.700000e+09</td>\n",
       "      <td>1</td>\n",
       "      <td>SUV</td>\n",
       "      <td>-0.014315</td>\n",
       "      <td>5.0</td>\n",
       "      <td>-0.316591</td>\n",
       "      <td>Xăng</td>\n",
       "      <td>1</td>\n",
       "      <td>...</td>\n",
       "      <td>False</td>\n",
       "      <td>True</td>\n",
       "      <td>False</td>\n",
       "      <td>False</td>\n",
       "      <td>False</td>\n",
       "      <td>False</td>\n",
       "      <td>False</td>\n",
       "      <td>False</td>\n",
       "      <td>True</td>\n",
       "      <td>False</td>\n",
       "    </tr>\n",
       "    <tr>\n",
       "      <th>1</th>\n",
       "      <td>Mitsubishi Outlander 2.0 CVT Premium</td>\n",
       "      <td>5.0</td>\n",
       "      <td>6.660000e+08</td>\n",
       "      <td>0</td>\n",
       "      <td>SUV</td>\n",
       "      <td>-0.014782</td>\n",
       "      <td>5.0</td>\n",
       "      <td>0.863261</td>\n",
       "      <td>Xăng</td>\n",
       "      <td>1</td>\n",
       "      <td>...</td>\n",
       "      <td>False</td>\n",
       "      <td>True</td>\n",
       "      <td>False</td>\n",
       "      <td>False</td>\n",
       "      <td>False</td>\n",
       "      <td>False</td>\n",
       "      <td>False</td>\n",
       "      <td>False</td>\n",
       "      <td>True</td>\n",
       "      <td>False</td>\n",
       "    </tr>\n",
       "    <tr>\n",
       "      <th>2</th>\n",
       "      <td>Mazda 3 1.5L Luxury</td>\n",
       "      <td>4.0</td>\n",
       "      <td>4.900000e+08</td>\n",
       "      <td>0</td>\n",
       "      <td>Sedan</td>\n",
       "      <td>-0.014751</td>\n",
       "      <td>4.0</td>\n",
       "      <td>-0.316591</td>\n",
       "      <td>Xăng</td>\n",
       "      <td>1</td>\n",
       "      <td>...</td>\n",
       "      <td>False</td>\n",
       "      <td>False</td>\n",
       "      <td>True</td>\n",
       "      <td>False</td>\n",
       "      <td>False</td>\n",
       "      <td>False</td>\n",
       "      <td>False</td>\n",
       "      <td>False</td>\n",
       "      <td>True</td>\n",
       "      <td>False</td>\n",
       "    </tr>\n",
       "    <tr>\n",
       "      <th>3</th>\n",
       "      <td>Mazda 2 1.5 AT</td>\n",
       "      <td>8.0</td>\n",
       "      <td>3.650000e+08</td>\n",
       "      <td>0</td>\n",
       "      <td>Sedan</td>\n",
       "      <td>-0.015156</td>\n",
       "      <td>4.0</td>\n",
       "      <td>-0.316591</td>\n",
       "      <td>Xăng</td>\n",
       "      <td>1</td>\n",
       "      <td>...</td>\n",
       "      <td>False</td>\n",
       "      <td>False</td>\n",
       "      <td>True</td>\n",
       "      <td>False</td>\n",
       "      <td>False</td>\n",
       "      <td>False</td>\n",
       "      <td>False</td>\n",
       "      <td>False</td>\n",
       "      <td>True</td>\n",
       "      <td>False</td>\n",
       "    </tr>\n",
       "    <tr>\n",
       "      <th>4</th>\n",
       "      <td>Suzuki Swift GLX 1.2 AT</td>\n",
       "      <td>2.0</td>\n",
       "      <td>5.650000e+08</td>\n",
       "      <td>1</td>\n",
       "      <td>Hatchback</td>\n",
       "      <td>-0.016152</td>\n",
       "      <td>5.0</td>\n",
       "      <td>-0.316591</td>\n",
       "      <td>Xăng</td>\n",
       "      <td>1</td>\n",
       "      <td>...</td>\n",
       "      <td>True</td>\n",
       "      <td>False</td>\n",
       "      <td>False</td>\n",
       "      <td>False</td>\n",
       "      <td>False</td>\n",
       "      <td>False</td>\n",
       "      <td>False</td>\n",
       "      <td>False</td>\n",
       "      <td>True</td>\n",
       "      <td>False</td>\n",
       "    </tr>\n",
       "  </tbody>\n",
       "</table>\n",
       "<p>5 rows × 30 columns</p>\n",
       "</div>"
      ],
      "text/plain": [
       "                                car_name  year         price  assemble_place  \\\n",
       "0          LandRover Range Rover HSE 3.0   8.0  2.700000e+09               1   \n",
       "1   Mitsubishi Outlander 2.0 CVT Premium   5.0  6.660000e+08               0   \n",
       "2                    Mazda 3 1.5L Luxury   4.0  4.900000e+08               0   \n",
       "3                         Mazda 2 1.5 AT   8.0  3.650000e+08               0   \n",
       "4                Suzuki Swift GLX 1.2 AT   2.0  5.650000e+08               1   \n",
       "\n",
       "      series  driven kms  num_of_door  num_of_seat engine_type  transmission  \\\n",
       "0        SUV   -0.014315          5.0    -0.316591        Xăng             1   \n",
       "1        SUV   -0.014782          5.0     0.863261        Xăng             1   \n",
       "2      Sedan   -0.014751          4.0    -0.316591        Xăng             1   \n",
       "3      Sedan   -0.015156          4.0    -0.316591        Xăng             1   \n",
       "4  Hatchback   -0.016152          5.0    -0.316591        Xăng             1   \n",
       "\n",
       "   ... series_Hatchback series_SUV  series_Sedan  series_Truck  \\\n",
       "0  ...            False       True         False         False   \n",
       "1  ...            False       True         False         False   \n",
       "2  ...            False      False          True         False   \n",
       "3  ...            False      False          True         False   \n",
       "4  ...             True      False         False         False   \n",
       "\n",
       "   series_Van/Minivan  series_Wagon  engine_type_Dầu  engine_type_Hybrid  \\\n",
       "0               False         False            False               False   \n",
       "1               False         False            False               False   \n",
       "2               False         False            False               False   \n",
       "3               False         False            False               False   \n",
       "4               False         False            False               False   \n",
       "\n",
       "   engine_type_Xăng  engine_type_Điện  \n",
       "0              True             False  \n",
       "1              True             False  \n",
       "2              True             False  \n",
       "3              True             False  \n",
       "4              True             False  \n",
       "\n",
       "[5 rows x 30 columns]"
      ]
     },
     "execution_count": 48,
     "metadata": {},
     "output_type": "execute_result"
    }
   ],
   "source": [
    "df.head()"
   ]
  },
  {
   "cell_type": "code",
   "execution_count": 49,
   "metadata": {},
   "outputs": [
    {
     "name": "stdout",
     "output_type": "stream",
     "text": [
      "Index(['car_name', 'year', 'price', 'assemble_place', 'series', 'driven kms',\n",
      "       'num_of_door', 'num_of_seat', 'engine_type', 'transmission', 'url',\n",
      "       'model', 'brand_segment_LOW-PRICE CAR', 'brand_segment_LUXURY CAR',\n",
      "       'brand_segment_PREMIUM CAR', 'brand_segment_VOLUME CAR',\n",
      "       'series_Bán tải / Pickup', 'series_Convertible/Cabriolet',\n",
      "       'series_Coupe', 'series_Crossover', 'series_Hatchback', 'series_SUV',\n",
      "       'series_Sedan', 'series_Truck', 'series_Van/Minivan', 'series_Wagon',\n",
      "       'engine_type_Dầu', 'engine_type_Hybrid', 'engine_type_Xăng',\n",
      "       'engine_type_Điện'],\n",
      "      dtype='object')\n"
     ]
    }
   ],
   "source": [
    "print(df.columns)"
   ]
  },
  {
   "cell_type": "code",
   "execution_count": 50,
   "metadata": {
    "collapsed": false,
    "is_executing": true
   },
   "outputs": [],
   "source": [
    "df.drop(['model', 'series', 'engine_type','car_name','url'], axis=1, inplace=True)"
   ]
  },
  {
   "cell_type": "code",
   "execution_count": 51,
   "metadata": {
    "collapsed": false,
    "is_executing": true
   },
   "outputs": [
    {
     "data": {
      "text/html": [
       "<div>\n",
       "<style scoped>\n",
       "    .dataframe tbody tr th:only-of-type {\n",
       "        vertical-align: middle;\n",
       "    }\n",
       "\n",
       "    .dataframe tbody tr th {\n",
       "        vertical-align: top;\n",
       "    }\n",
       "\n",
       "    .dataframe thead th {\n",
       "        text-align: right;\n",
       "    }\n",
       "</style>\n",
       "<table border=\"1\" class=\"dataframe\">\n",
       "  <thead>\n",
       "    <tr style=\"text-align: right;\">\n",
       "      <th></th>\n",
       "      <th>year</th>\n",
       "      <th>price</th>\n",
       "      <th>assemble_place</th>\n",
       "      <th>driven kms</th>\n",
       "      <th>num_of_door</th>\n",
       "      <th>num_of_seat</th>\n",
       "      <th>transmission</th>\n",
       "      <th>brand_segment_LOW-PRICE CAR</th>\n",
       "      <th>brand_segment_LUXURY CAR</th>\n",
       "      <th>brand_segment_PREMIUM CAR</th>\n",
       "      <th>...</th>\n",
       "      <th>series_Hatchback</th>\n",
       "      <th>series_SUV</th>\n",
       "      <th>series_Sedan</th>\n",
       "      <th>series_Truck</th>\n",
       "      <th>series_Van/Minivan</th>\n",
       "      <th>series_Wagon</th>\n",
       "      <th>engine_type_Dầu</th>\n",
       "      <th>engine_type_Hybrid</th>\n",
       "      <th>engine_type_Xăng</th>\n",
       "      <th>engine_type_Điện</th>\n",
       "    </tr>\n",
       "  </thead>\n",
       "  <tbody>\n",
       "    <tr>\n",
       "      <th>0</th>\n",
       "      <td>8.0</td>\n",
       "      <td>2.700000e+09</td>\n",
       "      <td>1</td>\n",
       "      <td>-0.014315</td>\n",
       "      <td>5.0</td>\n",
       "      <td>-0.316591</td>\n",
       "      <td>1</td>\n",
       "      <td>False</td>\n",
       "      <td>False</td>\n",
       "      <td>True</td>\n",
       "      <td>...</td>\n",
       "      <td>False</td>\n",
       "      <td>True</td>\n",
       "      <td>False</td>\n",
       "      <td>False</td>\n",
       "      <td>False</td>\n",
       "      <td>False</td>\n",
       "      <td>False</td>\n",
       "      <td>False</td>\n",
       "      <td>True</td>\n",
       "      <td>False</td>\n",
       "    </tr>\n",
       "    <tr>\n",
       "      <th>1</th>\n",
       "      <td>5.0</td>\n",
       "      <td>6.660000e+08</td>\n",
       "      <td>0</td>\n",
       "      <td>-0.014782</td>\n",
       "      <td>5.0</td>\n",
       "      <td>0.863261</td>\n",
       "      <td>1</td>\n",
       "      <td>True</td>\n",
       "      <td>False</td>\n",
       "      <td>False</td>\n",
       "      <td>...</td>\n",
       "      <td>False</td>\n",
       "      <td>True</td>\n",
       "      <td>False</td>\n",
       "      <td>False</td>\n",
       "      <td>False</td>\n",
       "      <td>False</td>\n",
       "      <td>False</td>\n",
       "      <td>False</td>\n",
       "      <td>True</td>\n",
       "      <td>False</td>\n",
       "    </tr>\n",
       "    <tr>\n",
       "      <th>2</th>\n",
       "      <td>4.0</td>\n",
       "      <td>4.900000e+08</td>\n",
       "      <td>0</td>\n",
       "      <td>-0.014751</td>\n",
       "      <td>4.0</td>\n",
       "      <td>-0.316591</td>\n",
       "      <td>1</td>\n",
       "      <td>True</td>\n",
       "      <td>False</td>\n",
       "      <td>False</td>\n",
       "      <td>...</td>\n",
       "      <td>False</td>\n",
       "      <td>False</td>\n",
       "      <td>True</td>\n",
       "      <td>False</td>\n",
       "      <td>False</td>\n",
       "      <td>False</td>\n",
       "      <td>False</td>\n",
       "      <td>False</td>\n",
       "      <td>True</td>\n",
       "      <td>False</td>\n",
       "    </tr>\n",
       "    <tr>\n",
       "      <th>3</th>\n",
       "      <td>8.0</td>\n",
       "      <td>3.650000e+08</td>\n",
       "      <td>0</td>\n",
       "      <td>-0.015156</td>\n",
       "      <td>4.0</td>\n",
       "      <td>-0.316591</td>\n",
       "      <td>1</td>\n",
       "      <td>True</td>\n",
       "      <td>False</td>\n",
       "      <td>False</td>\n",
       "      <td>...</td>\n",
       "      <td>False</td>\n",
       "      <td>False</td>\n",
       "      <td>True</td>\n",
       "      <td>False</td>\n",
       "      <td>False</td>\n",
       "      <td>False</td>\n",
       "      <td>False</td>\n",
       "      <td>False</td>\n",
       "      <td>True</td>\n",
       "      <td>False</td>\n",
       "    </tr>\n",
       "    <tr>\n",
       "      <th>4</th>\n",
       "      <td>2.0</td>\n",
       "      <td>5.650000e+08</td>\n",
       "      <td>1</td>\n",
       "      <td>-0.016152</td>\n",
       "      <td>5.0</td>\n",
       "      <td>-0.316591</td>\n",
       "      <td>1</td>\n",
       "      <td>True</td>\n",
       "      <td>False</td>\n",
       "      <td>False</td>\n",
       "      <td>...</td>\n",
       "      <td>True</td>\n",
       "      <td>False</td>\n",
       "      <td>False</td>\n",
       "      <td>False</td>\n",
       "      <td>False</td>\n",
       "      <td>False</td>\n",
       "      <td>False</td>\n",
       "      <td>False</td>\n",
       "      <td>True</td>\n",
       "      <td>False</td>\n",
       "    </tr>\n",
       "  </tbody>\n",
       "</table>\n",
       "<p>5 rows × 25 columns</p>\n",
       "</div>"
      ],
      "text/plain": [
       "   year         price  assemble_place  driven kms  num_of_door  num_of_seat  \\\n",
       "0   8.0  2.700000e+09               1   -0.014315          5.0    -0.316591   \n",
       "1   5.0  6.660000e+08               0   -0.014782          5.0     0.863261   \n",
       "2   4.0  4.900000e+08               0   -0.014751          4.0    -0.316591   \n",
       "3   8.0  3.650000e+08               0   -0.015156          4.0    -0.316591   \n",
       "4   2.0  5.650000e+08               1   -0.016152          5.0    -0.316591   \n",
       "\n",
       "   transmission  brand_segment_LOW-PRICE CAR  brand_segment_LUXURY CAR  \\\n",
       "0             1                        False                     False   \n",
       "1             1                         True                     False   \n",
       "2             1                         True                     False   \n",
       "3             1                         True                     False   \n",
       "4             1                         True                     False   \n",
       "\n",
       "   brand_segment_PREMIUM CAR  ...  series_Hatchback  series_SUV  series_Sedan  \\\n",
       "0                       True  ...             False        True         False   \n",
       "1                      False  ...             False        True         False   \n",
       "2                      False  ...             False       False          True   \n",
       "3                      False  ...             False       False          True   \n",
       "4                      False  ...              True       False         False   \n",
       "\n",
       "   series_Truck  series_Van/Minivan  series_Wagon  engine_type_Dầu  \\\n",
       "0         False               False         False            False   \n",
       "1         False               False         False            False   \n",
       "2         False               False         False            False   \n",
       "3         False               False         False            False   \n",
       "4         False               False         False            False   \n",
       "\n",
       "   engine_type_Hybrid  engine_type_Xăng  engine_type_Điện  \n",
       "0               False              True             False  \n",
       "1               False              True             False  \n",
       "2               False              True             False  \n",
       "3               False              True             False  \n",
       "4               False              True             False  \n",
       "\n",
       "[5 rows x 25 columns]"
      ]
     },
     "execution_count": 51,
     "metadata": {},
     "output_type": "execute_result"
    }
   ],
   "source": [
    "df.head()"
   ]
  },
  {
   "cell_type": "code",
   "execution_count": 52,
   "metadata": {
    "collapsed": false,
    "is_executing": true
   },
   "outputs": [],
   "source": [
    "df.dropna(inplace=True)"
   ]
  },
  {
   "cell_type": "code",
   "execution_count": 53,
   "metadata": {},
   "outputs": [
    {
     "name": "stdout",
     "output_type": "stream",
     "text": [
      "0.5804883484998785\n"
     ]
    }
   ],
   "source": [
    "model = LinearRegression()\n",
    "X = df.drop('price', axis=1)\n",
    "y = df['price']\n",
    "X_train, X_test, y_train, y_test = train_test_split(X, y, test_size=0.2, random_state=42)\n",
    "model.fit(X_train, y_train)\n",
    "y_pred = model.predict(X_test)\n",
    "print(model.score(X_test, y_test))\n"
   ]
  },
  {
   "cell_type": "code",
   "execution_count": 54,
   "metadata": {},
   "outputs": [
    {
     "data": {
      "text/html": [
       "<div>\n",
       "<style scoped>\n",
       "    .dataframe tbody tr th:only-of-type {\n",
       "        vertical-align: middle;\n",
       "    }\n",
       "\n",
       "    .dataframe tbody tr th {\n",
       "        vertical-align: top;\n",
       "    }\n",
       "\n",
       "    .dataframe thead th {\n",
       "        text-align: right;\n",
       "    }\n",
       "</style>\n",
       "<table border=\"1\" class=\"dataframe\">\n",
       "  <thead>\n",
       "    <tr style=\"text-align: right;\">\n",
       "      <th></th>\n",
       "      <th>year</th>\n",
       "      <th>price</th>\n",
       "      <th>assemble_place</th>\n",
       "      <th>driven kms</th>\n",
       "      <th>num_of_door</th>\n",
       "      <th>num_of_seat</th>\n",
       "      <th>transmission</th>\n",
       "      <th>brand_segment_LOW-PRICE CAR</th>\n",
       "      <th>brand_segment_LUXURY CAR</th>\n",
       "      <th>brand_segment_PREMIUM CAR</th>\n",
       "      <th>...</th>\n",
       "      <th>series_Hatchback</th>\n",
       "      <th>series_SUV</th>\n",
       "      <th>series_Sedan</th>\n",
       "      <th>series_Truck</th>\n",
       "      <th>series_Van/Minivan</th>\n",
       "      <th>series_Wagon</th>\n",
       "      <th>engine_type_Dầu</th>\n",
       "      <th>engine_type_Hybrid</th>\n",
       "      <th>engine_type_Xăng</th>\n",
       "      <th>engine_type_Điện</th>\n",
       "    </tr>\n",
       "  </thead>\n",
       "  <tbody>\n",
       "    <tr>\n",
       "      <th>0</th>\n",
       "      <td>8.0</td>\n",
       "      <td>2.700000e+09</td>\n",
       "      <td>1</td>\n",
       "      <td>-0.014315</td>\n",
       "      <td>5.0</td>\n",
       "      <td>-0.316591</td>\n",
       "      <td>1</td>\n",
       "      <td>False</td>\n",
       "      <td>False</td>\n",
       "      <td>True</td>\n",
       "      <td>...</td>\n",
       "      <td>False</td>\n",
       "      <td>True</td>\n",
       "      <td>False</td>\n",
       "      <td>False</td>\n",
       "      <td>False</td>\n",
       "      <td>False</td>\n",
       "      <td>False</td>\n",
       "      <td>False</td>\n",
       "      <td>True</td>\n",
       "      <td>False</td>\n",
       "    </tr>\n",
       "    <tr>\n",
       "      <th>1</th>\n",
       "      <td>5.0</td>\n",
       "      <td>6.660000e+08</td>\n",
       "      <td>0</td>\n",
       "      <td>-0.014782</td>\n",
       "      <td>5.0</td>\n",
       "      <td>0.863261</td>\n",
       "      <td>1</td>\n",
       "      <td>True</td>\n",
       "      <td>False</td>\n",
       "      <td>False</td>\n",
       "      <td>...</td>\n",
       "      <td>False</td>\n",
       "      <td>True</td>\n",
       "      <td>False</td>\n",
       "      <td>False</td>\n",
       "      <td>False</td>\n",
       "      <td>False</td>\n",
       "      <td>False</td>\n",
       "      <td>False</td>\n",
       "      <td>True</td>\n",
       "      <td>False</td>\n",
       "    </tr>\n",
       "    <tr>\n",
       "      <th>2</th>\n",
       "      <td>4.0</td>\n",
       "      <td>4.900000e+08</td>\n",
       "      <td>0</td>\n",
       "      <td>-0.014751</td>\n",
       "      <td>4.0</td>\n",
       "      <td>-0.316591</td>\n",
       "      <td>1</td>\n",
       "      <td>True</td>\n",
       "      <td>False</td>\n",
       "      <td>False</td>\n",
       "      <td>...</td>\n",
       "      <td>False</td>\n",
       "      <td>False</td>\n",
       "      <td>True</td>\n",
       "      <td>False</td>\n",
       "      <td>False</td>\n",
       "      <td>False</td>\n",
       "      <td>False</td>\n",
       "      <td>False</td>\n",
       "      <td>True</td>\n",
       "      <td>False</td>\n",
       "    </tr>\n",
       "    <tr>\n",
       "      <th>3</th>\n",
       "      <td>8.0</td>\n",
       "      <td>3.650000e+08</td>\n",
       "      <td>0</td>\n",
       "      <td>-0.015156</td>\n",
       "      <td>4.0</td>\n",
       "      <td>-0.316591</td>\n",
       "      <td>1</td>\n",
       "      <td>True</td>\n",
       "      <td>False</td>\n",
       "      <td>False</td>\n",
       "      <td>...</td>\n",
       "      <td>False</td>\n",
       "      <td>False</td>\n",
       "      <td>True</td>\n",
       "      <td>False</td>\n",
       "      <td>False</td>\n",
       "      <td>False</td>\n",
       "      <td>False</td>\n",
       "      <td>False</td>\n",
       "      <td>True</td>\n",
       "      <td>False</td>\n",
       "    </tr>\n",
       "    <tr>\n",
       "      <th>4</th>\n",
       "      <td>2.0</td>\n",
       "      <td>5.650000e+08</td>\n",
       "      <td>1</td>\n",
       "      <td>-0.016152</td>\n",
       "      <td>5.0</td>\n",
       "      <td>-0.316591</td>\n",
       "      <td>1</td>\n",
       "      <td>True</td>\n",
       "      <td>False</td>\n",
       "      <td>False</td>\n",
       "      <td>...</td>\n",
       "      <td>True</td>\n",
       "      <td>False</td>\n",
       "      <td>False</td>\n",
       "      <td>False</td>\n",
       "      <td>False</td>\n",
       "      <td>False</td>\n",
       "      <td>False</td>\n",
       "      <td>False</td>\n",
       "      <td>True</td>\n",
       "      <td>False</td>\n",
       "    </tr>\n",
       "  </tbody>\n",
       "</table>\n",
       "<p>5 rows × 25 columns</p>\n",
       "</div>"
      ],
      "text/plain": [
       "   year         price  assemble_place  driven kms  num_of_door  num_of_seat  \\\n",
       "0   8.0  2.700000e+09               1   -0.014315          5.0    -0.316591   \n",
       "1   5.0  6.660000e+08               0   -0.014782          5.0     0.863261   \n",
       "2   4.0  4.900000e+08               0   -0.014751          4.0    -0.316591   \n",
       "3   8.0  3.650000e+08               0   -0.015156          4.0    -0.316591   \n",
       "4   2.0  5.650000e+08               1   -0.016152          5.0    -0.316591   \n",
       "\n",
       "   transmission  brand_segment_LOW-PRICE CAR  brand_segment_LUXURY CAR  \\\n",
       "0             1                        False                     False   \n",
       "1             1                         True                     False   \n",
       "2             1                         True                     False   \n",
       "3             1                         True                     False   \n",
       "4             1                         True                     False   \n",
       "\n",
       "   brand_segment_PREMIUM CAR  ...  series_Hatchback  series_SUV  series_Sedan  \\\n",
       "0                       True  ...             False        True         False   \n",
       "1                      False  ...             False        True         False   \n",
       "2                      False  ...             False       False          True   \n",
       "3                      False  ...             False       False          True   \n",
       "4                      False  ...              True       False         False   \n",
       "\n",
       "   series_Truck  series_Van/Minivan  series_Wagon  engine_type_Dầu  \\\n",
       "0         False               False         False            False   \n",
       "1         False               False         False            False   \n",
       "2         False               False         False            False   \n",
       "3         False               False         False            False   \n",
       "4         False               False         False            False   \n",
       "\n",
       "   engine_type_Hybrid  engine_type_Xăng  engine_type_Điện  \n",
       "0               False              True             False  \n",
       "1               False              True             False  \n",
       "2               False              True             False  \n",
       "3               False              True             False  \n",
       "4               False              True             False  \n",
       "\n",
       "[5 rows x 25 columns]"
      ]
     },
     "execution_count": 54,
     "metadata": {},
     "output_type": "execute_result"
    }
   ],
   "source": [
    "df.head()"
   ]
  },
  {
   "cell_type": "code",
   "execution_count": 55,
   "metadata": {
    "collapsed": false,
    "is_executing": true
   },
   "outputs": [
    {
     "data": {
      "image/png": "[encoded data removed]",
      "text/plain": [
       "<Figure size 640x480 with 1 Axes>"
      ]
     },
     "metadata": {},
     "output_type": "display_data"
    }
   ],
   "source": [
    "predict = model.predict(X_test)\n",
    "plt.scatter(y_test, predict)\n",
    "plt.xlabel('y_test')\n",
    "plt.ylabel('predict')\n",
    "plt.show()"
   ]
  },
  {
   "cell_type": "code",
   "execution_count": 56,
   "metadata": {
    "collapsed": false,
    "is_executing": true
   },
   "outputs": [
    {
     "name": "stderr",
     "output_type": "stream",
     "text": [
      "/tmp/ipykernel_41226/592410835.py:1: UserWarning: \n",
      "\n",
      "`distplot` is a deprecated function and will be removed in seaborn v0.14.0.\n",
      "\n",
      "Please adapt your code to use either `displot` (a figure-level function with\n",
      "similar flexibility) or `histplot` (an axes-level function for histograms).\n",
      "\n",
      "For a guide to updating your code to use the new functions, please see\n",
      "https://gist.github.com/mwaskom/de44147ed2974457ad6372750bbe5751\n",
      "\n",
      "  sns.distplot((y_test-predict),bins=50);\n"
     ]
    },
    {
     "data": {
      "image/png": "[encoded data removed]",
      "text/plain": [
       "<Figure size 640x480 with 1 Axes>"
      ]
     },
     "metadata": {},
     "output_type": "display_data"
    }
   ],
   "source": [
    "sns.distplot((y_test-predict),bins=50);\n"
   ]
  },
  {
   "cell_type": "code",
   "execution_count": 57,
   "metadata": {
    "collapsed": false,
    "is_executing": true
   },
   "outputs": [
    {
     "name": "stdout",
     "output_type": "stream",
     "text": [
      "MAE: 562538476.7346195\n",
      "MSE: 9.794649147023828e+17\n",
      "RMSE: 989679197.8729182\n"
     ]
    }
   ],
   "source": [
    "\n",
    "\n",
    "print('MAE:', metrics.mean_absolute_error(y_test, predict))\n",
    "print('MSE:', metrics.mean_squared_error(y_test, predict))\n",
    "print('RMSE:', np.sqrt(metrics.mean_squared_error(y_test, predict)))\n"
   ]
  },
  {
   "cell_type": "code",
   "execution_count": 58,
   "metadata": {
    "collapsed": false,
    "is_executing": true
   },
   "outputs": [],
   "source": [
    "# thử sử dụng random forest"
   ]
  },
  {
   "cell_type": "code",
   "execution_count": 59,
   "metadata": {
    "collapsed": false,
    "is_executing": true
   },
   "outputs": [
    {
     "data": {
      "text/plain": [
       "{'bootstrap': True,\n",
       " 'ccp_alpha': 0.0,\n",
       " 'criterion': 'squared_error',\n",
       " 'max_depth': None,\n",
       " 'max_features': 1.0,\n",
       " 'max_leaf_nodes': None,\n",
       " 'max_samples': None,\n",
       " 'min_impurity_decrease': 0.0,\n",
       " 'min_samples_leaf': 1,\n",
       " 'min_samples_split': 2,\n",
       " 'min_weight_fraction_leaf': 0.0,\n",
       " 'n_estimators': 100,\n",
       " 'n_jobs': None,\n",
       " 'oob_score': False,\n",
       " 'random_state': None,\n",
       " 'verbose': 0,\n",
       " 'warm_start': False}"
      ]
     },
     "execution_count": 59,
     "metadata": {},
     "output_type": "execute_result"
    }
   ],
   "source": [
    "from sklearn.ensemble import RandomForestRegressor\n",
    "\n",
    "rf = RandomForestRegressor(n_estimators=100)\n",
    "rf.get_params()\n"
   ]
  },
  {
   "cell_type": "code",
   "execution_count": 60,
   "metadata": {
    "collapsed": false,
    "is_executing": true
   },
   "outputs": [],
   "source": [
    "from sklearn.model_selection import KFold, RandomizedSearchCV\n",
    "\n",
    "\"\"\"\n",
    "+ Search over space of hyperparameters to find acceptable ones\n",
    "+ Two search methods implemented by scikit-learn: GridSearch and RandomSearch\n",
    "+ RandomSearch is faster in case we search over large space (too many combinations of hyperparameters)\n",
    "\"\"\"\n",
    "\n",
    "rf_hyperparams = {\n",
    "    'n_estimators': [200, 300, 400, 500],\n",
    "    'max_depth': [None, 10, 50, 90, 110],\n",
    "    'max_features': ['auto', 'sqrt'],\n",
    "    'min_samples_split': [2, 5, 10],\n",
    "    'min_samples_leaf': [1, 2, 4],\n",
    "    'bootstrap': [True, False]\n",
    "}\n",
    "\n",
    "rf_randomized_search = RandomizedSearchCV(\n",
    "    estimator = rf,\n",
    "    param_distributions = rf_hyperparams,\n",
    "    n_iter = 10,\n",
    "    cv=KFold(n_splits=10, shuffle=True, random_state=42),\n",
    "    verbose=2,\n",
    "    random_state=42,\n",
    "    n_jobs = -1\n",
    ")\n",
    "\n"
   ]
  },
  {
   "cell_type": "code",
   "execution_count": 61,
   "metadata": {
    "collapsed": false,
    "is_executing": true
   },
   "outputs": [
    {
     "name": "stdout",
     "output_type": "stream",
     "text": [
      "Fitting 10 folds for each of 10 candidates, totalling 100 fits\n",
      "[CV] END bootstrap=True, max_depth=110, max_features=sqrt, min_samples_leaf=2, min_samples_split=5, n_estimators=200; total time=   3.2s\n",
      "[CV] END bootstrap=True, max_depth=110, max_features=sqrt, min_samples_leaf=2, min_samples_split=5, n_estimators=200; total time=   3.1s\n",
      "[CV] END bootstrap=True, max_depth=110, max_features=sqrt, min_samples_leaf=2, min_samples_split=5, n_estimators=200; total time=   3.2s\n",
      "[CV] END bootstrap=True, max_depth=110, max_features=sqrt, min_samples_leaf=2, min_samples_split=5, n_estimators=200; total time=   3.2s\n",
      "[CV] END bootstrap=True, max_depth=110, max_features=sqrt, min_samples_leaf=2, min_samples_split=5, n_estimators=200; total time=   3.0s\n",
      "[CV] END bootstrap=True, max_depth=110, max_features=sqrt, min_samples_leaf=2, min_samples_split=5, n_estimators=200; total time=   2.9s\n",
      "[CV] END bootstrap=True, max_depth=110, max_features=sqrt, min_samples_leaf=2, min_samples_split=5, n_estimators=200; total time=   3.0s\n",
      "[CV] END bootstrap=True, max_depth=110, max_features=sqrt, min_samples_leaf=2, min_samples_split=5, n_estimators=200; total time=   3.0s\n"
     ]
    },
    {
     "name": "stderr",
     "output_type": "stream",
     "text": [
      "/home/codespace/.local/lib/python3.10/site-packages/sklearn/ensemble/_forest.py:413: FutureWarning: `max_features='auto'` has been deprecated in 1.1 and will be removed in 1.3. To keep the past behaviour, explicitly set `max_features=1.0` or remove this parameter as it is also the default value for RandomForestRegressors and ExtraTreesRegressors.\n",
      "  warn(\n",
      "/home/codespace/.local/lib/python3.10/site-packages/sklearn/ensemble/_forest.py:413: FutureWarning: `max_features='auto'` has been deprecated in 1.1 and will be removed in 1.3. To keep the past behaviour, explicitly set `max_features=1.0` or remove this parameter as it is also the default value for RandomForestRegressors and ExtraTreesRegressors.\n",
      "  warn(\n"
     ]
    },
    {
     "name": "stdout",
     "output_type": "stream",
     "text": [
      "[CV] END bootstrap=True, max_depth=110, max_features=sqrt, min_samples_leaf=2, min_samples_split=5, n_estimators=200; total time=   3.0s\n",
      "[CV] END bootstrap=True, max_depth=110, max_features=sqrt, min_samples_leaf=2, min_samples_split=5, n_estimators=200; total time=   3.2s\n"
     ]
    },
    {
     "name": "stderr",
     "output_type": "stream",
     "text": [
      "/home/codespace/.local/lib/python3.10/site-packages/sklearn/ensemble/_forest.py:413: FutureWarning: `max_features='auto'` has been deprecated in 1.1 and will be removed in 1.3. To keep the past behaviour, explicitly set `max_features=1.0` or remove this parameter as it is also the default value for RandomForestRegressors and ExtraTreesRegressors.\n",
      "  warn(\n",
      "/home/codespace/.local/lib/python3.10/site-packages/sklearn/ensemble/_forest.py:413: FutureWarning: `max_features='auto'` has been deprecated in 1.1 and will be removed in 1.3. To keep the past behaviour, explicitly set `max_features=1.0` or remove this parameter as it is also the default value for RandomForestRegressors and ExtraTreesRegressors.\n",
      "  warn(\n"
     ]
    },
    {
     "name": "stdout",
     "output_type": "stream",
     "text": [
      "[CV] END bootstrap=True, max_depth=110, max_features=auto, min_samples_leaf=1, min_samples_split=2, n_estimators=400; total time=  21.2s\n",
      "[CV] END bootstrap=True, max_depth=110, max_features=auto, min_samples_leaf=1, min_samples_split=2, n_estimators=400; total time=  21.4s\n"
     ]
    },
    {
     "name": "stderr",
     "output_type": "stream",
     "text": [
      "/home/codespace/.local/lib/python3.10/site-packages/sklearn/ensemble/_forest.py:413: FutureWarning: `max_features='auto'` has been deprecated in 1.1 and will be removed in 1.3. To keep the past behaviour, explicitly set `max_features=1.0` or remove this parameter as it is also the default value for RandomForestRegressors and ExtraTreesRegressors.\n",
      "  warn(\n",
      "/home/codespace/.local/lib/python3.10/site-packages/sklearn/ensemble/_forest.py:413: FutureWarning: `max_features='auto'` has been deprecated in 1.1 and will be removed in 1.3. To keep the past behaviour, explicitly set `max_features=1.0` or remove this parameter as it is also the default value for RandomForestRegressors and ExtraTreesRegressors.\n",
      "  warn(\n"
     ]
    },
    {
     "name": "stdout",
     "output_type": "stream",
     "text": [
      "[CV] END bootstrap=True, max_depth=110, max_features=auto, min_samples_leaf=1, min_samples_split=2, n_estimators=400; total time=  21.1s\n"
     ]
    },
    {
     "name": "stderr",
     "output_type": "stream",
     "text": [
      "/home/codespace/.local/lib/python3.10/site-packages/sklearn/ensemble/_forest.py:413: FutureWarning: `max_features='auto'` has been deprecated in 1.1 and will be removed in 1.3. To keep the past behaviour, explicitly set `max_features=1.0` or remove this parameter as it is also the default value for RandomForestRegressors and ExtraTreesRegressors.\n",
      "  warn(\n"
     ]
    },
    {
     "name": "stdout",
     "output_type": "stream",
     "text": [
      "[CV] END bootstrap=True, max_depth=110, max_features=auto, min_samples_leaf=1, min_samples_split=2, n_estimators=400; total time=  21.2s\n"
     ]
    },
    {
     "name": "stderr",
     "output_type": "stream",
     "text": [
      "/home/codespace/.local/lib/python3.10/site-packages/sklearn/ensemble/_forest.py:413: FutureWarning: `max_features='auto'` has been deprecated in 1.1 and will be removed in 1.3. To keep the past behaviour, explicitly set `max_features=1.0` or remove this parameter as it is also the default value for RandomForestRegressors and ExtraTreesRegressors.\n",
      "  warn(\n"
     ]
    },
    {
     "name": "stdout",
     "output_type": "stream",
     "text": [
      "[CV] END bootstrap=True, max_depth=110, max_features=auto, min_samples_leaf=1, min_samples_split=2, n_estimators=400; total time=  20.8s\n"
     ]
    },
    {
     "name": "stderr",
     "output_type": "stream",
     "text": [
      "/home/codespace/.local/lib/python3.10/site-packages/sklearn/ensemble/_forest.py:413: FutureWarning: `max_features='auto'` has been deprecated in 1.1 and will be removed in 1.3. To keep the past behaviour, explicitly set `max_features=1.0` or remove this parameter as it is also the default value for RandomForestRegressors and ExtraTreesRegressors.\n",
      "  warn(\n"
     ]
    },
    {
     "name": "stdout",
     "output_type": "stream",
     "text": [
      "[CV] END bootstrap=True, max_depth=110, max_features=auto, min_samples_leaf=1, min_samples_split=2, n_estimators=400; total time=  21.3s\n"
     ]
    },
    {
     "name": "stderr",
     "output_type": "stream",
     "text": [
      "/home/codespace/.local/lib/python3.10/site-packages/sklearn/ensemble/_forest.py:413: FutureWarning: `max_features='auto'` has been deprecated in 1.1 and will be removed in 1.3. To keep the past behaviour, explicitly set `max_features=1.0` or remove this parameter as it is also the default value for RandomForestRegressors and ExtraTreesRegressors.\n",
      "  warn(\n"
     ]
    },
    {
     "name": "stdout",
     "output_type": "stream",
     "text": [
      "[CV] END bootstrap=True, max_depth=110, max_features=auto, min_samples_leaf=1, min_samples_split=2, n_estimators=400; total time=  21.1s\n",
      "[CV] END bootstrap=True, max_depth=110, max_features=auto, min_samples_leaf=1, min_samples_split=2, n_estimators=400; total time=  21.2s\n",
      "[CV] END bootstrap=True, max_depth=None, max_features=sqrt, min_samples_leaf=2, min_samples_split=5, n_estimators=400; total time=   6.2s\n",
      "[CV] END bootstrap=True, max_depth=None, max_features=sqrt, min_samples_leaf=2, min_samples_split=5, n_estimators=400; total time=   6.3s\n",
      "[CV] END bootstrap=True, max_depth=None, max_features=sqrt, min_samples_leaf=2, min_samples_split=5, n_estimators=400; total time=   6.3s\n",
      "[CV] END bootstrap=True, max_depth=None, max_features=sqrt, min_samples_leaf=2, min_samples_split=5, n_estimators=400; total time=   6.4s\n",
      "[CV] END bootstrap=True, max_depth=110, max_features=auto, min_samples_leaf=1, min_samples_split=2, n_estimators=400; total time=  21.3s\n",
      "[CV] END bootstrap=True, max_depth=None, max_features=sqrt, min_samples_leaf=2, min_samples_split=5, n_estimators=400; total time=   6.1s\n",
      "[CV] END bootstrap=True, max_depth=110, max_features=auto, min_samples_leaf=1, min_samples_split=2, n_estimators=400; total time=  21.4s\n",
      "[CV] END bootstrap=True, max_depth=None, max_features=sqrt, min_samples_leaf=2, min_samples_split=5, n_estimators=400; total time=   6.3s\n",
      "[CV] END bootstrap=True, max_depth=None, max_features=sqrt, min_samples_leaf=2, min_samples_split=5, n_estimators=400; total time=   6.1s\n",
      "[CV] END bootstrap=True, max_depth=None, max_features=sqrt, min_samples_leaf=2, min_samples_split=5, n_estimators=400; total time=   6.4s\n",
      "[CV] END bootstrap=True, max_depth=None, max_features=sqrt, min_samples_leaf=2, min_samples_split=5, n_estimators=400; total time=   6.1s\n",
      "[CV] END bootstrap=True, max_depth=None, max_features=sqrt, min_samples_leaf=2, min_samples_split=5, n_estimators=400; total time=   6.1s\n",
      "[CV] END bootstrap=True, max_depth=50, max_features=sqrt, min_samples_leaf=2, min_samples_split=5, n_estimators=400; total time=   6.1s\n",
      "[CV] END bootstrap=True, max_depth=50, max_features=sqrt, min_samples_leaf=2, min_samples_split=5, n_estimators=400; total time=   6.1s\n",
      "[CV] END bootstrap=True, max_depth=50, max_features=sqrt, min_samples_leaf=2, min_samples_split=5, n_estimators=400; total time=   6.4s\n",
      "[CV] END bootstrap=True, max_depth=50, max_features=sqrt, min_samples_leaf=2, min_samples_split=5, n_estimators=400; total time=   6.3s\n",
      "[CV] END bootstrap=True, max_depth=50, max_features=sqrt, min_samples_leaf=2, min_samples_split=5, n_estimators=400; total time=   6.2s\n",
      "[CV] END bootstrap=True, max_depth=50, max_features=sqrt, min_samples_leaf=2, min_samples_split=5, n_estimators=400; total time=   6.2s\n",
      "[CV] END bootstrap=True, max_depth=50, max_features=sqrt, min_samples_leaf=2, min_samples_split=5, n_estimators=400; total time=   6.3s\n"
     ]
    },
    {
     "name": "stderr",
     "output_type": "stream",
     "text": [
      "/home/codespace/.local/lib/python3.10/site-packages/sklearn/ensemble/_forest.py:413: FutureWarning: `max_features='auto'` has been deprecated in 1.1 and will be removed in 1.3. To keep the past behaviour, explicitly set `max_features=1.0` or remove this parameter as it is also the default value for RandomForestRegressors and ExtraTreesRegressors.\n",
      "  warn(\n"
     ]
    },
    {
     "name": "stdout",
     "output_type": "stream",
     "text": [
      "[CV] END bootstrap=True, max_depth=50, max_features=sqrt, min_samples_leaf=2, min_samples_split=5, n_estimators=400; total time=   5.9s\n"
     ]
    },
    {
     "name": "stderr",
     "output_type": "stream",
     "text": [
      "/home/codespace/.local/lib/python3.10/site-packages/sklearn/ensemble/_forest.py:413: FutureWarning: `max_features='auto'` has been deprecated in 1.1 and will be removed in 1.3. To keep the past behaviour, explicitly set `max_features=1.0` or remove this parameter as it is also the default value for RandomForestRegressors and ExtraTreesRegressors.\n",
      "  warn(\n"
     ]
    },
    {
     "name": "stdout",
     "output_type": "stream",
     "text": [
      "[CV] END bootstrap=True, max_depth=50, max_features=sqrt, min_samples_leaf=2, min_samples_split=5, n_estimators=400; total time=   6.0s\n"
     ]
    },
    {
     "name": "stderr",
     "output_type": "stream",
     "text": [
      "/home/codespace/.local/lib/python3.10/site-packages/sklearn/ensemble/_forest.py:413: FutureWarning: `max_features='auto'` has been deprecated in 1.1 and will be removed in 1.3. To keep the past behaviour, explicitly set `max_features=1.0` or remove this parameter as it is also the default value for RandomForestRegressors and ExtraTreesRegressors.\n",
      "  warn(\n"
     ]
    },
    {
     "name": "stdout",
     "output_type": "stream",
     "text": [
      "[CV] END bootstrap=True, max_depth=50, max_features=sqrt, min_samples_leaf=2, min_samples_split=5, n_estimators=400; total time=   6.1s\n"
     ]
    },
    {
     "name": "stderr",
     "output_type": "stream",
     "text": [
      "/home/codespace/.local/lib/python3.10/site-packages/sklearn/ensemble/_forest.py:413: FutureWarning: `max_features='auto'` has been deprecated in 1.1 and will be removed in 1.3. To keep the past behaviour, explicitly set `max_features=1.0` or remove this parameter as it is also the default value for RandomForestRegressors and ExtraTreesRegressors.\n",
      "  warn(\n"
     ]
    },
    {
     "name": "stdout",
     "output_type": "stream",
     "text": [
      "[CV] END bootstrap=False, max_depth=10, max_features=auto, min_samples_leaf=2, min_samples_split=10, n_estimators=300; total time=  12.5s\n",
      "[CV] END bootstrap=False, max_depth=10, max_features=auto, min_samples_leaf=2, min_samples_split=10, n_estimators=300; total time=  12.4s\n"
     ]
    },
    {
     "name": "stderr",
     "output_type": "stream",
     "text": [
      "/home/codespace/.local/lib/python3.10/site-packages/sklearn/ensemble/_forest.py:413: FutureWarning: `max_features='auto'` has been deprecated in 1.1 and will be removed in 1.3. To keep the past behaviour, explicitly set `max_features=1.0` or remove this parameter as it is also the default value for RandomForestRegressors and ExtraTreesRegressors.\n",
      "  warn(\n",
      "/home/codespace/.local/lib/python3.10/site-packages/sklearn/ensemble/_forest.py:413: FutureWarning: `max_features='auto'` has been deprecated in 1.1 and will be removed in 1.3. To keep the past behaviour, explicitly set `max_features=1.0` or remove this parameter as it is also the default value for RandomForestRegressors and ExtraTreesRegressors.\n",
      "  warn(\n"
     ]
    },
    {
     "name": "stdout",
     "output_type": "stream",
     "text": [
      "[CV] END bootstrap=False, max_depth=10, max_features=auto, min_samples_leaf=2, min_samples_split=10, n_estimators=300; total time=  12.6s\n"
     ]
    },
    {
     "name": "stderr",
     "output_type": "stream",
     "text": [
      "/home/codespace/.local/lib/python3.10/site-packages/sklearn/ensemble/_forest.py:413: FutureWarning: `max_features='auto'` has been deprecated in 1.1 and will be removed in 1.3. To keep the past behaviour, explicitly set `max_features=1.0` or remove this parameter as it is also the default value for RandomForestRegressors and ExtraTreesRegressors.\n",
      "  warn(\n"
     ]
    },
    {
     "name": "stdout",
     "output_type": "stream",
     "text": [
      "[CV] END bootstrap=False, max_depth=10, max_features=auto, min_samples_leaf=2, min_samples_split=10, n_estimators=300; total time=  12.6s\n"
     ]
    },
    {
     "name": "stderr",
     "output_type": "stream",
     "text": [
      "/home/codespace/.local/lib/python3.10/site-packages/sklearn/ensemble/_forest.py:413: FutureWarning: `max_features='auto'` has been deprecated in 1.1 and will be removed in 1.3. To keep the past behaviour, explicitly set `max_features=1.0` or remove this parameter as it is also the default value for RandomForestRegressors and ExtraTreesRegressors.\n",
      "  warn(\n"
     ]
    },
    {
     "name": "stdout",
     "output_type": "stream",
     "text": [
      "[CV] END bootstrap=False, max_depth=10, max_features=auto, min_samples_leaf=2, min_samples_split=10, n_estimators=300; total time=  12.9s\n",
      "[CV] END bootstrap=False, max_depth=10, max_features=auto, min_samples_leaf=2, min_samples_split=10, n_estimators=300; total time=  12.8s\n"
     ]
    },
    {
     "name": "stderr",
     "output_type": "stream",
     "text": [
      "/home/codespace/.local/lib/python3.10/site-packages/sklearn/ensemble/_forest.py:413: FutureWarning: `max_features='auto'` has been deprecated in 1.1 and will be removed in 1.3. To keep the past behaviour, explicitly set `max_features=1.0` or remove this parameter as it is also the default value for RandomForestRegressors and ExtraTreesRegressors.\n",
      "  warn(\n",
      "/home/codespace/.local/lib/python3.10/site-packages/sklearn/ensemble/_forest.py:413: FutureWarning: `max_features='auto'` has been deprecated in 1.1 and will be removed in 1.3. To keep the past behaviour, explicitly set `max_features=1.0` or remove this parameter as it is also the default value for RandomForestRegressors and ExtraTreesRegressors.\n",
      "  warn(\n"
     ]
    },
    {
     "name": "stdout",
     "output_type": "stream",
     "text": [
      "[CV] END bootstrap=False, max_depth=10, max_features=auto, min_samples_leaf=2, min_samples_split=10, n_estimators=300; total time=  12.6s\n",
      "[CV] END bootstrap=False, max_depth=10, max_features=auto, min_samples_leaf=2, min_samples_split=10, n_estimators=300; total time=  12.5s\n",
      "[CV] END bootstrap=True, max_depth=None, max_features=sqrt, min_samples_leaf=4, min_samples_split=5, n_estimators=300; total time=   3.7s\n",
      "[CV] END bootstrap=True, max_depth=None, max_features=sqrt, min_samples_leaf=4, min_samples_split=5, n_estimators=300; total time=   3.7s\n",
      "[CV] END bootstrap=False, max_depth=10, max_features=auto, min_samples_leaf=2, min_samples_split=10, n_estimators=300; total time=  12.4s\n",
      "[CV] END bootstrap=True, max_depth=None, max_features=sqrt, min_samples_leaf=4, min_samples_split=5, n_estimators=300; total time=   3.6s\n",
      "[CV] END bootstrap=False, max_depth=10, max_features=auto, min_samples_leaf=2, min_samples_split=10, n_estimators=300; total time=  12.9s\n",
      "[CV] END bootstrap=True, max_depth=None, max_features=sqrt, min_samples_leaf=4, min_samples_split=5, n_estimators=300; total time=   3.7s\n",
      "[CV] END bootstrap=True, max_depth=None, max_features=sqrt, min_samples_leaf=4, min_samples_split=5, n_estimators=300; total time=   3.6s\n",
      "[CV] END bootstrap=True, max_depth=None, max_features=sqrt, min_samples_leaf=4, min_samples_split=5, n_estimators=300; total time=   3.7s\n",
      "[CV] END bootstrap=True, max_depth=None, max_features=sqrt, min_samples_leaf=4, min_samples_split=5, n_estimators=300; total time=   3.6s\n",
      "[CV] END bootstrap=True, max_depth=None, max_features=sqrt, min_samples_leaf=4, min_samples_split=5, n_estimators=300; total time=   3.6s\n",
      "[CV] END bootstrap=True, max_depth=None, max_features=sqrt, min_samples_leaf=4, min_samples_split=5, n_estimators=300; total time=   3.6s\n",
      "[CV] END bootstrap=True, max_depth=None, max_features=sqrt, min_samples_leaf=4, min_samples_split=5, n_estimators=300; total time=   3.7s\n",
      "[CV] END bootstrap=True, max_depth=None, max_features=sqrt, min_samples_leaf=4, min_samples_split=2, n_estimators=500; total time=   6.3s\n",
      "[CV] END bootstrap=True, max_depth=None, max_features=sqrt, min_samples_leaf=4, min_samples_split=2, n_estimators=500; total time=   6.4s\n",
      "[CV] END bootstrap=True, max_depth=None, max_features=sqrt, min_samples_leaf=4, min_samples_split=2, n_estimators=500; total time=   6.5s\n",
      "[CV] END bootstrap=True, max_depth=None, max_features=sqrt, min_samples_leaf=4, min_samples_split=2, n_estimators=500; total time=   6.5s\n",
      "[CV] END bootstrap=True, max_depth=None, max_features=sqrt, min_samples_leaf=4, min_samples_split=2, n_estimators=500; total time=   6.1s\n",
      "[CV] END bootstrap=True, max_depth=None, max_features=sqrt, min_samples_leaf=4, min_samples_split=2, n_estimators=500; total time=   6.1s\n",
      "[CV] END bootstrap=True, max_depth=None, max_features=sqrt, min_samples_leaf=4, min_samples_split=2, n_estimators=500; total time=   6.1s\n"
     ]
    },
    {
     "name": "stderr",
     "output_type": "stream",
     "text": [
      "/home/codespace/.local/lib/python3.10/site-packages/sklearn/ensemble/_forest.py:413: FutureWarning: `max_features='auto'` has been deprecated in 1.1 and will be removed in 1.3. To keep the past behaviour, explicitly set `max_features=1.0` or remove this parameter as it is also the default value for RandomForestRegressors and ExtraTreesRegressors.\n",
      "  warn(\n"
     ]
    },
    {
     "name": "stdout",
     "output_type": "stream",
     "text": [
      "[CV] END bootstrap=True, max_depth=None, max_features=sqrt, min_samples_leaf=4, min_samples_split=2, n_estimators=500; total time=   6.1s\n"
     ]
    },
    {
     "name": "stderr",
     "output_type": "stream",
     "text": [
      "/home/codespace/.local/lib/python3.10/site-packages/sklearn/ensemble/_forest.py:413: FutureWarning: `max_features='auto'` has been deprecated in 1.1 and will be removed in 1.3. To keep the past behaviour, explicitly set `max_features=1.0` or remove this parameter as it is also the default value for RandomForestRegressors and ExtraTreesRegressors.\n",
      "  warn(\n"
     ]
    },
    {
     "name": "stdout",
     "output_type": "stream",
     "text": [
      "[CV] END bootstrap=True, max_depth=None, max_features=sqrt, min_samples_leaf=4, min_samples_split=2, n_estimators=500; total time=   6.0s\n"
     ]
    },
    {
     "name": "stderr",
     "output_type": "stream",
     "text": [
      "/home/codespace/.local/lib/python3.10/site-packages/sklearn/ensemble/_forest.py:413: FutureWarning: `max_features='auto'` has been deprecated in 1.1 and will be removed in 1.3. To keep the past behaviour, explicitly set `max_features=1.0` or remove this parameter as it is also the default value for RandomForestRegressors and ExtraTreesRegressors.\n",
      "  warn(\n"
     ]
    },
    {
     "name": "stdout",
     "output_type": "stream",
     "text": [
      "[CV] END bootstrap=True, max_depth=None, max_features=sqrt, min_samples_leaf=4, min_samples_split=2, n_estimators=500; total time=   6.0s\n"
     ]
    },
    {
     "name": "stderr",
     "output_type": "stream",
     "text": [
      "/home/codespace/.local/lib/python3.10/site-packages/sklearn/ensemble/_forest.py:413: FutureWarning: `max_features='auto'` has been deprecated in 1.1 and will be removed in 1.3. To keep the past behaviour, explicitly set `max_features=1.0` or remove this parameter as it is also the default value for RandomForestRegressors and ExtraTreesRegressors.\n",
      "  warn(\n"
     ]
    },
    {
     "name": "stdout",
     "output_type": "stream",
     "text": [
      "[CV] END bootstrap=True, max_depth=50, max_features=auto, min_samples_leaf=1, min_samples_split=2, n_estimators=300; total time=  15.7s\n"
     ]
    },
    {
     "name": "stderr",
     "output_type": "stream",
     "text": [
      "/home/codespace/.local/lib/python3.10/site-packages/sklearn/ensemble/_forest.py:413: FutureWarning: `max_features='auto'` has been deprecated in 1.1 and will be removed in 1.3. To keep the past behaviour, explicitly set `max_features=1.0` or remove this parameter as it is also the default value for RandomForestRegressors and ExtraTreesRegressors.\n",
      "  warn(\n"
     ]
    },
    {
     "name": "stdout",
     "output_type": "stream",
     "text": [
      "[CV] END bootstrap=True, max_depth=50, max_features=auto, min_samples_leaf=1, min_samples_split=2, n_estimators=300; total time=  15.7s\n"
     ]
    },
    {
     "name": "stderr",
     "output_type": "stream",
     "text": [
      "/home/codespace/.local/lib/python3.10/site-packages/sklearn/ensemble/_forest.py:413: FutureWarning: `max_features='auto'` has been deprecated in 1.1 and will be removed in 1.3. To keep the past behaviour, explicitly set `max_features=1.0` or remove this parameter as it is also the default value for RandomForestRegressors and ExtraTreesRegressors.\n",
      "  warn(\n"
     ]
    },
    {
     "name": "stdout",
     "output_type": "stream",
     "text": [
      "[CV] END bootstrap=True, max_depth=50, max_features=auto, min_samples_leaf=1, min_samples_split=2, n_estimators=300; total time=  15.6s\n"
     ]
    },
    {
     "name": "stderr",
     "output_type": "stream",
     "text": [
      "/home/codespace/.local/lib/python3.10/site-packages/sklearn/ensemble/_forest.py:413: FutureWarning: `max_features='auto'` has been deprecated in 1.1 and will be removed in 1.3. To keep the past behaviour, explicitly set `max_features=1.0` or remove this parameter as it is also the default value for RandomForestRegressors and ExtraTreesRegressors.\n",
      "  warn(\n"
     ]
    },
    {
     "name": "stdout",
     "output_type": "stream",
     "text": [
      "[CV] END bootstrap=True, max_depth=50, max_features=auto, min_samples_leaf=1, min_samples_split=2, n_estimators=300; total time=  15.8s\n"
     ]
    },
    {
     "name": "stderr",
     "output_type": "stream",
     "text": [
      "/home/codespace/.local/lib/python3.10/site-packages/sklearn/ensemble/_forest.py:413: FutureWarning: `max_features='auto'` has been deprecated in 1.1 and will be removed in 1.3. To keep the past behaviour, explicitly set `max_features=1.0` or remove this parameter as it is also the default value for RandomForestRegressors and ExtraTreesRegressors.\n",
      "  warn(\n"
     ]
    },
    {
     "name": "stdout",
     "output_type": "stream",
     "text": [
      "[CV] END bootstrap=True, max_depth=50, max_features=auto, min_samples_leaf=1, min_samples_split=2, n_estimators=300; total time=  15.8s\n",
      "[CV] END bootstrap=True, max_depth=50, max_features=auto, min_samples_leaf=1, min_samples_split=2, n_estimators=300; total time=  16.3s\n"
     ]
    },
    {
     "name": "stderr",
     "output_type": "stream",
     "text": [
      "/home/codespace/.local/lib/python3.10/site-packages/sklearn/ensemble/_forest.py:413: FutureWarning: `max_features='auto'` has been deprecated in 1.1 and will be removed in 1.3. To keep the past behaviour, explicitly set `max_features=1.0` or remove this parameter as it is also the default value for RandomForestRegressors and ExtraTreesRegressors.\n",
      "  warn(\n",
      "/home/codespace/.local/lib/python3.10/site-packages/sklearn/ensemble/_forest.py:413: FutureWarning: `max_features='auto'` has been deprecated in 1.1 and will be removed in 1.3. To keep the past behaviour, explicitly set `max_features=1.0` or remove this parameter as it is also the default value for RandomForestRegressors and ExtraTreesRegressors.\n",
      "  warn(\n"
     ]
    },
    {
     "name": "stdout",
     "output_type": "stream",
     "text": [
      "[CV] END bootstrap=True, max_depth=50, max_features=auto, min_samples_leaf=1, min_samples_split=2, n_estimators=300; total time=  15.8s\n"
     ]
    },
    {
     "name": "stderr",
     "output_type": "stream",
     "text": [
      "/home/codespace/.local/lib/python3.10/site-packages/sklearn/ensemble/_forest.py:413: FutureWarning: `max_features='auto'` has been deprecated in 1.1 and will be removed in 1.3. To keep the past behaviour, explicitly set `max_features=1.0` or remove this parameter as it is also the default value for RandomForestRegressors and ExtraTreesRegressors.\n",
      "  warn(\n"
     ]
    },
    {
     "name": "stdout",
     "output_type": "stream",
     "text": [
      "[CV] END bootstrap=True, max_depth=50, max_features=auto, min_samples_leaf=1, min_samples_split=2, n_estimators=300; total time=  16.0s\n"
     ]
    },
    {
     "name": "stderr",
     "output_type": "stream",
     "text": [
      "/home/codespace/.local/lib/python3.10/site-packages/sklearn/ensemble/_forest.py:413: FutureWarning: `max_features='auto'` has been deprecated in 1.1 and will be removed in 1.3. To keep the past behaviour, explicitly set `max_features=1.0` or remove this parameter as it is also the default value for RandomForestRegressors and ExtraTreesRegressors.\n",
      "  warn(\n"
     ]
    },
    {
     "name": "stdout",
     "output_type": "stream",
     "text": [
      "[CV] END bootstrap=True, max_depth=110, max_features=auto, min_samples_leaf=1, min_samples_split=5, n_estimators=200; total time=   9.5s\n"
     ]
    },
    {
     "name": "stderr",
     "output_type": "stream",
     "text": [
      "/home/codespace/.local/lib/python3.10/site-packages/sklearn/ensemble/_forest.py:413: FutureWarning: `max_features='auto'` has been deprecated in 1.1 and will be removed in 1.3. To keep the past behaviour, explicitly set `max_features=1.0` or remove this parameter as it is also the default value for RandomForestRegressors and ExtraTreesRegressors.\n",
      "  warn(\n"
     ]
    },
    {
     "name": "stdout",
     "output_type": "stream",
     "text": [
      "[CV] END bootstrap=True, max_depth=110, max_features=auto, min_samples_leaf=1, min_samples_split=5, n_estimators=200; total time=   9.3s\n"
     ]
    },
    {
     "name": "stderr",
     "output_type": "stream",
     "text": [
      "/home/codespace/.local/lib/python3.10/site-packages/sklearn/ensemble/_forest.py:413: FutureWarning: `max_features='auto'` has been deprecated in 1.1 and will be removed in 1.3. To keep the past behaviour, explicitly set `max_features=1.0` or remove this parameter as it is also the default value for RandomForestRegressors and ExtraTreesRegressors.\n",
      "  warn(\n"
     ]
    },
    {
     "name": "stdout",
     "output_type": "stream",
     "text": [
      "[CV] END bootstrap=True, max_depth=50, max_features=auto, min_samples_leaf=1, min_samples_split=2, n_estimators=300; total time=  15.7s\n"
     ]
    },
    {
     "name": "stderr",
     "output_type": "stream",
     "text": [
      "/home/codespace/.local/lib/python3.10/site-packages/sklearn/ensemble/_forest.py:413: FutureWarning: `max_features='auto'` has been deprecated in 1.1 and will be removed in 1.3. To keep the past behaviour, explicitly set `max_features=1.0` or remove this parameter as it is also the default value for RandomForestRegressors and ExtraTreesRegressors.\n",
      "  warn(\n"
     ]
    },
    {
     "name": "stdout",
     "output_type": "stream",
     "text": [
      "[CV] END bootstrap=True, max_depth=50, max_features=auto, min_samples_leaf=1, min_samples_split=2, n_estimators=300; total time=  15.9s\n"
     ]
    },
    {
     "name": "stderr",
     "output_type": "stream",
     "text": [
      "/home/codespace/.local/lib/python3.10/site-packages/sklearn/ensemble/_forest.py:413: FutureWarning: `max_features='auto'` has been deprecated in 1.1 and will be removed in 1.3. To keep the past behaviour, explicitly set `max_features=1.0` or remove this parameter as it is also the default value for RandomForestRegressors and ExtraTreesRegressors.\n",
      "  warn(\n"
     ]
    },
    {
     "name": "stdout",
     "output_type": "stream",
     "text": [
      "[CV] END bootstrap=True, max_depth=110, max_features=auto, min_samples_leaf=1, min_samples_split=5, n_estimators=200; total time=   9.6s\n"
     ]
    },
    {
     "name": "stderr",
     "output_type": "stream",
     "text": [
      "/home/codespace/.local/lib/python3.10/site-packages/sklearn/ensemble/_forest.py:413: FutureWarning: `max_features='auto'` has been deprecated in 1.1 and will be removed in 1.3. To keep the past behaviour, explicitly set `max_features=1.0` or remove this parameter as it is also the default value for RandomForestRegressors and ExtraTreesRegressors.\n",
      "  warn(\n"
     ]
    },
    {
     "name": "stdout",
     "output_type": "stream",
     "text": [
      "[CV] END bootstrap=True, max_depth=110, max_features=auto, min_samples_leaf=1, min_samples_split=5, n_estimators=200; total time=   9.7s\n"
     ]
    },
    {
     "name": "stderr",
     "output_type": "stream",
     "text": [
      "/home/codespace/.local/lib/python3.10/site-packages/sklearn/ensemble/_forest.py:413: FutureWarning: `max_features='auto'` has been deprecated in 1.1 and will be removed in 1.3. To keep the past behaviour, explicitly set `max_features=1.0` or remove this parameter as it is also the default value for RandomForestRegressors and ExtraTreesRegressors.\n",
      "  warn(\n"
     ]
    },
    {
     "name": "stdout",
     "output_type": "stream",
     "text": [
      "[CV] END bootstrap=True, max_depth=110, max_features=auto, min_samples_leaf=1, min_samples_split=5, n_estimators=200; total time=   9.6s\n"
     ]
    },
    {
     "name": "stderr",
     "output_type": "stream",
     "text": [
      "/home/codespace/.local/lib/python3.10/site-packages/sklearn/ensemble/_forest.py:413: FutureWarning: `max_features='auto'` has been deprecated in 1.1 and will be removed in 1.3. To keep the past behaviour, explicitly set `max_features=1.0` or remove this parameter as it is also the default value for RandomForestRegressors and ExtraTreesRegressors.\n",
      "  warn(\n"
     ]
    },
    {
     "name": "stdout",
     "output_type": "stream",
     "text": [
      "[CV] END bootstrap=True, max_depth=110, max_features=auto, min_samples_leaf=1, min_samples_split=5, n_estimators=200; total time=   9.6s\n"
     ]
    },
    {
     "name": "stderr",
     "output_type": "stream",
     "text": [
      "/home/codespace/.local/lib/python3.10/site-packages/sklearn/ensemble/_forest.py:413: FutureWarning: `max_features='auto'` has been deprecated in 1.1 and will be removed in 1.3. To keep the past behaviour, explicitly set `max_features=1.0` or remove this parameter as it is also the default value for RandomForestRegressors and ExtraTreesRegressors.\n",
      "  warn(\n"
     ]
    },
    {
     "name": "stdout",
     "output_type": "stream",
     "text": [
      "[CV] END bootstrap=True, max_depth=110, max_features=auto, min_samples_leaf=1, min_samples_split=5, n_estimators=200; total time=   9.7s\n",
      "[CV] END bootstrap=True, max_depth=110, max_features=auto, min_samples_leaf=1, min_samples_split=5, n_estimators=200; total time=   9.3s\n"
     ]
    },
    {
     "name": "stderr",
     "output_type": "stream",
     "text": [
      "/home/codespace/.local/lib/python3.10/site-packages/sklearn/ensemble/_forest.py:413: FutureWarning: `max_features='auto'` has been deprecated in 1.1 and will be removed in 1.3. To keep the past behaviour, explicitly set `max_features=1.0` or remove this parameter as it is also the default value for RandomForestRegressors and ExtraTreesRegressors.\n",
      "  warn(\n",
      "/home/codespace/.local/lib/python3.10/site-packages/sklearn/ensemble/_forest.py:413: FutureWarning: `max_features='auto'` has been deprecated in 1.1 and will be removed in 1.3. To keep the past behaviour, explicitly set `max_features=1.0` or remove this parameter as it is also the default value for RandomForestRegressors and ExtraTreesRegressors.\n",
      "  warn(\n"
     ]
    },
    {
     "name": "stdout",
     "output_type": "stream",
     "text": [
      "[CV] END bootstrap=True, max_depth=110, max_features=auto, min_samples_leaf=1, min_samples_split=5, n_estimators=200; total time=   9.1s\n"
     ]
    },
    {
     "name": "stderr",
     "output_type": "stream",
     "text": [
      "/home/codespace/.local/lib/python3.10/site-packages/sklearn/ensemble/_forest.py:413: FutureWarning: `max_features='auto'` has been deprecated in 1.1 and will be removed in 1.3. To keep the past behaviour, explicitly set `max_features=1.0` or remove this parameter as it is also the default value for RandomForestRegressors and ExtraTreesRegressors.\n",
      "  warn(\n"
     ]
    },
    {
     "name": "stdout",
     "output_type": "stream",
     "text": [
      "[CV] END bootstrap=True, max_depth=110, max_features=auto, min_samples_leaf=1, min_samples_split=5, n_estimators=200; total time=   9.5s\n"
     ]
    },
    {
     "name": "stderr",
     "output_type": "stream",
     "text": [
      "/home/codespace/.local/lib/python3.10/site-packages/sklearn/ensemble/_forest.py:413: FutureWarning: `max_features='auto'` has been deprecated in 1.1 and will be removed in 1.3. To keep the past behaviour, explicitly set `max_features=1.0` or remove this parameter as it is also the default value for RandomForestRegressors and ExtraTreesRegressors.\n",
      "  warn(\n"
     ]
    },
    {
     "name": "stdout",
     "output_type": "stream",
     "text": [
      "[CV] END bootstrap=False, max_depth=None, max_features=auto, min_samples_leaf=4, min_samples_split=5, n_estimators=400; total time=  24.2s\n",
      "[CV] END bootstrap=False, max_depth=None, max_features=auto, min_samples_leaf=4, min_samples_split=5, n_estimators=400; total time=  24.3s\n"
     ]
    },
    {
     "name": "stderr",
     "output_type": "stream",
     "text": [
      "/home/codespace/.local/lib/python3.10/site-packages/sklearn/ensemble/_forest.py:413: FutureWarning: `max_features='auto'` has been deprecated in 1.1 and will be removed in 1.3. To keep the past behaviour, explicitly set `max_features=1.0` or remove this parameter as it is also the default value for RandomForestRegressors and ExtraTreesRegressors.\n",
      "  warn(\n",
      "/home/codespace/.local/lib/python3.10/site-packages/sklearn/ensemble/_forest.py:413: FutureWarning: `max_features='auto'` has been deprecated in 1.1 and will be removed in 1.3. To keep the past behaviour, explicitly set `max_features=1.0` or remove this parameter as it is also the default value for RandomForestRegressors and ExtraTreesRegressors.\n",
      "  warn(\n"
     ]
    },
    {
     "name": "stdout",
     "output_type": "stream",
     "text": [
      "[CV] END bootstrap=False, max_depth=None, max_features=auto, min_samples_leaf=4, min_samples_split=5, n_estimators=400; total time=  23.9s\n"
     ]
    },
    {
     "name": "stderr",
     "output_type": "stream",
     "text": [
      "/home/codespace/.local/lib/python3.10/site-packages/sklearn/ensemble/_forest.py:413: FutureWarning: `max_features='auto'` has been deprecated in 1.1 and will be removed in 1.3. To keep the past behaviour, explicitly set `max_features=1.0` or remove this parameter as it is also the default value for RandomForestRegressors and ExtraTreesRegressors.\n",
      "  warn(\n"
     ]
    },
    {
     "name": "stdout",
     "output_type": "stream",
     "text": [
      "[CV] END bootstrap=False, max_depth=None, max_features=auto, min_samples_leaf=4, min_samples_split=5, n_estimators=400; total time=  24.3s\n"
     ]
    },
    {
     "name": "stderr",
     "output_type": "stream",
     "text": [
      "/home/codespace/.local/lib/python3.10/site-packages/sklearn/ensemble/_forest.py:413: FutureWarning: `max_features='auto'` has been deprecated in 1.1 and will be removed in 1.3. To keep the past behaviour, explicitly set `max_features=1.0` or remove this parameter as it is also the default value for RandomForestRegressors and ExtraTreesRegressors.\n",
      "  warn(\n"
     ]
    },
    {
     "name": "stdout",
     "output_type": "stream",
     "text": [
      "[CV] END bootstrap=False, max_depth=None, max_features=auto, min_samples_leaf=4, min_samples_split=5, n_estimators=400; total time=  23.8s\n"
     ]
    },
    {
     "name": "stderr",
     "output_type": "stream",
     "text": [
      "/home/codespace/.local/lib/python3.10/site-packages/sklearn/ensemble/_forest.py:413: FutureWarning: `max_features='auto'` has been deprecated in 1.1 and will be removed in 1.3. To keep the past behaviour, explicitly set `max_features=1.0` or remove this parameter as it is also the default value for RandomForestRegressors and ExtraTreesRegressors.\n",
      "  warn(\n"
     ]
    },
    {
     "name": "stdout",
     "output_type": "stream",
     "text": [
      "[CV] END bootstrap=False, max_depth=None, max_features=auto, min_samples_leaf=4, min_samples_split=5, n_estimators=400; total time=  24.0s\n"
     ]
    },
    {
     "name": "stderr",
     "output_type": "stream",
     "text": [
      "/home/codespace/.local/lib/python3.10/site-packages/sklearn/ensemble/_forest.py:413: FutureWarning: `max_features='auto'` has been deprecated in 1.1 and will be removed in 1.3. To keep the past behaviour, explicitly set `max_features=1.0` or remove this parameter as it is also the default value for RandomForestRegressors and ExtraTreesRegressors.\n",
      "  warn(\n"
     ]
    },
    {
     "name": "stdout",
     "output_type": "stream",
     "text": [
      "[CV] END bootstrap=False, max_depth=None, max_features=auto, min_samples_leaf=4, min_samples_split=5, n_estimators=400; total time=  24.1s\n",
      "[CV] END bootstrap=False, max_depth=None, max_features=auto, min_samples_leaf=4, min_samples_split=5, n_estimators=400; total time=  23.9s\n",
      "[CV] END bootstrap=False, max_depth=None, max_features=auto, min_samples_leaf=4, min_samples_split=5, n_estimators=400; total time=  16.6s\n",
      "[CV] END bootstrap=False, max_depth=None, max_features=auto, min_samples_leaf=4, min_samples_split=5, n_estimators=400; total time=  16.9s\n"
     ]
    },
    {
     "data": {
      "text/html": [
       "<style>#sk-container-id-1 {color: black;background-color: white;}#sk-container-id-1 pre{padding: 0;}#sk-container-id-1 div.sk-toggleable {background-color: white;}#sk-container-id-1 label.sk-toggleable__label {cursor: pointer;display: block;width: 100%;margin-bottom: 0;padding: 0.3em;box-sizing: border-box;text-align: center;}#sk-container-id-1 label.sk-toggleable__label-arrow:before {content: \"▸\";float: left;margin-right: 0.25em;color: #696969;}#sk-container-id-1 label.sk-toggleable__label-arrow:hover:before {color: black;}#sk-container-id-1 div.sk-estimator:hover label.sk-toggleable__label-arrow:before {color: black;}#sk-container-id-1 div.sk-toggleable__content {max-height: 0;max-width: 0;overflow: hidden;text-align: left;background-color: #f0f8ff;}#sk-container-id-1 div.sk-toggleable__content pre {margin: 0.2em;color: black;border-radius: 0.25em;background-color: #f0f8ff;}#sk-container-id-1 input.sk-toggleable__control:checked~div.sk-toggleable__content {max-height: 200px;max-width: 100%;overflow: auto;}#sk-container-id-1 input.sk-toggleable__control:checked~label.sk-toggleable__label-arrow:before {content: \"▾\";}#sk-container-id-1 div.sk-estimator input.sk-toggleable__control:checked~label.sk-toggleable__label {background-color: #d4ebff;}#sk-container-id-1 div.sk-label input.sk-toggleable__control:checked~label.sk-toggleable__label {background-color: #d4ebff;}#sk-container-id-1 input.sk-hidden--visually {border: 0;clip: rect(1px 1px 1px 1px);clip: rect(1px, 1px, 1px, 1px);height: 1px;margin: -1px;overflow: hidden;padding: 0;position: absolute;width: 1px;}#sk-container-id-1 div.sk-estimator {font-family: monospace;background-color: #f0f8ff;border: 1px dotted black;border-radius: 0.25em;box-sizing: border-box;margin-bottom: 0.5em;}#sk-container-id-1 div.sk-estimator:hover {background-color: #d4ebff;}#sk-container-id-1 div.sk-parallel-item::after {content: \"\";width: 100%;border-bottom: 1px solid gray;flex-grow: 1;}#sk-container-id-1 div.sk-label:hover label.sk-toggleable__label {background-color: #d4ebff;}#sk-container-id-1 div.sk-serial::before {content: \"\";position: absolute;border-left: 1px solid gray;box-sizing: border-box;top: 0;bottom: 0;left: 50%;z-index: 0;}#sk-container-id-1 div.sk-serial {display: flex;flex-direction: column;align-items: center;background-color: white;padding-right: 0.2em;padding-left: 0.2em;position: relative;}#sk-container-id-1 div.sk-item {position: relative;z-index: 1;}#sk-container-id-1 div.sk-parallel {display: flex;align-items: stretch;justify-content: center;background-color: white;position: relative;}#sk-container-id-1 div.sk-item::before, #sk-container-id-1 div.sk-parallel-item::before {content: \"\";position: absolute;border-left: 1px solid gray;box-sizing: border-box;top: 0;bottom: 0;left: 50%;z-index: -1;}#sk-container-id-1 div.sk-parallel-item {display: flex;flex-direction: column;z-index: 1;position: relative;background-color: white;}#sk-container-id-1 div.sk-parallel-item:first-child::after {align-self: flex-end;width: 50%;}#sk-container-id-1 div.sk-parallel-item:last-child::after {align-self: flex-start;width: 50%;}#sk-container-id-1 div.sk-parallel-item:only-child::after {width: 0;}#sk-container-id-1 div.sk-dashed-wrapped {border: 1px dashed gray;margin: 0 0.4em 0.5em 0.4em;box-sizing: border-box;padding-bottom: 0.4em;background-color: white;}#sk-container-id-1 div.sk-label label {font-family: monospace;font-weight: bold;display: inline-block;line-height: 1.2em;}#sk-container-id-1 div.sk-label-container {text-align: center;}#sk-container-id-1 div.sk-container {/* jupyter's `normalize.less` sets `[hidden] { display: none; }` but bootstrap.min.css set `[hidden] { display: none !important; }` so we also need the `!important` here to be able to override the default hidden behavior on the sphinx rendered scikit-learn.org. See: https://github.com/scikit-learn/scikit-learn/issues/21755 */display: inline-block !important;position: relative;}#sk-container-id-1 div.sk-text-repr-fallback {display: none;}</style><div id=\"sk-container-id-1\" class=\"sk-top-container\"><div class=\"sk-text-repr-fallback\"><pre>RandomizedSearchCV(cv=KFold(n_splits=10, random_state=42, shuffle=True),\n",
       "                   estimator=RandomForestRegressor(), n_jobs=-1,\n",
       "                   param_distributions={&#x27;bootstrap&#x27;: [True, False],\n",
       "                                        &#x27;max_depth&#x27;: [None, 10, 50, 90, 110],\n",
       "                                        &#x27;max_features&#x27;: [&#x27;auto&#x27;, &#x27;sqrt&#x27;],\n",
       "                                        &#x27;min_samples_leaf&#x27;: [1, 2, 4],\n",
       "                                        &#x27;min_samples_split&#x27;: [2, 5, 10],\n",
       "                                        &#x27;n_estimators&#x27;: [200, 300, 400, 500]},\n",
       "                   random_state=42, verbose=2)</pre><b>In a Jupyter environment, please rerun this cell to show the HTML representation or trust the notebook. <br />On GitHub, the HTML representation is unable to render, please try loading this page with nbviewer.org.</b></div><div class=\"sk-container\" hidden><div class=\"sk-item sk-dashed-wrapped\"><div class=\"sk-label-container\"><div class=\"sk-label sk-toggleable\"><input class=\"sk-toggleable__control sk-hidden--visually\" id=\"sk-estimator-id-1\" type=\"checkbox\" ><label for=\"sk-estimator-id-1\" class=\"sk-toggleable__label sk-toggleable__label-arrow\">RandomizedSearchCV</label><div class=\"sk-toggleable__content\"><pre>RandomizedSearchCV(cv=KFold(n_splits=10, random_state=42, shuffle=True),\n",
       "                   estimator=RandomForestRegressor(), n_jobs=-1,\n",
       "                   param_distributions={&#x27;bootstrap&#x27;: [True, False],\n",
       "                                        &#x27;max_depth&#x27;: [None, 10, 50, 90, 110],\n",
       "                                        &#x27;max_features&#x27;: [&#x27;auto&#x27;, &#x27;sqrt&#x27;],\n",
       "                                        &#x27;min_samples_leaf&#x27;: [1, 2, 4],\n",
       "                                        &#x27;min_samples_split&#x27;: [2, 5, 10],\n",
       "                                        &#x27;n_estimators&#x27;: [200, 300, 400, 500]},\n",
       "                   random_state=42, verbose=2)</pre></div></div></div><div class=\"sk-parallel\"><div class=\"sk-parallel-item\"><div class=\"sk-item\"><div class=\"sk-label-container\"><div class=\"sk-label sk-toggleable\"><input class=\"sk-toggleable__control sk-hidden--visually\" id=\"sk-estimator-id-2\" type=\"checkbox\" ><label for=\"sk-estimator-id-2\" class=\"sk-toggleable__label sk-toggleable__label-arrow\">estimator: RandomForestRegressor</label><div class=\"sk-toggleable__content\"><pre>RandomForestRegressor()</pre></div></div></div><div class=\"sk-serial\"><div class=\"sk-item\"><div class=\"sk-estimator sk-toggleable\"><input class=\"sk-toggleable__control sk-hidden--visually\" id=\"sk-estimator-id-3\" type=\"checkbox\" ><label for=\"sk-estimator-id-3\" class=\"sk-toggleable__label sk-toggleable__label-arrow\">RandomForestRegressor</label><div class=\"sk-toggleable__content\"><pre>RandomForestRegressor()</pre></div></div></div></div></div></div></div></div></div></div>"
      ],
      "text/plain": [
       "RandomizedSearchCV(cv=KFold(n_splits=10, random_state=42, shuffle=True),\n",
       "                   estimator=RandomForestRegressor(), n_jobs=-1,\n",
       "                   param_distributions={'bootstrap': [True, False],\n",
       "                                        'max_depth': [None, 10, 50, 90, 110],\n",
       "                                        'max_features': ['auto', 'sqrt'],\n",
       "                                        'min_samples_leaf': [1, 2, 4],\n",
       "                                        'min_samples_split': [2, 5, 10],\n",
       "                                        'n_estimators': [200, 300, 400, 500]},\n",
       "                   random_state=42, verbose=2)"
      ]
     },
     "execution_count": 61,
     "metadata": {},
     "output_type": "execute_result"
    }
   ],
   "source": [
    "rf_randomized_search.fit(X_train, y_train)\n"
   ]
  },
  {
   "cell_type": "code",
   "execution_count": 62,
   "metadata": {
    "collapsed": false,
    "is_executing": true
   },
   "outputs": [
    {
     "data": {
      "text/plain": [
       "0.8347750534551368"
      ]
     },
     "execution_count": 62,
     "metadata": {},
     "output_type": "execute_result"
    }
   ],
   "source": [
    "rf_randomized_search.score(X_test, y_test)"
   ]
  },
  {
   "cell_type": "code",
   "execution_count": 63,
   "metadata": {
    "collapsed": false,
    "is_executing": true
   },
   "outputs": [
    {
     "name": "stdout",
     "output_type": "stream",
     "text": [
      "MAE: 264310104.9537022\n",
      "MSE: 3.857629164662745e+17\n",
      "RMSE: 621098153.6490625\n"
     ]
    }
   ],
   "source": [
    "print('MAE:', metrics.mean_absolute_error(y_test, rf_randomized_search.predict(X_test)))\n",
    "print('MSE:', metrics.mean_squared_error(y_test, rf_randomized_search.predict(X_test)))\n",
    "print('RMSE:', np.sqrt(metrics.mean_squared_error(y_test, rf_randomized_search.predict(X_test))))\n"
   ]
  },
  {
   "cell_type": "code",
   "execution_count": 65,
   "metadata": {
    "collapsed": false,
    "is_executing": true
   },
   "outputs": [
    {
     "name": "stdout",
     "output_type": "stream",
     "text": [
      "price of car is:  668938038.1584107\n"
     ]
    },
    {
     "name": "stderr",
     "output_type": "stream",
     "text": [
      "/tmp/ipykernel_41226/1173370074.py:3: SettingWithCopyWarning: \n",
      "A value is trying to be set on a copy of a slice from a DataFrame\n",
      "\n",
      "See the caveats in the documentation: https://pandas.pydata.org/pandas-docs/stable/user_guide/indexing.html#returning-a-view-versus-a-copy\n",
      "  car.drop(['model', 'series', 'engine_type','car_name','url','price'], axis=1, inplace=True)\n"
     ]
    }
   ],
   "source": [
    "# predict thử cho xe có url:https://bonbanh.com/xe-toyota-prado-vx-2.7l-2022-4925201 trong tập data set\n",
    "car =save_df[save_df['url'] == 'https://bonbanh.com/xe-toyota-corolla_altis-1.8e-at-2021-5009589']\n",
    "car.drop(['model', 'series', 'engine_type','car_name','url','price'], axis=1, inplace=True)\n",
    "print('price of car is: ',rf_randomized_search.predict(car)[0])\n"
   ]
  },
  {
   "cell_type": "code",
   "execution_count": null,
   "metadata": {
    "collapsed": false,
    "is_executing": true
   },
   "outputs": [],
   "source": [
    "from sklearn.linear_model import Ridge\n",
    "rg = Ridge(alpha=1.0)\n",
    "rg.fit(X_train, y_train)\n",
    "rg.score(X_test, y_test)\n"
   ]
  },
  {
   "cell_type": "code",
   "execution_count": null,
   "metadata": {
    "collapsed": false,
    "is_executing": true
   },
   "outputs": [],
   "source": [
    "#Support Vector Regression"
   ]
  },
  {
   "cell_type": "code",
   "execution_count": null,
   "metadata": {
    "collapsed": false,
    "is_executing": true
   },
   "outputs": [],
   "source": [
    "from sklearn.svm import SVR\n",
    "\n",
    "svr = SVR(kernel='rbf')\n",
    "svr.fit(X_train, y_train)\n",
    "svr.score(X_test, y_test)"
   ]
  },
  {
   "cell_type": "code",
   "execution_count": null,
   "metadata": {},
   "outputs": [],
   "source": [
    "df.head()"
   ]
  },
  {
   "attachments": {},
   "cell_type": "markdown",
   "metadata": {
    "collapsed": false
   },
   "source": [
    "\n"
   ]
  }
 ],
 "metadata": {
  "kernelspec": {
   "display_name": "Python 3",
   "language": "python",
   "name": "python3"
  },
  "language_info": {
   "codemirror_mode": {
    "name": "ipython",
    "version": 3
   },
   "file_extension": ".py",
   "mimetype": "text/x-python",
   "name": "python",
   "nbconvert_exporter": "python",
   "pygments_lexer": "ipython3",
   "version": "3.10.8"
  }
 },
 "nbformat": 4,
 "nbformat_minor": 0
}
