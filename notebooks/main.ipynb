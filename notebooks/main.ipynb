{
 "cells": [
  {
   "cell_type": "markdown",
   "metadata": {
    "collapsed": false
   },
   "source": [
    "# Import library"
   ]
  },
  {
   "cell_type": "code",
   "execution_count": 1312,
   "metadata": {
    "collapsed": true,
    "is_executing": true
   },
   "outputs": [],
   "source": [
    "import copy\n",
    "\n",
    "import pandas as pd\n",
    "from sklearn.preprocessing import OneHotEncoder\n",
    "import matplotlib.pyplot as plt\n",
    "import seaborn as sns\n",
    "from sklearn.preprocessing import StandardScaler\n",
    "from sklearn.model_selection import train_test_split\n",
    "from sklearn.metrics import mean_squared_error\n",
    "from sklearn.linear_model import LinearRegression"
   ]
  },
  {
   "cell_type": "markdown",
   "metadata": {
    "collapsed": false
   },
   "source": [
    "# Load data"
   ]
  },
  {
   "cell_type": "code",
   "execution_count": 1313,
   "metadata": {
    "collapsed": false,
    "is_executing": true
   },
   "outputs": [],
   "source": [
    "df = pd.read_csv('../data/data.csv')"
   ]
  },
  {
   "cell_type": "markdown",
   "metadata": {
    "collapsed": false
   },
   "source": [
    "# Data overview"
   ]
  },
  {
   "cell_type": "code",
   "execution_count": 1314,
   "metadata": {
    "collapsed": false,
    "is_executing": true
   },
   "outputs": [
    {
     "name": "stdout",
     "output_type": "stream",
     "text": [
      "Shape of data:\n",
      " (26956, 11)\n",
      "----------------------------------------\n",
      "Columns of data: \n",
      " Index(['car_name', 'year', 'price', 'assemble_place', 'series', 'driven kms',\n",
      "       'num_of_door', 'num_of_seat', 'engine_type', 'transmission', 'url'],\n",
      "      dtype='object')\n",
      "----------------------------------------\n",
      "Data types of data: \n",
      " car_name           object\n",
      "year               object\n",
      "price              object\n",
      "assemble_place     object\n",
      "series             object\n",
      "driven kms        float64\n",
      "num_of_door       float64\n",
      "num_of_seat       float64\n",
      "engine_type        object\n",
      "transmission       object\n",
      "url                object\n",
      "dtype: object\n",
      "----------------------------------------\n",
      "Missing values of data: \n",
      " car_name          38\n",
      "year              11\n",
      "price             11\n",
      "assemble_place    11\n",
      "series            11\n",
      "driven kms        11\n",
      "num_of_door       11\n",
      "num_of_seat       11\n",
      "engine_type       11\n",
      "transmission      11\n",
      "url               11\n",
      "dtype: int64\n",
      "----------------------------------------\n",
      "Describe data: \n",
      "          driven kms   num_of_door   num_of_seat\n",
      "count  2.694500e+04  26945.000000  26945.000000\n",
      "mean   4.809838e+05      4.515272      5.537317\n",
      "std    3.062607e+07      0.913087      1.687252\n",
      "min    1.000000e+00      1.000000      2.000000\n",
      "25%    2.215100e+04      4.000000      5.000000\n",
      "50%    4.900000e+04      5.000000      5.000000\n",
      "75%    8.000000e+04      5.000000      5.000000\n",
      "max    4.294967e+09     54.000000     47.000000\n",
      "----------------------------------------\n",
      "<class 'pandas.core.frame.DataFrame'>\n",
      "RangeIndex: 26956 entries, 0 to 26955\n",
      "Data columns (total 11 columns):\n",
      " #   Column          Non-Null Count  Dtype  \n",
      "---  ------          --------------  -----  \n",
      " 0   car_name        26918 non-null  object \n",
      " 1   year            26945 non-null  object \n",
      " 2   price           26945 non-null  object \n",
      " 3   assemble_place  26945 non-null  object \n",
      " 4   series          26945 non-null  object \n",
      " 5   driven kms      26945 non-null  float64\n",
      " 6   num_of_door     26945 non-null  float64\n",
      " 7   num_of_seat     26945 non-null  float64\n",
      " 8   engine_type     26945 non-null  object \n",
      " 9   transmission    26945 non-null  object \n",
      " 10  url             26945 non-null  object \n",
      "dtypes: float64(3), object(8)\n",
      "memory usage: 2.3+ MB\n",
      "Info data: \n",
      " None\n"
     ]
    }
   ],
   "source": [
    "def describle_data():\n",
    "    print('Shape of data:\\n', df.shape)\n",
    "    print('--'*20)\n",
    "    print('Columns of data: \\n', df.columns)\n",
    "    print('--'*20)\n",
    "    print('Data types of data: \\n', df.dtypes)\n",
    "    print('--'*20)\n",
    "    print('Missing values of data: \\n', df.isna().sum())\n",
    "    print('--'*20)\n",
    "    print('Describe data: \\n', df.describe())\n",
    "    print('--'*20)\n",
    "    print('Info data: \\n', df.info())\n",
    "describle_data()"
   ]
  },
  {
   "cell_type": "markdown",
   "metadata": {
    "collapsed": false
   },
   "source": [
    "# Xóa bỏ những xe bị trùng lặp"
   ]
  },
  {
   "cell_type": "markdown",
   "metadata": {
    "collapsed": false
   },
   "source": []
  },
  {
   "cell_type": "code",
   "execution_count": 1315,
   "metadata": {
    "collapsed": false,
    "is_executing": true
   },
   "outputs": [
    {
     "name": "stdout",
     "output_type": "stream",
     "text": [
      "Shape of data:\n",
      " (25157, 11)\n",
      "----------------------------------------\n",
      "Columns of data: \n",
      " Index(['car_name', 'year', 'price', 'assemble_place', 'series', 'driven kms',\n",
      "       'num_of_door', 'num_of_seat', 'engine_type', 'transmission', 'url'],\n",
      "      dtype='object')\n",
      "----------------------------------------\n",
      "Data types of data: \n",
      " car_name           object\n",
      "year               object\n",
      "price              object\n",
      "assemble_place     object\n",
      "series             object\n",
      "driven kms        float64\n",
      "num_of_door       float64\n",
      "num_of_seat       float64\n",
      "engine_type        object\n",
      "transmission       object\n",
      "url                object\n",
      "dtype: object\n",
      "----------------------------------------\n",
      "Missing values of data: \n",
      " car_name          35\n",
      "year               1\n",
      "price              1\n",
      "assemble_place     1\n",
      "series             1\n",
      "driven kms         1\n",
      "num_of_door        1\n",
      "num_of_seat        1\n",
      "engine_type        1\n",
      "transmission       1\n",
      "url                1\n",
      "dtype: int64\n",
      "----------------------------------------\n",
      "Describe data: \n",
      "          driven kms   num_of_door   num_of_seat\n",
      "count  2.515600e+04  25156.000000  25156.000000\n",
      "mean   5.110776e+05      4.515583      5.535737\n",
      "std    3.169618e+07      0.931673      1.693333\n",
      "min    1.000000e+00      1.000000      2.000000\n",
      "25%    2.220425e+04      4.000000      5.000000\n",
      "50%    4.993900e+04      5.000000      5.000000\n",
      "75%    8.000000e+04      5.000000      5.000000\n",
      "max    4.294967e+09     54.000000     47.000000\n",
      "----------------------------------------\n",
      "<class 'pandas.core.frame.DataFrame'>\n",
      "Index: 25157 entries, 0 to 26902\n",
      "Data columns (total 11 columns):\n",
      " #   Column          Non-Null Count  Dtype  \n",
      "---  ------          --------------  -----  \n",
      " 0   car_name        25122 non-null  object \n",
      " 1   year            25156 non-null  object \n",
      " 2   price           25156 non-null  object \n",
      " 3   assemble_place  25156 non-null  object \n",
      " 4   series          25156 non-null  object \n",
      " 5   driven kms      25156 non-null  float64\n",
      " 6   num_of_door     25156 non-null  float64\n",
      " 7   num_of_seat     25156 non-null  float64\n",
      " 8   engine_type     25156 non-null  object \n",
      " 9   transmission    25156 non-null  object \n",
      " 10  url             25156 non-null  object \n",
      "dtypes: float64(3), object(8)\n",
      "memory usage: 2.3+ MB\n",
      "Info data: \n",
      " None\n"
     ]
    }
   ],
   "source": [
    "df.drop_duplicates(subset=['url'], inplace=True)\n",
    "describle_data()"
   ]
  },
  {
   "cell_type": "markdown",
   "metadata": {
    "collapsed": false
   },
   "source": [
    "# Chuyển đổi kiểu dữ liệu cho các cột year, price sang kiểu số thực để có thể thực hiện các phép tính toán"
   ]
  },
  {
   "cell_type": "markdown",
   "metadata": {
    "collapsed": false
   },
   "source": [
    "Year"
   ]
  },
  {
   "cell_type": "code",
   "execution_count": 1316,
   "metadata": {
    "collapsed": false,
    "is_executing": true
   },
   "outputs": [
    {
     "name": "stdout",
     "output_type": "stream",
     "text": [
      "Shape of data:\n",
      " (25157, 11)\n",
      "----------------------------------------\n",
      "Columns of data: \n",
      " Index(['car_name', 'year', 'price', 'assemble_place', 'series', 'driven kms',\n",
      "       'num_of_door', 'num_of_seat', 'engine_type', 'transmission', 'url'],\n",
      "      dtype='object')\n",
      "----------------------------------------\n",
      "Data types of data: \n",
      " car_name           object\n",
      "year              float64\n",
      "price              object\n",
      "assemble_place     object\n",
      "series             object\n",
      "driven kms        float64\n",
      "num_of_door       float64\n",
      "num_of_seat       float64\n",
      "engine_type        object\n",
      "transmission       object\n",
      "url                object\n",
      "dtype: object\n",
      "----------------------------------------\n",
      "Missing values of data: \n",
      " car_name          35\n",
      "year               0\n",
      "price              1\n",
      "assemble_place     1\n",
      "series             1\n",
      "driven kms         1\n",
      "num_of_door        1\n",
      "num_of_seat        1\n",
      "engine_type        1\n",
      "transmission       1\n",
      "url                1\n",
      "dtype: int64\n",
      "----------------------------------------\n",
      "Describe data: \n",
      "                year    driven kms   num_of_door   num_of_seat\n",
      "count  25157.000000  2.515600e+04  25156.000000  25156.000000\n",
      "mean    1997.570974  5.110776e+05      4.515583      5.535737\n",
      "std      195.379164  3.169618e+07      0.931673      1.693333\n",
      "min        0.000000  1.000000e+00      1.000000      2.000000\n",
      "25%     2015.000000  2.220425e+04      4.000000      5.000000\n",
      "50%     2018.000000  4.993900e+04      5.000000      5.000000\n",
      "75%     2020.000000  8.000000e+04      5.000000      5.000000\n",
      "max     2023.000000  4.294967e+09     54.000000     47.000000\n",
      "----------------------------------------\n",
      "<class 'pandas.core.frame.DataFrame'>\n",
      "Index: 25157 entries, 0 to 26902\n",
      "Data columns (total 11 columns):\n",
      " #   Column          Non-Null Count  Dtype  \n",
      "---  ------          --------------  -----  \n",
      " 0   car_name        25122 non-null  object \n",
      " 1   year            25157 non-null  float64\n",
      " 2   price           25156 non-null  object \n",
      " 3   assemble_place  25156 non-null  object \n",
      " 4   series          25156 non-null  object \n",
      " 5   driven kms      25156 non-null  float64\n",
      " 6   num_of_door     25156 non-null  float64\n",
      " 7   num_of_seat     25156 non-null  float64\n",
      " 8   engine_type     25156 non-null  object \n",
      " 9   transmission    25156 non-null  object \n",
      " 10  url             25156 non-null  object \n",
      "dtypes: float64(4), object(7)\n",
      "memory usage: 2.3+ MB\n",
      "Info data: \n",
      " None\n"
     ]
    }
   ],
   "source": [
    "def process_year_colum(year):\n",
    "    if year.isdigit():\n",
    "        return float(year)\n",
    "    else:\n",
    "        return 0\n",
    "df['year'] = df['year'].astype(str).apply(process_year_colum)\n",
    "describle_data()"
   ]
  },
  {
   "cell_type": "markdown",
   "metadata": {
    "collapsed": false
   },
   "source": [
    "Price"
   ]
  },
  {
   "cell_type": "code",
   "execution_count": 1317,
   "metadata": {
    "collapsed": false,
    "is_executing": true
   },
   "outputs": [],
   "source": [
    "df.isna().sum()\n",
    "df.dropna(subset=['car_name'], inplace=True)"
   ]
  },
  {
   "cell_type": "code",
   "execution_count": 1318,
   "metadata": {
    "collapsed": false,
    "is_executing": true
   },
   "outputs": [],
   "source": [
    "def process_price(price):\n",
    "    try:\n",
    "        if price.find('Tỷ') != -1:\n",
    "            ty= price.split('Tỷ')[0]\n",
    "            trieu = price.split('Tỷ')[1]\n",
    "            trieu = trieu.split('Triệu')[0]\n",
    "            return float(ty)*1000000000 + float(trieu)*1000000\n",
    "        elif price.find('Triệu') != -1:\n",
    "            trieu = price.split('Triệu')[0]\n",
    "            trieu = trieu.replace(' ','')\n",
    "            return float(trieu)*1000000\n",
    "        else:\n",
    "            return 0\n",
    "    except:\n",
    "        return 0\n",
    "df['price'] = df['price'].astype(str).apply(process_price)"
   ]
  },
  {
   "cell_type": "code",
   "execution_count": 1319,
   "metadata": {
    "collapsed": false,
    "is_executing": true
   },
   "outputs": [
    {
     "name": "stdout",
     "output_type": "stream",
     "text": [
      "57       https://bonbanh.com/xe-mercedes_benz-c_class-c...\n",
      "64       https://bonbanh.com/xe-mercedes_benz-c_class-c...\n",
      "89       https://bonbanh.com/xe-mercedes_benz-c_class-c...\n",
      "153      https://bonbanh.com/xe-gaz-khac-sadko-2002-493...\n",
      "169      https://bonbanh.com/xe-kia-morning-slx-1.0-at-...\n",
      "                               ...                        \n",
      "26814    https://bonbanh.com/xe-mazda-3-1.5-at-2015-483...\n",
      "26829    https://bonbanh.com/xe-toyota-camry-2.5hv-2022...\n",
      "26889    https://bonbanh.com/xe-mercedes_benz-glc-300-4...\n",
      "26890    https://bonbanh.com/xe-mercedes_benz-e_class-e...\n",
      "26894    https://bonbanh.com/xe-toyota-venza-2.7-2009-4...\n",
      "Name: url, Length: 627, dtype: object\n"
     ]
    }
   ],
   "source": [
    "df['driven kms'].describe()\n",
    "# lấy ra các xe có số km đi được nhỏ hơn 1000km\n",
    "print(df[df['driven kms'] < 1000]['url'])"
   ]
  },
  {
   "cell_type": "code",
   "execution_count": 1320,
   "metadata": {
    "collapsed": false,
    "is_executing": true
   },
   "outputs": [
    {
     "data": {
      "text/plain": [
       "count    2.512200e+04\n",
       "mean     1.065767e+09\n",
       "std      1.665391e+09\n",
       "min      0.000000e+00\n",
       "25%      3.860000e+08\n",
       "50%      5.600000e+08\n",
       "75%      9.450000e+08\n",
       "max      3.860000e+10\n",
       "Name: price, dtype: float64"
      ]
     },
     "execution_count": 1320,
     "metadata": {},
     "output_type": "execute_result"
    }
   ],
   "source": [
    "df['price'].describe()"
   ]
  },
  {
   "cell_type": "markdown",
   "metadata": {
    "collapsed": false
   },
   "source": [
    "# Xử lý các cột dạng nhãn"
   ]
  },
  {
   "cell_type": "markdown",
   "metadata": {
    "collapsed": false
   },
   "source": [
    "Car_name có hai phần là hãng xe và tên xe, ta sẽ tách ra thành hai cột là brand và model\n"
   ]
  },
  {
   "cell_type": "code",
   "execution_count": 1321,
   "metadata": {
    "collapsed": false,
    "is_executing": true
   },
   "outputs": [],
   "source": [
    "df['brand'] = df['car_name'].str.split().str[0]\n",
    "df['model'] = df['car_name'].str.split().str[1:].str.join(' ')"
   ]
  },
  {
   "cell_type": "code",
   "execution_count": 1322,
   "metadata": {},
   "outputs": [
    {
     "data": {
      "text/plain": [
       "brand\n",
       "Toyota        4798\n",
       "Mercedes      2933\n",
       "Hyundai       2832\n",
       "Kia           2681\n",
       "Ford          2236\n",
       "              ... \n",
       "Scion            1\n",
       "<<<<<<<          1\n",
       "Dothanh          1\n",
       "B                1\n",
       "Brilliance       1\n",
       "Name: count, Length: 86, dtype: int64"
      ]
     },
     "execution_count": 1322,
     "metadata": {},
     "output_type": "execute_result"
    }
   ],
   "source": [
    "df['brand'].value_counts()"
   ]
  },
  {
   "cell_type": "code",
   "execution_count": 1323,
   "metadata": {
    "collapsed": false,
    "is_executing": true
   },
   "outputs": [
    {
     "data": {
      "text/html": [
       "<div>\n",
       "<style scoped>\n",
       "    .dataframe tbody tr th:only-of-type {\n",
       "        vertical-align: middle;\n",
       "    }\n",
       "\n",
       "    .dataframe tbody tr th {\n",
       "        vertical-align: top;\n",
       "    }\n",
       "\n",
       "    .dataframe thead th {\n",
       "        text-align: right;\n",
       "    }\n",
       "</style>\n",
       "<table border=\"1\" class=\"dataframe\">\n",
       "  <thead>\n",
       "    <tr style=\"text-align: right;\">\n",
       "      <th></th>\n",
       "      <th>car_name</th>\n",
       "      <th>year</th>\n",
       "      <th>price</th>\n",
       "      <th>assemble_place</th>\n",
       "      <th>series</th>\n",
       "      <th>driven kms</th>\n",
       "      <th>num_of_door</th>\n",
       "      <th>num_of_seat</th>\n",
       "      <th>engine_type</th>\n",
       "      <th>transmission</th>\n",
       "      <th>url</th>\n",
       "      <th>brand</th>\n",
       "      <th>model</th>\n",
       "    </tr>\n",
       "  </thead>\n",
       "  <tbody>\n",
       "    <tr>\n",
       "      <th>0</th>\n",
       "      <td>LandRover Range Rover HSE 3.0</td>\n",
       "      <td>2015.0</td>\n",
       "      <td>2.700000e+09</td>\n",
       "      <td>Nhập khẩu</td>\n",
       "      <td>SUV</td>\n",
       "      <td>65000.0</td>\n",
       "      <td>5.0</td>\n",
       "      <td>5.0</td>\n",
       "      <td>Xăng</td>\n",
       "      <td>Số tự động</td>\n",
       "      <td>https://bonbanh.com/xe-landrover-range_rover-h...</td>\n",
       "      <td>LandRover</td>\n",
       "      <td>Range Rover HSE 3.0</td>\n",
       "    </tr>\n",
       "    <tr>\n",
       "      <th>1</th>\n",
       "      <td>Mitsubishi Outlander 2.0 CVT Premium</td>\n",
       "      <td>2018.0</td>\n",
       "      <td>6.660000e+08</td>\n",
       "      <td>Lắp ráp trong nước</td>\n",
       "      <td>SUV</td>\n",
       "      <td>50000.0</td>\n",
       "      <td>5.0</td>\n",
       "      <td>7.0</td>\n",
       "      <td>Xăng</td>\n",
       "      <td>Số tự động</td>\n",
       "      <td>https://bonbanh.com/xe-mitsubishi-outlander-2....</td>\n",
       "      <td>Mitsubishi</td>\n",
       "      <td>Outlander 2.0 CVT Premium</td>\n",
       "    </tr>\n",
       "    <tr>\n",
       "      <th>2</th>\n",
       "      <td>Mazda 3 1.5L Luxury</td>\n",
       "      <td>2019.0</td>\n",
       "      <td>4.900000e+08</td>\n",
       "      <td>Lắp ráp trong nước</td>\n",
       "      <td>Sedan</td>\n",
       "      <td>51000.0</td>\n",
       "      <td>4.0</td>\n",
       "      <td>5.0</td>\n",
       "      <td>Xăng</td>\n",
       "      <td>Số tự động</td>\n",
       "      <td>https://bonbanh.com/xe-mazda-3-1.5l-luxury-201...</td>\n",
       "      <td>Mazda</td>\n",
       "      <td>3 1.5L Luxury</td>\n",
       "    </tr>\n",
       "    <tr>\n",
       "      <th>3</th>\n",
       "      <td>Mazda 2 1.5 AT</td>\n",
       "      <td>2015.0</td>\n",
       "      <td>3.650000e+08</td>\n",
       "      <td>Lắp ráp trong nước</td>\n",
       "      <td>Sedan</td>\n",
       "      <td>38000.0</td>\n",
       "      <td>4.0</td>\n",
       "      <td>5.0</td>\n",
       "      <td>Xăng</td>\n",
       "      <td>Số tự động</td>\n",
       "      <td>https://bonbanh.com/xe-mazda-2-1.5-at-2015-491...</td>\n",
       "      <td>Mazda</td>\n",
       "      <td>2 1.5 AT</td>\n",
       "    </tr>\n",
       "    <tr>\n",
       "      <th>4</th>\n",
       "      <td>Suzuki Swift GLX 1.2 AT</td>\n",
       "      <td>2021.0</td>\n",
       "      <td>5.650000e+08</td>\n",
       "      <td>Nhập khẩu</td>\n",
       "      <td>Hatchback</td>\n",
       "      <td>6000.0</td>\n",
       "      <td>5.0</td>\n",
       "      <td>5.0</td>\n",
       "      <td>Xăng</td>\n",
       "      <td>Số tự động</td>\n",
       "      <td>https://bonbanh.com/xe-suzuki-swift-glx-1.2-at...</td>\n",
       "      <td>Suzuki</td>\n",
       "      <td>Swift GLX 1.2 AT</td>\n",
       "    </tr>\n",
       "  </tbody>\n",
       "</table>\n",
       "</div>"
      ],
      "text/plain": [
       "                                car_name    year         price  \\\n",
       "0          LandRover Range Rover HSE 3.0  2015.0  2.700000e+09   \n",
       "1   Mitsubishi Outlander 2.0 CVT Premium  2018.0  6.660000e+08   \n",
       "2                    Mazda 3 1.5L Luxury  2019.0  4.900000e+08   \n",
       "3                         Mazda 2 1.5 AT  2015.0  3.650000e+08   \n",
       "4                Suzuki Swift GLX 1.2 AT  2021.0  5.650000e+08   \n",
       "\n",
       "       assemble_place     series  driven kms  num_of_door  num_of_seat  \\\n",
       "0           Nhập khẩu        SUV     65000.0          5.0          5.0   \n",
       "1  Lắp ráp trong nước        SUV     50000.0          5.0          7.0   \n",
       "2  Lắp ráp trong nước      Sedan     51000.0          4.0          5.0   \n",
       "3  Lắp ráp trong nước      Sedan     38000.0          4.0          5.0   \n",
       "4           Nhập khẩu  Hatchback      6000.0          5.0          5.0   \n",
       "\n",
       "  engine_type transmission                                                url  \\\n",
       "0        Xăng   Số tự động  https://bonbanh.com/xe-landrover-range_rover-h...   \n",
       "1        Xăng   Số tự động  https://bonbanh.com/xe-mitsubishi-outlander-2....   \n",
       "2        Xăng   Số tự động  https://bonbanh.com/xe-mazda-3-1.5l-luxury-201...   \n",
       "3        Xăng   Số tự động  https://bonbanh.com/xe-mazda-2-1.5-at-2015-491...   \n",
       "4        Xăng   Số tự động  https://bonbanh.com/xe-suzuki-swift-glx-1.2-at...   \n",
       "\n",
       "        brand                      model  \n",
       "0   LandRover        Range Rover HSE 3.0  \n",
       "1  Mitsubishi  Outlander 2.0 CVT Premium  \n",
       "2       Mazda              3 1.5L Luxury  \n",
       "3       Mazda                   2 1.5 AT  \n",
       "4      Suzuki           Swift GLX 1.2 AT  "
      ]
     },
     "execution_count": 1323,
     "metadata": {},
     "output_type": "execute_result"
    }
   ],
   "source": [
    "df.head()"
   ]
  },
  {
   "cell_type": "markdown",
   "metadata": {
    "collapsed": false
   },
   "source": [
    "# Xử lý các dữ liệu bị thiếu hoặc sai\n"
   ]
  },
  {
   "cell_type": "markdown",
   "metadata": {
    "collapsed": false
   },
   "source": [
    "Xử lý cột year"
   ]
  },
  {
   "cell_type": "code",
   "execution_count": 1324,
   "metadata": {
    "collapsed": false,
    "is_executing": true
   },
   "outputs": [
    {
     "name": "stdout",
     "output_type": "stream",
     "text": [
      "Number of car before 1990:  204\n",
      "Number of car before 1990:  year\n",
      "0.0      202\n",
      "200.0      1\n",
      "700.0      1\n",
      "Name: count, dtype: int64\n"
     ]
    }
   ],
   "source": [
    "car_before_1990 = df[df['year'] < 1990]\n",
    "print('Number of car before 1990: ', car_before_1990.shape[0])\n",
    "print('Number of car before 1990: ', car_before_1990['year'].value_counts())"
   ]
  },
  {
   "cell_type": "markdown",
   "metadata": {
    "collapsed": false
   },
   "source": []
  },
  {
   "cell_type": "markdown",
   "metadata": {
    "collapsed": false
   },
   "source": [
    "Điền các giá trị sai trong cột year bằng giá trị xuất hiện nhiều nhất trong cột year"
   ]
  },
  {
   "cell_type": "code",
   "execution_count": 1325,
   "metadata": {
    "collapsed": false,
    "is_executing": true
   },
   "outputs": [],
   "source": [
    "df['year'] = df['year'].apply(lambda x: df['year'].value_counts().index[0] if x < 1990 else x)"
   ]
  },
  {
   "cell_type": "markdown",
   "metadata": {
    "collapsed": false
   },
   "source": [
    "Cột price: các giá trị bằng = 0 sẽ được thay thế bằng giá trung bình của các xe sản xuất trong năm đó"
   ]
  },
  {
   "cell_type": "code",
   "execution_count": 1326,
   "metadata": {
    "collapsed": false,
    "is_executing": true
   },
   "outputs": [
    {
     "data": {
      "text/plain": [
       "count    2.483900e+04\n",
       "mean     1.077909e+09\n",
       "std      1.670939e+09\n",
       "min      1.500000e+07\n",
       "25%      3.930000e+08\n",
       "50%      5.650000e+08\n",
       "75%      9.500000e+08\n",
       "max      3.860000e+10\n",
       "Name: price, dtype: float64"
      ]
     },
     "execution_count": 1326,
     "metadata": {},
     "output_type": "execute_result"
    }
   ],
   "source": [
    "df['price'] = df['price'].apply(lambda x: df[df['year'] == x]['price'].mean() if x == 0 else x)\n",
    "df['price'].describe()"
   ]
  },
  {
   "cell_type": "markdown",
   "metadata": {
    "collapsed": false
   },
   "source": [
    "Cột num_of_door\n",
    "Thông thường các xe có tối đa 5 - 6 cửa, với những giá trị sai ta sẽ điền bằng giá trị xuất hiện nhiều nhất trong cột num_of_door"
   ]
  },
  {
   "cell_type": "code",
   "execution_count": 1327,
   "metadata": {
    "collapsed": false,
    "is_executing": true
   },
   "outputs": [],
   "source": [
    "df['num_of_door'] = df['num_of_door'].apply(lambda x: df['num_of_door'].value_counts().index[0] if x > 6 else x)"
   ]
  },
  {
   "cell_type": "markdown",
   "metadata": {
    "collapsed": false
   },
   "source": []
  },
  {
   "cell_type": "markdown",
   "metadata": {
    "collapsed": false
   },
   "source": [
    "Cột brand"
   ]
  },
  {
   "cell_type": "code",
   "execution_count": 1328,
   "metadata": {
    "collapsed": false,
    "is_executing": true
   },
   "outputs": [
    {
     "data": {
      "text/plain": [
       "brand\n",
       "Toyota        4798\n",
       "Mercedes      2933\n",
       "Hyundai       2832\n",
       "Kia           2681\n",
       "Ford          2236\n",
       "              ... \n",
       "Scion            1\n",
       "<<<<<<<          1\n",
       "Dothanh          1\n",
       "B                1\n",
       "Brilliance       1\n",
       "Name: count, Length: 86, dtype: int64"
      ]
     },
     "execution_count": 1328,
     "metadata": {},
     "output_type": "execute_result"
    }
   ],
   "source": [
    "df['brand'].value_counts()"
   ]
  },
  {
   "cell_type": "markdown",
   "metadata": {
    "collapsed": false
   },
   "source": [
    "Cột brand có một số hãng có số lượng xe rất ít hoặc bị thiếu, ta sẽ gộp các hãng xe này thành một nhóm là 'other'\n",
    "Nếu số xe của hãng đó nhỏ hơn 10 thì sẽ gộp vào nhóm 'Other'"
   ]
  },
  {
   "cell_type": "code",
   "execution_count": 1329,
   "metadata": {
    "collapsed": false,
    "is_executing": true
   },
   "outputs": [],
   "source": [
    "threshold = 10\n",
    "car_count = df['brand'].value_counts()\n",
    "small_brands = car_count[car_count < threshold].index.tolist()\n",
    "df['brand'] = df['brand'].apply(lambda x: 'Other' if x in small_brands else x)\n",
    "df['brand'].fillna('Other', inplace=True)"
   ]
  },
  {
   "cell_type": "code",
   "execution_count": 1330,
   "metadata": {},
   "outputs": [
    {
     "name": "stdout",
     "output_type": "stream",
     "text": [
      "brand\n",
      "Toyota        4798\n",
      "Mercedes      2933\n",
      "Hyundai       2832\n",
      "Kia           2681\n",
      "Ford          2236\n",
      "Mazda         1918\n",
      "Mitsubishi    1020\n",
      "Lexus         1004\n",
      "Honda          994\n",
      "VinFast        668\n",
      "Chevrolet      577\n",
      "BMW            499\n",
      "LandRover      408\n",
      "Porsche        402\n",
      "Nissan         340\n",
      "Suzuki         284\n",
      "Audi           251\n",
      "Peugeot        234\n",
      "Daewoo         198\n",
      "Volvo          104\n",
      "Other           99\n",
      "Isuzu           94\n",
      "Bentley         66\n",
      "Rolls           54\n",
      "Volkswagen      52\n",
      "MG              41\n",
      "Mini            38\n",
      "Lincoln         36\n",
      "Thaco           33\n",
      "Jeep            28\n",
      "Jaguar          26\n",
      "Ssangyong       25\n",
      "Subaru          23\n",
      "Maserati        23\n",
      "Land            22\n",
      "Acura           15\n",
      "Infiniti        15\n",
      "Dongben         14\n",
      "Cadillac        13\n",
      "Daihatsu        13\n",
      "Fiat            11\n",
      "Name: count, dtype: int64\n"
     ]
    }
   ],
   "source": [
    "# in ra tất cả brand\n",
    "print(df['brand'].value_counts())"
   ]
  },
  {
   "cell_type": "code",
   "execution_count": 1331,
   "metadata": {},
   "outputs": [],
   "source": [
    "def car_band(x):\n",
    "    if x in ['Land', 'Lamborghini', 'Jaguar', 'BMW', 'Mercedes-Benz', 'Porsche',\n",
    "       'Audi', 'Bentley','Mini','LandRover','Lexus','Maserati','Rolls-Royce','Ferrari','Aston']:\n",
    "        return 'HIGH END CAR'    \n",
    "    elif x in ['Ford',\n",
    "            'Skoda',\n",
    "         'Mahindra',\n",
    "            'Force',\n",
    "       'Mitsubishi',\n",
    "           'Toyota',\n",
    "            'ISUZU',\n",
    "             'Jeep',\n",
    "           'Volvo',\n",
    "          'Isuzu']:\n",
    "        return 'MIDDLE RANGE CAR'\n",
    "    else:\n",
    "        return 'LOW END CAR'\n",
    "df['brand']=df['brand'].apply(car_band)"
   ]
  },
  {
   "cell_type": "code",
   "execution_count": 1332,
   "metadata": {},
   "outputs": [
    {
     "data": {
      "text/plain": [
       "brand\n",
       "LOW END CAR         14103\n",
       "MIDDLE RANGE CAR     8280\n",
       "HIGH END CAR         2739\n",
       "Name: count, dtype: int64"
      ]
     },
     "execution_count": 1332,
     "metadata": {},
     "output_type": "execute_result"
    }
   ],
   "source": [
    "df['brand'].value_counts()"
   ]
  },
  {
   "cell_type": "code",
   "execution_count": 1333,
   "metadata": {},
   "outputs": [
    {
     "name": "stdout",
     "output_type": "stream",
     "text": [
      "brand_segment\n",
      "1    18552\n",
      "2     2579\n",
      "3     1560\n",
      "0     1391\n",
      "4      757\n",
      "Name: count, dtype: int64\n"
     ]
    }
   ],
   "source": [
    "labels = [0, 1, 2, 3, 4]\n",
    "cut_bins = [0, 200000000, 1200000000, 2500000000, 5000000000, float('inf')]\n",
    "# Tạo cột mới \"price_segment\" chứa nhãn tương ứng cho mỗi dòng\n",
    "df['brand_segment'] = pd.cut(df['price'], bins=cut_bins, labels=labels)\n",
    "# Hiển thị số lượng mẫu trong từng phân khúc\n",
    "segment_counts = df['brand_segment'].value_counts()\n",
    "print(segment_counts)"
   ]
  },
  {
   "cell_type": "code",
   "execution_count": 1334,
   "metadata": {},
   "outputs": [
    {
     "data": {
      "text/html": [
       "<div>\n",
       "<style scoped>\n",
       "    .dataframe tbody tr th:only-of-type {\n",
       "        vertical-align: middle;\n",
       "    }\n",
       "\n",
       "    .dataframe tbody tr th {\n",
       "        vertical-align: top;\n",
       "    }\n",
       "\n",
       "    .dataframe thead th {\n",
       "        text-align: right;\n",
       "    }\n",
       "</style>\n",
       "<table border=\"1\" class=\"dataframe\">\n",
       "  <thead>\n",
       "    <tr style=\"text-align: right;\">\n",
       "      <th></th>\n",
       "      <th>car_name</th>\n",
       "      <th>year</th>\n",
       "      <th>price</th>\n",
       "      <th>assemble_place</th>\n",
       "      <th>series</th>\n",
       "      <th>driven kms</th>\n",
       "      <th>num_of_door</th>\n",
       "      <th>num_of_seat</th>\n",
       "      <th>engine_type</th>\n",
       "      <th>transmission</th>\n",
       "      <th>url</th>\n",
       "      <th>brand</th>\n",
       "      <th>model</th>\n",
       "      <th>brand_segment</th>\n",
       "    </tr>\n",
       "  </thead>\n",
       "  <tbody>\n",
       "    <tr>\n",
       "      <th>0</th>\n",
       "      <td>LandRover Range Rover HSE 3.0</td>\n",
       "      <td>2015.0</td>\n",
       "      <td>2.700000e+09</td>\n",
       "      <td>Nhập khẩu</td>\n",
       "      <td>SUV</td>\n",
       "      <td>65000.0</td>\n",
       "      <td>5.0</td>\n",
       "      <td>5.0</td>\n",
       "      <td>Xăng</td>\n",
       "      <td>Số tự động</td>\n",
       "      <td>https://bonbanh.com/xe-landrover-range_rover-h...</td>\n",
       "      <td>HIGH END CAR</td>\n",
       "      <td>Range Rover HSE 3.0</td>\n",
       "      <td>3</td>\n",
       "    </tr>\n",
       "    <tr>\n",
       "      <th>1</th>\n",
       "      <td>Mitsubishi Outlander 2.0 CVT Premium</td>\n",
       "      <td>2018.0</td>\n",
       "      <td>6.660000e+08</td>\n",
       "      <td>Lắp ráp trong nước</td>\n",
       "      <td>SUV</td>\n",
       "      <td>50000.0</td>\n",
       "      <td>5.0</td>\n",
       "      <td>7.0</td>\n",
       "      <td>Xăng</td>\n",
       "      <td>Số tự động</td>\n",
       "      <td>https://bonbanh.com/xe-mitsubishi-outlander-2....</td>\n",
       "      <td>MIDDLE RANGE CAR</td>\n",
       "      <td>Outlander 2.0 CVT Premium</td>\n",
       "      <td>1</td>\n",
       "    </tr>\n",
       "    <tr>\n",
       "      <th>2</th>\n",
       "      <td>Mazda 3 1.5L Luxury</td>\n",
       "      <td>2019.0</td>\n",
       "      <td>4.900000e+08</td>\n",
       "      <td>Lắp ráp trong nước</td>\n",
       "      <td>Sedan</td>\n",
       "      <td>51000.0</td>\n",
       "      <td>4.0</td>\n",
       "      <td>5.0</td>\n",
       "      <td>Xăng</td>\n",
       "      <td>Số tự động</td>\n",
       "      <td>https://bonbanh.com/xe-mazda-3-1.5l-luxury-201...</td>\n",
       "      <td>LOW END CAR</td>\n",
       "      <td>3 1.5L Luxury</td>\n",
       "      <td>1</td>\n",
       "    </tr>\n",
       "    <tr>\n",
       "      <th>3</th>\n",
       "      <td>Mazda 2 1.5 AT</td>\n",
       "      <td>2015.0</td>\n",
       "      <td>3.650000e+08</td>\n",
       "      <td>Lắp ráp trong nước</td>\n",
       "      <td>Sedan</td>\n",
       "      <td>38000.0</td>\n",
       "      <td>4.0</td>\n",
       "      <td>5.0</td>\n",
       "      <td>Xăng</td>\n",
       "      <td>Số tự động</td>\n",
       "      <td>https://bonbanh.com/xe-mazda-2-1.5-at-2015-491...</td>\n",
       "      <td>LOW END CAR</td>\n",
       "      <td>2 1.5 AT</td>\n",
       "      <td>1</td>\n",
       "    </tr>\n",
       "    <tr>\n",
       "      <th>4</th>\n",
       "      <td>Suzuki Swift GLX 1.2 AT</td>\n",
       "      <td>2021.0</td>\n",
       "      <td>5.650000e+08</td>\n",
       "      <td>Nhập khẩu</td>\n",
       "      <td>Hatchback</td>\n",
       "      <td>6000.0</td>\n",
       "      <td>5.0</td>\n",
       "      <td>5.0</td>\n",
       "      <td>Xăng</td>\n",
       "      <td>Số tự động</td>\n",
       "      <td>https://bonbanh.com/xe-suzuki-swift-glx-1.2-at...</td>\n",
       "      <td>LOW END CAR</td>\n",
       "      <td>Swift GLX 1.2 AT</td>\n",
       "      <td>1</td>\n",
       "    </tr>\n",
       "  </tbody>\n",
       "</table>\n",
       "</div>"
      ],
      "text/plain": [
       "                                car_name    year         price  \\\n",
       "0          LandRover Range Rover HSE 3.0  2015.0  2.700000e+09   \n",
       "1   Mitsubishi Outlander 2.0 CVT Premium  2018.0  6.660000e+08   \n",
       "2                    Mazda 3 1.5L Luxury  2019.0  4.900000e+08   \n",
       "3                         Mazda 2 1.5 AT  2015.0  3.650000e+08   \n",
       "4                Suzuki Swift GLX 1.2 AT  2021.0  5.650000e+08   \n",
       "\n",
       "       assemble_place     series  driven kms  num_of_door  num_of_seat  \\\n",
       "0           Nhập khẩu        SUV     65000.0          5.0          5.0   \n",
       "1  Lắp ráp trong nước        SUV     50000.0          5.0          7.0   \n",
       "2  Lắp ráp trong nước      Sedan     51000.0          4.0          5.0   \n",
       "3  Lắp ráp trong nước      Sedan     38000.0          4.0          5.0   \n",
       "4           Nhập khẩu  Hatchback      6000.0          5.0          5.0   \n",
       "\n",
       "  engine_type transmission                                                url  \\\n",
       "0        Xăng   Số tự động  https://bonbanh.com/xe-landrover-range_rover-h...   \n",
       "1        Xăng   Số tự động  https://bonbanh.com/xe-mitsubishi-outlander-2....   \n",
       "2        Xăng   Số tự động  https://bonbanh.com/xe-mazda-3-1.5l-luxury-201...   \n",
       "3        Xăng   Số tự động  https://bonbanh.com/xe-mazda-2-1.5-at-2015-491...   \n",
       "4        Xăng   Số tự động  https://bonbanh.com/xe-suzuki-swift-glx-1.2-at...   \n",
       "\n",
       "              brand                      model brand_segment  \n",
       "0      HIGH END CAR        Range Rover HSE 3.0             3  \n",
       "1  MIDDLE RANGE CAR  Outlander 2.0 CVT Premium             1  \n",
       "2       LOW END CAR              3 1.5L Luxury             1  \n",
       "3       LOW END CAR                   2 1.5 AT             1  \n",
       "4       LOW END CAR           Swift GLX 1.2 AT             1  "
      ]
     },
     "execution_count": 1334,
     "metadata": {},
     "output_type": "execute_result"
    }
   ],
   "source": [
    "df.head()"
   ]
  },
  {
   "cell_type": "markdown",
   "metadata": {
    "collapsed": false
   },
   "source": [
    "Cột series: ta thấy các giá trị của cột series có giá trị nan, ta sẽ điền các giá trị này bằng giá trị xuất hiện nhiều nhất trong cột series"
   ]
  },
  {
   "cell_type": "code",
   "execution_count": 1335,
   "metadata": {
    "collapsed": false,
    "is_executing": true
   },
   "outputs": [],
   "source": [
    "df['series'] = df['series'].apply(lambda x: df['series'].value_counts().index[0] if x == '-' else x)\n",
    "df['series'].fillna(df['series'].value_counts().index[0], inplace=True)"
   ]
  },
  {
   "cell_type": "code",
   "execution_count": 1336,
   "metadata": {
    "collapsed": false,
    "is_executing": true
   },
   "outputs": [
    {
     "data": {
      "text/plain": [
       "0"
      ]
     },
     "execution_count": 1336,
     "metadata": {},
     "output_type": "execute_result"
    }
   ],
   "source": [
    "df['series'].isna().sum()"
   ]
  },
  {
   "cell_type": "markdown",
   "metadata": {
    "collapsed": false
   },
   "source": [
    "Cột engine_type: ta thấy có một vài giá trị bị thiếu, ta sẽ điền các giá trị này bằng giá trị xuất hiện nhiều nhất trong cột engine_type"
   ]
  },
  {
   "cell_type": "code",
   "execution_count": 1337,
   "metadata": {
    "collapsed": false,
    "is_executing": true
   },
   "outputs": [],
   "source": [
    "df['engine_type'] = df['engine_type'].apply(lambda x: df['engine_type'].value_counts().index[0] if x == '-' else x)\n",
    "df['engine_type'].fillna(df['engine_type'].value_counts().index[0], inplace=True)"
   ]
  },
  {
   "cell_type": "code",
   "execution_count": 1338,
   "metadata": {
    "collapsed": false,
    "is_executing": true
   },
   "outputs": [
    {
     "data": {
      "text/plain": [
       "0"
      ]
     },
     "execution_count": 1338,
     "metadata": {},
     "output_type": "execute_result"
    }
   ],
   "source": [
    "df['engine_type'].isna().sum()"
   ]
  },
  {
   "cell_type": "markdown",
   "metadata": {
    "collapsed": false
   },
   "source": [
    "Cột transmission tương tự cột engine_type"
   ]
  },
  {
   "cell_type": "code",
   "execution_count": 1339,
   "metadata": {
    "collapsed": false,
    "is_executing": true
   },
   "outputs": [],
   "source": [
    "df['transmission'] = df['transmission'].apply(lambda x: df['transmission'].value_counts().index[0] if x == '-' else x)\n",
    "df['transmission'].fillna(df['transmission'].value_counts().index[0], inplace=True)"
   ]
  },
  {
   "cell_type": "code",
   "execution_count": 1340,
   "metadata": {
    "collapsed": false,
    "is_executing": true
   },
   "outputs": [
    {
     "data": {
      "text/plain": [
       "0"
      ]
     },
     "execution_count": 1340,
     "metadata": {},
     "output_type": "execute_result"
    }
   ],
   "source": [
    "df['transmission'].isna().sum()"
   ]
  },
  {
   "cell_type": "markdown",
   "metadata": {
    "collapsed": false
   },
   "source": [
    "# Trực quan hóa dữ liệu"
   ]
  },
  {
   "cell_type": "markdown",
   "metadata": {
    "collapsed": false
   },
   "source": [
    "Tìm hiểu về mối liên hệ giữa giá xe và các thuộc tính khác"
   ]
  },
  {
   "cell_type": "code",
   "execution_count": 1341,
   "metadata": {
    "collapsed": false,
    "is_executing": true
   },
   "outputs": [
    {
     "data": {
      "image/png": "[encoded data removed]",
      "text/plain": [
       "<Figure size 2000x1000 with 1 Axes>"
      ]
     },
     "metadata": {},
     "output_type": "display_data"
    }
   ],
   "source": [
    "#vẽ price theo brand, series,year\n",
    "plt.figure(figsize=(20, 10))\n",
    "sns.barplot(x='brand', y='price', data=df)\n",
    "plt.title('Price by brand')\n",
    "plt.xticks(rotation=90)\n",
    "plt.show()"
   ]
  },
  {
   "cell_type": "code",
   "execution_count": 1342,
   "metadata": {
    "collapsed": false,
    "is_executing": true
   },
   "outputs": [
    {
     "data": {
      "image/png": "[encoded data removed]",
      "text/plain": [
       "<Figure size 2000x1000 with 1 Axes>"
      ]
     },
     "metadata": {},
     "output_type": "display_data"
    }
   ],
   "source": [
    "plt.figure(figsize=(20, 10))\n",
    "sns.barplot(x='series', y='price', data=df)\n",
    "plt.title('Price by series')\n",
    "plt.xticks(rotation=90)\n",
    "plt.show()"
   ]
  },
  {
   "cell_type": "code",
   "execution_count": 1343,
   "metadata": {
    "collapsed": false,
    "is_executing": true
   },
   "outputs": [
    {
     "data": {
      "image/png": "[encoded data removed]",
      "text/plain": [
       "<Figure size 2000x1000 with 1 Axes>"
      ]
     },
     "metadata": {},
     "output_type": "display_data"
    }
   ],
   "source": [
    "plt.figure(figsize=(20, 10))\n",
    "sns.barplot(x='year', y='price', data=df)\n",
    "plt.title('Price by year')\n",
    "plt.xticks(rotation=90)\n",
    "plt.show()"
   ]
  },
  {
   "cell_type": "code",
   "execution_count": 1344,
   "metadata": {
    "collapsed": false,
    "is_executing": true
   },
   "outputs": [
    {
     "data": {
      "image/png": "[encoded data removed]",
      "text/plain": [
       "<Figure size 2000x1000 with 1 Axes>"
      ]
     },
     "metadata": {},
     "output_type": "display_data"
    }
   ],
   "source": [
    "plt.figure(figsize=(20, 10))\n",
    "sns.barplot(x='engine_type', y='price', data=df)\n",
    "plt.title('Price by engine_type')\n",
    "plt.xticks(rotation=90)\n",
    "plt.show()\n"
   ]
  },
  {
   "cell_type": "code",
   "execution_count": 1345,
   "metadata": {
    "collapsed": false,
    "is_executing": true
   },
   "outputs": [
    {
     "data": {
      "image/png": "[encoded data removed]",
      "text/plain": [
       "<Figure size 2000x1000 with 2 Axes>"
      ]
     },
     "metadata": {},
     "output_type": "display_data"
    }
   ],
   "source": [
    "plt.figure(figsize=(20, 10))\n",
    "plt.subplot(1, 2, 1)\n",
    "sns.barplot(x='transmission', y='price', data=df)\n",
    "plt.title('Price by transmission')\n",
    "plt.xticks(rotation=90)\n",
    "plt.subplot(1, 2, 2)\n",
    "sns.barplot(x='assemble_place', y='price', data=df)\n",
    "plt.show()"
   ]
  },
  {
   "cell_type": "markdown",
   "metadata": {
    "collapsed": false
   },
   "source": []
  },
  {
   "cell_type": "code",
   "execution_count": 1346,
   "metadata": {
    "collapsed": false,
    "is_executing": true
   },
   "outputs": [
    {
     "data": {
      "image/png": "[encoded data removed]",
      "text/plain": [
       "<Figure size 2000x1000 with 2 Axes>"
      ]
     },
     "metadata": {},
     "output_type": "display_data"
    }
   ],
   "source": [
    "plt.figure(figsize=(20, 10))\n",
    "plt.subplot(1, 2, 1)\n",
    "sns.barplot(x='num_of_door', y='price', data=df)\n",
    "plt.title('Price by num_of_door')\n",
    "plt.subplot(1, 2, 2)\n",
    "sns.barplot(x='num_of_seat', y='price', data=df)\n",
    "plt.title('Price by num_of_seat')\n",
    "plt.show()"
   ]
  },
  {
   "cell_type": "markdown",
   "metadata": {
    "collapsed": false
   },
   "source": [
    "# Tìm hiểu về mối liên hệ giữa các thuộc tính với nhau"
   ]
  },
  {
   "cell_type": "code",
   "execution_count": 1347,
   "metadata": {
    "collapsed": false,
    "is_executing": true
   },
   "outputs": [
    {
     "data": {
      "image/png": "[encoded data removed]",
      "text/plain": [
       "<Figure size 2000x1000 with 2 Axes>"
      ]
     },
     "metadata": {},
     "output_type": "display_data"
    }
   ],
   "source": [
    "#vẽ biểu đồ nhiệt giữa price và các thuộc tính trừ model\n",
    "plt.figure(figsize=(20, 10))\n",
    "numeric_cols = df.select_dtypes(include=['float64', 'int64'])\n",
    "sns.heatmap(numeric_cols.corr(), annot=True)\n",
    "plt.show()\n",
    "\n",
    "\n"
   ]
  },
  {
   "cell_type": "markdown",
   "metadata": {
    "collapsed": false
   },
   "source": [
    "# Mã hóa các cột dạng nhãn thành dạng số để có thể sử dụng cho mô hình học máy"
   ]
  },
  {
   "cell_type": "markdown",
   "metadata": {
    "collapsed": false
   },
   "source": [
    "Cột assemble_place chỉ có 2 giá trị là 'Lắp ráp trong nước' và 'Nhập khẩu', ta sẽ mã hóa thành 0 và 1"
   ]
  },
  {
   "cell_type": "code",
   "execution_count": 1348,
   "metadata": {
    "collapsed": false,
    "is_executing": true
   },
   "outputs": [],
   "source": [
    "df['assemble_place'] = df['assemble_place'].map({'Lắp ráp trong nước': 0, 'Nhập khẩu': 1})"
   ]
  },
  {
   "cell_type": "code",
   "execution_count": 1349,
   "metadata": {
    "collapsed": false,
    "is_executing": true
   },
   "outputs": [
    {
     "data": {
      "text/plain": [
       "assemble_place\n",
       "0.0    14641\n",
       "1.0    10480\n",
       "Name: count, dtype: int64"
      ]
     },
     "execution_count": 1349,
     "metadata": {},
     "output_type": "execute_result"
    }
   ],
   "source": [
    "df['assemble_place'].value_counts()"
   ]
  },
  {
   "cell_type": "markdown",
   "metadata": {
    "collapsed": false
   },
   "source": [
    "Cột brand sẽ được mã hóa bằng phương pháp One-hot encoding"
   ]
  },
  {
   "cell_type": "code",
   "execution_count": 1350,
   "metadata": {
    "collapsed": false,
    "is_executing": true
   },
   "outputs": [
    {
     "data": {
      "text/html": [
       "<div>\n",
       "<style scoped>\n",
       "    .dataframe tbody tr th:only-of-type {\n",
       "        vertical-align: middle;\n",
       "    }\n",
       "\n",
       "    .dataframe tbody tr th {\n",
       "        vertical-align: top;\n",
       "    }\n",
       "\n",
       "    .dataframe thead th {\n",
       "        text-align: right;\n",
       "    }\n",
       "</style>\n",
       "<table border=\"1\" class=\"dataframe\">\n",
       "  <thead>\n",
       "    <tr style=\"text-align: right;\">\n",
       "      <th></th>\n",
       "      <th>car_name</th>\n",
       "      <th>year</th>\n",
       "      <th>price</th>\n",
       "      <th>assemble_place</th>\n",
       "      <th>series</th>\n",
       "      <th>driven kms</th>\n",
       "      <th>num_of_door</th>\n",
       "      <th>num_of_seat</th>\n",
       "      <th>engine_type</th>\n",
       "      <th>transmission</th>\n",
       "      <th>url</th>\n",
       "      <th>model</th>\n",
       "      <th>brand_segment</th>\n",
       "      <th>brand_HIGH END CAR</th>\n",
       "      <th>brand_LOW END CAR</th>\n",
       "      <th>brand_MIDDLE RANGE CAR</th>\n",
       "    </tr>\n",
       "  </thead>\n",
       "  <tbody>\n",
       "    <tr>\n",
       "      <th>0</th>\n",
       "      <td>LandRover Range Rover HSE 3.0</td>\n",
       "      <td>2015.0</td>\n",
       "      <td>2.700000e+09</td>\n",
       "      <td>1.0</td>\n",
       "      <td>SUV</td>\n",
       "      <td>65000.0</td>\n",
       "      <td>5.0</td>\n",
       "      <td>5.0</td>\n",
       "      <td>Xăng</td>\n",
       "      <td>Số tự động</td>\n",
       "      <td>https://bonbanh.com/xe-landrover-range_rover-h...</td>\n",
       "      <td>Range Rover HSE 3.0</td>\n",
       "      <td>3</td>\n",
       "      <td>True</td>\n",
       "      <td>False</td>\n",
       "      <td>False</td>\n",
       "    </tr>\n",
       "    <tr>\n",
       "      <th>1</th>\n",
       "      <td>Mitsubishi Outlander 2.0 CVT Premium</td>\n",
       "      <td>2018.0</td>\n",
       "      <td>6.660000e+08</td>\n",
       "      <td>0.0</td>\n",
       "      <td>SUV</td>\n",
       "      <td>50000.0</td>\n",
       "      <td>5.0</td>\n",
       "      <td>7.0</td>\n",
       "      <td>Xăng</td>\n",
       "      <td>Số tự động</td>\n",
       "      <td>https://bonbanh.com/xe-mitsubishi-outlander-2....</td>\n",
       "      <td>Outlander 2.0 CVT Premium</td>\n",
       "      <td>1</td>\n",
       "      <td>False</td>\n",
       "      <td>False</td>\n",
       "      <td>True</td>\n",
       "    </tr>\n",
       "    <tr>\n",
       "      <th>2</th>\n",
       "      <td>Mazda 3 1.5L Luxury</td>\n",
       "      <td>2019.0</td>\n",
       "      <td>4.900000e+08</td>\n",
       "      <td>0.0</td>\n",
       "      <td>Sedan</td>\n",
       "      <td>51000.0</td>\n",
       "      <td>4.0</td>\n",
       "      <td>5.0</td>\n",
       "      <td>Xăng</td>\n",
       "      <td>Số tự động</td>\n",
       "      <td>https://bonbanh.com/xe-mazda-3-1.5l-luxury-201...</td>\n",
       "      <td>3 1.5L Luxury</td>\n",
       "      <td>1</td>\n",
       "      <td>False</td>\n",
       "      <td>True</td>\n",
       "      <td>False</td>\n",
       "    </tr>\n",
       "    <tr>\n",
       "      <th>3</th>\n",
       "      <td>Mazda 2 1.5 AT</td>\n",
       "      <td>2015.0</td>\n",
       "      <td>3.650000e+08</td>\n",
       "      <td>0.0</td>\n",
       "      <td>Sedan</td>\n",
       "      <td>38000.0</td>\n",
       "      <td>4.0</td>\n",
       "      <td>5.0</td>\n",
       "      <td>Xăng</td>\n",
       "      <td>Số tự động</td>\n",
       "      <td>https://bonbanh.com/xe-mazda-2-1.5-at-2015-491...</td>\n",
       "      <td>2 1.5 AT</td>\n",
       "      <td>1</td>\n",
       "      <td>False</td>\n",
       "      <td>True</td>\n",
       "      <td>False</td>\n",
       "    </tr>\n",
       "    <tr>\n",
       "      <th>4</th>\n",
       "      <td>Suzuki Swift GLX 1.2 AT</td>\n",
       "      <td>2021.0</td>\n",
       "      <td>5.650000e+08</td>\n",
       "      <td>1.0</td>\n",
       "      <td>Hatchback</td>\n",
       "      <td>6000.0</td>\n",
       "      <td>5.0</td>\n",
       "      <td>5.0</td>\n",
       "      <td>Xăng</td>\n",
       "      <td>Số tự động</td>\n",
       "      <td>https://bonbanh.com/xe-suzuki-swift-glx-1.2-at...</td>\n",
       "      <td>Swift GLX 1.2 AT</td>\n",
       "      <td>1</td>\n",
       "      <td>False</td>\n",
       "      <td>True</td>\n",
       "      <td>False</td>\n",
       "    </tr>\n",
       "  </tbody>\n",
       "</table>\n",
       "</div>"
      ],
      "text/plain": [
       "                                car_name    year         price  \\\n",
       "0          LandRover Range Rover HSE 3.0  2015.0  2.700000e+09   \n",
       "1   Mitsubishi Outlander 2.0 CVT Premium  2018.0  6.660000e+08   \n",
       "2                    Mazda 3 1.5L Luxury  2019.0  4.900000e+08   \n",
       "3                         Mazda 2 1.5 AT  2015.0  3.650000e+08   \n",
       "4                Suzuki Swift GLX 1.2 AT  2021.0  5.650000e+08   \n",
       "\n",
       "   assemble_place     series  driven kms  num_of_door  num_of_seat  \\\n",
       "0             1.0        SUV     65000.0          5.0          5.0   \n",
       "1             0.0        SUV     50000.0          5.0          7.0   \n",
       "2             0.0      Sedan     51000.0          4.0          5.0   \n",
       "3             0.0      Sedan     38000.0          4.0          5.0   \n",
       "4             1.0  Hatchback      6000.0          5.0          5.0   \n",
       "\n",
       "  engine_type transmission                                                url  \\\n",
       "0        Xăng   Số tự động  https://bonbanh.com/xe-landrover-range_rover-h...   \n",
       "1        Xăng   Số tự động  https://bonbanh.com/xe-mitsubishi-outlander-2....   \n",
       "2        Xăng   Số tự động  https://bonbanh.com/xe-mazda-3-1.5l-luxury-201...   \n",
       "3        Xăng   Số tự động  https://bonbanh.com/xe-mazda-2-1.5-at-2015-491...   \n",
       "4        Xăng   Số tự động  https://bonbanh.com/xe-suzuki-swift-glx-1.2-at...   \n",
       "\n",
       "                       model brand_segment  brand_HIGH END CAR  \\\n",
       "0        Range Rover HSE 3.0             3                True   \n",
       "1  Outlander 2.0 CVT Premium             1               False   \n",
       "2              3 1.5L Luxury             1               False   \n",
       "3                   2 1.5 AT             1               False   \n",
       "4           Swift GLX 1.2 AT             1               False   \n",
       "\n",
       "   brand_LOW END CAR  brand_MIDDLE RANGE CAR  \n",
       "0              False                   False  \n",
       "1              False                    True  \n",
       "2               True                   False  \n",
       "3               True                   False  \n",
       "4               True                   False  "
      ]
     },
     "execution_count": 1350,
     "metadata": {},
     "output_type": "execute_result"
    }
   ],
   "source": [
    "one_hot = OneHotEncoder()\n",
    "one_hot.fit(df[['brand']])\n",
    "one_hot_brand = pd.get_dummies(df['brand'], prefix='brand')\n",
    "df = pd.concat([df, one_hot_brand], axis=1)\n",
    "df.drop('brand', axis=1, inplace=True)\n",
    "df.head()"
   ]
  },
  {
   "cell_type": "markdown",
   "metadata": {
    "collapsed": false
   },
   "source": []
  },
  {
   "cell_type": "markdown",
   "metadata": {
    "collapsed": false
   },
   "source": [
    "Cột series sẽ được mã hóa bằng phương pháp One-hot encoding"
   ]
  },
  {
   "cell_type": "code",
   "execution_count": 1351,
   "metadata": {
    "collapsed": false,
    "is_executing": true
   },
   "outputs": [],
   "source": [
    "one_hot = OneHotEncoder()\n",
    "one_hot.fit(df[['series']])\n",
    "one_hot_series = pd.get_dummies(df['series'], prefix='series')\n",
    "df = pd.concat([df, one_hot_series], axis=1)"
   ]
  },
  {
   "cell_type": "markdown",
   "metadata": {
    "collapsed": false
   },
   "source": [
    "Cột engine_type sẽ được mã hóa bằng phương pháp One-hot encoding"
   ]
  },
  {
   "cell_type": "code",
   "execution_count": 1352,
   "metadata": {
    "collapsed": false,
    "is_executing": true
   },
   "outputs": [
    {
     "data": {
      "text/html": [
       "<div>\n",
       "<style scoped>\n",
       "    .dataframe tbody tr th:only-of-type {\n",
       "        vertical-align: middle;\n",
       "    }\n",
       "\n",
       "    .dataframe tbody tr th {\n",
       "        vertical-align: top;\n",
       "    }\n",
       "\n",
       "    .dataframe thead th {\n",
       "        text-align: right;\n",
       "    }\n",
       "</style>\n",
       "<table border=\"1\" class=\"dataframe\">\n",
       "  <thead>\n",
       "    <tr style=\"text-align: right;\">\n",
       "      <th></th>\n",
       "      <th>car_name</th>\n",
       "      <th>year</th>\n",
       "      <th>price</th>\n",
       "      <th>assemble_place</th>\n",
       "      <th>series</th>\n",
       "      <th>driven kms</th>\n",
       "      <th>num_of_door</th>\n",
       "      <th>num_of_seat</th>\n",
       "      <th>engine_type</th>\n",
       "      <th>transmission</th>\n",
       "      <th>...</th>\n",
       "      <th>series_Bán tải / Pickup</th>\n",
       "      <th>series_Convertible/Cabriolet</th>\n",
       "      <th>series_Coupe</th>\n",
       "      <th>series_Crossover</th>\n",
       "      <th>series_Hatchback</th>\n",
       "      <th>series_SUV</th>\n",
       "      <th>series_Sedan</th>\n",
       "      <th>series_Truck</th>\n",
       "      <th>series_Van/Minivan</th>\n",
       "      <th>series_Wagon</th>\n",
       "    </tr>\n",
       "  </thead>\n",
       "  <tbody>\n",
       "    <tr>\n",
       "      <th>0</th>\n",
       "      <td>LandRover Range Rover HSE 3.0</td>\n",
       "      <td>2015.0</td>\n",
       "      <td>2.700000e+09</td>\n",
       "      <td>1.0</td>\n",
       "      <td>SUV</td>\n",
       "      <td>65000.0</td>\n",
       "      <td>5.0</td>\n",
       "      <td>5.0</td>\n",
       "      <td>Xăng</td>\n",
       "      <td>Số tự động</td>\n",
       "      <td>...</td>\n",
       "      <td>False</td>\n",
       "      <td>False</td>\n",
       "      <td>False</td>\n",
       "      <td>False</td>\n",
       "      <td>False</td>\n",
       "      <td>True</td>\n",
       "      <td>False</td>\n",
       "      <td>False</td>\n",
       "      <td>False</td>\n",
       "      <td>False</td>\n",
       "    </tr>\n",
       "    <tr>\n",
       "      <th>1</th>\n",
       "      <td>Mitsubishi Outlander 2.0 CVT Premium</td>\n",
       "      <td>2018.0</td>\n",
       "      <td>6.660000e+08</td>\n",
       "      <td>0.0</td>\n",
       "      <td>SUV</td>\n",
       "      <td>50000.0</td>\n",
       "      <td>5.0</td>\n",
       "      <td>7.0</td>\n",
       "      <td>Xăng</td>\n",
       "      <td>Số tự động</td>\n",
       "      <td>...</td>\n",
       "      <td>False</td>\n",
       "      <td>False</td>\n",
       "      <td>False</td>\n",
       "      <td>False</td>\n",
       "      <td>False</td>\n",
       "      <td>True</td>\n",
       "      <td>False</td>\n",
       "      <td>False</td>\n",
       "      <td>False</td>\n",
       "      <td>False</td>\n",
       "    </tr>\n",
       "    <tr>\n",
       "      <th>2</th>\n",
       "      <td>Mazda 3 1.5L Luxury</td>\n",
       "      <td>2019.0</td>\n",
       "      <td>4.900000e+08</td>\n",
       "      <td>0.0</td>\n",
       "      <td>Sedan</td>\n",
       "      <td>51000.0</td>\n",
       "      <td>4.0</td>\n",
       "      <td>5.0</td>\n",
       "      <td>Xăng</td>\n",
       "      <td>Số tự động</td>\n",
       "      <td>...</td>\n",
       "      <td>False</td>\n",
       "      <td>False</td>\n",
       "      <td>False</td>\n",
       "      <td>False</td>\n",
       "      <td>False</td>\n",
       "      <td>False</td>\n",
       "      <td>True</td>\n",
       "      <td>False</td>\n",
       "      <td>False</td>\n",
       "      <td>False</td>\n",
       "    </tr>\n",
       "    <tr>\n",
       "      <th>3</th>\n",
       "      <td>Mazda 2 1.5 AT</td>\n",
       "      <td>2015.0</td>\n",
       "      <td>3.650000e+08</td>\n",
       "      <td>0.0</td>\n",
       "      <td>Sedan</td>\n",
       "      <td>38000.0</td>\n",
       "      <td>4.0</td>\n",
       "      <td>5.0</td>\n",
       "      <td>Xăng</td>\n",
       "      <td>Số tự động</td>\n",
       "      <td>...</td>\n",
       "      <td>False</td>\n",
       "      <td>False</td>\n",
       "      <td>False</td>\n",
       "      <td>False</td>\n",
       "      <td>False</td>\n",
       "      <td>False</td>\n",
       "      <td>True</td>\n",
       "      <td>False</td>\n",
       "      <td>False</td>\n",
       "      <td>False</td>\n",
       "    </tr>\n",
       "    <tr>\n",
       "      <th>4</th>\n",
       "      <td>Suzuki Swift GLX 1.2 AT</td>\n",
       "      <td>2021.0</td>\n",
       "      <td>5.650000e+08</td>\n",
       "      <td>1.0</td>\n",
       "      <td>Hatchback</td>\n",
       "      <td>6000.0</td>\n",
       "      <td>5.0</td>\n",
       "      <td>5.0</td>\n",
       "      <td>Xăng</td>\n",
       "      <td>Số tự động</td>\n",
       "      <td>...</td>\n",
       "      <td>False</td>\n",
       "      <td>False</td>\n",
       "      <td>False</td>\n",
       "      <td>False</td>\n",
       "      <td>True</td>\n",
       "      <td>False</td>\n",
       "      <td>False</td>\n",
       "      <td>False</td>\n",
       "      <td>False</td>\n",
       "      <td>False</td>\n",
       "    </tr>\n",
       "  </tbody>\n",
       "</table>\n",
       "<p>5 rows × 26 columns</p>\n",
       "</div>"
      ],
      "text/plain": [
       "                                car_name    year         price  \\\n",
       "0          LandRover Range Rover HSE 3.0  2015.0  2.700000e+09   \n",
       "1   Mitsubishi Outlander 2.0 CVT Premium  2018.0  6.660000e+08   \n",
       "2                    Mazda 3 1.5L Luxury  2019.0  4.900000e+08   \n",
       "3                         Mazda 2 1.5 AT  2015.0  3.650000e+08   \n",
       "4                Suzuki Swift GLX 1.2 AT  2021.0  5.650000e+08   \n",
       "\n",
       "   assemble_place     series  driven kms  num_of_door  num_of_seat  \\\n",
       "0             1.0        SUV     65000.0          5.0          5.0   \n",
       "1             0.0        SUV     50000.0          5.0          7.0   \n",
       "2             0.0      Sedan     51000.0          4.0          5.0   \n",
       "3             0.0      Sedan     38000.0          4.0          5.0   \n",
       "4             1.0  Hatchback      6000.0          5.0          5.0   \n",
       "\n",
       "  engine_type transmission  ... series_Bán tải / Pickup  \\\n",
       "0        Xăng   Số tự động  ...                     False   \n",
       "1        Xăng   Số tự động  ...                     False   \n",
       "2        Xăng   Số tự động  ...                     False   \n",
       "3        Xăng   Số tự động  ...                     False   \n",
       "4        Xăng   Số tự động  ...                     False   \n",
       "\n",
       "  series_Convertible/Cabriolet series_Coupe  series_Crossover  \\\n",
       "0                        False        False             False   \n",
       "1                        False        False             False   \n",
       "2                        False        False             False   \n",
       "3                        False        False             False   \n",
       "4                        False        False             False   \n",
       "\n",
       "   series_Hatchback  series_SUV  series_Sedan  series_Truck  \\\n",
       "0             False        True         False         False   \n",
       "1             False        True         False         False   \n",
       "2             False       False          True         False   \n",
       "3             False       False          True         False   \n",
       "4              True       False         False         False   \n",
       "\n",
       "   series_Van/Minivan  series_Wagon  \n",
       "0               False         False  \n",
       "1               False         False  \n",
       "2               False         False  \n",
       "3               False         False  \n",
       "4               False         False  \n",
       "\n",
       "[5 rows x 26 columns]"
      ]
     },
     "execution_count": 1352,
     "metadata": {},
     "output_type": "execute_result"
    }
   ],
   "source": [
    "df.head()"
   ]
  },
  {
   "cell_type": "code",
   "execution_count": 1353,
   "metadata": {
    "collapsed": false,
    "is_executing": true
   },
   "outputs": [],
   "source": [
    "one_hot = OneHotEncoder()\n",
    "one_hot.fit(df[['engine_type']])\n",
    "one_hot_engine_type = pd.get_dummies(df['engine_type'], prefix='engine_type')\n",
    "df = pd.concat([df, one_hot_engine_type], axis=1)"
   ]
  },
  {
   "cell_type": "markdown",
   "metadata": {
    "collapsed": false
   },
   "source": [
    "Cột transmission chỉ có hai giá trị nên sẽ được mã hóa thành 0 và 1"
   ]
  },
  {
   "cell_type": "code",
   "execution_count": 1354,
   "metadata": {
    "collapsed": false,
    "is_executing": true
   },
   "outputs": [],
   "source": [
    "df['transmission'] = df['transmission'].map({'Số tay': 0, 'Số tự động': 1})"
   ]
  },
  {
   "cell_type": "code",
   "execution_count": 1355,
   "metadata": {
    "collapsed": false,
    "is_executing": true
   },
   "outputs": [
    {
     "data": {
      "text/html": [
       "<div>\n",
       "<style scoped>\n",
       "    .dataframe tbody tr th:only-of-type {\n",
       "        vertical-align: middle;\n",
       "    }\n",
       "\n",
       "    .dataframe tbody tr th {\n",
       "        vertical-align: top;\n",
       "    }\n",
       "\n",
       "    .dataframe thead th {\n",
       "        text-align: right;\n",
       "    }\n",
       "</style>\n",
       "<table border=\"1\" class=\"dataframe\">\n",
       "  <thead>\n",
       "    <tr style=\"text-align: right;\">\n",
       "      <th></th>\n",
       "      <th>car_name</th>\n",
       "      <th>year</th>\n",
       "      <th>price</th>\n",
       "      <th>assemble_place</th>\n",
       "      <th>series</th>\n",
       "      <th>driven kms</th>\n",
       "      <th>num_of_door</th>\n",
       "      <th>num_of_seat</th>\n",
       "      <th>engine_type</th>\n",
       "      <th>transmission</th>\n",
       "      <th>...</th>\n",
       "      <th>series_Hatchback</th>\n",
       "      <th>series_SUV</th>\n",
       "      <th>series_Sedan</th>\n",
       "      <th>series_Truck</th>\n",
       "      <th>series_Van/Minivan</th>\n",
       "      <th>series_Wagon</th>\n",
       "      <th>engine_type_Dầu</th>\n",
       "      <th>engine_type_Hybrid</th>\n",
       "      <th>engine_type_Xăng</th>\n",
       "      <th>engine_type_Điện</th>\n",
       "    </tr>\n",
       "  </thead>\n",
       "  <tbody>\n",
       "    <tr>\n",
       "      <th>0</th>\n",
       "      <td>LandRover Range Rover HSE 3.0</td>\n",
       "      <td>2015.0</td>\n",
       "      <td>2.700000e+09</td>\n",
       "      <td>1.0</td>\n",
       "      <td>SUV</td>\n",
       "      <td>65000.0</td>\n",
       "      <td>5.0</td>\n",
       "      <td>5.0</td>\n",
       "      <td>Xăng</td>\n",
       "      <td>1</td>\n",
       "      <td>...</td>\n",
       "      <td>False</td>\n",
       "      <td>True</td>\n",
       "      <td>False</td>\n",
       "      <td>False</td>\n",
       "      <td>False</td>\n",
       "      <td>False</td>\n",
       "      <td>False</td>\n",
       "      <td>False</td>\n",
       "      <td>True</td>\n",
       "      <td>False</td>\n",
       "    </tr>\n",
       "    <tr>\n",
       "      <th>1</th>\n",
       "      <td>Mitsubishi Outlander 2.0 CVT Premium</td>\n",
       "      <td>2018.0</td>\n",
       "      <td>6.660000e+08</td>\n",
       "      <td>0.0</td>\n",
       "      <td>SUV</td>\n",
       "      <td>50000.0</td>\n",
       "      <td>5.0</td>\n",
       "      <td>7.0</td>\n",
       "      <td>Xăng</td>\n",
       "      <td>1</td>\n",
       "      <td>...</td>\n",
       "      <td>False</td>\n",
       "      <td>True</td>\n",
       "      <td>False</td>\n",
       "      <td>False</td>\n",
       "      <td>False</td>\n",
       "      <td>False</td>\n",
       "      <td>False</td>\n",
       "      <td>False</td>\n",
       "      <td>True</td>\n",
       "      <td>False</td>\n",
       "    </tr>\n",
       "    <tr>\n",
       "      <th>2</th>\n",
       "      <td>Mazda 3 1.5L Luxury</td>\n",
       "      <td>2019.0</td>\n",
       "      <td>4.900000e+08</td>\n",
       "      <td>0.0</td>\n",
       "      <td>Sedan</td>\n",
       "      <td>51000.0</td>\n",
       "      <td>4.0</td>\n",
       "      <td>5.0</td>\n",
       "      <td>Xăng</td>\n",
       "      <td>1</td>\n",
       "      <td>...</td>\n",
       "      <td>False</td>\n",
       "      <td>False</td>\n",
       "      <td>True</td>\n",
       "      <td>False</td>\n",
       "      <td>False</td>\n",
       "      <td>False</td>\n",
       "      <td>False</td>\n",
       "      <td>False</td>\n",
       "      <td>True</td>\n",
       "      <td>False</td>\n",
       "    </tr>\n",
       "    <tr>\n",
       "      <th>3</th>\n",
       "      <td>Mazda 2 1.5 AT</td>\n",
       "      <td>2015.0</td>\n",
       "      <td>3.650000e+08</td>\n",
       "      <td>0.0</td>\n",
       "      <td>Sedan</td>\n",
       "      <td>38000.0</td>\n",
       "      <td>4.0</td>\n",
       "      <td>5.0</td>\n",
       "      <td>Xăng</td>\n",
       "      <td>1</td>\n",
       "      <td>...</td>\n",
       "      <td>False</td>\n",
       "      <td>False</td>\n",
       "      <td>True</td>\n",
       "      <td>False</td>\n",
       "      <td>False</td>\n",
       "      <td>False</td>\n",
       "      <td>False</td>\n",
       "      <td>False</td>\n",
       "      <td>True</td>\n",
       "      <td>False</td>\n",
       "    </tr>\n",
       "    <tr>\n",
       "      <th>4</th>\n",
       "      <td>Suzuki Swift GLX 1.2 AT</td>\n",
       "      <td>2021.0</td>\n",
       "      <td>5.650000e+08</td>\n",
       "      <td>1.0</td>\n",
       "      <td>Hatchback</td>\n",
       "      <td>6000.0</td>\n",
       "      <td>5.0</td>\n",
       "      <td>5.0</td>\n",
       "      <td>Xăng</td>\n",
       "      <td>1</td>\n",
       "      <td>...</td>\n",
       "      <td>True</td>\n",
       "      <td>False</td>\n",
       "      <td>False</td>\n",
       "      <td>False</td>\n",
       "      <td>False</td>\n",
       "      <td>False</td>\n",
       "      <td>False</td>\n",
       "      <td>False</td>\n",
       "      <td>True</td>\n",
       "      <td>False</td>\n",
       "    </tr>\n",
       "  </tbody>\n",
       "</table>\n",
       "<p>5 rows × 30 columns</p>\n",
       "</div>"
      ],
      "text/plain": [
       "                                car_name    year         price  \\\n",
       "0          LandRover Range Rover HSE 3.0  2015.0  2.700000e+09   \n",
       "1   Mitsubishi Outlander 2.0 CVT Premium  2018.0  6.660000e+08   \n",
       "2                    Mazda 3 1.5L Luxury  2019.0  4.900000e+08   \n",
       "3                         Mazda 2 1.5 AT  2015.0  3.650000e+08   \n",
       "4                Suzuki Swift GLX 1.2 AT  2021.0  5.650000e+08   \n",
       "\n",
       "   assemble_place     series  driven kms  num_of_door  num_of_seat  \\\n",
       "0             1.0        SUV     65000.0          5.0          5.0   \n",
       "1             0.0        SUV     50000.0          5.0          7.0   \n",
       "2             0.0      Sedan     51000.0          4.0          5.0   \n",
       "3             0.0      Sedan     38000.0          4.0          5.0   \n",
       "4             1.0  Hatchback      6000.0          5.0          5.0   \n",
       "\n",
       "  engine_type  transmission  ... series_Hatchback series_SUV series_Sedan  \\\n",
       "0        Xăng             1  ...            False       True        False   \n",
       "1        Xăng             1  ...            False       True        False   \n",
       "2        Xăng             1  ...            False      False         True   \n",
       "3        Xăng             1  ...            False      False         True   \n",
       "4        Xăng             1  ...             True      False        False   \n",
       "\n",
       "   series_Truck  series_Van/Minivan  series_Wagon  engine_type_Dầu  \\\n",
       "0         False               False         False            False   \n",
       "1         False               False         False            False   \n",
       "2         False               False         False            False   \n",
       "3         False               False         False            False   \n",
       "4         False               False         False            False   \n",
       "\n",
       "   engine_type_Hybrid  engine_type_Xăng  engine_type_Điện  \n",
       "0               False              True             False  \n",
       "1               False              True             False  \n",
       "2               False              True             False  \n",
       "3               False              True             False  \n",
       "4               False              True             False  \n",
       "\n",
       "[5 rows x 30 columns]"
      ]
     },
     "execution_count": 1355,
     "metadata": {},
     "output_type": "execute_result"
    }
   ],
   "source": [
    "df.head()"
   ]
  },
  {
   "cell_type": "code",
   "execution_count": 1356,
   "metadata": {
    "collapsed": false,
    "is_executing": true
   },
   "outputs": [],
   "source": [
    "save_df = copy.deepcopy(df)"
   ]
  },
  {
   "cell_type": "code",
   "execution_count": 1357,
   "metadata": {
    "collapsed": false,
    "is_executing": true
   },
   "outputs": [
    {
     "data": {
      "text/html": [
       "<div>\n",
       "<style scoped>\n",
       "    .dataframe tbody tr th:only-of-type {\n",
       "        vertical-align: middle;\n",
       "    }\n",
       "\n",
       "    .dataframe tbody tr th {\n",
       "        vertical-align: top;\n",
       "    }\n",
       "\n",
       "    .dataframe thead th {\n",
       "        text-align: right;\n",
       "    }\n",
       "</style>\n",
       "<table border=\"1\" class=\"dataframe\">\n",
       "  <thead>\n",
       "    <tr style=\"text-align: right;\">\n",
       "      <th></th>\n",
       "      <th>car_name</th>\n",
       "      <th>year</th>\n",
       "      <th>price</th>\n",
       "      <th>assemble_place</th>\n",
       "      <th>series</th>\n",
       "      <th>driven kms</th>\n",
       "      <th>num_of_door</th>\n",
       "      <th>num_of_seat</th>\n",
       "      <th>engine_type</th>\n",
       "      <th>transmission</th>\n",
       "      <th>...</th>\n",
       "      <th>series_Hatchback</th>\n",
       "      <th>series_SUV</th>\n",
       "      <th>series_Sedan</th>\n",
       "      <th>series_Truck</th>\n",
       "      <th>series_Van/Minivan</th>\n",
       "      <th>series_Wagon</th>\n",
       "      <th>engine_type_Dầu</th>\n",
       "      <th>engine_type_Hybrid</th>\n",
       "      <th>engine_type_Xăng</th>\n",
       "      <th>engine_type_Điện</th>\n",
       "    </tr>\n",
       "  </thead>\n",
       "  <tbody>\n",
       "    <tr>\n",
       "      <th>0</th>\n",
       "      <td>LandRover Range Rover HSE 3.0</td>\n",
       "      <td>2015.0</td>\n",
       "      <td>2.700000e+09</td>\n",
       "      <td>1.0</td>\n",
       "      <td>SUV</td>\n",
       "      <td>65000.0</td>\n",
       "      <td>5.0</td>\n",
       "      <td>5.0</td>\n",
       "      <td>Xăng</td>\n",
       "      <td>1</td>\n",
       "      <td>...</td>\n",
       "      <td>False</td>\n",
       "      <td>True</td>\n",
       "      <td>False</td>\n",
       "      <td>False</td>\n",
       "      <td>False</td>\n",
       "      <td>False</td>\n",
       "      <td>False</td>\n",
       "      <td>False</td>\n",
       "      <td>True</td>\n",
       "      <td>False</td>\n",
       "    </tr>\n",
       "    <tr>\n",
       "      <th>1</th>\n",
       "      <td>Mitsubishi Outlander 2.0 CVT Premium</td>\n",
       "      <td>2018.0</td>\n",
       "      <td>6.660000e+08</td>\n",
       "      <td>0.0</td>\n",
       "      <td>SUV</td>\n",
       "      <td>50000.0</td>\n",
       "      <td>5.0</td>\n",
       "      <td>7.0</td>\n",
       "      <td>Xăng</td>\n",
       "      <td>1</td>\n",
       "      <td>...</td>\n",
       "      <td>False</td>\n",
       "      <td>True</td>\n",
       "      <td>False</td>\n",
       "      <td>False</td>\n",
       "      <td>False</td>\n",
       "      <td>False</td>\n",
       "      <td>False</td>\n",
       "      <td>False</td>\n",
       "      <td>True</td>\n",
       "      <td>False</td>\n",
       "    </tr>\n",
       "    <tr>\n",
       "      <th>2</th>\n",
       "      <td>Mazda 3 1.5L Luxury</td>\n",
       "      <td>2019.0</td>\n",
       "      <td>4.900000e+08</td>\n",
       "      <td>0.0</td>\n",
       "      <td>Sedan</td>\n",
       "      <td>51000.0</td>\n",
       "      <td>4.0</td>\n",
       "      <td>5.0</td>\n",
       "      <td>Xăng</td>\n",
       "      <td>1</td>\n",
       "      <td>...</td>\n",
       "      <td>False</td>\n",
       "      <td>False</td>\n",
       "      <td>True</td>\n",
       "      <td>False</td>\n",
       "      <td>False</td>\n",
       "      <td>False</td>\n",
       "      <td>False</td>\n",
       "      <td>False</td>\n",
       "      <td>True</td>\n",
       "      <td>False</td>\n",
       "    </tr>\n",
       "    <tr>\n",
       "      <th>3</th>\n",
       "      <td>Mazda 2 1.5 AT</td>\n",
       "      <td>2015.0</td>\n",
       "      <td>3.650000e+08</td>\n",
       "      <td>0.0</td>\n",
       "      <td>Sedan</td>\n",
       "      <td>38000.0</td>\n",
       "      <td>4.0</td>\n",
       "      <td>5.0</td>\n",
       "      <td>Xăng</td>\n",
       "      <td>1</td>\n",
       "      <td>...</td>\n",
       "      <td>False</td>\n",
       "      <td>False</td>\n",
       "      <td>True</td>\n",
       "      <td>False</td>\n",
       "      <td>False</td>\n",
       "      <td>False</td>\n",
       "      <td>False</td>\n",
       "      <td>False</td>\n",
       "      <td>True</td>\n",
       "      <td>False</td>\n",
       "    </tr>\n",
       "    <tr>\n",
       "      <th>4</th>\n",
       "      <td>Suzuki Swift GLX 1.2 AT</td>\n",
       "      <td>2021.0</td>\n",
       "      <td>5.650000e+08</td>\n",
       "      <td>1.0</td>\n",
       "      <td>Hatchback</td>\n",
       "      <td>6000.0</td>\n",
       "      <td>5.0</td>\n",
       "      <td>5.0</td>\n",
       "      <td>Xăng</td>\n",
       "      <td>1</td>\n",
       "      <td>...</td>\n",
       "      <td>True</td>\n",
       "      <td>False</td>\n",
       "      <td>False</td>\n",
       "      <td>False</td>\n",
       "      <td>False</td>\n",
       "      <td>False</td>\n",
       "      <td>False</td>\n",
       "      <td>False</td>\n",
       "      <td>True</td>\n",
       "      <td>False</td>\n",
       "    </tr>\n",
       "  </tbody>\n",
       "</table>\n",
       "<p>5 rows × 30 columns</p>\n",
       "</div>"
      ],
      "text/plain": [
       "                                car_name    year         price  \\\n",
       "0          LandRover Range Rover HSE 3.0  2015.0  2.700000e+09   \n",
       "1   Mitsubishi Outlander 2.0 CVT Premium  2018.0  6.660000e+08   \n",
       "2                    Mazda 3 1.5L Luxury  2019.0  4.900000e+08   \n",
       "3                         Mazda 2 1.5 AT  2015.0  3.650000e+08   \n",
       "4                Suzuki Swift GLX 1.2 AT  2021.0  5.650000e+08   \n",
       "\n",
       "   assemble_place     series  driven kms  num_of_door  num_of_seat  \\\n",
       "0             1.0        SUV     65000.0          5.0          5.0   \n",
       "1             0.0        SUV     50000.0          5.0          7.0   \n",
       "2             0.0      Sedan     51000.0          4.0          5.0   \n",
       "3             0.0      Sedan     38000.0          4.0          5.0   \n",
       "4             1.0  Hatchback      6000.0          5.0          5.0   \n",
       "\n",
       "  engine_type  transmission  ... series_Hatchback series_SUV series_Sedan  \\\n",
       "0        Xăng             1  ...            False       True        False   \n",
       "1        Xăng             1  ...            False       True        False   \n",
       "2        Xăng             1  ...            False      False         True   \n",
       "3        Xăng             1  ...            False      False         True   \n",
       "4        Xăng             1  ...             True      False        False   \n",
       "\n",
       "   series_Truck  series_Van/Minivan  series_Wagon  engine_type_Dầu  \\\n",
       "0         False               False         False            False   \n",
       "1         False               False         False            False   \n",
       "2         False               False         False            False   \n",
       "3         False               False         False            False   \n",
       "4         False               False         False            False   \n",
       "\n",
       "   engine_type_Hybrid  engine_type_Xăng  engine_type_Điện  \n",
       "0               False              True             False  \n",
       "1               False              True             False  \n",
       "2               False              True             False  \n",
       "3               False              True             False  \n",
       "4               False              True             False  \n",
       "\n",
       "[5 rows x 30 columns]"
      ]
     },
     "execution_count": 1357,
     "metadata": {},
     "output_type": "execute_result"
    }
   ],
   "source": [
    "save_df.head()"
   ]
  },
  {
   "cell_type": "markdown",
   "metadata": {
    "collapsed": false
   },
   "source": [
    "# Sử dụng Standardization để chuẩn hóa dữ liệu"
   ]
  },
  {
   "cell_type": "code",
   "execution_count": 1358,
   "metadata": {
    "collapsed": false,
    "is_executing": true
   },
   "outputs": [],
   "source": [
    "scaler = StandardScaler()\n",
    "df=save_df.copy()\n",
    "#fit year và driven kms\n",
    "scaler.fit(df[['driven kms','num_of_seat']])\n",
    "df[['driven kms','num_of_seat']] = scaler.transform(df[['driven kms','num_of_seat']])"
   ]
  },
  {
   "cell_type": "code",
   "execution_count": 1359,
   "metadata": {
    "collapsed": false,
    "is_executing": true
   },
   "outputs": [
    {
     "data": {
      "text/html": [
       "<div>\n",
       "<style scoped>\n",
       "    .dataframe tbody tr th:only-of-type {\n",
       "        vertical-align: middle;\n",
       "    }\n",
       "\n",
       "    .dataframe tbody tr th {\n",
       "        vertical-align: top;\n",
       "    }\n",
       "\n",
       "    .dataframe thead th {\n",
       "        text-align: right;\n",
       "    }\n",
       "</style>\n",
       "<table border=\"1\" class=\"dataframe\">\n",
       "  <thead>\n",
       "    <tr style=\"text-align: right;\">\n",
       "      <th></th>\n",
       "      <th>car_name</th>\n",
       "      <th>year</th>\n",
       "      <th>price</th>\n",
       "      <th>assemble_place</th>\n",
       "      <th>series</th>\n",
       "      <th>driven kms</th>\n",
       "      <th>num_of_door</th>\n",
       "      <th>num_of_seat</th>\n",
       "      <th>engine_type</th>\n",
       "      <th>transmission</th>\n",
       "      <th>...</th>\n",
       "      <th>series_Hatchback</th>\n",
       "      <th>series_SUV</th>\n",
       "      <th>series_Sedan</th>\n",
       "      <th>series_Truck</th>\n",
       "      <th>series_Van/Minivan</th>\n",
       "      <th>series_Wagon</th>\n",
       "      <th>engine_type_Dầu</th>\n",
       "      <th>engine_type_Hybrid</th>\n",
       "      <th>engine_type_Xăng</th>\n",
       "      <th>engine_type_Điện</th>\n",
       "    </tr>\n",
       "  </thead>\n",
       "  <tbody>\n",
       "    <tr>\n",
       "      <th>0</th>\n",
       "      <td>LandRover Range Rover HSE 3.0</td>\n",
       "      <td>2015.0</td>\n",
       "      <td>2.700000e+09</td>\n",
       "      <td>1.0</td>\n",
       "      <td>SUV</td>\n",
       "      <td>-0.014085</td>\n",
       "      <td>5.0</td>\n",
       "      <td>-0.316224</td>\n",
       "      <td>Xăng</td>\n",
       "      <td>1</td>\n",
       "      <td>...</td>\n",
       "      <td>False</td>\n",
       "      <td>True</td>\n",
       "      <td>False</td>\n",
       "      <td>False</td>\n",
       "      <td>False</td>\n",
       "      <td>False</td>\n",
       "      <td>False</td>\n",
       "      <td>False</td>\n",
       "      <td>True</td>\n",
       "      <td>False</td>\n",
       "    </tr>\n",
       "    <tr>\n",
       "      <th>1</th>\n",
       "      <td>Mitsubishi Outlander 2.0 CVT Premium</td>\n",
       "      <td>2018.0</td>\n",
       "      <td>6.660000e+08</td>\n",
       "      <td>0.0</td>\n",
       "      <td>SUV</td>\n",
       "      <td>-0.014557</td>\n",
       "      <td>5.0</td>\n",
       "      <td>0.864494</td>\n",
       "      <td>Xăng</td>\n",
       "      <td>1</td>\n",
       "      <td>...</td>\n",
       "      <td>False</td>\n",
       "      <td>True</td>\n",
       "      <td>False</td>\n",
       "      <td>False</td>\n",
       "      <td>False</td>\n",
       "      <td>False</td>\n",
       "      <td>False</td>\n",
       "      <td>False</td>\n",
       "      <td>True</td>\n",
       "      <td>False</td>\n",
       "    </tr>\n",
       "    <tr>\n",
       "      <th>2</th>\n",
       "      <td>Mazda 3 1.5L Luxury</td>\n",
       "      <td>2019.0</td>\n",
       "      <td>4.900000e+08</td>\n",
       "      <td>0.0</td>\n",
       "      <td>Sedan</td>\n",
       "      <td>-0.014526</td>\n",
       "      <td>4.0</td>\n",
       "      <td>-0.316224</td>\n",
       "      <td>Xăng</td>\n",
       "      <td>1</td>\n",
       "      <td>...</td>\n",
       "      <td>False</td>\n",
       "      <td>False</td>\n",
       "      <td>True</td>\n",
       "      <td>False</td>\n",
       "      <td>False</td>\n",
       "      <td>False</td>\n",
       "      <td>False</td>\n",
       "      <td>False</td>\n",
       "      <td>True</td>\n",
       "      <td>False</td>\n",
       "    </tr>\n",
       "    <tr>\n",
       "      <th>3</th>\n",
       "      <td>Mazda 2 1.5 AT</td>\n",
       "      <td>2015.0</td>\n",
       "      <td>3.650000e+08</td>\n",
       "      <td>0.0</td>\n",
       "      <td>Sedan</td>\n",
       "      <td>-0.014936</td>\n",
       "      <td>4.0</td>\n",
       "      <td>-0.316224</td>\n",
       "      <td>Xăng</td>\n",
       "      <td>1</td>\n",
       "      <td>...</td>\n",
       "      <td>False</td>\n",
       "      <td>False</td>\n",
       "      <td>True</td>\n",
       "      <td>False</td>\n",
       "      <td>False</td>\n",
       "      <td>False</td>\n",
       "      <td>False</td>\n",
       "      <td>False</td>\n",
       "      <td>True</td>\n",
       "      <td>False</td>\n",
       "    </tr>\n",
       "    <tr>\n",
       "      <th>4</th>\n",
       "      <td>Suzuki Swift GLX 1.2 AT</td>\n",
       "      <td>2021.0</td>\n",
       "      <td>5.650000e+08</td>\n",
       "      <td>1.0</td>\n",
       "      <td>Hatchback</td>\n",
       "      <td>-0.015945</td>\n",
       "      <td>5.0</td>\n",
       "      <td>-0.316224</td>\n",
       "      <td>Xăng</td>\n",
       "      <td>1</td>\n",
       "      <td>...</td>\n",
       "      <td>True</td>\n",
       "      <td>False</td>\n",
       "      <td>False</td>\n",
       "      <td>False</td>\n",
       "      <td>False</td>\n",
       "      <td>False</td>\n",
       "      <td>False</td>\n",
       "      <td>False</td>\n",
       "      <td>True</td>\n",
       "      <td>False</td>\n",
       "    </tr>\n",
       "  </tbody>\n",
       "</table>\n",
       "<p>5 rows × 30 columns</p>\n",
       "</div>"
      ],
      "text/plain": [
       "                                car_name    year         price  \\\n",
       "0          LandRover Range Rover HSE 3.0  2015.0  2.700000e+09   \n",
       "1   Mitsubishi Outlander 2.0 CVT Premium  2018.0  6.660000e+08   \n",
       "2                    Mazda 3 1.5L Luxury  2019.0  4.900000e+08   \n",
       "3                         Mazda 2 1.5 AT  2015.0  3.650000e+08   \n",
       "4                Suzuki Swift GLX 1.2 AT  2021.0  5.650000e+08   \n",
       "\n",
       "   assemble_place     series  driven kms  num_of_door  num_of_seat  \\\n",
       "0             1.0        SUV   -0.014085          5.0    -0.316224   \n",
       "1             0.0        SUV   -0.014557          5.0     0.864494   \n",
       "2             0.0      Sedan   -0.014526          4.0    -0.316224   \n",
       "3             0.0      Sedan   -0.014936          4.0    -0.316224   \n",
       "4             1.0  Hatchback   -0.015945          5.0    -0.316224   \n",
       "\n",
       "  engine_type  transmission  ... series_Hatchback series_SUV series_Sedan  \\\n",
       "0        Xăng             1  ...            False       True        False   \n",
       "1        Xăng             1  ...            False       True        False   \n",
       "2        Xăng             1  ...            False      False         True   \n",
       "3        Xăng             1  ...            False      False         True   \n",
       "4        Xăng             1  ...             True      False        False   \n",
       "\n",
       "   series_Truck  series_Van/Minivan  series_Wagon  engine_type_Dầu  \\\n",
       "0         False               False         False            False   \n",
       "1         False               False         False            False   \n",
       "2         False               False         False            False   \n",
       "3         False               False         False            False   \n",
       "4         False               False         False            False   \n",
       "\n",
       "   engine_type_Hybrid  engine_type_Xăng  engine_type_Điện  \n",
       "0               False              True             False  \n",
       "1               False              True             False  \n",
       "2               False              True             False  \n",
       "3               False              True             False  \n",
       "4               False              True             False  \n",
       "\n",
       "[5 rows x 30 columns]"
      ]
     },
     "execution_count": 1359,
     "metadata": {},
     "output_type": "execute_result"
    }
   ],
   "source": [
    "df.head()"
   ]
  },
  {
   "cell_type": "markdown",
   "metadata": {
    "collapsed": false
   },
   "source": [
    "# Sử dụng hồi quy tuyến tính để dự đoán giá xe"
   ]
  },
  {
   "cell_type": "code",
   "execution_count": 1360,
   "metadata": {
    "collapsed": false,
    "is_executing": true
   },
   "outputs": [
    {
     "data": {
      "text/html": [
       "<div>\n",
       "<style scoped>\n",
       "    .dataframe tbody tr th:only-of-type {\n",
       "        vertical-align: middle;\n",
       "    }\n",
       "\n",
       "    .dataframe tbody tr th {\n",
       "        vertical-align: top;\n",
       "    }\n",
       "\n",
       "    .dataframe thead th {\n",
       "        text-align: right;\n",
       "    }\n",
       "</style>\n",
       "<table border=\"1\" class=\"dataframe\">\n",
       "  <thead>\n",
       "    <tr style=\"text-align: right;\">\n",
       "      <th></th>\n",
       "      <th>car_name</th>\n",
       "      <th>year</th>\n",
       "      <th>price</th>\n",
       "      <th>assemble_place</th>\n",
       "      <th>series</th>\n",
       "      <th>driven kms</th>\n",
       "      <th>num_of_door</th>\n",
       "      <th>num_of_seat</th>\n",
       "      <th>engine_type</th>\n",
       "      <th>transmission</th>\n",
       "      <th>...</th>\n",
       "      <th>series_Hatchback</th>\n",
       "      <th>series_SUV</th>\n",
       "      <th>series_Sedan</th>\n",
       "      <th>series_Truck</th>\n",
       "      <th>series_Van/Minivan</th>\n",
       "      <th>series_Wagon</th>\n",
       "      <th>engine_type_Dầu</th>\n",
       "      <th>engine_type_Hybrid</th>\n",
       "      <th>engine_type_Xăng</th>\n",
       "      <th>engine_type_Điện</th>\n",
       "    </tr>\n",
       "  </thead>\n",
       "  <tbody>\n",
       "    <tr>\n",
       "      <th>0</th>\n",
       "      <td>LandRover Range Rover HSE 3.0</td>\n",
       "      <td>2015.0</td>\n",
       "      <td>2.700000e+09</td>\n",
       "      <td>1.0</td>\n",
       "      <td>SUV</td>\n",
       "      <td>-0.014085</td>\n",
       "      <td>5.0</td>\n",
       "      <td>-0.316224</td>\n",
       "      <td>Xăng</td>\n",
       "      <td>1</td>\n",
       "      <td>...</td>\n",
       "      <td>False</td>\n",
       "      <td>True</td>\n",
       "      <td>False</td>\n",
       "      <td>False</td>\n",
       "      <td>False</td>\n",
       "      <td>False</td>\n",
       "      <td>False</td>\n",
       "      <td>False</td>\n",
       "      <td>True</td>\n",
       "      <td>False</td>\n",
       "    </tr>\n",
       "    <tr>\n",
       "      <th>1</th>\n",
       "      <td>Mitsubishi Outlander 2.0 CVT Premium</td>\n",
       "      <td>2018.0</td>\n",
       "      <td>6.660000e+08</td>\n",
       "      <td>0.0</td>\n",
       "      <td>SUV</td>\n",
       "      <td>-0.014557</td>\n",
       "      <td>5.0</td>\n",
       "      <td>0.864494</td>\n",
       "      <td>Xăng</td>\n",
       "      <td>1</td>\n",
       "      <td>...</td>\n",
       "      <td>False</td>\n",
       "      <td>True</td>\n",
       "      <td>False</td>\n",
       "      <td>False</td>\n",
       "      <td>False</td>\n",
       "      <td>False</td>\n",
       "      <td>False</td>\n",
       "      <td>False</td>\n",
       "      <td>True</td>\n",
       "      <td>False</td>\n",
       "    </tr>\n",
       "    <tr>\n",
       "      <th>2</th>\n",
       "      <td>Mazda 3 1.5L Luxury</td>\n",
       "      <td>2019.0</td>\n",
       "      <td>4.900000e+08</td>\n",
       "      <td>0.0</td>\n",
       "      <td>Sedan</td>\n",
       "      <td>-0.014526</td>\n",
       "      <td>4.0</td>\n",
       "      <td>-0.316224</td>\n",
       "      <td>Xăng</td>\n",
       "      <td>1</td>\n",
       "      <td>...</td>\n",
       "      <td>False</td>\n",
       "      <td>False</td>\n",
       "      <td>True</td>\n",
       "      <td>False</td>\n",
       "      <td>False</td>\n",
       "      <td>False</td>\n",
       "      <td>False</td>\n",
       "      <td>False</td>\n",
       "      <td>True</td>\n",
       "      <td>False</td>\n",
       "    </tr>\n",
       "    <tr>\n",
       "      <th>3</th>\n",
       "      <td>Mazda 2 1.5 AT</td>\n",
       "      <td>2015.0</td>\n",
       "      <td>3.650000e+08</td>\n",
       "      <td>0.0</td>\n",
       "      <td>Sedan</td>\n",
       "      <td>-0.014936</td>\n",
       "      <td>4.0</td>\n",
       "      <td>-0.316224</td>\n",
       "      <td>Xăng</td>\n",
       "      <td>1</td>\n",
       "      <td>...</td>\n",
       "      <td>False</td>\n",
       "      <td>False</td>\n",
       "      <td>True</td>\n",
       "      <td>False</td>\n",
       "      <td>False</td>\n",
       "      <td>False</td>\n",
       "      <td>False</td>\n",
       "      <td>False</td>\n",
       "      <td>True</td>\n",
       "      <td>False</td>\n",
       "    </tr>\n",
       "    <tr>\n",
       "      <th>4</th>\n",
       "      <td>Suzuki Swift GLX 1.2 AT</td>\n",
       "      <td>2021.0</td>\n",
       "      <td>5.650000e+08</td>\n",
       "      <td>1.0</td>\n",
       "      <td>Hatchback</td>\n",
       "      <td>-0.015945</td>\n",
       "      <td>5.0</td>\n",
       "      <td>-0.316224</td>\n",
       "      <td>Xăng</td>\n",
       "      <td>1</td>\n",
       "      <td>...</td>\n",
       "      <td>True</td>\n",
       "      <td>False</td>\n",
       "      <td>False</td>\n",
       "      <td>False</td>\n",
       "      <td>False</td>\n",
       "      <td>False</td>\n",
       "      <td>False</td>\n",
       "      <td>False</td>\n",
       "      <td>True</td>\n",
       "      <td>False</td>\n",
       "    </tr>\n",
       "  </tbody>\n",
       "</table>\n",
       "<p>5 rows × 30 columns</p>\n",
       "</div>"
      ],
      "text/plain": [
       "                                car_name    year         price  \\\n",
       "0          LandRover Range Rover HSE 3.0  2015.0  2.700000e+09   \n",
       "1   Mitsubishi Outlander 2.0 CVT Premium  2018.0  6.660000e+08   \n",
       "2                    Mazda 3 1.5L Luxury  2019.0  4.900000e+08   \n",
       "3                         Mazda 2 1.5 AT  2015.0  3.650000e+08   \n",
       "4                Suzuki Swift GLX 1.2 AT  2021.0  5.650000e+08   \n",
       "\n",
       "   assemble_place     series  driven kms  num_of_door  num_of_seat  \\\n",
       "0             1.0        SUV   -0.014085          5.0    -0.316224   \n",
       "1             0.0        SUV   -0.014557          5.0     0.864494   \n",
       "2             0.0      Sedan   -0.014526          4.0    -0.316224   \n",
       "3             0.0      Sedan   -0.014936          4.0    -0.316224   \n",
       "4             1.0  Hatchback   -0.015945          5.0    -0.316224   \n",
       "\n",
       "  engine_type  transmission  ... series_Hatchback series_SUV series_Sedan  \\\n",
       "0        Xăng             1  ...            False       True        False   \n",
       "1        Xăng             1  ...            False       True        False   \n",
       "2        Xăng             1  ...            False      False         True   \n",
       "3        Xăng             1  ...            False      False         True   \n",
       "4        Xăng             1  ...             True      False        False   \n",
       "\n",
       "   series_Truck  series_Van/Minivan  series_Wagon  engine_type_Dầu  \\\n",
       "0         False               False         False            False   \n",
       "1         False               False         False            False   \n",
       "2         False               False         False            False   \n",
       "3         False               False         False            False   \n",
       "4         False               False         False            False   \n",
       "\n",
       "   engine_type_Hybrid  engine_type_Xăng  engine_type_Điện  \n",
       "0               False              True             False  \n",
       "1               False              True             False  \n",
       "2               False              True             False  \n",
       "3               False              True             False  \n",
       "4               False              True             False  \n",
       "\n",
       "[5 rows x 30 columns]"
      ]
     },
     "execution_count": 1360,
     "metadata": {},
     "output_type": "execute_result"
    }
   ],
   "source": [
    "df.head()"
   ]
  },
  {
   "cell_type": "code",
   "execution_count": 1361,
   "metadata": {
    "collapsed": false,
    "is_executing": true
   },
   "outputs": [],
   "source": [
    "df.drop(['model', 'series', 'engine_type','car_name','url'], axis=1, inplace=True)"
   ]
  },
  {
   "cell_type": "code",
   "execution_count": 1362,
   "metadata": {
    "collapsed": false,
    "is_executing": true
   },
   "outputs": [
    {
     "data": {
      "text/html": [
       "<div>\n",
       "<style scoped>\n",
       "    .dataframe tbody tr th:only-of-type {\n",
       "        vertical-align: middle;\n",
       "    }\n",
       "\n",
       "    .dataframe tbody tr th {\n",
       "        vertical-align: top;\n",
       "    }\n",
       "\n",
       "    .dataframe thead th {\n",
       "        text-align: right;\n",
       "    }\n",
       "</style>\n",
       "<table border=\"1\" class=\"dataframe\">\n",
       "  <thead>\n",
       "    <tr style=\"text-align: right;\">\n",
       "      <th></th>\n",
       "      <th>year</th>\n",
       "      <th>price</th>\n",
       "      <th>assemble_place</th>\n",
       "      <th>driven kms</th>\n",
       "      <th>num_of_door</th>\n",
       "      <th>num_of_seat</th>\n",
       "      <th>transmission</th>\n",
       "      <th>brand_segment</th>\n",
       "      <th>brand_HIGH END CAR</th>\n",
       "      <th>brand_LOW END CAR</th>\n",
       "      <th>...</th>\n",
       "      <th>series_Hatchback</th>\n",
       "      <th>series_SUV</th>\n",
       "      <th>series_Sedan</th>\n",
       "      <th>series_Truck</th>\n",
       "      <th>series_Van/Minivan</th>\n",
       "      <th>series_Wagon</th>\n",
       "      <th>engine_type_Dầu</th>\n",
       "      <th>engine_type_Hybrid</th>\n",
       "      <th>engine_type_Xăng</th>\n",
       "      <th>engine_type_Điện</th>\n",
       "    </tr>\n",
       "  </thead>\n",
       "  <tbody>\n",
       "    <tr>\n",
       "      <th>0</th>\n",
       "      <td>2015.0</td>\n",
       "      <td>2.700000e+09</td>\n",
       "      <td>1.0</td>\n",
       "      <td>-0.014085</td>\n",
       "      <td>5.0</td>\n",
       "      <td>-0.316224</td>\n",
       "      <td>1</td>\n",
       "      <td>3</td>\n",
       "      <td>True</td>\n",
       "      <td>False</td>\n",
       "      <td>...</td>\n",
       "      <td>False</td>\n",
       "      <td>True</td>\n",
       "      <td>False</td>\n",
       "      <td>False</td>\n",
       "      <td>False</td>\n",
       "      <td>False</td>\n",
       "      <td>False</td>\n",
       "      <td>False</td>\n",
       "      <td>True</td>\n",
       "      <td>False</td>\n",
       "    </tr>\n",
       "    <tr>\n",
       "      <th>1</th>\n",
       "      <td>2018.0</td>\n",
       "      <td>6.660000e+08</td>\n",
       "      <td>0.0</td>\n",
       "      <td>-0.014557</td>\n",
       "      <td>5.0</td>\n",
       "      <td>0.864494</td>\n",
       "      <td>1</td>\n",
       "      <td>1</td>\n",
       "      <td>False</td>\n",
       "      <td>False</td>\n",
       "      <td>...</td>\n",
       "      <td>False</td>\n",
       "      <td>True</td>\n",
       "      <td>False</td>\n",
       "      <td>False</td>\n",
       "      <td>False</td>\n",
       "      <td>False</td>\n",
       "      <td>False</td>\n",
       "      <td>False</td>\n",
       "      <td>True</td>\n",
       "      <td>False</td>\n",
       "    </tr>\n",
       "    <tr>\n",
       "      <th>2</th>\n",
       "      <td>2019.0</td>\n",
       "      <td>4.900000e+08</td>\n",
       "      <td>0.0</td>\n",
       "      <td>-0.014526</td>\n",
       "      <td>4.0</td>\n",
       "      <td>-0.316224</td>\n",
       "      <td>1</td>\n",
       "      <td>1</td>\n",
       "      <td>False</td>\n",
       "      <td>True</td>\n",
       "      <td>...</td>\n",
       "      <td>False</td>\n",
       "      <td>False</td>\n",
       "      <td>True</td>\n",
       "      <td>False</td>\n",
       "      <td>False</td>\n",
       "      <td>False</td>\n",
       "      <td>False</td>\n",
       "      <td>False</td>\n",
       "      <td>True</td>\n",
       "      <td>False</td>\n",
       "    </tr>\n",
       "    <tr>\n",
       "      <th>3</th>\n",
       "      <td>2015.0</td>\n",
       "      <td>3.650000e+08</td>\n",
       "      <td>0.0</td>\n",
       "      <td>-0.014936</td>\n",
       "      <td>4.0</td>\n",
       "      <td>-0.316224</td>\n",
       "      <td>1</td>\n",
       "      <td>1</td>\n",
       "      <td>False</td>\n",
       "      <td>True</td>\n",
       "      <td>...</td>\n",
       "      <td>False</td>\n",
       "      <td>False</td>\n",
       "      <td>True</td>\n",
       "      <td>False</td>\n",
       "      <td>False</td>\n",
       "      <td>False</td>\n",
       "      <td>False</td>\n",
       "      <td>False</td>\n",
       "      <td>True</td>\n",
       "      <td>False</td>\n",
       "    </tr>\n",
       "    <tr>\n",
       "      <th>4</th>\n",
       "      <td>2021.0</td>\n",
       "      <td>5.650000e+08</td>\n",
       "      <td>1.0</td>\n",
       "      <td>-0.015945</td>\n",
       "      <td>5.0</td>\n",
       "      <td>-0.316224</td>\n",
       "      <td>1</td>\n",
       "      <td>1</td>\n",
       "      <td>False</td>\n",
       "      <td>True</td>\n",
       "      <td>...</td>\n",
       "      <td>True</td>\n",
       "      <td>False</td>\n",
       "      <td>False</td>\n",
       "      <td>False</td>\n",
       "      <td>False</td>\n",
       "      <td>False</td>\n",
       "      <td>False</td>\n",
       "      <td>False</td>\n",
       "      <td>True</td>\n",
       "      <td>False</td>\n",
       "    </tr>\n",
       "  </tbody>\n",
       "</table>\n",
       "<p>5 rows × 25 columns</p>\n",
       "</div>"
      ],
      "text/plain": [
       "     year         price  assemble_place  driven kms  num_of_door  num_of_seat  \\\n",
       "0  2015.0  2.700000e+09             1.0   -0.014085          5.0    -0.316224   \n",
       "1  2018.0  6.660000e+08             0.0   -0.014557          5.0     0.864494   \n",
       "2  2019.0  4.900000e+08             0.0   -0.014526          4.0    -0.316224   \n",
       "3  2015.0  3.650000e+08             0.0   -0.014936          4.0    -0.316224   \n",
       "4  2021.0  5.650000e+08             1.0   -0.015945          5.0    -0.316224   \n",
       "\n",
       "   transmission brand_segment  brand_HIGH END CAR  brand_LOW END CAR  ...  \\\n",
       "0             1             3                True              False  ...   \n",
       "1             1             1               False              False  ...   \n",
       "2             1             1               False               True  ...   \n",
       "3             1             1               False               True  ...   \n",
       "4             1             1               False               True  ...   \n",
       "\n",
       "   series_Hatchback  series_SUV  series_Sedan  series_Truck  \\\n",
       "0             False        True         False         False   \n",
       "1             False        True         False         False   \n",
       "2             False       False          True         False   \n",
       "3             False       False          True         False   \n",
       "4              True       False         False         False   \n",
       "\n",
       "   series_Van/Minivan  series_Wagon  engine_type_Dầu  engine_type_Hybrid  \\\n",
       "0               False         False            False               False   \n",
       "1               False         False            False               False   \n",
       "2               False         False            False               False   \n",
       "3               False         False            False               False   \n",
       "4               False         False            False               False   \n",
       "\n",
       "   engine_type_Xăng  engine_type_Điện  \n",
       "0              True             False  \n",
       "1              True             False  \n",
       "2              True             False  \n",
       "3              True             False  \n",
       "4              True             False  \n",
       "\n",
       "[5 rows x 25 columns]"
      ]
     },
     "execution_count": 1362,
     "metadata": {},
     "output_type": "execute_result"
    }
   ],
   "source": [
    "df.head()"
   ]
  },
  {
   "cell_type": "code",
   "execution_count": 1363,
   "metadata": {
    "collapsed": false,
    "is_executing": true
   },
   "outputs": [],
   "source": [
    "df.dropna(inplace=True)"
   ]
  },
  {
   "cell_type": "code",
   "execution_count": 1364,
   "metadata": {},
   "outputs": [
    {
     "name": "stdout",
     "output_type": "stream",
     "text": [
      "0.6985388117448227\n"
     ]
    }
   ],
   "source": [
    "model = LinearRegression()\n",
    "X = df.drop('price', axis=1)\n",
    "y = df['price']\n",
    "X_train, X_test, y_train, y_test = train_test_split(X, y, test_size=0.2, random_state=42)\n",
    "model.fit(X_train, y_train)\n",
    "y_pred = model.predict(X_test)\n",
    "print(model.score(X_test, y_test))\n"
   ]
  },
  {
   "cell_type": "code",
   "execution_count": 1269,
   "metadata": {},
   "outputs": [],
   "source": [
    "# chia price thành 3 tập, tập một có price < 200 triệu, tập 2 từ 200 triệu đến 2 tỷ, tập 3 từ 2 tỷ trở lên và train model cho từng tập\n",
    "labels = [0, 1, 2, 3]\n",
    "cut_bins = [0, 300000000, 1200000000, 3000000000,float('inf')]\n",
    "df['price_segment'] = pd.cut(df['price'], bins=cut_bins, labels=labels)\n",
    "df['price_segment'].value_counts()\n",
    "\n",
    "df_0 = df[df['price_segment'] == 0]\n",
    "df_1 = df[df['price_segment'] == 1]\n",
    "df_2 = df[df['price_segment'] == 2]\n",
    "df_3 = df[df['price_segment'] == 3]\n"
   ]
  },
  {
   "cell_type": "code",
   "execution_count": 1270,
   "metadata": {},
   "outputs": [
    {
     "data": {
      "text/html": [
       "<div>\n",
       "<style scoped>\n",
       "    .dataframe tbody tr th:only-of-type {\n",
       "        vertical-align: middle;\n",
       "    }\n",
       "\n",
       "    .dataframe tbody tr th {\n",
       "        vertical-align: top;\n",
       "    }\n",
       "\n",
       "    .dataframe thead th {\n",
       "        text-align: right;\n",
       "    }\n",
       "</style>\n",
       "<table border=\"1\" class=\"dataframe\">\n",
       "  <thead>\n",
       "    <tr style=\"text-align: right;\">\n",
       "      <th></th>\n",
       "      <th>year</th>\n",
       "      <th>price</th>\n",
       "      <th>assemble_place</th>\n",
       "      <th>driven kms</th>\n",
       "      <th>num_of_door</th>\n",
       "      <th>num_of_seat</th>\n",
       "      <th>transmission</th>\n",
       "      <th>brand_segment</th>\n",
       "      <th>brand_HIGH END CAR</th>\n",
       "      <th>brand_LOW END CAR</th>\n",
       "      <th>...</th>\n",
       "      <th>series_SUV</th>\n",
       "      <th>series_Sedan</th>\n",
       "      <th>series_Truck</th>\n",
       "      <th>series_Van/Minivan</th>\n",
       "      <th>series_Wagon</th>\n",
       "      <th>engine_type_Dầu</th>\n",
       "      <th>engine_type_Hybrid</th>\n",
       "      <th>engine_type_Xăng</th>\n",
       "      <th>engine_type_Điện</th>\n",
       "      <th>price_segment</th>\n",
       "    </tr>\n",
       "  </thead>\n",
       "  <tbody>\n",
       "    <tr>\n",
       "      <th>0</th>\n",
       "      <td>2015.0</td>\n",
       "      <td>2.700000e+09</td>\n",
       "      <td>1.0</td>\n",
       "      <td>-0.014085</td>\n",
       "      <td>5.0</td>\n",
       "      <td>-0.316224</td>\n",
       "      <td>1</td>\n",
       "      <td>3</td>\n",
       "      <td>False</td>\n",
       "      <td>True</td>\n",
       "      <td>...</td>\n",
       "      <td>True</td>\n",
       "      <td>False</td>\n",
       "      <td>False</td>\n",
       "      <td>False</td>\n",
       "      <td>False</td>\n",
       "      <td>False</td>\n",
       "      <td>False</td>\n",
       "      <td>True</td>\n",
       "      <td>False</td>\n",
       "      <td>2</td>\n",
       "    </tr>\n",
       "    <tr>\n",
       "      <th>1</th>\n",
       "      <td>2018.0</td>\n",
       "      <td>6.660000e+08</td>\n",
       "      <td>0.0</td>\n",
       "      <td>-0.014557</td>\n",
       "      <td>5.0</td>\n",
       "      <td>0.864494</td>\n",
       "      <td>1</td>\n",
       "      <td>1</td>\n",
       "      <td>False</td>\n",
       "      <td>False</td>\n",
       "      <td>...</td>\n",
       "      <td>True</td>\n",
       "      <td>False</td>\n",
       "      <td>False</td>\n",
       "      <td>False</td>\n",
       "      <td>False</td>\n",
       "      <td>False</td>\n",
       "      <td>False</td>\n",
       "      <td>True</td>\n",
       "      <td>False</td>\n",
       "      <td>1</td>\n",
       "    </tr>\n",
       "    <tr>\n",
       "      <th>2</th>\n",
       "      <td>2019.0</td>\n",
       "      <td>4.900000e+08</td>\n",
       "      <td>0.0</td>\n",
       "      <td>-0.014526</td>\n",
       "      <td>4.0</td>\n",
       "      <td>-0.316224</td>\n",
       "      <td>1</td>\n",
       "      <td>1</td>\n",
       "      <td>False</td>\n",
       "      <td>True</td>\n",
       "      <td>...</td>\n",
       "      <td>False</td>\n",
       "      <td>True</td>\n",
       "      <td>False</td>\n",
       "      <td>False</td>\n",
       "      <td>False</td>\n",
       "      <td>False</td>\n",
       "      <td>False</td>\n",
       "      <td>True</td>\n",
       "      <td>False</td>\n",
       "      <td>1</td>\n",
       "    </tr>\n",
       "    <tr>\n",
       "      <th>3</th>\n",
       "      <td>2015.0</td>\n",
       "      <td>3.650000e+08</td>\n",
       "      <td>0.0</td>\n",
       "      <td>-0.014936</td>\n",
       "      <td>4.0</td>\n",
       "      <td>-0.316224</td>\n",
       "      <td>1</td>\n",
       "      <td>1</td>\n",
       "      <td>False</td>\n",
       "      <td>True</td>\n",
       "      <td>...</td>\n",
       "      <td>False</td>\n",
       "      <td>True</td>\n",
       "      <td>False</td>\n",
       "      <td>False</td>\n",
       "      <td>False</td>\n",
       "      <td>False</td>\n",
       "      <td>False</td>\n",
       "      <td>True</td>\n",
       "      <td>False</td>\n",
       "      <td>1</td>\n",
       "    </tr>\n",
       "    <tr>\n",
       "      <th>4</th>\n",
       "      <td>2021.0</td>\n",
       "      <td>5.650000e+08</td>\n",
       "      <td>1.0</td>\n",
       "      <td>-0.015945</td>\n",
       "      <td>5.0</td>\n",
       "      <td>-0.316224</td>\n",
       "      <td>1</td>\n",
       "      <td>1</td>\n",
       "      <td>False</td>\n",
       "      <td>True</td>\n",
       "      <td>...</td>\n",
       "      <td>False</td>\n",
       "      <td>False</td>\n",
       "      <td>False</td>\n",
       "      <td>False</td>\n",
       "      <td>False</td>\n",
       "      <td>False</td>\n",
       "      <td>False</td>\n",
       "      <td>True</td>\n",
       "      <td>False</td>\n",
       "      <td>1</td>\n",
       "    </tr>\n",
       "  </tbody>\n",
       "</table>\n",
       "<p>5 rows × 26 columns</p>\n",
       "</div>"
      ],
      "text/plain": [
       "     year         price  assemble_place  driven kms  num_of_door  num_of_seat  \\\n",
       "0  2015.0  2.700000e+09             1.0   -0.014085          5.0    -0.316224   \n",
       "1  2018.0  6.660000e+08             0.0   -0.014557          5.0     0.864494   \n",
       "2  2019.0  4.900000e+08             0.0   -0.014526          4.0    -0.316224   \n",
       "3  2015.0  3.650000e+08             0.0   -0.014936          4.0    -0.316224   \n",
       "4  2021.0  5.650000e+08             1.0   -0.015945          5.0    -0.316224   \n",
       "\n",
       "   transmission brand_segment  brand_HIGH END CAR  brand_LOW END CAR  ...  \\\n",
       "0             1             3               False               True  ...   \n",
       "1             1             1               False              False  ...   \n",
       "2             1             1               False               True  ...   \n",
       "3             1             1               False               True  ...   \n",
       "4             1             1               False               True  ...   \n",
       "\n",
       "   series_SUV  series_Sedan  series_Truck  series_Van/Minivan  series_Wagon  \\\n",
       "0        True         False         False               False         False   \n",
       "1        True         False         False               False         False   \n",
       "2       False          True         False               False         False   \n",
       "3       False          True         False               False         False   \n",
       "4       False         False         False               False         False   \n",
       "\n",
       "   engine_type_Dầu  engine_type_Hybrid  engine_type_Xăng  engine_type_Điện  \\\n",
       "0            False               False              True             False   \n",
       "1            False               False              True             False   \n",
       "2            False               False              True             False   \n",
       "3            False               False              True             False   \n",
       "4            False               False              True             False   \n",
       "\n",
       "   price_segment  \n",
       "0              2  \n",
       "1              1  \n",
       "2              1  \n",
       "3              1  \n",
       "4              1  \n",
       "\n",
       "[5 rows x 26 columns]"
      ]
     },
     "execution_count": 1270,
     "metadata": {},
     "output_type": "execute_result"
    }
   ],
   "source": [
    "df.head()"
   ]
  },
  {
   "cell_type": "code",
   "execution_count": 1271,
   "metadata": {
    "collapsed": false,
    "is_executing": true
   },
   "outputs": [],
   "source": [
    "model_0 = LinearRegression()\n",
    "model_1 = LinearRegression()\n",
    "model_2 = LinearRegression()\n",
    "model_3 = LinearRegression()"
   ]
  },
  {
   "cell_type": "code",
   "execution_count": 1272,
   "metadata": {
    "collapsed": false,
    "is_executing": true
   },
   "outputs": [],
   "source": [
    "X_0 = df_0.drop(['price', 'price_segment'], axis=1)\n",
    "y_0 = df_0['price']\n",
    "X_1 = df_1.drop(['price', 'price_segment'], axis=1)\n",
    "y_1 = df_1['price']\n",
    "X_2 = df_2.drop(['price', 'price_segment'], axis=1)\n",
    "y_2 = df_2['price']\n",
    "X_3 = df_3.drop(['price', 'price_segment'], axis=1)\n",
    "y_3 = df_3['price']\n",
    "X0_train, X0_test, y0_train, y0_test = train_test_split(X_0, y_0, test_size=0.2, random_state=42)\n",
    "X1_train, X1_test, y1_train, y1_test = train_test_split(X_1, y_1, test_size=0.2, random_state=42)\n",
    "X2_train, X2_test, y2_train, y2_test = train_test_split(X_2, y_2, test_size=0.2, random_state=42)\n",
    "X3_train, X3_test, y3_train, y3_test = train_test_split(X_3, y_3, test_size=0.2, random_state=42)"
   ]
  },
  {
   "cell_type": "code",
   "execution_count": 1273,
   "metadata": {},
   "outputs": [
    {
     "data": {
      "text/html": [
       "<style>#sk-container-id-42 {color: black;background-color: white;}#sk-container-id-42 pre{padding: 0;}#sk-container-id-42 div.sk-toggleable {background-color: white;}#sk-container-id-42 label.sk-toggleable__label {cursor: pointer;display: block;width: 100%;margin-bottom: 0;padding: 0.3em;box-sizing: border-box;text-align: center;}#sk-container-id-42 label.sk-toggleable__label-arrow:before {content: \"▸\";float: left;margin-right: 0.25em;color: #696969;}#sk-container-id-42 label.sk-toggleable__label-arrow:hover:before {color: black;}#sk-container-id-42 div.sk-estimator:hover label.sk-toggleable__label-arrow:before {color: black;}#sk-container-id-42 div.sk-toggleable__content {max-height: 0;max-width: 0;overflow: hidden;text-align: left;background-color: #f0f8ff;}#sk-container-id-42 div.sk-toggleable__content pre {margin: 0.2em;color: black;border-radius: 0.25em;background-color: #f0f8ff;}#sk-container-id-42 input.sk-toggleable__control:checked~div.sk-toggleable__content {max-height: 200px;max-width: 100%;overflow: auto;}#sk-container-id-42 input.sk-toggleable__control:checked~label.sk-toggleable__label-arrow:before {content: \"▾\";}#sk-container-id-42 div.sk-estimator input.sk-toggleable__control:checked~label.sk-toggleable__label {background-color: #d4ebff;}#sk-container-id-42 div.sk-label input.sk-toggleable__control:checked~label.sk-toggleable__label {background-color: #d4ebff;}#sk-container-id-42 input.sk-hidden--visually {border: 0;clip: rect(1px 1px 1px 1px);clip: rect(1px, 1px, 1px, 1px);height: 1px;margin: -1px;overflow: hidden;padding: 0;position: absolute;width: 1px;}#sk-container-id-42 div.sk-estimator {font-family: monospace;background-color: #f0f8ff;border: 1px dotted black;border-radius: 0.25em;box-sizing: border-box;margin-bottom: 0.5em;}#sk-container-id-42 div.sk-estimator:hover {background-color: #d4ebff;}#sk-container-id-42 div.sk-parallel-item::after {content: \"\";width: 100%;border-bottom: 1px solid gray;flex-grow: 1;}#sk-container-id-42 div.sk-label:hover label.sk-toggleable__label {background-color: #d4ebff;}#sk-container-id-42 div.sk-serial::before {content: \"\";position: absolute;border-left: 1px solid gray;box-sizing: border-box;top: 0;bottom: 0;left: 50%;z-index: 0;}#sk-container-id-42 div.sk-serial {display: flex;flex-direction: column;align-items: center;background-color: white;padding-right: 0.2em;padding-left: 0.2em;position: relative;}#sk-container-id-42 div.sk-item {position: relative;z-index: 1;}#sk-container-id-42 div.sk-parallel {display: flex;align-items: stretch;justify-content: center;background-color: white;position: relative;}#sk-container-id-42 div.sk-item::before, #sk-container-id-42 div.sk-parallel-item::before {content: \"\";position: absolute;border-left: 1px solid gray;box-sizing: border-box;top: 0;bottom: 0;left: 50%;z-index: -1;}#sk-container-id-42 div.sk-parallel-item {display: flex;flex-direction: column;z-index: 1;position: relative;background-color: white;}#sk-container-id-42 div.sk-parallel-item:first-child::after {align-self: flex-end;width: 50%;}#sk-container-id-42 div.sk-parallel-item:last-child::after {align-self: flex-start;width: 50%;}#sk-container-id-42 div.sk-parallel-item:only-child::after {width: 0;}#sk-container-id-42 div.sk-dashed-wrapped {border: 1px dashed gray;margin: 0 0.4em 0.5em 0.4em;box-sizing: border-box;padding-bottom: 0.4em;background-color: white;}#sk-container-id-42 div.sk-label label {font-family: monospace;font-weight: bold;display: inline-block;line-height: 1.2em;}#sk-container-id-42 div.sk-label-container {text-align: center;}#sk-container-id-42 div.sk-container {/* jupyter's `normalize.less` sets `[hidden] { display: none; }` but bootstrap.min.css set `[hidden] { display: none !important; }` so we also need the `!important` here to be able to override the default hidden behavior on the sphinx rendered scikit-learn.org. See: https://github.com/scikit-learn/scikit-learn/issues/21755 */display: inline-block !important;position: relative;}#sk-container-id-42 div.sk-text-repr-fallback {display: none;}</style><div id=\"sk-container-id-42\" class=\"sk-top-container\"><div class=\"sk-text-repr-fallback\"><pre>LinearRegression()</pre><b>In a Jupyter environment, please rerun this cell to show the HTML representation or trust the notebook. <br />On GitHub, the HTML representation is unable to render, please try loading this page with nbviewer.org.</b></div><div class=\"sk-container\" hidden><div class=\"sk-item\"><div class=\"sk-estimator sk-toggleable\"><input class=\"sk-toggleable__control sk-hidden--visually\" id=\"sk-estimator-id-68\" type=\"checkbox\" checked><label for=\"sk-estimator-id-68\" class=\"sk-toggleable__label sk-toggleable__label-arrow\">LinearRegression</label><div class=\"sk-toggleable__content\"><pre>LinearRegression()</pre></div></div></div></div></div>"
      ],
      "text/plain": [
       "LinearRegression()"
      ]
     },
     "execution_count": 1273,
     "metadata": {},
     "output_type": "execute_result"
    }
   ],
   "source": [
    "model_0.fit(X0_train, y0_train)\n",
    "model_1.fit(X1_train, y1_train)\n",
    "model_2.fit(X2_train, y2_train)\n",
    "model_3.fit(X3_train, y3_train)"
   ]
  },
  {
   "cell_type": "code",
   "execution_count": 1274,
   "metadata": {},
   "outputs": [
    {
     "name": "stdout",
     "output_type": "stream",
     "text": [
      "0.8008419827228316 0.4243699669947163 0.6453581655994957 0.48118557377083626\n"
     ]
    }
   ],
   "source": [
    "print(model_0.score(X0_test, y0_test),\n",
    "model_1.score(X1_test, y1_test),\n",
    "model_2.score(X2_test, y2_test),model_3.score(X3_test, y3_test))"
   ]
  },
  {
   "cell_type": "code",
   "execution_count": 1277,
   "metadata": {
    "collapsed": false,
    "is_executing": true
   },
   "outputs": [
    {
     "name": "stdout",
     "output_type": "stream",
     "text": [
      "Mean Absolute Error: 418058101.6466746\n",
      "Mean Squared Error: 8.36805657022204e+17\n",
      "Root Mean Squared Error: 914770822.1309882\n"
     ]
    }
   ],
   "source": [
    "print('Mean Absolute Error:', metrics.mean_absolute_error(y_test, y_pred))\n",
    "print('Mean Squared Error:', metrics.mean_squared_error(y_test_group, y_pred))\n",
    "print('Root Mean Squared Error:', np.sqrt(metrics.mean_squared_error(y_test_group, y_pred)))"
   ]
  },
  {
   "cell_type": "code",
   "execution_count": 1278,
   "metadata": {
    "collapsed": false,
    "is_executing": true
   },
   "outputs": [
    {
     "data": {
      "image/png": "[encoded data removed]",
      "text/plain": [
       "<Figure size 640x480 with 1 Axes>"
      ]
     },
     "metadata": {},
     "output_type": "display_data"
    }
   ],
   "source": [
    "predict = model.predict(X_test)\n",
    "plt.scatter(y_test, predict)\n",
    "plt.xlabel('y_test')\n",
    "plt.ylabel('predict')\n",
    "plt.show()"
   ]
  },
  {
   "cell_type": "code",
   "execution_count": 1279,
   "metadata": {
    "collapsed": false,
    "is_executing": true
   },
   "outputs": [
    {
     "name": "stderr",
     "output_type": "stream",
     "text": [
      "/tmp/ipykernel_7613/592410835.py:1: UserWarning: \n",
      "\n",
      "`distplot` is a deprecated function and will be removed in seaborn v0.14.0.\n",
      "\n",
      "Please adapt your code to use either `displot` (a figure-level function with\n",
      "similar flexibility) or `histplot` (an axes-level function for histograms).\n",
      "\n",
      "For a guide to updating your code to use the new functions, please see\n",
      "https://gist.github.com/mwaskom/de44147ed2974457ad6372750bbe5751\n",
      "\n",
      "  sns.distplot((y_test-predict),bins=50);\n"
     ]
    },
    {
     "data": {
      "image/png": "[encoded data removed]",
      "text/plain": [
       "<Figure size 640x480 with 1 Axes>"
      ]
     },
     "metadata": {},
     "output_type": "display_data"
    }
   ],
   "source": [
    "sns.distplot((y_test-predict),bins=50);\n"
   ]
  },
  {
   "cell_type": "code",
   "execution_count": 1280,
   "metadata": {
    "collapsed": false,
    "is_executing": true
   },
   "outputs": [
    {
     "name": "stdout",
     "output_type": "stream",
     "text": [
      "MAE: 418058101.6466746\n",
      "MSE: 8.36805657022204e+17\n",
      "RMSE: 914770822.1309882\n"
     ]
    }
   ],
   "source": [
    "import numpy as np\n",
    "from sklearn import metrics\n",
    "\n",
    "print('MAE:', metrics.mean_absolute_error(y_test, predict))\n",
    "print('MSE:', metrics.mean_squared_error(y_test, predict))\n",
    "print('RMSE:', np.sqrt(metrics.mean_squared_error(y_test, predict)))\n"
   ]
  },
  {
   "cell_type": "code",
   "execution_count": 1281,
   "metadata": {
    "collapsed": false,
    "is_executing": true
   },
   "outputs": [],
   "source": [
    "# thử sử dụng random forest"
   ]
  },
  {
   "cell_type": "code",
   "execution_count": 1282,
   "metadata": {
    "collapsed": false,
    "is_executing": true
   },
   "outputs": [
    {
     "data": {
      "text/plain": [
       "{'bootstrap': True,\n",
       " 'ccp_alpha': 0.0,\n",
       " 'criterion': 'squared_error',\n",
       " 'max_depth': None,\n",
       " 'max_features': 1.0,\n",
       " 'max_leaf_nodes': None,\n",
       " 'max_samples': None,\n",
       " 'min_impurity_decrease': 0.0,\n",
       " 'min_samples_leaf': 1,\n",
       " 'min_samples_split': 2,\n",
       " 'min_weight_fraction_leaf': 0.0,\n",
       " 'n_estimators': 100,\n",
       " 'n_jobs': None,\n",
       " 'oob_score': False,\n",
       " 'random_state': None,\n",
       " 'verbose': 0,\n",
       " 'warm_start': False}"
      ]
     },
     "execution_count": 1282,
     "metadata": {},
     "output_type": "execute_result"
    }
   ],
   "source": [
    "from sklearn.ensemble import RandomForestRegressor\n",
    "\n",
    "rf = RandomForestRegressor(n_estimators=100)\n",
    "rf.get_params()\n"
   ]
  },
  {
   "cell_type": "code",
   "execution_count": 1283,
   "metadata": {
    "collapsed": false,
    "is_executing": true
   },
   "outputs": [],
   "source": [
    "from sklearn.model_selection import KFold, RandomizedSearchCV\n",
    "\n",
    "\"\"\"\n",
    "+ Search over space of hyperparameters to find acceptable ones\n",
    "+ Two search methods implemented by scikit-learn: GridSearch and RandomSearch\n",
    "+ RandomSearch is faster in case we search over large space (too many combinations of hyperparameters)\n",
    "\"\"\"\n",
    "\n",
    "rf_hyperparams = {\n",
    "    'n_estimators': [200, 300, 400, 500],\n",
    "    'max_depth': [None, 10, 50, 90, 110],\n",
    "    'max_features': ['auto', 'sqrt'],\n",
    "    'min_samples_split': [2, 5, 10],\n",
    "    'min_samples_leaf': [1, 2, 4],\n",
    "    'bootstrap': [True, False]\n",
    "}\n",
    "\n",
    "rf_randomized_search = RandomizedSearchCV(\n",
    "    estimator = rf,\n",
    "    param_distributions = rf_hyperparams,\n",
    "    n_iter = 10,\n",
    "    cv=KFold(n_splits=10, shuffle=True, random_state=42),\n",
    "    verbose=2,\n",
    "    random_state=42,\n",
    "    n_jobs = -1\n",
    ")\n",
    "\n"
   ]
  },
  {
   "cell_type": "code",
   "execution_count": 1285,
   "metadata": {
    "collapsed": false,
    "is_executing": true
   },
   "outputs": [
    {
     "name": "stdout",
     "output_type": "stream",
     "text": [
      "Fitting 10 folds for each of 10 candidates, totalling 100 fits\n",
      "[CV] END bootstrap=True, max_depth=110, max_features=sqrt, min_samples_leaf=2, min_samples_split=5, n_estimators=200; total time=   3.3s\n",
      "[CV] END bootstrap=True, max_depth=110, max_features=sqrt, min_samples_leaf=2, min_samples_split=5, n_estimators=200; total time=   3.4s\n",
      "[CV] END bootstrap=True, max_depth=110, max_features=sqrt, min_samples_leaf=2, min_samples_split=5, n_estimators=200; total time=   3.4s\n",
      "[CV] END bootstrap=True, max_depth=110, max_features=sqrt, min_samples_leaf=2, min_samples_split=5, n_estimators=200; total time=   3.4s\n",
      "[CV] END bootstrap=True, max_depth=110, max_features=sqrt, min_samples_leaf=2, min_samples_split=5, n_estimators=200; total time=   3.1s\n",
      "[CV] END bootstrap=True, max_depth=110, max_features=sqrt, min_samples_leaf=2, min_samples_split=5, n_estimators=200; total time=   3.3s\n",
      "[CV] END bootstrap=True, max_depth=110, max_features=sqrt, min_samples_leaf=2, min_samples_split=5, n_estimators=200; total time=   3.2s\n",
      "[CV] END bootstrap=True, max_depth=110, max_features=sqrt, min_samples_leaf=2, min_samples_split=5, n_estimators=200; total time=   3.3s\n"
     ]
    },
    {
     "name": "stderr",
     "output_type": "stream",
     "text": [
      "/home/codespace/.local/lib/python3.10/site-packages/sklearn/ensemble/_forest.py:413: FutureWarning: `max_features='auto'` has been deprecated in 1.1 and will be removed in 1.3. To keep the past behaviour, explicitly set `max_features=1.0` or remove this parameter as it is also the default value for RandomForestRegressors and ExtraTreesRegressors.\n",
      "  warn(\n",
      "/home/codespace/.local/lib/python3.10/site-packages/sklearn/ensemble/_forest.py:413: FutureWarning: `max_features='auto'` has been deprecated in 1.1 and will be removed in 1.3. To keep the past behaviour, explicitly set `max_features=1.0` or remove this parameter as it is also the default value for RandomForestRegressors and ExtraTreesRegressors.\n",
      "  warn(\n"
     ]
    },
    {
     "name": "stdout",
     "output_type": "stream",
     "text": [
      "[CV] END bootstrap=True, max_depth=110, max_features=sqrt, min_samples_leaf=2, min_samples_split=5, n_estimators=200; total time=   3.2s\n"
     ]
    },
    {
     "name": "stderr",
     "output_type": "stream",
     "text": [
      "/home/codespace/.local/lib/python3.10/site-packages/sklearn/ensemble/_forest.py:413: FutureWarning: `max_features='auto'` has been deprecated in 1.1 and will be removed in 1.3. To keep the past behaviour, explicitly set `max_features=1.0` or remove this parameter as it is also the default value for RandomForestRegressors and ExtraTreesRegressors.\n",
      "  warn(\n"
     ]
    },
    {
     "name": "stdout",
     "output_type": "stream",
     "text": [
      "[CV] END bootstrap=True, max_depth=110, max_features=sqrt, min_samples_leaf=2, min_samples_split=5, n_estimators=200; total time=   3.4s\n"
     ]
    },
    {
     "name": "stderr",
     "output_type": "stream",
     "text": [
      "/home/codespace/.local/lib/python3.10/site-packages/sklearn/ensemble/_forest.py:413: FutureWarning: `max_features='auto'` has been deprecated in 1.1 and will be removed in 1.3. To keep the past behaviour, explicitly set `max_features=1.0` or remove this parameter as it is also the default value for RandomForestRegressors and ExtraTreesRegressors.\n",
      "  warn(\n"
     ]
    },
    {
     "name": "stdout",
     "output_type": "stream",
     "text": [
      "[CV] END bootstrap=True, max_depth=110, max_features=auto, min_samples_leaf=1, min_samples_split=2, n_estimators=400; total time=  23.0s\n"
     ]
    },
    {
     "name": "stderr",
     "output_type": "stream",
     "text": [
      "/home/codespace/.local/lib/python3.10/site-packages/sklearn/ensemble/_forest.py:413: FutureWarning: `max_features='auto'` has been deprecated in 1.1 and will be removed in 1.3. To keep the past behaviour, explicitly set `max_features=1.0` or remove this parameter as it is also the default value for RandomForestRegressors and ExtraTreesRegressors.\n",
      "  warn(\n"
     ]
    },
    {
     "name": "stdout",
     "output_type": "stream",
     "text": [
      "[CV] END bootstrap=True, max_depth=110, max_features=auto, min_samples_leaf=1, min_samples_split=2, n_estimators=400; total time=  23.3s\n"
     ]
    },
    {
     "name": "stderr",
     "output_type": "stream",
     "text": [
      "/home/codespace/.local/lib/python3.10/site-packages/sklearn/ensemble/_forest.py:413: FutureWarning: `max_features='auto'` has been deprecated in 1.1 and will be removed in 1.3. To keep the past behaviour, explicitly set `max_features=1.0` or remove this parameter as it is also the default value for RandomForestRegressors and ExtraTreesRegressors.\n",
      "  warn(\n"
     ]
    },
    {
     "name": "stdout",
     "output_type": "stream",
     "text": [
      "[CV] END bootstrap=True, max_depth=110, max_features=auto, min_samples_leaf=1, min_samples_split=2, n_estimators=400; total time=  22.8s\n"
     ]
    },
    {
     "name": "stderr",
     "output_type": "stream",
     "text": [
      "/home/codespace/.local/lib/python3.10/site-packages/sklearn/ensemble/_forest.py:413: FutureWarning: `max_features='auto'` has been deprecated in 1.1 and will be removed in 1.3. To keep the past behaviour, explicitly set `max_features=1.0` or remove this parameter as it is also the default value for RandomForestRegressors and ExtraTreesRegressors.\n",
      "  warn(\n"
     ]
    },
    {
     "name": "stdout",
     "output_type": "stream",
     "text": [
      "[CV] END bootstrap=True, max_depth=110, max_features=auto, min_samples_leaf=1, min_samples_split=2, n_estimators=400; total time=  23.7s\n"
     ]
    },
    {
     "name": "stderr",
     "output_type": "stream",
     "text": [
      "/home/codespace/.local/lib/python3.10/site-packages/sklearn/ensemble/_forest.py:413: FutureWarning: `max_features='auto'` has been deprecated in 1.1 and will be removed in 1.3. To keep the past behaviour, explicitly set `max_features=1.0` or remove this parameter as it is also the default value for RandomForestRegressors and ExtraTreesRegressors.\n",
      "  warn(\n"
     ]
    },
    {
     "name": "stdout",
     "output_type": "stream",
     "text": [
      "[CV] END bootstrap=True, max_depth=110, max_features=auto, min_samples_leaf=1, min_samples_split=2, n_estimators=400; total time=  22.8s\n"
     ]
    },
    {
     "name": "stderr",
     "output_type": "stream",
     "text": [
      "/home/codespace/.local/lib/python3.10/site-packages/sklearn/ensemble/_forest.py:413: FutureWarning: `max_features='auto'` has been deprecated in 1.1 and will be removed in 1.3. To keep the past behaviour, explicitly set `max_features=1.0` or remove this parameter as it is also the default value for RandomForestRegressors and ExtraTreesRegressors.\n",
      "  warn(\n"
     ]
    },
    {
     "name": "stdout",
     "output_type": "stream",
     "text": [
      "[CV] END bootstrap=True, max_depth=110, max_features=auto, min_samples_leaf=1, min_samples_split=2, n_estimators=400; total time=  23.4s\n"
     ]
    },
    {
     "name": "stderr",
     "output_type": "stream",
     "text": [
      "/home/codespace/.local/lib/python3.10/site-packages/sklearn/ensemble/_forest.py:413: FutureWarning: `max_features='auto'` has been deprecated in 1.1 and will be removed in 1.3. To keep the past behaviour, explicitly set `max_features=1.0` or remove this parameter as it is also the default value for RandomForestRegressors and ExtraTreesRegressors.\n",
      "  warn(\n"
     ]
    },
    {
     "ename": "KeyboardInterrupt",
     "evalue": "",
     "output_type": "error",
     "traceback": [
      "\u001b[0;31m---------------------------------------------------------------------------\u001b[0m",
      "\u001b[0;31mKeyboardInterrupt\u001b[0m                         Traceback (most recent call last)",
      "Cell \u001b[0;32mIn[1285], line 1\u001b[0m\n\u001b[0;32m----> 1\u001b[0m rf_randomized_search\u001b[39m.\u001b[39;49mfit(X_train, y_train)\n",
      "File \u001b[0;32m~/.local/lib/python3.10/site-packages/sklearn/model_selection/_search.py:874\u001b[0m, in \u001b[0;36mBaseSearchCV.fit\u001b[0;34m(self, X, y, groups, **fit_params)\u001b[0m\n\u001b[1;32m    868\u001b[0m     results \u001b[39m=\u001b[39m \u001b[39mself\u001b[39m\u001b[39m.\u001b[39m_format_results(\n\u001b[1;32m    869\u001b[0m         all_candidate_params, n_splits, all_out, all_more_results\n\u001b[1;32m    870\u001b[0m     )\n\u001b[1;32m    872\u001b[0m     \u001b[39mreturn\u001b[39;00m results\n\u001b[0;32m--> 874\u001b[0m \u001b[39mself\u001b[39;49m\u001b[39m.\u001b[39;49m_run_search(evaluate_candidates)\n\u001b[1;32m    876\u001b[0m \u001b[39m# multimetric is determined here because in the case of a callable\u001b[39;00m\n\u001b[1;32m    877\u001b[0m \u001b[39m# self.scoring the return type is only known after calling\u001b[39;00m\n\u001b[1;32m    878\u001b[0m first_test_score \u001b[39m=\u001b[39m all_out[\u001b[39m0\u001b[39m][\u001b[39m\"\u001b[39m\u001b[39mtest_scores\u001b[39m\u001b[39m\"\u001b[39m]\n",
      "File \u001b[0;32m~/.local/lib/python3.10/site-packages/sklearn/model_selection/_search.py:1768\u001b[0m, in \u001b[0;36mRandomizedSearchCV._run_search\u001b[0;34m(self, evaluate_candidates)\u001b[0m\n\u001b[1;32m   1766\u001b[0m \u001b[39mdef\u001b[39;00m \u001b[39m_run_search\u001b[39m(\u001b[39mself\u001b[39m, evaluate_candidates):\n\u001b[1;32m   1767\u001b[0m \u001b[39m    \u001b[39m\u001b[39m\"\"\"Search n_iter candidates from param_distributions\"\"\"\u001b[39;00m\n\u001b[0;32m-> 1768\u001b[0m     evaluate_candidates(\n\u001b[1;32m   1769\u001b[0m         ParameterSampler(\n\u001b[1;32m   1770\u001b[0m             \u001b[39mself\u001b[39;49m\u001b[39m.\u001b[39;49mparam_distributions, \u001b[39mself\u001b[39;49m\u001b[39m.\u001b[39;49mn_iter, random_state\u001b[39m=\u001b[39;49m\u001b[39mself\u001b[39;49m\u001b[39m.\u001b[39;49mrandom_state\n\u001b[1;32m   1771\u001b[0m         )\n\u001b[1;32m   1772\u001b[0m     )\n",
      "File \u001b[0;32m~/.local/lib/python3.10/site-packages/sklearn/model_selection/_search.py:821\u001b[0m, in \u001b[0;36mBaseSearchCV.fit.<locals>.evaluate_candidates\u001b[0;34m(candidate_params, cv, more_results)\u001b[0m\n\u001b[1;32m    813\u001b[0m \u001b[39mif\u001b[39;00m \u001b[39mself\u001b[39m\u001b[39m.\u001b[39mverbose \u001b[39m>\u001b[39m \u001b[39m0\u001b[39m:\n\u001b[1;32m    814\u001b[0m     \u001b[39mprint\u001b[39m(\n\u001b[1;32m    815\u001b[0m         \u001b[39m\"\u001b[39m\u001b[39mFitting \u001b[39m\u001b[39m{0}\u001b[39;00m\u001b[39m folds for each of \u001b[39m\u001b[39m{1}\u001b[39;00m\u001b[39m candidates,\u001b[39m\u001b[39m\"\u001b[39m\n\u001b[1;32m    816\u001b[0m         \u001b[39m\"\u001b[39m\u001b[39m totalling \u001b[39m\u001b[39m{2}\u001b[39;00m\u001b[39m fits\u001b[39m\u001b[39m\"\u001b[39m\u001b[39m.\u001b[39mformat(\n\u001b[1;32m    817\u001b[0m             n_splits, n_candidates, n_candidates \u001b[39m*\u001b[39m n_splits\n\u001b[1;32m    818\u001b[0m         )\n\u001b[1;32m    819\u001b[0m     )\n\u001b[0;32m--> 821\u001b[0m out \u001b[39m=\u001b[39m parallel(\n\u001b[1;32m    822\u001b[0m     delayed(_fit_and_score)(\n\u001b[1;32m    823\u001b[0m         clone(base_estimator),\n\u001b[1;32m    824\u001b[0m         X,\n\u001b[1;32m    825\u001b[0m         y,\n\u001b[1;32m    826\u001b[0m         train\u001b[39m=\u001b[39;49mtrain,\n\u001b[1;32m    827\u001b[0m         test\u001b[39m=\u001b[39;49mtest,\n\u001b[1;32m    828\u001b[0m         parameters\u001b[39m=\u001b[39;49mparameters,\n\u001b[1;32m    829\u001b[0m         split_progress\u001b[39m=\u001b[39;49m(split_idx, n_splits),\n\u001b[1;32m    830\u001b[0m         candidate_progress\u001b[39m=\u001b[39;49m(cand_idx, n_candidates),\n\u001b[1;32m    831\u001b[0m         \u001b[39m*\u001b[39;49m\u001b[39m*\u001b[39;49mfit_and_score_kwargs,\n\u001b[1;32m    832\u001b[0m     )\n\u001b[1;32m    833\u001b[0m     \u001b[39mfor\u001b[39;49;00m (cand_idx, parameters), (split_idx, (train, test)) \u001b[39min\u001b[39;49;00m product(\n\u001b[1;32m    834\u001b[0m         \u001b[39menumerate\u001b[39;49m(candidate_params), \u001b[39menumerate\u001b[39;49m(cv\u001b[39m.\u001b[39;49msplit(X, y, groups))\n\u001b[1;32m    835\u001b[0m     )\n\u001b[1;32m    836\u001b[0m )\n\u001b[1;32m    838\u001b[0m \u001b[39mif\u001b[39;00m \u001b[39mlen\u001b[39m(out) \u001b[39m<\u001b[39m \u001b[39m1\u001b[39m:\n\u001b[1;32m    839\u001b[0m     \u001b[39mraise\u001b[39;00m \u001b[39mValueError\u001b[39;00m(\n\u001b[1;32m    840\u001b[0m         \u001b[39m\"\u001b[39m\u001b[39mNo fits were performed. \u001b[39m\u001b[39m\"\u001b[39m\n\u001b[1;32m    841\u001b[0m         \u001b[39m\"\u001b[39m\u001b[39mWas the CV iterator empty? \u001b[39m\u001b[39m\"\u001b[39m\n\u001b[1;32m    842\u001b[0m         \u001b[39m\"\u001b[39m\u001b[39mWere there no candidates?\u001b[39m\u001b[39m\"\u001b[39m\n\u001b[1;32m    843\u001b[0m     )\n",
      "File \u001b[0;32m~/.local/lib/python3.10/site-packages/sklearn/utils/parallel.py:63\u001b[0m, in \u001b[0;36mParallel.__call__\u001b[0;34m(self, iterable)\u001b[0m\n\u001b[1;32m     58\u001b[0m config \u001b[39m=\u001b[39m get_config()\n\u001b[1;32m     59\u001b[0m iterable_with_config \u001b[39m=\u001b[39m (\n\u001b[1;32m     60\u001b[0m     (_with_config(delayed_func, config), args, kwargs)\n\u001b[1;32m     61\u001b[0m     \u001b[39mfor\u001b[39;00m delayed_func, args, kwargs \u001b[39min\u001b[39;00m iterable\n\u001b[1;32m     62\u001b[0m )\n\u001b[0;32m---> 63\u001b[0m \u001b[39mreturn\u001b[39;00m \u001b[39msuper\u001b[39;49m()\u001b[39m.\u001b[39;49m\u001b[39m__call__\u001b[39;49m(iterable_with_config)\n",
      "File \u001b[0;32m~/.local/lib/python3.10/site-packages/joblib/parallel.py:1098\u001b[0m, in \u001b[0;36mParallel.__call__\u001b[0;34m(self, iterable)\u001b[0m\n\u001b[1;32m   1095\u001b[0m     \u001b[39mself\u001b[39m\u001b[39m.\u001b[39m_iterating \u001b[39m=\u001b[39m \u001b[39mFalse\u001b[39;00m\n\u001b[1;32m   1097\u001b[0m \u001b[39mwith\u001b[39;00m \u001b[39mself\u001b[39m\u001b[39m.\u001b[39m_backend\u001b[39m.\u001b[39mretrieval_context():\n\u001b[0;32m-> 1098\u001b[0m     \u001b[39mself\u001b[39;49m\u001b[39m.\u001b[39;49mretrieve()\n\u001b[1;32m   1099\u001b[0m \u001b[39m# Make sure that we get a last message telling us we are done\u001b[39;00m\n\u001b[1;32m   1100\u001b[0m elapsed_time \u001b[39m=\u001b[39m time\u001b[39m.\u001b[39mtime() \u001b[39m-\u001b[39m \u001b[39mself\u001b[39m\u001b[39m.\u001b[39m_start_time\n",
      "File \u001b[0;32m~/.local/lib/python3.10/site-packages/joblib/parallel.py:975\u001b[0m, in \u001b[0;36mParallel.retrieve\u001b[0;34m(self)\u001b[0m\n\u001b[1;32m    973\u001b[0m \u001b[39mtry\u001b[39;00m:\n\u001b[1;32m    974\u001b[0m     \u001b[39mif\u001b[39;00m \u001b[39mgetattr\u001b[39m(\u001b[39mself\u001b[39m\u001b[39m.\u001b[39m_backend, \u001b[39m'\u001b[39m\u001b[39msupports_timeout\u001b[39m\u001b[39m'\u001b[39m, \u001b[39mFalse\u001b[39;00m):\n\u001b[0;32m--> 975\u001b[0m         \u001b[39mself\u001b[39m\u001b[39m.\u001b[39m_output\u001b[39m.\u001b[39mextend(job\u001b[39m.\u001b[39;49mget(timeout\u001b[39m=\u001b[39;49m\u001b[39mself\u001b[39;49m\u001b[39m.\u001b[39;49mtimeout))\n\u001b[1;32m    976\u001b[0m     \u001b[39melse\u001b[39;00m:\n\u001b[1;32m    977\u001b[0m         \u001b[39mself\u001b[39m\u001b[39m.\u001b[39m_output\u001b[39m.\u001b[39mextend(job\u001b[39m.\u001b[39mget())\n",
      "File \u001b[0;32m~/.local/lib/python3.10/site-packages/joblib/_parallel_backends.py:567\u001b[0m, in \u001b[0;36mLokyBackend.wrap_future_result\u001b[0;34m(future, timeout)\u001b[0m\n\u001b[1;32m    564\u001b[0m \u001b[39m\u001b[39m\u001b[39m\"\"\"Wrapper for Future.result to implement the same behaviour as\u001b[39;00m\n\u001b[1;32m    565\u001b[0m \u001b[39mAsyncResults.get from multiprocessing.\"\"\"\u001b[39;00m\n\u001b[1;32m    566\u001b[0m \u001b[39mtry\u001b[39;00m:\n\u001b[0;32m--> 567\u001b[0m     \u001b[39mreturn\u001b[39;00m future\u001b[39m.\u001b[39;49mresult(timeout\u001b[39m=\u001b[39;49mtimeout)\n\u001b[1;32m    568\u001b[0m \u001b[39mexcept\u001b[39;00m CfTimeoutError \u001b[39mas\u001b[39;00m e:\n\u001b[1;32m    569\u001b[0m     \u001b[39mraise\u001b[39;00m \u001b[39mTimeoutError\u001b[39;00m \u001b[39mfrom\u001b[39;00m \u001b[39me\u001b[39;00m\n",
      "File \u001b[0;32m~/.python/current/lib/python3.10/concurrent/futures/_base.py:453\u001b[0m, in \u001b[0;36mFuture.result\u001b[0;34m(self, timeout)\u001b[0m\n\u001b[1;32m    450\u001b[0m \u001b[39melif\u001b[39;00m \u001b[39mself\u001b[39m\u001b[39m.\u001b[39m_state \u001b[39m==\u001b[39m FINISHED:\n\u001b[1;32m    451\u001b[0m     \u001b[39mreturn\u001b[39;00m \u001b[39mself\u001b[39m\u001b[39m.\u001b[39m__get_result()\n\u001b[0;32m--> 453\u001b[0m \u001b[39mself\u001b[39;49m\u001b[39m.\u001b[39;49m_condition\u001b[39m.\u001b[39;49mwait(timeout)\n\u001b[1;32m    455\u001b[0m \u001b[39mif\u001b[39;00m \u001b[39mself\u001b[39m\u001b[39m.\u001b[39m_state \u001b[39min\u001b[39;00m [CANCELLED, CANCELLED_AND_NOTIFIED]:\n\u001b[1;32m    456\u001b[0m     \u001b[39mraise\u001b[39;00m CancelledError()\n",
      "File \u001b[0;32m~/.python/current/lib/python3.10/threading.py:320\u001b[0m, in \u001b[0;36mCondition.wait\u001b[0;34m(self, timeout)\u001b[0m\n\u001b[1;32m    318\u001b[0m \u001b[39mtry\u001b[39;00m:    \u001b[39m# restore state no matter what (e.g., KeyboardInterrupt)\u001b[39;00m\n\u001b[1;32m    319\u001b[0m     \u001b[39mif\u001b[39;00m timeout \u001b[39mis\u001b[39;00m \u001b[39mNone\u001b[39;00m:\n\u001b[0;32m--> 320\u001b[0m         waiter\u001b[39m.\u001b[39;49macquire()\n\u001b[1;32m    321\u001b[0m         gotit \u001b[39m=\u001b[39m \u001b[39mTrue\u001b[39;00m\n\u001b[1;32m    322\u001b[0m     \u001b[39melse\u001b[39;00m:\n",
      "\u001b[0;31mKeyboardInterrupt\u001b[0m: "
     ]
    }
   ],
   "source": [
    "rf_randomized_search.fit(X_train, y_train)\n"
   ]
  },
  {
   "cell_type": "code",
   "execution_count": null,
   "metadata": {
    "collapsed": false,
    "is_executing": true
   },
   "outputs": [
    {
     "data": {
      "text/plain": [
       "0.8887501513241548"
      ]
     },
     "execution_count": 669,
     "metadata": {},
     "output_type": "execute_result"
    }
   ],
   "source": [
    "rf_randomized_search.score(X_test, y_test)"
   ]
  },
  {
   "cell_type": "code",
   "execution_count": null,
   "metadata": {
    "collapsed": false,
    "is_executing": true
   },
   "outputs": [
    {
     "name": "stdout",
     "output_type": "stream",
     "text": [
      "MAE: 132145744.7878962\n",
      "MSE: 3.2044841197886e+17\n",
      "RMSE: 566081630.1372621\n"
     ]
    }
   ],
   "source": [
    "print('MAE:', metrics.mean_absolute_error(y_test, rf_randomized_search.predict(X_test)))\n",
    "print('MSE:', metrics.mean_squared_error(y_test, rf_randomized_search.predict(X_test)))\n",
    "print('RMSE:', np.sqrt(metrics.mean_squared_error(y_test, rf_randomized_search.predict(X_test))))\n"
   ]
  },
  {
   "cell_type": "code",
   "execution_count": null,
   "metadata": {
    "collapsed": false,
    "is_executing": true
   },
   "outputs": [],
   "source": [
    "# hồi quy ridge"
   ]
  },
  {
   "cell_type": "code",
   "execution_count": null,
   "metadata": {
    "collapsed": false,
    "is_executing": true
   },
   "outputs": [
    {
     "data": {
      "text/plain": [
       "0.7066865780603517"
      ]
     },
     "execution_count": 672,
     "metadata": {},
     "output_type": "execute_result"
    }
   ],
   "source": [
    "from sklearn.linear_model import Ridge\n",
    "rg = Ridge(alpha=1.0)\n",
    "rg.fit(X_train, y_train)\n",
    "rg.score(X_test, y_test)\n"
   ]
  },
  {
   "cell_type": "code",
   "execution_count": null,
   "metadata": {
    "collapsed": false,
    "is_executing": true
   },
   "outputs": [],
   "source": [
    "#Support Vector Regression"
   ]
  },
  {
   "cell_type": "code",
   "execution_count": null,
   "metadata": {
    "collapsed": false,
    "is_executing": true
   },
   "outputs": [
    {
     "data": {
      "text/plain": [
       "-0.09452178116503718"
      ]
     },
     "execution_count": 674,
     "metadata": {},
     "output_type": "execute_result"
    }
   ],
   "source": [
    "from sklearn.svm import SVR\n",
    "\n",
    "svr = SVR(kernel='rbf')\n",
    "svr.fit(X_train, y_train)\n",
    "svr.score(X_test, y_test)"
   ]
  },
  {
   "cell_type": "code",
   "execution_count": null,
   "metadata": {},
   "outputs": [
    {
     "data": {
      "text/html": [
       "<div>\n",
       "<style scoped>\n",
       "    .dataframe tbody tr th:only-of-type {\n",
       "        vertical-align: middle;\n",
       "    }\n",
       "\n",
       "    .dataframe tbody tr th {\n",
       "        vertical-align: top;\n",
       "    }\n",
       "\n",
       "    .dataframe thead th {\n",
       "        text-align: right;\n",
       "    }\n",
       "</style>\n",
       "<table border=\"1\" class=\"dataframe\">\n",
       "  <thead>\n",
       "    <tr style=\"text-align: right;\">\n",
       "      <th></th>\n",
       "      <th>year</th>\n",
       "      <th>price</th>\n",
       "      <th>assemble_place</th>\n",
       "      <th>driven kms</th>\n",
       "      <th>num_of_door</th>\n",
       "      <th>num_of_seat</th>\n",
       "      <th>transmission</th>\n",
       "      <th>price_segment</th>\n",
       "      <th>brand_Acura</th>\n",
       "      <th>brand_Audi</th>\n",
       "      <th>...</th>\n",
       "      <th>series_Hatchback</th>\n",
       "      <th>series_SUV</th>\n",
       "      <th>series_Sedan</th>\n",
       "      <th>series_Truck</th>\n",
       "      <th>series_Van/Minivan</th>\n",
       "      <th>series_Wagon</th>\n",
       "      <th>engine_type_Dầu</th>\n",
       "      <th>engine_type_Hybrid</th>\n",
       "      <th>engine_type_Xăng</th>\n",
       "      <th>engine_type_Điện</th>\n",
       "    </tr>\n",
       "  </thead>\n",
       "  <tbody>\n",
       "    <tr>\n",
       "      <th>0</th>\n",
       "      <td>2015.0</td>\n",
       "      <td>2.700000e+09</td>\n",
       "      <td>1.0</td>\n",
       "      <td>-0.014085</td>\n",
       "      <td>5.0</td>\n",
       "      <td>-0.316224</td>\n",
       "      <td>1</td>\n",
       "      <td>2</td>\n",
       "      <td>False</td>\n",
       "      <td>False</td>\n",
       "      <td>...</td>\n",
       "      <td>False</td>\n",
       "      <td>True</td>\n",
       "      <td>False</td>\n",
       "      <td>False</td>\n",
       "      <td>False</td>\n",
       "      <td>False</td>\n",
       "      <td>False</td>\n",
       "      <td>False</td>\n",
       "      <td>True</td>\n",
       "      <td>False</td>\n",
       "    </tr>\n",
       "    <tr>\n",
       "      <th>1</th>\n",
       "      <td>2018.0</td>\n",
       "      <td>6.660000e+08</td>\n",
       "      <td>0.0</td>\n",
       "      <td>-0.014557</td>\n",
       "      <td>5.0</td>\n",
       "      <td>0.864494</td>\n",
       "      <td>1</td>\n",
       "      <td>1</td>\n",
       "      <td>False</td>\n",
       "      <td>False</td>\n",
       "      <td>...</td>\n",
       "      <td>False</td>\n",
       "      <td>True</td>\n",
       "      <td>False</td>\n",
       "      <td>False</td>\n",
       "      <td>False</td>\n",
       "      <td>False</td>\n",
       "      <td>False</td>\n",
       "      <td>False</td>\n",
       "      <td>True</td>\n",
       "      <td>False</td>\n",
       "    </tr>\n",
       "    <tr>\n",
       "      <th>2</th>\n",
       "      <td>2019.0</td>\n",
       "      <td>4.900000e+08</td>\n",
       "      <td>0.0</td>\n",
       "      <td>-0.014526</td>\n",
       "      <td>4.0</td>\n",
       "      <td>-0.316224</td>\n",
       "      <td>1</td>\n",
       "      <td>0</td>\n",
       "      <td>False</td>\n",
       "      <td>False</td>\n",
       "      <td>...</td>\n",
       "      <td>False</td>\n",
       "      <td>False</td>\n",
       "      <td>True</td>\n",
       "      <td>False</td>\n",
       "      <td>False</td>\n",
       "      <td>False</td>\n",
       "      <td>False</td>\n",
       "      <td>False</td>\n",
       "      <td>True</td>\n",
       "      <td>False</td>\n",
       "    </tr>\n",
       "    <tr>\n",
       "      <th>3</th>\n",
       "      <td>2015.0</td>\n",
       "      <td>3.650000e+08</td>\n",
       "      <td>0.0</td>\n",
       "      <td>-0.014936</td>\n",
       "      <td>4.0</td>\n",
       "      <td>-0.316224</td>\n",
       "      <td>1</td>\n",
       "      <td>0</td>\n",
       "      <td>False</td>\n",
       "      <td>False</td>\n",
       "      <td>...</td>\n",
       "      <td>False</td>\n",
       "      <td>False</td>\n",
       "      <td>True</td>\n",
       "      <td>False</td>\n",
       "      <td>False</td>\n",
       "      <td>False</td>\n",
       "      <td>False</td>\n",
       "      <td>False</td>\n",
       "      <td>True</td>\n",
       "      <td>False</td>\n",
       "    </tr>\n",
       "    <tr>\n",
       "      <th>4</th>\n",
       "      <td>2021.0</td>\n",
       "      <td>5.650000e+08</td>\n",
       "      <td>1.0</td>\n",
       "      <td>-0.015945</td>\n",
       "      <td>5.0</td>\n",
       "      <td>-0.316224</td>\n",
       "      <td>1</td>\n",
       "      <td>0</td>\n",
       "      <td>False</td>\n",
       "      <td>False</td>\n",
       "      <td>...</td>\n",
       "      <td>True</td>\n",
       "      <td>False</td>\n",
       "      <td>False</td>\n",
       "      <td>False</td>\n",
       "      <td>False</td>\n",
       "      <td>False</td>\n",
       "      <td>False</td>\n",
       "      <td>False</td>\n",
       "      <td>True</td>\n",
       "      <td>False</td>\n",
       "    </tr>\n",
       "  </tbody>\n",
       "</table>\n",
       "<p>5 rows × 63 columns</p>\n",
       "</div>"
      ],
      "text/plain": [
       "     year         price  assemble_place  driven kms  num_of_door  num_of_seat  \\\n",
       "0  2015.0  2.700000e+09             1.0   -0.014085          5.0    -0.316224   \n",
       "1  2018.0  6.660000e+08             0.0   -0.014557          5.0     0.864494   \n",
       "2  2019.0  4.900000e+08             0.0   -0.014526          4.0    -0.316224   \n",
       "3  2015.0  3.650000e+08             0.0   -0.014936          4.0    -0.316224   \n",
       "4  2021.0  5.650000e+08             1.0   -0.015945          5.0    -0.316224   \n",
       "\n",
       "   transmission price_segment  brand_Acura  brand_Audi  ...  series_Hatchback  \\\n",
       "0             1             2        False       False  ...             False   \n",
       "1             1             1        False       False  ...             False   \n",
       "2             1             0        False       False  ...             False   \n",
       "3             1             0        False       False  ...             False   \n",
       "4             1             0        False       False  ...              True   \n",
       "\n",
       "   series_SUV  series_Sedan  series_Truck  series_Van/Minivan  series_Wagon  \\\n",
       "0        True         False         False               False         False   \n",
       "1        True         False         False               False         False   \n",
       "2       False          True         False               False         False   \n",
       "3       False          True         False               False         False   \n",
       "4       False         False         False               False         False   \n",
       "\n",
       "   engine_type_Dầu  engine_type_Hybrid  engine_type_Xăng  engine_type_Điện  \n",
       "0            False               False              True             False  \n",
       "1            False               False              True             False  \n",
       "2            False               False              True             False  \n",
       "3            False               False              True             False  \n",
       "4            False               False              True             False  \n",
       "\n",
       "[5 rows x 63 columns]"
      ]
     },
     "execution_count": 675,
     "metadata": {},
     "output_type": "execute_result"
    }
   ],
   "source": [
    "df.head()"
   ]
  },
  {
   "cell_type": "markdown",
   "metadata": {
    "collapsed": false
   },
   "source": [
    "\n"
   ]
  }
 ],
 "metadata": {
  "kernelspec": {
   "display_name": "Python 3",
   "language": "python",
   "name": "python3"
  },
  "language_info": {
   "codemirror_mode": {
    "name": "ipython",
    "version": 3
   },
   "file_extension": ".py",
   "mimetype": "text/x-python",
   "name": "python",
   "nbconvert_exporter": "python",
   "pygments_lexer": "ipython3",
   "version": "3.10.8"
  }
 },
 "nbformat": 4,
 "nbformat_minor": 0
}
