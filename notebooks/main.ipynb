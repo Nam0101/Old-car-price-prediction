{
 "cells": [
  {
   "cell_type": "markdown",
   "source": [
    "# Import libraries"
   ],
   "metadata": {
    "collapsed": false
   }
  },
  {
   "cell_type": "code",
   "execution_count": 140,
   "metadata": {
    "collapsed": true,
    "ExecuteTime": {
     "end_time": "2023-06-05T15:16:44.953278400Z",
     "start_time": "2023-06-05T15:16:44.895280900Z"
    }
   },
   "outputs": [],
   "source": [
    "import pandas as pd\n"
   ]
  },
  {
   "cell_type": "markdown",
   "source": [
    "## Read data"
   ],
   "metadata": {
    "collapsed": false
   }
  },
  {
   "cell_type": "code",
   "execution_count": 141,
   "outputs": [
    {
     "data": {
      "text/plain": "   Unnamed: 0                                car_name car_prices_in_rupee  \\\n0           0  Jeep Compass 2.0 Longitude Option BSIV          10.03 Lakh   \n1           1            Renault Duster RXZ Turbo CVT          12.83 Lakh   \n2           2                      Toyota Camry 2.5 G          16.40 Lakh   \n3           3                       Honda Jazz VX CVT           7.77 Lakh   \n4           4        Volkswagen Polo 1.2 MPI Highline           5.15 Lakh   \n\n   kms_driven fuel_type transmission  ownership  manufacture   engine    Seats  \n0  86,226 kms    Diesel       Manual  1st Owner         2017  1956 cc  5 Seats  \n1  13,248 kms    Petrol    Automatic  1st Owner         2021  1330 cc  5 Seats  \n2  60,343 kms    Petrol    Automatic  1st Owner         2016  2494 cc  5 Seats  \n3  26,696 kms    Petrol    Automatic  1st Owner         2018  1199 cc  5 Seats  \n4  69,414 kms    Petrol       Manual  1st Owner         2016  1199 cc  5 Seats  ",
      "text/html": "<div>\n<style scoped>\n    .dataframe tbody tr th:only-of-type {\n        vertical-align: middle;\n    }\n\n    .dataframe tbody tr th {\n        vertical-align: top;\n    }\n\n    .dataframe thead th {\n        text-align: right;\n    }\n</style>\n<table border=\"1\" class=\"dataframe\">\n  <thead>\n    <tr style=\"text-align: right;\">\n      <th></th>\n      <th>Unnamed: 0</th>\n      <th>car_name</th>\n      <th>car_prices_in_rupee</th>\n      <th>kms_driven</th>\n      <th>fuel_type</th>\n      <th>transmission</th>\n      <th>ownership</th>\n      <th>manufacture</th>\n      <th>engine</th>\n      <th>Seats</th>\n    </tr>\n  </thead>\n  <tbody>\n    <tr>\n      <th>0</th>\n      <td>0</td>\n      <td>Jeep Compass 2.0 Longitude Option BSIV</td>\n      <td>10.03 Lakh</td>\n      <td>86,226 kms</td>\n      <td>Diesel</td>\n      <td>Manual</td>\n      <td>1st Owner</td>\n      <td>2017</td>\n      <td>1956 cc</td>\n      <td>5 Seats</td>\n    </tr>\n    <tr>\n      <th>1</th>\n      <td>1</td>\n      <td>Renault Duster RXZ Turbo CVT</td>\n      <td>12.83 Lakh</td>\n      <td>13,248 kms</td>\n      <td>Petrol</td>\n      <td>Automatic</td>\n      <td>1st Owner</td>\n      <td>2021</td>\n      <td>1330 cc</td>\n      <td>5 Seats</td>\n    </tr>\n    <tr>\n      <th>2</th>\n      <td>2</td>\n      <td>Toyota Camry 2.5 G</td>\n      <td>16.40 Lakh</td>\n      <td>60,343 kms</td>\n      <td>Petrol</td>\n      <td>Automatic</td>\n      <td>1st Owner</td>\n      <td>2016</td>\n      <td>2494 cc</td>\n      <td>5 Seats</td>\n    </tr>\n    <tr>\n      <th>3</th>\n      <td>3</td>\n      <td>Honda Jazz VX CVT</td>\n      <td>7.77 Lakh</td>\n      <td>26,696 kms</td>\n      <td>Petrol</td>\n      <td>Automatic</td>\n      <td>1st Owner</td>\n      <td>2018</td>\n      <td>1199 cc</td>\n      <td>5 Seats</td>\n    </tr>\n    <tr>\n      <th>4</th>\n      <td>4</td>\n      <td>Volkswagen Polo 1.2 MPI Highline</td>\n      <td>5.15 Lakh</td>\n      <td>69,414 kms</td>\n      <td>Petrol</td>\n      <td>Manual</td>\n      <td>1st Owner</td>\n      <td>2016</td>\n      <td>1199 cc</td>\n      <td>5 Seats</td>\n    </tr>\n  </tbody>\n</table>\n</div>"
     },
     "execution_count": 141,
     "metadata": {},
     "output_type": "execute_result"
    }
   ],
   "source": [
    "path ='../data/car_price.csv'\n",
    "df = pd.read_csv(path)\n",
    "df.head()"
   ],
   "metadata": {
    "collapsed": false,
    "ExecuteTime": {
     "end_time": "2023-06-05T15:16:45.014074100Z",
     "start_time": "2023-06-05T15:16:44.910413800Z"
    }
   }
  },
  {
   "cell_type": "markdown",
   "source": [
    "# Describe data\n"
   ],
   "metadata": {
    "collapsed": false
   }
  },
  {
   "cell_type": "code",
   "execution_count": 142,
   "outputs": [
    {
     "name": "stdout",
     "output_type": "stream",
     "text": [
      "Shape of data:\n",
      " (5512, 10)\n",
      "----------------------------------------\n",
      "Columns of data: \n",
      " Index(['Unnamed: 0', 'car_name', 'car_prices_in_rupee', 'kms_driven',\n",
      "       'fuel_type', 'transmission', 'ownership', 'manufacture', 'engine',\n",
      "       'Seats'],\n",
      "      dtype='object')\n",
      "----------------------------------------\n",
      "Data types of data: \n",
      " Unnamed: 0              int64\n",
      "car_name               object\n",
      "car_prices_in_rupee    object\n",
      "kms_driven             object\n",
      "fuel_type              object\n",
      "transmission           object\n",
      "ownership              object\n",
      "manufacture             int64\n",
      "engine                 object\n",
      "Seats                  object\n",
      "dtype: object\n",
      "----------------------------------------\n",
      "Missing values of data: \n",
      " Unnamed: 0             0\n",
      "car_name               0\n",
      "car_prices_in_rupee    0\n",
      "kms_driven             0\n",
      "fuel_type              0\n",
      "transmission           0\n",
      "ownership              0\n",
      "manufacture            0\n",
      "engine                 0\n",
      "Seats                  0\n",
      "dtype: int64\n",
      "----------------------------------------\n",
      "Describe data: \n",
      "         Unnamed: 0  manufacture\n",
      "count  5512.000000  5512.000000\n",
      "mean   2755.500000  2015.455552\n",
      "std    1591.321673     3.927974\n",
      "min       0.000000  1995.000000\n",
      "25%    1377.750000  2013.000000\n",
      "50%    2755.500000  2016.000000\n",
      "75%    4133.250000  2018.000000\n",
      "max    5511.000000  2022.000000\n",
      "----------------------------------------\n",
      "<class 'pandas.core.frame.DataFrame'>\n",
      "RangeIndex: 5512 entries, 0 to 5511\n",
      "Data columns (total 10 columns):\n",
      " #   Column               Non-Null Count  Dtype \n",
      "---  ------               --------------  ----- \n",
      " 0   Unnamed: 0           5512 non-null   int64 \n",
      " 1   car_name             5512 non-null   object\n",
      " 2   car_prices_in_rupee  5512 non-null   object\n",
      " 3   kms_driven           5512 non-null   object\n",
      " 4   fuel_type            5512 non-null   object\n",
      " 5   transmission         5512 non-null   object\n",
      " 6   ownership            5512 non-null   object\n",
      " 7   manufacture          5512 non-null   int64 \n",
      " 8   engine               5512 non-null   object\n",
      " 9   Seats                5512 non-null   object\n",
      "dtypes: int64(2), object(8)\n",
      "memory usage: 430.8+ KB\n",
      "Info data: \n",
      " None\n"
     ]
    }
   ],
   "source": [
    "def describle_data():\n",
    "    print('Shape of data:\\n', df.shape)\n",
    "    print('--'*20)\n",
    "    print('Columns of data: \\n', df.columns)\n",
    "    print('--'*20)\n",
    "    print('Data types of data: \\n', df.dtypes)\n",
    "    print('--'*20)\n",
    "    print('Missing values of data: \\n', df.isnull().sum())\n",
    "    print('--'*20)\n",
    "    print('Describe data: \\n', df.describe())\n",
    "    print('--'*20)\n",
    "    print('Info data: \\n', df.info())\n",
    "describle_data()"
   ],
   "metadata": {
    "collapsed": false,
    "ExecuteTime": {
     "end_time": "2023-06-05T15:16:45.027181200Z",
     "start_time": "2023-06-05T15:16:44.940744500Z"
    }
   }
  },
  {
   "cell_type": "markdown",
   "source": [
    "# Preprocessing data"
   ],
   "metadata": {
    "collapsed": false
   }
  },
  {
   "cell_type": "markdown",
   "source": [
    "Calculating prices in rupee and change it to VND\n",
    "First move Lakh from price to new column and then change it to VND\n",
    "Lakh is 100000 rupee\n",
    "Crore is 10000000 rupee\n",
    "1 rupee = 284.35 VND (6/5/2023)\n",
    "\n",
    " The import tax for cars from non-ASEAN regions to Vietnam is 70%, and the special consumption tax ranges from 40-150%. India has an import tax of 60% and a special consumption tax ranging from 12.5-30%.\n",
    " So we will calculate tax for car price in VND is about 47.222% larger than price car in India"
   ],
   "metadata": {
    "collapsed": false
   }
  },
  {
   "cell_type": "code",
   "execution_count": 143,
   "outputs": [],
   "source": [
    "def convert_price(price):\n",
    "    value, unit = price.split(' ')\n",
    "    value = value.replace(',', '.')\n",
    "    if unit == 'Lakh':\n",
    "        return float(value) * 100000\n",
    "    elif unit == 'Crore':\n",
    "        return float(value) * 10000000\n",
    "    else:\n",
    "        return float(value)\n",
    "\n",
    "def change_price_to_vnd(price):\n",
    "    return price * 284.35\n",
    "def calculate_tax(price):\n",
    "    return price*1.4722\n",
    "\n",
    "df['car_prices_in_rupee'] = df['car_prices_in_rupee'].apply(convert_price)\n",
    "df.rename(columns={'car_prices_in_rupee': 'car_prices_in_vnd'}, inplace=True)\n",
    "df['car_prices_in_vnd'] = df['car_prices_in_vnd'].apply(change_price_to_vnd).apply(calculate_tax)"
   ],
   "metadata": {
    "collapsed": false,
    "ExecuteTime": {
     "end_time": "2023-06-05T15:16:45.029202Z",
     "start_time": "2023-06-05T15:16:44.969893500Z"
    }
   }
  },
  {
   "cell_type": "code",
   "execution_count": 144,
   "outputs": [
    {
     "data": {
      "text/plain": "   Unnamed: 0                                car_name  car_prices_in_vnd  \\\n0           0  Jeep Compass 2.0 Longitude Option BSIV       4.198759e+08   \n1           1            Renault Duster RXZ Turbo CVT       5.370895e+08   \n2           2                      Toyota Camry 2.5 G       6.865369e+08   \n3           3                       Honda Jazz VX CVT       3.252678e+08   \n4           4        Volkswagen Polo 1.2 MPI Highline       2.155893e+08   \n\n   kms_driven fuel_type transmission  ownership  manufacture   engine    Seats  \n0  86,226 kms    Diesel       Manual  1st Owner         2017  1956 cc  5 Seats  \n1  13,248 kms    Petrol    Automatic  1st Owner         2021  1330 cc  5 Seats  \n2  60,343 kms    Petrol    Automatic  1st Owner         2016  2494 cc  5 Seats  \n3  26,696 kms    Petrol    Automatic  1st Owner         2018  1199 cc  5 Seats  \n4  69,414 kms    Petrol       Manual  1st Owner         2016  1199 cc  5 Seats  ",
      "text/html": "<div>\n<style scoped>\n    .dataframe tbody tr th:only-of-type {\n        vertical-align: middle;\n    }\n\n    .dataframe tbody tr th {\n        vertical-align: top;\n    }\n\n    .dataframe thead th {\n        text-align: right;\n    }\n</style>\n<table border=\"1\" class=\"dataframe\">\n  <thead>\n    <tr style=\"text-align: right;\">\n      <th></th>\n      <th>Unnamed: 0</th>\n      <th>car_name</th>\n      <th>car_prices_in_vnd</th>\n      <th>kms_driven</th>\n      <th>fuel_type</th>\n      <th>transmission</th>\n      <th>ownership</th>\n      <th>manufacture</th>\n      <th>engine</th>\n      <th>Seats</th>\n    </tr>\n  </thead>\n  <tbody>\n    <tr>\n      <th>0</th>\n      <td>0</td>\n      <td>Jeep Compass 2.0 Longitude Option BSIV</td>\n      <td>4.198759e+08</td>\n      <td>86,226 kms</td>\n      <td>Diesel</td>\n      <td>Manual</td>\n      <td>1st Owner</td>\n      <td>2017</td>\n      <td>1956 cc</td>\n      <td>5 Seats</td>\n    </tr>\n    <tr>\n      <th>1</th>\n      <td>1</td>\n      <td>Renault Duster RXZ Turbo CVT</td>\n      <td>5.370895e+08</td>\n      <td>13,248 kms</td>\n      <td>Petrol</td>\n      <td>Automatic</td>\n      <td>1st Owner</td>\n      <td>2021</td>\n      <td>1330 cc</td>\n      <td>5 Seats</td>\n    </tr>\n    <tr>\n      <th>2</th>\n      <td>2</td>\n      <td>Toyota Camry 2.5 G</td>\n      <td>6.865369e+08</td>\n      <td>60,343 kms</td>\n      <td>Petrol</td>\n      <td>Automatic</td>\n      <td>1st Owner</td>\n      <td>2016</td>\n      <td>2494 cc</td>\n      <td>5 Seats</td>\n    </tr>\n    <tr>\n      <th>3</th>\n      <td>3</td>\n      <td>Honda Jazz VX CVT</td>\n      <td>3.252678e+08</td>\n      <td>26,696 kms</td>\n      <td>Petrol</td>\n      <td>Automatic</td>\n      <td>1st Owner</td>\n      <td>2018</td>\n      <td>1199 cc</td>\n      <td>5 Seats</td>\n    </tr>\n    <tr>\n      <th>4</th>\n      <td>4</td>\n      <td>Volkswagen Polo 1.2 MPI Highline</td>\n      <td>2.155893e+08</td>\n      <td>69,414 kms</td>\n      <td>Petrol</td>\n      <td>Manual</td>\n      <td>1st Owner</td>\n      <td>2016</td>\n      <td>1199 cc</td>\n      <td>5 Seats</td>\n    </tr>\n  </tbody>\n</table>\n</div>"
     },
     "execution_count": 144,
     "metadata": {},
     "output_type": "execute_result"
    }
   ],
   "source": [
    "df.head()\n"
   ],
   "metadata": {
    "collapsed": false,
    "ExecuteTime": {
     "end_time": "2023-06-05T15:16:45.031197200Z",
     "start_time": "2023-06-05T15:16:45.001523600Z"
    }
   }
  },
  {
   "cell_type": "markdown",
   "source": [
    "Convert driven km to float"
   ],
   "metadata": {
    "collapsed": false
   }
  },
  {
   "cell_type": "code",
   "execution_count": 145,
   "outputs": [
    {
     "ename": "ValueError",
     "evalue": "could not convert string to float: '1.10.284'",
     "output_type": "error",
     "traceback": [
      "\u001B[1;31m---------------------------------------------------------------------------\u001B[0m",
      "\u001B[1;31mValueError\u001B[0m                                Traceback (most recent call last)",
      "Cell \u001B[1;32mIn[145], line 5\u001B[0m\n\u001B[0;32m      3\u001B[0m     value \u001B[38;5;241m=\u001B[39m value\u001B[38;5;241m.\u001B[39mreplace(\u001B[38;5;124m'\u001B[39m\u001B[38;5;124m,\u001B[39m\u001B[38;5;124m'\u001B[39m, \u001B[38;5;124m'\u001B[39m\u001B[38;5;124m.\u001B[39m\u001B[38;5;124m'\u001B[39m)\n\u001B[0;32m      4\u001B[0m     \u001B[38;5;28;01mreturn\u001B[39;00m \u001B[38;5;28mfloat\u001B[39m(value)\n\u001B[1;32m----> 5\u001B[0m df[\u001B[38;5;124m'\u001B[39m\u001B[38;5;124mkms_driven\u001B[39m\u001B[38;5;124m'\u001B[39m] \u001B[38;5;241m=\u001B[39m \u001B[43mdf\u001B[49m\u001B[43m[\u001B[49m\u001B[38;5;124;43m'\u001B[39;49m\u001B[38;5;124;43mkms_driven\u001B[39;49m\u001B[38;5;124;43m'\u001B[39;49m\u001B[43m]\u001B[49m\u001B[38;5;241;43m.\u001B[39;49m\u001B[43mapply\u001B[49m\u001B[43m(\u001B[49m\u001B[43mconvert_driven_km\u001B[49m\u001B[43m)\u001B[49m\n",
      "File \u001B[1;32m~\\anaconda3\\envs\\Old-car-price-prediction\\lib\\site-packages\\pandas\\core\\series.py:4630\u001B[0m, in \u001B[0;36mSeries.apply\u001B[1;34m(self, func, convert_dtype, args, **kwargs)\u001B[0m\n\u001B[0;32m   4520\u001B[0m \u001B[38;5;28;01mdef\u001B[39;00m \u001B[38;5;21mapply\u001B[39m(\n\u001B[0;32m   4521\u001B[0m     \u001B[38;5;28mself\u001B[39m,\n\u001B[0;32m   4522\u001B[0m     func: AggFuncType,\n\u001B[1;32m   (...)\u001B[0m\n\u001B[0;32m   4525\u001B[0m     \u001B[38;5;241m*\u001B[39m\u001B[38;5;241m*\u001B[39mkwargs,\n\u001B[0;32m   4526\u001B[0m ) \u001B[38;5;241m-\u001B[39m\u001B[38;5;241m>\u001B[39m DataFrame \u001B[38;5;241m|\u001B[39m Series:\n\u001B[0;32m   4527\u001B[0m \u001B[38;5;250m    \u001B[39m\u001B[38;5;124;03m\"\"\"\u001B[39;00m\n\u001B[0;32m   4528\u001B[0m \u001B[38;5;124;03m    Invoke function on values of Series.\u001B[39;00m\n\u001B[0;32m   4529\u001B[0m \n\u001B[1;32m   (...)\u001B[0m\n\u001B[0;32m   4628\u001B[0m \u001B[38;5;124;03m    dtype: float64\u001B[39;00m\n\u001B[0;32m   4629\u001B[0m \u001B[38;5;124;03m    \"\"\"\u001B[39;00m\n\u001B[1;32m-> 4630\u001B[0m     \u001B[38;5;28;01mreturn\u001B[39;00m \u001B[43mSeriesApply\u001B[49m\u001B[43m(\u001B[49m\u001B[38;5;28;43mself\u001B[39;49m\u001B[43m,\u001B[49m\u001B[43m \u001B[49m\u001B[43mfunc\u001B[49m\u001B[43m,\u001B[49m\u001B[43m \u001B[49m\u001B[43mconvert_dtype\u001B[49m\u001B[43m,\u001B[49m\u001B[43m \u001B[49m\u001B[43margs\u001B[49m\u001B[43m,\u001B[49m\u001B[43m \u001B[49m\u001B[43mkwargs\u001B[49m\u001B[43m)\u001B[49m\u001B[38;5;241;43m.\u001B[39;49m\u001B[43mapply\u001B[49m\u001B[43m(\u001B[49m\u001B[43m)\u001B[49m\n",
      "File \u001B[1;32m~\\anaconda3\\envs\\Old-car-price-prediction\\lib\\site-packages\\pandas\\core\\apply.py:1025\u001B[0m, in \u001B[0;36mSeriesApply.apply\u001B[1;34m(self)\u001B[0m\n\u001B[0;32m   1022\u001B[0m     \u001B[38;5;28;01mreturn\u001B[39;00m \u001B[38;5;28mself\u001B[39m\u001B[38;5;241m.\u001B[39mapply_str()\n\u001B[0;32m   1024\u001B[0m \u001B[38;5;66;03m# self.f is Callable\u001B[39;00m\n\u001B[1;32m-> 1025\u001B[0m \u001B[38;5;28;01mreturn\u001B[39;00m \u001B[38;5;28;43mself\u001B[39;49m\u001B[38;5;241;43m.\u001B[39;49m\u001B[43mapply_standard\u001B[49m\u001B[43m(\u001B[49m\u001B[43m)\u001B[49m\n",
      "File \u001B[1;32m~\\anaconda3\\envs\\Old-car-price-prediction\\lib\\site-packages\\pandas\\core\\apply.py:1076\u001B[0m, in \u001B[0;36mSeriesApply.apply_standard\u001B[1;34m(self)\u001B[0m\n\u001B[0;32m   1074\u001B[0m     \u001B[38;5;28;01melse\u001B[39;00m:\n\u001B[0;32m   1075\u001B[0m         values \u001B[38;5;241m=\u001B[39m obj\u001B[38;5;241m.\u001B[39mastype(\u001B[38;5;28mobject\u001B[39m)\u001B[38;5;241m.\u001B[39m_values\n\u001B[1;32m-> 1076\u001B[0m         mapped \u001B[38;5;241m=\u001B[39m \u001B[43mlib\u001B[49m\u001B[38;5;241;43m.\u001B[39;49m\u001B[43mmap_infer\u001B[49m\u001B[43m(\u001B[49m\n\u001B[0;32m   1077\u001B[0m \u001B[43m            \u001B[49m\u001B[43mvalues\u001B[49m\u001B[43m,\u001B[49m\n\u001B[0;32m   1078\u001B[0m \u001B[43m            \u001B[49m\u001B[43mf\u001B[49m\u001B[43m,\u001B[49m\n\u001B[0;32m   1079\u001B[0m \u001B[43m            \u001B[49m\u001B[43mconvert\u001B[49m\u001B[38;5;241;43m=\u001B[39;49m\u001B[38;5;28;43mself\u001B[39;49m\u001B[38;5;241;43m.\u001B[39;49m\u001B[43mconvert_dtype\u001B[49m\u001B[43m,\u001B[49m\n\u001B[0;32m   1080\u001B[0m \u001B[43m        \u001B[49m\u001B[43m)\u001B[49m\n\u001B[0;32m   1082\u001B[0m \u001B[38;5;28;01mif\u001B[39;00m \u001B[38;5;28mlen\u001B[39m(mapped) \u001B[38;5;129;01mand\u001B[39;00m \u001B[38;5;28misinstance\u001B[39m(mapped[\u001B[38;5;241m0\u001B[39m], ABCSeries):\n\u001B[0;32m   1083\u001B[0m     \u001B[38;5;66;03m# GH#43986 Need to do list(mapped) in order to get treated as nested\u001B[39;00m\n\u001B[0;32m   1084\u001B[0m     \u001B[38;5;66;03m#  See also GH#25959 regarding EA support\u001B[39;00m\n\u001B[0;32m   1085\u001B[0m     \u001B[38;5;28;01mreturn\u001B[39;00m obj\u001B[38;5;241m.\u001B[39m_constructor_expanddim(\u001B[38;5;28mlist\u001B[39m(mapped), index\u001B[38;5;241m=\u001B[39mobj\u001B[38;5;241m.\u001B[39mindex)\n",
      "File \u001B[1;32m~\\anaconda3\\envs\\Old-car-price-prediction\\lib\\site-packages\\pandas\\_libs\\lib.pyx:2834\u001B[0m, in \u001B[0;36mpandas._libs.lib.map_infer\u001B[1;34m()\u001B[0m\n",
      "Cell \u001B[1;32mIn[145], line 4\u001B[0m, in \u001B[0;36mconvert_driven_km\u001B[1;34m(driven_km)\u001B[0m\n\u001B[0;32m      2\u001B[0m value\u001B[38;5;241m=\u001B[39m driven_km\u001B[38;5;241m.\u001B[39msplit(\u001B[38;5;124m'\u001B[39m\u001B[38;5;124m \u001B[39m\u001B[38;5;124m'\u001B[39m)[\u001B[38;5;241m0\u001B[39m]\n\u001B[0;32m      3\u001B[0m value \u001B[38;5;241m=\u001B[39m value\u001B[38;5;241m.\u001B[39mreplace(\u001B[38;5;124m'\u001B[39m\u001B[38;5;124m,\u001B[39m\u001B[38;5;124m'\u001B[39m, \u001B[38;5;124m'\u001B[39m\u001B[38;5;124m.\u001B[39m\u001B[38;5;124m'\u001B[39m)\n\u001B[1;32m----> 4\u001B[0m \u001B[38;5;28;01mreturn\u001B[39;00m \u001B[38;5;28;43mfloat\u001B[39;49m\u001B[43m(\u001B[49m\u001B[43mvalue\u001B[49m\u001B[43m)\u001B[49m\n",
      "\u001B[1;31mValueError\u001B[0m: could not convert string to float: '1.10.284'"
     ]
    }
   ],
   "source": [
    "def convert_driven_km(driven_km):\n",
    "    value= driven_km.split(' ')[0]\n",
    "    value = value.replace(',', '.')\n",
    "    return float(value)\n",
    "df['kms_driven'] = df['kms_driven'].apply(convert_driven_km)"
   ],
   "metadata": {
    "collapsed": false,
    "ExecuteTime": {
     "end_time": "2023-06-05T15:16:45.230615300Z",
     "start_time": "2023-06-05T15:16:45.027181200Z"
    }
   }
  },
  {
   "cell_type": "code",
   "execution_count": null,
   "outputs": [],
   "source": [
    "df['kms_driven'].head()"
   ],
   "metadata": {
    "collapsed": false,
    "ExecuteTime": {
     "start_time": "2023-06-05T15:16:45.101487700Z"
    }
   }
  },
  {
   "cell_type": "markdown",
   "source": [],
   "metadata": {
    "collapsed": false
   }
  },
  {
   "cell_type": "markdown",
   "source": [
    "ownership column\n"
   ],
   "metadata": {
    "collapsed": false
   }
  },
  {
   "cell_type": "code",
   "execution_count": null,
   "outputs": [],
   "source": [
    "df['ownership']=df['ownership'].astype(str)\n",
    "df['ownership']=df['ownership'].str[0]\n",
    "df['ownership'].head()\n",
    "df['ownership']=df['ownership'].astype(int)"
   ],
   "metadata": {
    "collapsed": false,
    "ExecuteTime": {
     "start_time": "2023-06-05T15:16:45.104485400Z"
    }
   }
  },
  {
   "cell_type": "markdown",
   "source": [],
   "metadata": {
    "collapsed": false
   }
  },
  {
   "cell_type": "code",
   "execution_count": 148,
   "outputs": [
    {
     "data": {
      "text/plain": "<bound method Series.info of 0       4.198759e+08\n1       5.370895e+08\n2       6.865369e+08\n3       3.252678e+08\n4       2.155893e+08\n            ...     \n5507    1.209812e+09\n5508    2.716844e+09\n5509    5.756026e+08\n5510    1.251674e+09\n5511    1.335398e+09\nName: car_prices_in_vnd, Length: 5512, dtype: float64>"
     },
     "execution_count": 148,
     "metadata": {},
     "output_type": "execute_result"
    }
   ],
   "source": [],
   "metadata": {
    "collapsed": false,
    "ExecuteTime": {
     "end_time": "2023-06-05T15:17:13.756670300Z",
     "start_time": "2023-06-05T15:17:13.744015900Z"
    }
   }
  },
  {
   "cell_type": "markdown",
   "source": [],
   "metadata": {
    "collapsed": false
   }
  }
 ],
 "metadata": {
  "kernelspec": {
   "display_name": "Python 3",
   "language": "python",
   "name": "python3"
  },
  "language_info": {
   "codemirror_mode": {
    "name": "ipython",
    "version": 2
   },
   "file_extension": ".py",
   "mimetype": "text/x-python",
   "name": "python",
   "nbconvert_exporter": "python",
   "pygments_lexer": "ipython2",
   "version": "2.7.6"
  }
 },
 "nbformat": 4,
 "nbformat_minor": 0
}
