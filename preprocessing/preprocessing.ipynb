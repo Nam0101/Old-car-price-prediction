{
 "cells": [
  {
   "cell_type": "code",
   "id": "initial_id",
   "metadata": {
    "collapsed": true,
    "ExecuteTime": {
     "end_time": "2024-05-31T10:28:07.741576Z",
     "start_time": "2024-05-31T10:28:07.711144Z"
    }
   },
   "source": [
    "import copy\n",
    "import numpy as np\n",
    "import pandas as pd\n",
    "from sklearn.preprocessing import OneHotEncoder\n",
    "import matplotlib.pyplot as plt\n",
    "import seaborn as sns\n",
    "from sklearn.preprocessing import StandardScaler\n",
    "from sklearn.model_selection import train_test_split\n",
    "from sklearn.metrics import mean_squared_error\n",
    "from sklearn.linear_model import LinearRegression\n",
    "from sklearn import metrics\n",
    "import pickle\n",
    "import lightgbm as lgb\n",
    "from category_encoders import TargetEncoder, JamesSteinEncoder"
   ],
   "outputs": [],
   "execution_count": 356
  },
  {
   "metadata": {
    "ExecuteTime": {
     "end_time": "2024-05-31T10:28:08.017139Z",
     "start_time": "2024-05-31T10:28:07.883782Z"
    }
   },
   "cell_type": "code",
   "source": "df = pd.read_csv('../data/data.csv')",
   "id": "e8b198cfc5357160",
   "outputs": [],
   "execution_count": 357
  },
  {
   "metadata": {
    "ExecuteTime": {
     "end_time": "2024-05-31T10:28:08.053491Z",
     "start_time": "2024-05-31T10:28:08.018157Z"
    }
   },
   "cell_type": "code",
   "source": "df.price.describe()",
   "id": "76adfd2653ae735b",
   "outputs": [
    {
     "data": {
      "text/plain": [
       "count    1.253600e+04\n",
       "mean     1.162871e+09\n",
       "std      1.650832e+09\n",
       "min      2.600000e+07\n",
       "25%      4.700000e+08\n",
       "50%      6.660000e+08\n",
       "75%      1.098250e+09\n",
       "max      4.380000e+10\n",
       "Name: price, dtype: float64"
      ]
     },
     "execution_count": 358,
     "metadata": {},
     "output_type": "execute_result"
    }
   ],
   "execution_count": 358
  },
  {
   "metadata": {},
   "cell_type": "markdown",
   "source": "# Data Preprocessing for Old car data\n",
   "id": "a7f02a28d6068c4f"
  },
  {
   "metadata": {},
   "cell_type": "markdown",
   "source": "# Loại bỏ các ngoại lệ ",
   "id": "bbe81cd4f8c6dfe1"
  },
  {
   "metadata": {
    "ExecuteTime": {
     "end_time": "2024-05-31T10:28:08.066770Z",
     "start_time": "2024-05-31T10:28:08.054499Z"
    }
   },
   "cell_type": "code",
   "source": [
    "price_std = df['price'].std()\n",
    "price_mean = df['price'].mean()\n",
    "lower_bound = price_mean - 3 * price_std\n",
    "upper_bound = price_mean + 3 * price_std\n",
    "df = df[(df['price'] >= lower_bound) & (df['price'] <= upper_bound)]"
   ],
   "id": "6d19d0e8b2155d47",
   "outputs": [],
   "execution_count": 359
  },
  {
   "metadata": {
    "ExecuteTime": {
     "end_time": "2024-05-31T10:28:08.080372Z",
     "start_time": "2024-05-31T10:28:08.069299Z"
    }
   },
   "cell_type": "code",
   "source": "df['price'].describe()",
   "id": "d6679fd9df59c7d9",
   "outputs": [
    {
     "data": {
      "text/plain": [
       "count    1.229200e+04\n",
       "mean     9.959396e+08\n",
       "std      9.743532e+08\n",
       "min      2.600000e+07\n",
       "25%      4.680000e+08\n",
       "50%      6.580000e+08\n",
       "75%      1.040000e+09\n",
       "max      6.088000e+09\n",
       "Name: price, dtype: float64"
      ]
     },
     "execution_count": 360,
     "metadata": {},
     "output_type": "execute_result"
    }
   ],
   "execution_count": 360
  },
  {
   "metadata": {
    "ExecuteTime": {
     "end_time": "2024-05-31T10:28:08.089412Z",
     "start_time": "2024-05-31T10:28:08.081890Z"
    }
   },
   "cell_type": "code",
   "source": "df = df[df['km'] >= 100]\n",
   "id": "8d312c22184df270",
   "outputs": [],
   "execution_count": 361
  },
  {
   "metadata": {
    "ExecuteTime": {
     "end_time": "2024-05-31T10:28:08.100783Z",
     "start_time": "2024-05-31T10:28:08.090423Z"
    }
   },
   "cell_type": "code",
   "source": [
    "current_year = pd.to_datetime('today').year\n",
    "df = df[df['year'] >= (current_year - 15)]"
   ],
   "id": "76f741fb24f5694c",
   "outputs": [],
   "execution_count": 362
  },
  {
   "metadata": {},
   "cell_type": "markdown",
   "source": "# Preprocessing for categorical features\n",
   "id": "b334a5886408c2a"
  },
  {
   "metadata": {
    "ExecuteTime": {
     "end_time": "2024-05-31T10:28:08.116797Z",
     "start_time": "2024-05-31T10:28:08.101802Z"
    }
   },
   "cell_type": "code",
   "source": [
    "# df['brand'] = df['brand'].str.lower()\n",
    "# df['model'] = df['model'].str.lower()"
   ],
   "id": "b3a3d31dc2455652",
   "outputs": [],
   "execution_count": 363
  },
  {
   "metadata": {
    "ExecuteTime": {
     "end_time": "2024-05-31T10:28:08.128536Z",
     "start_time": "2024-05-31T10:28:08.119321Z"
    }
   },
   "cell_type": "code",
   "source": "df['brand'].value_counts()",
   "id": "cf3bb5726433d575",
   "outputs": [
    {
     "data": {
      "text/plain": [
       "brand\n",
       "toyota           2353\n",
       "mercedes         1494\n",
       "hyundai          1380\n",
       "kia              1117\n",
       "ford             1067\n",
       "mazda            1032\n",
       "mitsubishi        486\n",
       "honda             482\n",
       "lexus             455\n",
       "vinfast           453\n",
       "bmw               255\n",
       "porsche           200\n",
       "landrover         172\n",
       "peugeot           149\n",
       "chevrolet         135\n",
       "audi              107\n",
       "suzuki            102\n",
       "nissan             93\n",
       "mg                 86\n",
       "mercedes-benz      38\n",
       "volkswagen         36\n",
       "other              35\n",
       "mini               33\n",
       "volvo              21\n",
       "daewoo             20\n",
       "jeep               16\n",
       "cadillac           13\n",
       "maserati           13\n",
       "isuzu              11\n",
       "infiniti           11\n",
       "jaguar             10\n",
       "bentley             6\n",
       "land                5\n",
       "rolls               3\n",
       "Name: count, dtype: int64"
      ]
     },
     "execution_count": 364,
     "metadata": {},
     "output_type": "execute_result"
    }
   ],
   "execution_count": 364
  },
  {
   "metadata": {
    "ExecuteTime": {
     "end_time": "2024-05-31T10:28:08.160868Z",
     "start_time": "2024-05-31T10:28:08.156254Z"
    }
   },
   "cell_type": "code",
   "source": "# sử dụng target encoding cho brand và JamesSteinEncoder cho model",
   "id": "562ab5cda14afa4d",
   "outputs": [],
   "execution_count": 365
  },
  {
   "metadata": {
    "ExecuteTime": {
     "end_time": "2024-05-31T10:28:08.252110Z",
     "start_time": "2024-05-31T10:28:08.239616Z"
    }
   },
   "cell_type": "code",
   "source": "df.isna().sum()\n",
   "id": "4a1661bf98b80182",
   "outputs": [
    {
     "data": {
      "text/plain": [
       "car_name          0\n",
       "year              0\n",
       "price             0\n",
       "assemble_place    0\n",
       "series            0\n",
       "km                0\n",
       "engine_type       0\n",
       "transmission      0\n",
       "url               0\n",
       "brand             0\n",
       "model             1\n",
       "dtype: int64"
      ]
     },
     "execution_count": 366,
     "metadata": {},
     "output_type": "execute_result"
    }
   ],
   "execution_count": 366
  },
  {
   "metadata": {
    "ExecuteTime": {
     "end_time": "2024-05-31T10:28:08.568393Z",
     "start_time": "2024-05-31T10:28:08.420401Z"
    }
   },
   "cell_type": "code",
   "source": [
    "target_enc = TargetEncoder()\n",
    "js_enc = JamesSteinEncoder()\n",
    "\n",
    "df['brand'] = target_enc.fit_transform(df['brand'], df['price'])\n",
    "df['model'] = js_enc.fit_transform(df['model'], df['price'])\n",
    "df['series'] = target_enc.fit_transform(df['series'], df['price'])"
   ],
   "id": "727a00ea2532833b",
   "outputs": [],
   "execution_count": 367
  },
  {
   "metadata": {
    "ExecuteTime": {
     "end_time": "2024-05-31T10:28:08.579472Z",
     "start_time": "2024-05-31T10:28:08.570410Z"
    }
   },
   "cell_type": "code",
   "source": "df.isna().sum()\n",
   "id": "6c03a0b26f6f8fa0",
   "outputs": [
    {
     "data": {
      "text/plain": [
       "car_name          0\n",
       "year              0\n",
       "price             0\n",
       "assemble_place    0\n",
       "series            0\n",
       "km                0\n",
       "engine_type       0\n",
       "transmission      0\n",
       "url               0\n",
       "brand             0\n",
       "model             0\n",
       "dtype: int64"
      ]
     },
     "execution_count": 368,
     "metadata": {},
     "output_type": "execute_result"
    }
   ],
   "execution_count": 368
  },
  {
   "metadata": {
    "ExecuteTime": {
     "end_time": "2024-05-31T10:28:08.594130Z",
     "start_time": "2024-05-31T10:28:08.581137Z"
    }
   },
   "cell_type": "code",
   "source": "df.head()",
   "id": "562922ac542bd1cf",
   "outputs": [
    {
     "data": {
      "text/plain": [
       "                           car_name    year         price      assemble_place  \\\n",
       "0  Kia Sorento Signature 2.2 AT AWD  2020.0  8.990000e+08  Lắp ráp trong nước   \n",
       "1                  Kia Sorento GATH  2018.0  5.680000e+08  Lắp ráp trong nước   \n",
       "2             Mazda CX8 Premium AWD  2022.0  9.290000e+08  Lắp ráp trong nước   \n",
       "3              Nissan Almera 1.0 MT  2022.0  3.690000e+08           Nhập khẩu   \n",
       "4          Bentley Mulsanne 6.75 V8  2011.0  4.900000e+09           Nhập khẩu   \n",
       "\n",
       "         series     km engine_type transmission  \\\n",
       "0  1.340081e+09  60000         Dầu   Số tự động   \n",
       "1  1.340081e+09  80000        Xăng   Số tự động   \n",
       "2  1.340081e+09  50000        Xăng   Số tự động   \n",
       "3  8.902675e+08  25000        Xăng       Số tay   \n",
       "4  8.902675e+08  80000        Xăng   Số tự động   \n",
       "\n",
       "                                                 url         brand  \\\n",
       "0  https://bonbanh.com/xe-kia-sorento-signature-2...  6.027708e+08   \n",
       "1  https://bonbanh.com/xe-kia-sorento-gath-2018-5...  6.027708e+08   \n",
       "2  https://bonbanh.com/xe-mazda-cx8-premium-awd-2...  6.174147e+08   \n",
       "3  https://bonbanh.com/xe-nissan-almera-1.0-mt-20...  4.756669e+08   \n",
       "4  https://bonbanh.com/xe-bentley-mulsanne-6.75-v...  1.625612e+09   \n",
       "\n",
       "          model  \n",
       "0  1.009069e+09  \n",
       "1  5.025594e+08  \n",
       "2  9.519027e+08  \n",
       "3  3.770852e+08  \n",
       "4  4.775661e+09  "
      ],
      "text/html": [
       "<div>\n",
       "<style scoped>\n",
       "    .dataframe tbody tr th:only-of-type {\n",
       "        vertical-align: middle;\n",
       "    }\n",
       "\n",
       "    .dataframe tbody tr th {\n",
       "        vertical-align: top;\n",
       "    }\n",
       "\n",
       "    .dataframe thead th {\n",
       "        text-align: right;\n",
       "    }\n",
       "</style>\n",
       "<table border=\"1\" class=\"dataframe\">\n",
       "  <thead>\n",
       "    <tr style=\"text-align: right;\">\n",
       "      <th></th>\n",
       "      <th>car_name</th>\n",
       "      <th>year</th>\n",
       "      <th>price</th>\n",
       "      <th>assemble_place</th>\n",
       "      <th>series</th>\n",
       "      <th>km</th>\n",
       "      <th>engine_type</th>\n",
       "      <th>transmission</th>\n",
       "      <th>url</th>\n",
       "      <th>brand</th>\n",
       "      <th>model</th>\n",
       "    </tr>\n",
       "  </thead>\n",
       "  <tbody>\n",
       "    <tr>\n",
       "      <th>0</th>\n",
       "      <td>Kia Sorento Signature 2.2 AT AWD</td>\n",
       "      <td>2020.0</td>\n",
       "      <td>8.990000e+08</td>\n",
       "      <td>Lắp ráp trong nước</td>\n",
       "      <td>1.340081e+09</td>\n",
       "      <td>60000</td>\n",
       "      <td>Dầu</td>\n",
       "      <td>Số tự động</td>\n",
       "      <td>https://bonbanh.com/xe-kia-sorento-signature-2...</td>\n",
       "      <td>6.027708e+08</td>\n",
       "      <td>1.009069e+09</td>\n",
       "    </tr>\n",
       "    <tr>\n",
       "      <th>1</th>\n",
       "      <td>Kia Sorento GATH</td>\n",
       "      <td>2018.0</td>\n",
       "      <td>5.680000e+08</td>\n",
       "      <td>Lắp ráp trong nước</td>\n",
       "      <td>1.340081e+09</td>\n",
       "      <td>80000</td>\n",
       "      <td>Xăng</td>\n",
       "      <td>Số tự động</td>\n",
       "      <td>https://bonbanh.com/xe-kia-sorento-gath-2018-5...</td>\n",
       "      <td>6.027708e+08</td>\n",
       "      <td>5.025594e+08</td>\n",
       "    </tr>\n",
       "    <tr>\n",
       "      <th>2</th>\n",
       "      <td>Mazda CX8 Premium AWD</td>\n",
       "      <td>2022.0</td>\n",
       "      <td>9.290000e+08</td>\n",
       "      <td>Lắp ráp trong nước</td>\n",
       "      <td>1.340081e+09</td>\n",
       "      <td>50000</td>\n",
       "      <td>Xăng</td>\n",
       "      <td>Số tự động</td>\n",
       "      <td>https://bonbanh.com/xe-mazda-cx8-premium-awd-2...</td>\n",
       "      <td>6.174147e+08</td>\n",
       "      <td>9.519027e+08</td>\n",
       "    </tr>\n",
       "    <tr>\n",
       "      <th>3</th>\n",
       "      <td>Nissan Almera 1.0 MT</td>\n",
       "      <td>2022.0</td>\n",
       "      <td>3.690000e+08</td>\n",
       "      <td>Nhập khẩu</td>\n",
       "      <td>8.902675e+08</td>\n",
       "      <td>25000</td>\n",
       "      <td>Xăng</td>\n",
       "      <td>Số tay</td>\n",
       "      <td>https://bonbanh.com/xe-nissan-almera-1.0-mt-20...</td>\n",
       "      <td>4.756669e+08</td>\n",
       "      <td>3.770852e+08</td>\n",
       "    </tr>\n",
       "    <tr>\n",
       "      <th>4</th>\n",
       "      <td>Bentley Mulsanne 6.75 V8</td>\n",
       "      <td>2011.0</td>\n",
       "      <td>4.900000e+09</td>\n",
       "      <td>Nhập khẩu</td>\n",
       "      <td>8.902675e+08</td>\n",
       "      <td>80000</td>\n",
       "      <td>Xăng</td>\n",
       "      <td>Số tự động</td>\n",
       "      <td>https://bonbanh.com/xe-bentley-mulsanne-6.75-v...</td>\n",
       "      <td>1.625612e+09</td>\n",
       "      <td>4.775661e+09</td>\n",
       "    </tr>\n",
       "  </tbody>\n",
       "</table>\n",
       "</div>"
      ]
     },
     "execution_count": 369,
     "metadata": {},
     "output_type": "execute_result"
    }
   ],
   "execution_count": 369
  },
  {
   "metadata": {
    "ExecuteTime": {
     "end_time": "2024-05-31T10:28:08.602432Z",
     "start_time": "2024-05-31T10:28:08.596030Z"
    }
   },
   "cell_type": "code",
   "source": "# one hot encoder cho các cột còn lại",
   "id": "672522fe7d6360a1",
   "outputs": [],
   "execution_count": 370
  },
  {
   "metadata": {
    "ExecuteTime": {
     "end_time": "2024-05-31T10:28:08.608448Z",
     "start_time": "2024-05-31T10:28:08.604350Z"
    }
   },
   "cell_type": "code",
   "source": "one_hot = OneHotEncoder()",
   "id": "29eec2214efc89c",
   "outputs": [],
   "execution_count": 371
  },
  {
   "metadata": {
    "ExecuteTime": {
     "end_time": "2024-05-31T10:28:08.659935Z",
     "start_time": "2024-05-31T10:28:08.651422Z"
    }
   },
   "cell_type": "code",
   "source": "df['assemble_place'] = df['assemble_place'].map({'Nhập khẩu': 1, 'Lắp ráp trong nước': 0})",
   "id": "d8e9bf432e4d5dd",
   "outputs": [],
   "execution_count": 372
  },
  {
   "metadata": {
    "ExecuteTime": {
     "end_time": "2024-05-31T10:28:08.722551Z",
     "start_time": "2024-05-31T10:28:08.706958Z"
    }
   },
   "cell_type": "code",
   "source": [
    "one_hot = OneHotEncoder()\n",
    "one_hot.fit(df[['engine_type']])\n",
    "one_hot_engine_type = pd.get_dummies(df['engine_type'], prefix='engine_type')\n",
    "df = pd.concat([df, one_hot_engine_type], axis=1)"
   ],
   "id": "6e596520d5219af7",
   "outputs": [],
   "execution_count": 373
  },
  {
   "metadata": {
    "ExecuteTime": {
     "end_time": "2024-05-31T10:28:08.770632Z",
     "start_time": "2024-05-31T10:28:08.760585Z"
    }
   },
   "cell_type": "code",
   "source": "df.isna().sum()",
   "id": "e78d31d7b80b3f4",
   "outputs": [
    {
     "data": {
      "text/plain": [
       "car_name              0\n",
       "year                  0\n",
       "price                 0\n",
       "assemble_place        0\n",
       "series                0\n",
       "km                    0\n",
       "engine_type           0\n",
       "transmission          0\n",
       "url                   0\n",
       "brand                 0\n",
       "model                 0\n",
       "engine_type_Dầu       0\n",
       "engine_type_Hybrid    0\n",
       "engine_type_Xăng      0\n",
       "engine_type_Điện      0\n",
       "dtype: int64"
      ]
     },
     "execution_count": 374,
     "metadata": {},
     "output_type": "execute_result"
    }
   ],
   "execution_count": 374
  },
  {
   "metadata": {
    "ExecuteTime": {
     "end_time": "2024-05-31T10:28:08.878306Z",
     "start_time": "2024-05-31T10:28:08.872189Z"
    }
   },
   "cell_type": "code",
   "source": "df['transmission'] = df['transmission'].map({'Số tự động': 1, 'Số tay': 0})",
   "id": "1eb59f481ca91c13",
   "outputs": [],
   "execution_count": 375
  },
  {
   "metadata": {
    "ExecuteTime": {
     "end_time": "2024-05-31T10:28:08.927725Z",
     "start_time": "2024-05-31T10:28:08.924480Z"
    }
   },
   "cell_type": "code",
   "source": "#dump các giá trị không cần",
   "id": "750412124c996542",
   "outputs": [],
   "execution_count": 376
  },
  {
   "metadata": {
    "ExecuteTime": {
     "end_time": "2024-05-31T10:28:08.973469Z",
     "start_time": "2024-05-31T10:28:08.966178Z"
    }
   },
   "cell_type": "code",
   "source": "df = df.drop(['engine_type','car_name','url'], axis=1)",
   "id": "26d165024f0e3bba",
   "outputs": [],
   "execution_count": 377
  },
  {
   "metadata": {
    "ExecuteTime": {
     "end_time": "2024-05-31T10:28:08.992385Z",
     "start_time": "2024-05-31T10:28:08.988347Z"
    }
   },
   "cell_type": "code",
   "source": "",
   "id": "eb2843b15a65508b",
   "outputs": [],
   "execution_count": 377
  },
  {
   "metadata": {
    "ExecuteTime": {
     "end_time": "2024-05-31T10:28:09.056494Z",
     "start_time": "2024-05-31T10:28:09.040188Z"
    }
   },
   "cell_type": "code",
   "source": "df.head()",
   "id": "bd674067166d8074",
   "outputs": [
    {
     "data": {
      "text/plain": [
       "     year         price  assemble_place        series     km  transmission  \\\n",
       "0  2020.0  8.990000e+08               0  1.340081e+09  60000             1   \n",
       "1  2018.0  5.680000e+08               0  1.340081e+09  80000             1   \n",
       "2  2022.0  9.290000e+08               0  1.340081e+09  50000             1   \n",
       "3  2022.0  3.690000e+08               1  8.902675e+08  25000             0   \n",
       "4  2011.0  4.900000e+09               1  8.902675e+08  80000             1   \n",
       "\n",
       "          brand         model  engine_type_Dầu  engine_type_Hybrid  \\\n",
       "0  6.027708e+08  1.009069e+09             True               False   \n",
       "1  6.027708e+08  5.025594e+08            False               False   \n",
       "2  6.174147e+08  9.519027e+08            False               False   \n",
       "3  4.756669e+08  3.770852e+08            False               False   \n",
       "4  1.625612e+09  4.775661e+09            False               False   \n",
       "\n",
       "   engine_type_Xăng  engine_type_Điện  \n",
       "0             False             False  \n",
       "1              True             False  \n",
       "2              True             False  \n",
       "3              True             False  \n",
       "4              True             False  "
      ],
      "text/html": [
       "<div>\n",
       "<style scoped>\n",
       "    .dataframe tbody tr th:only-of-type {\n",
       "        vertical-align: middle;\n",
       "    }\n",
       "\n",
       "    .dataframe tbody tr th {\n",
       "        vertical-align: top;\n",
       "    }\n",
       "\n",
       "    .dataframe thead th {\n",
       "        text-align: right;\n",
       "    }\n",
       "</style>\n",
       "<table border=\"1\" class=\"dataframe\">\n",
       "  <thead>\n",
       "    <tr style=\"text-align: right;\">\n",
       "      <th></th>\n",
       "      <th>year</th>\n",
       "      <th>price</th>\n",
       "      <th>assemble_place</th>\n",
       "      <th>series</th>\n",
       "      <th>km</th>\n",
       "      <th>transmission</th>\n",
       "      <th>brand</th>\n",
       "      <th>model</th>\n",
       "      <th>engine_type_Dầu</th>\n",
       "      <th>engine_type_Hybrid</th>\n",
       "      <th>engine_type_Xăng</th>\n",
       "      <th>engine_type_Điện</th>\n",
       "    </tr>\n",
       "  </thead>\n",
       "  <tbody>\n",
       "    <tr>\n",
       "      <th>0</th>\n",
       "      <td>2020.0</td>\n",
       "      <td>8.990000e+08</td>\n",
       "      <td>0</td>\n",
       "      <td>1.340081e+09</td>\n",
       "      <td>60000</td>\n",
       "      <td>1</td>\n",
       "      <td>6.027708e+08</td>\n",
       "      <td>1.009069e+09</td>\n",
       "      <td>True</td>\n",
       "      <td>False</td>\n",
       "      <td>False</td>\n",
       "      <td>False</td>\n",
       "    </tr>\n",
       "    <tr>\n",
       "      <th>1</th>\n",
       "      <td>2018.0</td>\n",
       "      <td>5.680000e+08</td>\n",
       "      <td>0</td>\n",
       "      <td>1.340081e+09</td>\n",
       "      <td>80000</td>\n",
       "      <td>1</td>\n",
       "      <td>6.027708e+08</td>\n",
       "      <td>5.025594e+08</td>\n",
       "      <td>False</td>\n",
       "      <td>False</td>\n",
       "      <td>True</td>\n",
       "      <td>False</td>\n",
       "    </tr>\n",
       "    <tr>\n",
       "      <th>2</th>\n",
       "      <td>2022.0</td>\n",
       "      <td>9.290000e+08</td>\n",
       "      <td>0</td>\n",
       "      <td>1.340081e+09</td>\n",
       "      <td>50000</td>\n",
       "      <td>1</td>\n",
       "      <td>6.174147e+08</td>\n",
       "      <td>9.519027e+08</td>\n",
       "      <td>False</td>\n",
       "      <td>False</td>\n",
       "      <td>True</td>\n",
       "      <td>False</td>\n",
       "    </tr>\n",
       "    <tr>\n",
       "      <th>3</th>\n",
       "      <td>2022.0</td>\n",
       "      <td>3.690000e+08</td>\n",
       "      <td>1</td>\n",
       "      <td>8.902675e+08</td>\n",
       "      <td>25000</td>\n",
       "      <td>0</td>\n",
       "      <td>4.756669e+08</td>\n",
       "      <td>3.770852e+08</td>\n",
       "      <td>False</td>\n",
       "      <td>False</td>\n",
       "      <td>True</td>\n",
       "      <td>False</td>\n",
       "    </tr>\n",
       "    <tr>\n",
       "      <th>4</th>\n",
       "      <td>2011.0</td>\n",
       "      <td>4.900000e+09</td>\n",
       "      <td>1</td>\n",
       "      <td>8.902675e+08</td>\n",
       "      <td>80000</td>\n",
       "      <td>1</td>\n",
       "      <td>1.625612e+09</td>\n",
       "      <td>4.775661e+09</td>\n",
       "      <td>False</td>\n",
       "      <td>False</td>\n",
       "      <td>True</td>\n",
       "      <td>False</td>\n",
       "    </tr>\n",
       "  </tbody>\n",
       "</table>\n",
       "</div>"
      ]
     },
     "execution_count": 378,
     "metadata": {},
     "output_type": "execute_result"
    }
   ],
   "execution_count": 378
  },
  {
   "metadata": {
    "ExecuteTime": {
     "end_time": "2024-05-31T10:28:09.107791Z",
     "start_time": "2024-05-31T10:28:09.098098Z"
    }
   },
   "cell_type": "code",
   "source": "# save to csv",
   "id": "e77e46d929fd45bb",
   "outputs": [],
   "execution_count": 379
  },
  {
   "metadata": {
    "ExecuteTime": {
     "end_time": "2024-05-31T10:28:09.245131Z",
     "start_time": "2024-05-31T10:28:09.150470Z"
    }
   },
   "cell_type": "code",
   "source": "df.to_csv('../data/data_preprocessed.csv', index=False)",
   "id": "faa3121d13da9108",
   "outputs": [],
   "execution_count": 380
  },
  {
   "metadata": {
    "ExecuteTime": {
     "end_time": "2024-05-31T10:28:09.249660Z",
     "start_time": "2024-05-31T10:28:09.247142Z"
    }
   },
   "cell_type": "code",
   "source": "",
   "id": "7d2629b842146a",
   "outputs": [],
   "execution_count": 380
  }
 ],
 "metadata": {
  "kernelspec": {
   "display_name": "Python 3",
   "language": "python",
   "name": "python3"
  },
  "language_info": {
   "codemirror_mode": {
    "name": "ipython",
    "version": 2
   },
   "file_extension": ".py",
   "mimetype": "text/x-python",
   "name": "python",
   "nbconvert_exporter": "python",
   "pygments_lexer": "ipython2",
   "version": "2.7.6"
  }
 },
 "nbformat": 4,
 "nbformat_minor": 5
}
