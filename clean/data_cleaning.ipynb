{
 "cells": [
  {
   "cell_type": "code",
   "id": "initial_id",
   "metadata": {
    "collapsed": true,
    "ExecuteTime": {
     "end_time": "2024-05-31T09:13:45.992698Z",
     "start_time": "2024-05-31T09:13:45.899416Z"
    }
   },
   "source": [
    "import copy\n",
    "import numpy as np\n",
    "import pandas as pd\n",
    "from sklearn.preprocessing import OneHotEncoder\n",
    "import matplotlib.pyplot as plt\n",
    "import seaborn as sns\n",
    "from sklearn.preprocessing import StandardScaler\n",
    "from sklearn.model_selection import train_test_split\n",
    "from sklearn.metrics import mean_squared_error\n",
    "from sklearn.linear_model import LinearRegression\n",
    "from sklearn import metrics\n",
    "import pickle\n",
    "import lightgbm as lgb\n",
    "import category_encoders as ce"
   ],
   "outputs": [],
   "execution_count": 90
  },
  {
   "metadata": {
    "ExecuteTime": {
     "end_time": "2024-05-31T09:13:46.802207Z",
     "start_time": "2024-05-31T09:13:46.440655Z"
    }
   },
   "cell_type": "code",
   "source": [
    "df_bb = pd.read_csv('../crawler/data_bonbanh.csv')\n",
    "df_oto = pd.read_csv('../crawler/data_oto.csv')"
   ],
   "id": "23f9f6359ede357a",
   "outputs": [],
   "execution_count": 91
  },
  {
   "metadata": {},
   "cell_type": "markdown",
   "source": "# First clean data for bonbanh\n",
   "id": "6599055f8337df86"
  },
  {
   "metadata": {
    "ExecuteTime": {
     "end_time": "2024-05-31T09:13:46.899357Z",
     "start_time": "2024-05-31T09:13:46.803219Z"
    }
   },
   "cell_type": "code",
   "source": [
    "def describle_data(df):\n",
    "    print('Shape of data:\\n', df.shape)\n",
    "    print('--'*20)\n",
    "    print('Columns of data: \\n', df.columns)\n",
    "    print('--'*20)\n",
    "    print('Data types of data: \\n', df.dtypes)\n",
    "    print('--'*20)\n",
    "    print('Missing values of data: \\n', df.isna().sum())\n",
    "    print('--'*20)\n",
    "    print('Describe data: \\n', df.describe())\n",
    "    print('--'*20)\n",
    "    print('Info data: \\n', df.info())\n",
    "describle_data(df_bb)"
   ],
   "id": "861b349f839e8e30",
   "outputs": [
    {
     "name": "stdout",
     "output_type": "stream",
     "text": [
      "Shape of data:\n",
      " (14212, 9)\n",
      "----------------------------------------\n",
      "Columns of data: \n",
      " Index(['car_name', 'year', 'price', 'assemble_place', 'series', 'km',\n",
      "       'engine_type', 'transmission', 'url'],\n",
      "      dtype='object')\n",
      "----------------------------------------\n",
      "Data types of data: \n",
      " car_name          object\n",
      "year              object\n",
      "price             object\n",
      "assemble_place    object\n",
      "series            object\n",
      "km                object\n",
      "engine_type       object\n",
      "transmission      object\n",
      "url               object\n",
      "dtype: object\n",
      "----------------------------------------\n",
      "Missing values of data: \n",
      " car_name          1\n",
      "year              0\n",
      "price             0\n",
      "assemble_place    0\n",
      "series            0\n",
      "km                0\n",
      "engine_type       0\n",
      "transmission      0\n",
      "url               0\n",
      "dtype: int64\n",
      "----------------------------------------\n",
      "Describe data: \n",
      "                             car_name   year      price      assemble_place  \\\n",
      "count                          14211  14212      14212               14212   \n",
      "unique                          1399     57       1573                   2   \n",
      "top     Mercedes Benz GLC 300 4Matic   2022  465 Triệu  Lắp ráp trong nước   \n",
      "freq                             276   2395        102                8137   \n",
      "\n",
      "       series     km  engine_type transmission  \\\n",
      "count   14212  14212        14212        14212   \n",
      "unique      9   1132           86            2   \n",
      "top       SUV   0 Km  Xăng  2.0 L   Số tự động   \n",
      "freq     5734   1592         3583        12710   \n",
      "\n",
      "                                                     url  \n",
      "count                                              14212  \n",
      "unique                                             14188  \n",
      "top     https://bonbanh.com/xe-lexus-es-250-2015-5637836  \n",
      "freq                                                   3  \n",
      "----------------------------------------\n",
      "<class 'pandas.core.frame.DataFrame'>\n",
      "RangeIndex: 14212 entries, 0 to 14211\n",
      "Data columns (total 9 columns):\n",
      " #   Column          Non-Null Count  Dtype \n",
      "---  ------          --------------  ----- \n",
      " 0   car_name        14211 non-null  object\n",
      " 1   year            14212 non-null  object\n",
      " 2   price           14212 non-null  object\n",
      " 3   assemble_place  14212 non-null  object\n",
      " 4   series          14212 non-null  object\n",
      " 5   km              14212 non-null  object\n",
      " 6   engine_type     14212 non-null  object\n",
      " 7   transmission    14212 non-null  object\n",
      " 8   url             14212 non-null  object\n",
      "dtypes: object(9)\n",
      "memory usage: 999.4+ KB\n",
      "Info data: \n",
      " None\n"
     ]
    }
   ],
   "execution_count": 92
  },
  {
   "metadata": {},
   "cell_type": "markdown",
   "source": "# Xóa xe trùng lặp(do sai sót trong việc cào)",
   "id": "ad68f644083f75b6"
  },
  {
   "metadata": {
    "ExecuteTime": {
     "end_time": "2024-05-31T09:13:46.965311Z",
     "start_time": "2024-05-31T09:13:46.900884Z"
    }
   },
   "cell_type": "code",
   "source": [
    "df_bb.drop_duplicates(subset=['url'], inplace=True)\n",
    "describle_data(df_bb)"
   ],
   "id": "505c897cf20fb685",
   "outputs": [
    {
     "name": "stdout",
     "output_type": "stream",
     "text": [
      "Shape of data:\n",
      " (14188, 9)\n",
      "----------------------------------------\n",
      "Columns of data: \n",
      " Index(['car_name', 'year', 'price', 'assemble_place', 'series', 'km',\n",
      "       'engine_type', 'transmission', 'url'],\n",
      "      dtype='object')\n",
      "----------------------------------------\n",
      "Data types of data: \n",
      " car_name          object\n",
      "year              object\n",
      "price             object\n",
      "assemble_place    object\n",
      "series            object\n",
      "km                object\n",
      "engine_type       object\n",
      "transmission      object\n",
      "url               object\n",
      "dtype: object\n",
      "----------------------------------------\n",
      "Missing values of data: \n",
      " car_name          1\n",
      "year              0\n",
      "price             0\n",
      "assemble_place    0\n",
      "series            0\n",
      "km                0\n",
      "engine_type       0\n",
      "transmission      0\n",
      "url               0\n",
      "dtype: int64\n",
      "----------------------------------------\n",
      "Describe data: \n",
      "                             car_name   year      price      assemble_place  \\\n",
      "count                          14187  14188      14188               14188   \n",
      "unique                          1399     57       1573                   2   \n",
      "top     Mercedes Benz GLC 300 4Matic   2022  495 Triệu  Lắp ráp trong nước   \n",
      "freq                             276   2390        101                8127   \n",
      "\n",
      "       series     km  engine_type transmission  \\\n",
      "count   14188  14188        14188        14188   \n",
      "unique      9   1132           86            2   \n",
      "top       SUV   0 Km  Xăng  2.0 L   Số tự động   \n",
      "freq     5723   1585         3578        12688   \n",
      "\n",
      "                                                      url  \n",
      "count                                               14188  \n",
      "unique                                              14188  \n",
      "top     https://bonbanh.com/xe-kia-sorento-signature-2...  \n",
      "freq                                                    1  \n",
      "----------------------------------------\n",
      "<class 'pandas.core.frame.DataFrame'>\n",
      "Index: 14188 entries, 0 to 14211\n",
      "Data columns (total 9 columns):\n",
      " #   Column          Non-Null Count  Dtype \n",
      "---  ------          --------------  ----- \n",
      " 0   car_name        14187 non-null  object\n",
      " 1   year            14188 non-null  object\n",
      " 2   price           14188 non-null  object\n",
      " 3   assemble_place  14188 non-null  object\n",
      " 4   series          14188 non-null  object\n",
      " 5   km              14188 non-null  object\n",
      " 6   engine_type     14188 non-null  object\n",
      " 7   transmission    14188 non-null  object\n",
      " 8   url             14188 non-null  object\n",
      "dtypes: object(9)\n",
      "memory usage: 1.1+ MB\n",
      "Info data: \n",
      " None\n"
     ]
    }
   ],
   "execution_count": 93
  },
  {
   "metadata": {},
   "cell_type": "markdown",
   "source": "# Chuyển đổi kiểu dữ liệu cho các cột year, price sang kiểu số thực để có thể thực hiện các phép tính toán\n",
   "id": "8d39d30a59ff0199"
  },
  {
   "metadata": {
    "ExecuteTime": {
     "end_time": "2024-05-31T09:13:47.026956Z",
     "start_time": "2024-05-31T09:13:46.967452Z"
    }
   },
   "cell_type": "code",
   "source": [
    "def process_year_colum(year):\n",
    "    if year.isdigit():\n",
    "        return float(year)\n",
    "    else:\n",
    "        return 0\n",
    "df_bb['year'] = df_bb['year'].astype(str).apply(process_year_colum)"
   ],
   "id": "cbe5439bfca90b1",
   "outputs": [],
   "execution_count": 94
  },
  {
   "metadata": {
    "ExecuteTime": {
     "end_time": "2024-05-31T09:13:47.049942Z",
     "start_time": "2024-05-31T09:13:47.027979Z"
    }
   },
   "cell_type": "code",
   "source": [
    "def process_price(price):\n",
    "    try:\n",
    "        if price.find('Tỷ') != -1:\n",
    "            ty= price.split('Tỷ')[0]\n",
    "            trieu = price.split('Tỷ')[1]\n",
    "            trieu = trieu.split('Triệu')[0]\n",
    "            return float(ty)*1000000000 + float(trieu)*1000000\n",
    "        elif price.find('Triệu') != -1:\n",
    "            trieu = price.split('Triệu')[0]\n",
    "            trieu = trieu.replace(' ','')\n",
    "            return float(trieu)*1000000\n",
    "        else:\n",
    "            return 0\n",
    "    except:\n",
    "        return 0\n",
    "df_bb['price'] = df_bb['price'].astype(str).apply(process_price)"
   ],
   "id": "99019d2af1e79228",
   "outputs": [],
   "execution_count": 95
  },
  {
   "metadata": {
    "ExecuteTime": {
     "end_time": "2024-05-31T09:13:47.136506Z",
     "start_time": "2024-05-31T09:13:47.051474Z"
    }
   },
   "cell_type": "code",
   "source": [
    "# Remove 'Km' and commas from the 'km' column\n",
    "df_bb['km'] = df_bb['km'].str.replace('Km', '').str.replace(',', '')\n",
    "\n",
    "# Convert the 'km' column to numeric\n",
    "df_bb['km'] = pd.to_numeric(df_bb['km'])\n"
   ],
   "id": "2b0644a9bf496d2e",
   "outputs": [],
   "execution_count": 96
  },
  {
   "metadata": {},
   "cell_type": "markdown",
   "source": "",
   "id": "bc1a7e6fed1ae0f0"
  },
  {
   "metadata": {
    "ExecuteTime": {
     "end_time": "2024-05-31T09:13:47.157312Z",
     "start_time": "2024-05-31T09:13:47.137686Z"
    }
   },
   "cell_type": "code",
   "source": [
    "#drop all rows with driven kms < 1000, nan values in all columns\n",
    "df_bb.drop(df_bb[df_bb['km'] < 1000].index, inplace=True)\n",
    "df_bb.dropna(inplace=True)\n",
    "df_bb.isna().sum()"
   ],
   "id": "3ee872fd3d6b0244",
   "outputs": [
    {
     "data": {
      "text/plain": [
       "car_name          0\n",
       "year              0\n",
       "price             0\n",
       "assemble_place    0\n",
       "series            0\n",
       "km                0\n",
       "engine_type       0\n",
       "transmission      0\n",
       "url               0\n",
       "dtype: int64"
      ]
     },
     "execution_count": 97,
     "metadata": {},
     "output_type": "execute_result"
    }
   ],
   "execution_count": 97
  },
  {
   "metadata": {
    "ExecuteTime": {
     "end_time": "2024-05-31T09:13:47.175300Z",
     "start_time": "2024-05-31T09:13:47.159327Z"
    }
   },
   "cell_type": "code",
   "source": [
    "#loại bỏ các xe có giá trị price = 0\n",
    "df_bb.drop(df_bb[df_bb['price'] == 0].index, inplace=True)\n",
    "df_bb['price'].describe()"
   ],
   "id": "12b8b6a3763636bd",
   "outputs": [
    {
     "data": {
      "text/plain": [
       "count    1.219500e+04\n",
       "mean     1.160486e+09\n",
       "std      1.639408e+09\n",
       "min      2.600000e+07\n",
       "25%      4.700000e+08\n",
       "50%      6.660000e+08\n",
       "75%      1.096500e+09\n",
       "max      4.380000e+10\n",
       "Name: price, dtype: float64"
      ]
     },
     "execution_count": 98,
     "metadata": {},
     "output_type": "execute_result"
    }
   ],
   "execution_count": 98
  },
  {
   "metadata": {
    "ExecuteTime": {
     "end_time": "2024-05-31T09:13:47.394418Z",
     "start_time": "2024-05-31T09:13:47.176947Z"
    }
   },
   "cell_type": "code",
   "source": [
    "df_bb['brand'] = df_bb['car_name'].str.split().str[0]\n",
    "df_bb['model'] = df_bb['car_name'].str.split().str[1:].str.join(' ')"
   ],
   "id": "a43ca1b3e5ad1dfa",
   "outputs": [],
   "execution_count": 99
  },
  {
   "metadata": {},
   "cell_type": "markdown",
   "source": [
    "Cột brand có một số hãng có số lượng xe rất ít hoặc bị thiếu, ta sẽ gộp các hãng xe này thành một nhóm là 'other'\n",
    "Nếu số xe của hãng đó nhỏ hơn 10 thì sẽ gộp vào nhóm 'Other'"
   ],
   "id": "2c99f8e0e54f46e2"
  },
  {
   "metadata": {
    "ExecuteTime": {
     "end_time": "2024-05-31T09:13:47.427514Z",
     "start_time": "2024-05-31T09:13:47.397579Z"
    }
   },
   "cell_type": "code",
   "source": [
    "df_bb['brand'].value_counts()\n",
    "threshold = 10\n",
    "car_count = df_bb['brand'].value_counts()\n",
    "small_brands = car_count[car_count < threshold].index.tolist()\n",
    "df_bb['brand'] = df_bb['brand'].apply(lambda x: 'Other' if x in small_brands else x)\n",
    "df_bb['brand'].fillna('Other', inplace=True)"
   ],
   "id": "3f540064ab8c6ce4",
   "outputs": [],
   "execution_count": 100
  },
  {
   "metadata": {},
   "cell_type": "markdown",
   "source": "Cột engine_type: ta thấy có một vài giá trị bị thiếu, ta sẽ điền các giá trị này bằng giá trị xuất hiện nhiều nhất trong cột engine_type",
   "id": "6f16ed0bdd82031d"
  },
  {
   "metadata": {
    "ExecuteTime": {
     "end_time": "2024-05-31T09:13:47.439635Z",
     "start_time": "2024-05-31T09:13:47.428525Z"
    }
   },
   "cell_type": "code",
   "source": [
    "df_bb['engine_type'] = df_bb['engine_type'].apply(lambda x: df_bb['engine_type'].value_counts().index[0] if x == '-' else x)\n",
    "df_bb['engine_type'].fillna(df_bb['engine_type'].value_counts().index[0], inplace=True)"
   ],
   "id": "a434c8b0e5196418",
   "outputs": [],
   "execution_count": 101
  },
  {
   "metadata": {
    "ExecuteTime": {
     "end_time": "2024-05-31T09:13:47.449765Z",
     "start_time": "2024-05-31T09:13:47.441449Z"
    }
   },
   "cell_type": "code",
   "source": [
    "df_bb['transmission'] = df_bb['transmission'].apply(lambda x: df_bb['transmission'].value_counts().index[0] if x == '-' else x)\n",
    "df_bb['transmission'].fillna(df_bb['transmission'].value_counts().index[0], inplace=True)"
   ],
   "id": "17e0af89506d14b1",
   "outputs": [],
   "execution_count": 102
  },
  {
   "metadata": {
    "ExecuteTime": {
     "end_time": "2024-05-31T09:13:47.503263Z",
     "start_time": "2024-05-31T09:13:47.455321Z"
    }
   },
   "cell_type": "code",
   "source": "df_bb['engine_type'] = df_bb['engine_type'].str.split().str[0]#%% md\n",
   "id": "db9635b05bdc2b77",
   "outputs": [],
   "execution_count": 103
  },
  {
   "metadata": {
    "ExecuteTime": {
     "end_time": "2024-05-31T09:13:47.516626Z",
     "start_time": "2024-05-31T09:13:47.504888Z"
    }
   },
   "cell_type": "code",
   "source": "df_bb.head()",
   "id": "47583f2238696a23",
   "outputs": [
    {
     "data": {
      "text/plain": [
       "                           car_name    year         price      assemble_place  \\\n",
       "0  Kia Sorento Signature 2.2 AT AWD  2020.0  8.990000e+08  Lắp ráp trong nước   \n",
       "2                  Kia Sorento GATH  2018.0  5.680000e+08  Lắp ráp trong nước   \n",
       "4             Mazda CX8 Premium AWD  2022.0  9.290000e+08  Lắp ráp trong nước   \n",
       "6              Nissan Almera 1.0 MT  2022.0  3.690000e+08           Nhập khẩu   \n",
       "7          Bentley Mulsanne 6.75 V8  2011.0  4.900000e+09           Nhập khẩu   \n",
       "\n",
       "  series     km engine_type transmission  \\\n",
       "0    SUV  60000         Dầu   Số tự động   \n",
       "2    SUV  80000        Xăng   Số tự động   \n",
       "4    SUV  50000        Xăng   Số tự động   \n",
       "6  Sedan  25000        Xăng       Số tay   \n",
       "7  Sedan  80000        Xăng   Số tự động   \n",
       "\n",
       "                                                 url    brand  \\\n",
       "0  https://bonbanh.com/xe-kia-sorento-signature-2...      Kia   \n",
       "2  https://bonbanh.com/xe-kia-sorento-gath-2018-5...      Kia   \n",
       "4  https://bonbanh.com/xe-mazda-cx8-premium-awd-2...    Mazda   \n",
       "6  https://bonbanh.com/xe-nissan-almera-1.0-mt-20...   Nissan   \n",
       "7  https://bonbanh.com/xe-bentley-mulsanne-6.75-v...  Bentley   \n",
       "\n",
       "                          model  \n",
       "0  Sorento Signature 2.2 AT AWD  \n",
       "2                  Sorento GATH  \n",
       "4               CX8 Premium AWD  \n",
       "6                 Almera 1.0 MT  \n",
       "7              Mulsanne 6.75 V8  "
      ],
      "text/html": [
       "<div>\n",
       "<style scoped>\n",
       "    .dataframe tbody tr th:only-of-type {\n",
       "        vertical-align: middle;\n",
       "    }\n",
       "\n",
       "    .dataframe tbody tr th {\n",
       "        vertical-align: top;\n",
       "    }\n",
       "\n",
       "    .dataframe thead th {\n",
       "        text-align: right;\n",
       "    }\n",
       "</style>\n",
       "<table border=\"1\" class=\"dataframe\">\n",
       "  <thead>\n",
       "    <tr style=\"text-align: right;\">\n",
       "      <th></th>\n",
       "      <th>car_name</th>\n",
       "      <th>year</th>\n",
       "      <th>price</th>\n",
       "      <th>assemble_place</th>\n",
       "      <th>series</th>\n",
       "      <th>km</th>\n",
       "      <th>engine_type</th>\n",
       "      <th>transmission</th>\n",
       "      <th>url</th>\n",
       "      <th>brand</th>\n",
       "      <th>model</th>\n",
       "    </tr>\n",
       "  </thead>\n",
       "  <tbody>\n",
       "    <tr>\n",
       "      <th>0</th>\n",
       "      <td>Kia Sorento Signature 2.2 AT AWD</td>\n",
       "      <td>2020.0</td>\n",
       "      <td>8.990000e+08</td>\n",
       "      <td>Lắp ráp trong nước</td>\n",
       "      <td>SUV</td>\n",
       "      <td>60000</td>\n",
       "      <td>Dầu</td>\n",
       "      <td>Số tự động</td>\n",
       "      <td>https://bonbanh.com/xe-kia-sorento-signature-2...</td>\n",
       "      <td>Kia</td>\n",
       "      <td>Sorento Signature 2.2 AT AWD</td>\n",
       "    </tr>\n",
       "    <tr>\n",
       "      <th>2</th>\n",
       "      <td>Kia Sorento GATH</td>\n",
       "      <td>2018.0</td>\n",
       "      <td>5.680000e+08</td>\n",
       "      <td>Lắp ráp trong nước</td>\n",
       "      <td>SUV</td>\n",
       "      <td>80000</td>\n",
       "      <td>Xăng</td>\n",
       "      <td>Số tự động</td>\n",
       "      <td>https://bonbanh.com/xe-kia-sorento-gath-2018-5...</td>\n",
       "      <td>Kia</td>\n",
       "      <td>Sorento GATH</td>\n",
       "    </tr>\n",
       "    <tr>\n",
       "      <th>4</th>\n",
       "      <td>Mazda CX8 Premium AWD</td>\n",
       "      <td>2022.0</td>\n",
       "      <td>9.290000e+08</td>\n",
       "      <td>Lắp ráp trong nước</td>\n",
       "      <td>SUV</td>\n",
       "      <td>50000</td>\n",
       "      <td>Xăng</td>\n",
       "      <td>Số tự động</td>\n",
       "      <td>https://bonbanh.com/xe-mazda-cx8-premium-awd-2...</td>\n",
       "      <td>Mazda</td>\n",
       "      <td>CX8 Premium AWD</td>\n",
       "    </tr>\n",
       "    <tr>\n",
       "      <th>6</th>\n",
       "      <td>Nissan Almera 1.0 MT</td>\n",
       "      <td>2022.0</td>\n",
       "      <td>3.690000e+08</td>\n",
       "      <td>Nhập khẩu</td>\n",
       "      <td>Sedan</td>\n",
       "      <td>25000</td>\n",
       "      <td>Xăng</td>\n",
       "      <td>Số tay</td>\n",
       "      <td>https://bonbanh.com/xe-nissan-almera-1.0-mt-20...</td>\n",
       "      <td>Nissan</td>\n",
       "      <td>Almera 1.0 MT</td>\n",
       "    </tr>\n",
       "    <tr>\n",
       "      <th>7</th>\n",
       "      <td>Bentley Mulsanne 6.75 V8</td>\n",
       "      <td>2011.0</td>\n",
       "      <td>4.900000e+09</td>\n",
       "      <td>Nhập khẩu</td>\n",
       "      <td>Sedan</td>\n",
       "      <td>80000</td>\n",
       "      <td>Xăng</td>\n",
       "      <td>Số tự động</td>\n",
       "      <td>https://bonbanh.com/xe-bentley-mulsanne-6.75-v...</td>\n",
       "      <td>Bentley</td>\n",
       "      <td>Mulsanne 6.75 V8</td>\n",
       "    </tr>\n",
       "  </tbody>\n",
       "</table>\n",
       "</div>"
      ]
     },
     "execution_count": 104,
     "metadata": {},
     "output_type": "execute_result"
    }
   ],
   "execution_count": 104
  },
  {
   "metadata": {},
   "cell_type": "markdown",
   "source": "## Clean data for oto.com.vn",
   "id": "b2c877b34ae70a9"
  },
  {
   "metadata": {
    "ExecuteTime": {
     "end_time": "2024-05-31T09:13:47.531622Z",
     "start_time": "2024-05-31T09:13:47.518605Z"
    }
   },
   "cell_type": "code",
   "source": "df_oto.describe()",
   "id": "ce2c984a78218e6c",
   "outputs": [
    {
     "data": {
      "text/plain": [
       "              year\n",
       "count   341.000000\n",
       "mean   2018.621701\n",
       "std       3.981649\n",
       "min    2004.000000\n",
       "25%    2017.000000\n",
       "50%    2020.000000\n",
       "75%    2022.000000\n",
       "max    2024.000000"
      ],
      "text/html": [
       "<div>\n",
       "<style scoped>\n",
       "    .dataframe tbody tr th:only-of-type {\n",
       "        vertical-align: middle;\n",
       "    }\n",
       "\n",
       "    .dataframe tbody tr th {\n",
       "        vertical-align: top;\n",
       "    }\n",
       "\n",
       "    .dataframe thead th {\n",
       "        text-align: right;\n",
       "    }\n",
       "</style>\n",
       "<table border=\"1\" class=\"dataframe\">\n",
       "  <thead>\n",
       "    <tr style=\"text-align: right;\">\n",
       "      <th></th>\n",
       "      <th>year</th>\n",
       "    </tr>\n",
       "  </thead>\n",
       "  <tbody>\n",
       "    <tr>\n",
       "      <th>count</th>\n",
       "      <td>341.000000</td>\n",
       "    </tr>\n",
       "    <tr>\n",
       "      <th>mean</th>\n",
       "      <td>2018.621701</td>\n",
       "    </tr>\n",
       "    <tr>\n",
       "      <th>std</th>\n",
       "      <td>3.981649</td>\n",
       "    </tr>\n",
       "    <tr>\n",
       "      <th>min</th>\n",
       "      <td>2004.000000</td>\n",
       "    </tr>\n",
       "    <tr>\n",
       "      <th>25%</th>\n",
       "      <td>2017.000000</td>\n",
       "    </tr>\n",
       "    <tr>\n",
       "      <th>50%</th>\n",
       "      <td>2020.000000</td>\n",
       "    </tr>\n",
       "    <tr>\n",
       "      <th>75%</th>\n",
       "      <td>2022.000000</td>\n",
       "    </tr>\n",
       "    <tr>\n",
       "      <th>max</th>\n",
       "      <td>2024.000000</td>\n",
       "    </tr>\n",
       "  </tbody>\n",
       "</table>\n",
       "</div>"
      ]
     },
     "execution_count": 105,
     "metadata": {},
     "output_type": "execute_result"
    }
   ],
   "execution_count": 105
  },
  {
   "metadata": {
    "ExecuteTime": {
     "end_time": "2024-05-31T09:13:47.540986Z",
     "start_time": "2024-05-31T09:13:47.533418Z"
    }
   },
   "cell_type": "code",
   "source": [
    "#remove all duplicate space in \n",
    "def process_price_oto(price):\n",
    "    try:\n",
    "        if price.find('tỉ') != -1:\n",
    "            ty= price.split('tỉ')[0]\n",
    "            trieu = price.split('tỉ')[1]\n",
    "            trieu = trieu.split('triệu')[0]\n",
    "            return float(ty)*1000000000 + float(trieu)*1000000\n",
    "        elif price.find('triệu') != -1:\n",
    "            trieu = price.split('triệu')[0]\n",
    "            trieu = trieu.replace(' ','')\n",
    "            return float(trieu)*1000000\n",
    "        else:\n",
    "            return 0\n",
    "    except:\n",
    "        return 0\n",
    "df_oto['price'] = df_oto['price'].astype(str).apply(process_price_oto)"
   ],
   "id": "5201b6f45c02b94",
   "outputs": [],
   "execution_count": 106
  },
  {
   "metadata": {
    "ExecuteTime": {
     "end_time": "2024-05-31T09:13:47.551574Z",
     "start_time": "2024-05-31T09:13:47.542486Z"
    }
   },
   "cell_type": "code",
   "source": "df_oto['price'].describe()",
   "id": "b2b140443948ba88",
   "outputs": [
    {
     "data": {
      "text/plain": [
       "count    3.410000e+02\n",
       "mean     1.248147e+09\n",
       "std      2.018389e+09\n",
       "min      1.280000e+08\n",
       "25%      4.890000e+08\n",
       "50%      6.680000e+08\n",
       "75%      1.110000e+09\n",
       "max      2.299900e+10\n",
       "Name: price, dtype: float64"
      ]
     },
     "execution_count": 107,
     "metadata": {},
     "output_type": "execute_result"
    }
   ],
   "execution_count": 107
  },
  {
   "metadata": {
    "ExecuteTime": {
     "end_time": "2024-05-31T09:13:47.560565Z",
     "start_time": "2024-05-31T09:13:47.552870Z"
    }
   },
   "cell_type": "code",
   "source": "df_oto['year'].describe()",
   "id": "2a7abe8ac0e26753",
   "outputs": [
    {
     "data": {
      "text/plain": [
       "count     341.000000\n",
       "mean     2018.621701\n",
       "std         3.981649\n",
       "min      2004.000000\n",
       "25%      2017.000000\n",
       "50%      2020.000000\n",
       "75%      2022.000000\n",
       "max      2024.000000\n",
       "Name: year, dtype: float64"
      ]
     },
     "execution_count": 108,
     "metadata": {},
     "output_type": "execute_result"
    }
   ],
   "execution_count": 108
  },
  {
   "metadata": {},
   "cell_type": "markdown",
   "source": "# Remove 'Km' and commas from the 'km' column",
   "id": "99b5c1ea0dea2bc6"
  },
  {
   "metadata": {
    "ExecuteTime": {
     "end_time": "2024-05-31T09:13:47.566852Z",
     "start_time": "2024-05-31T09:13:47.561648Z"
    }
   },
   "cell_type": "code",
   "source": "df_oto['km'] = df_oto['km'].str.replace('km', '').str.replace('.', '')",
   "id": "e181c78aacbfa229",
   "outputs": [],
   "execution_count": 109
  },
  {
   "metadata": {
    "ExecuteTime": {
     "end_time": "2024-05-31T09:13:47.575784Z",
     "start_time": "2024-05-31T09:13:47.570417Z"
    }
   },
   "cell_type": "code",
   "source": "df_oto['km'] = pd.to_numeric(df_oto['km'])",
   "id": "1fb1fb8943422608",
   "outputs": [],
   "execution_count": 110
  },
  {
   "metadata": {
    "ExecuteTime": {
     "end_time": "2024-05-31T09:13:47.585453Z",
     "start_time": "2024-05-31T09:13:47.577422Z"
    }
   },
   "cell_type": "code",
   "source": "df_oto['km'].describe()",
   "id": "2f74954e184d6f30",
   "outputs": [
    {
     "data": {
      "text/plain": [
       "count       341.000000\n",
       "mean      49082.058651\n",
       "std       33983.675113\n",
       "min           1.000000\n",
       "25%       22000.000000\n",
       "50%       45000.000000\n",
       "75%       70000.000000\n",
       "max      188000.000000\n",
       "Name: km, dtype: float64"
      ]
     },
     "execution_count": 111,
     "metadata": {},
     "output_type": "execute_result"
    }
   ],
   "execution_count": 111
  },
  {
   "metadata": {
    "ExecuteTime": {
     "end_time": "2024-05-31T09:13:47.597997Z",
     "start_time": "2024-05-31T09:13:47.590315Z"
    }
   },
   "cell_type": "code",
   "source": [
    "df_oto['brand'] = df_oto['car_name'].str.split().str[0]\n",
    "df_oto['model'] = df_oto['car_name'].str.split().str[1:].str.join(' ')"
   ],
   "id": "f619c48f7c95afa6",
   "outputs": [],
   "execution_count": 112
  },
  {
   "metadata": {
    "ExecuteTime": {
     "end_time": "2024-05-31T09:13:47.765172Z",
     "start_time": "2024-05-31T09:13:47.630589Z"
    }
   },
   "cell_type": "code",
   "source": "df_oto['brand'].value_counts()",
   "id": "1cab90fd389b3b38",
   "outputs": [
    {
     "data": {
      "text/plain": [
       "brand\n",
       "Toyota           55\n",
       "Ford             45\n",
       "Hyundai          44\n",
       "Mercedes-Benz    42\n",
       "Mazda            34\n",
       "Kia              31\n",
       "Lexus            12\n",
       "Mitsubishi       11\n",
       "Porsche           7\n",
       "BMW               7\n",
       "Honda             6\n",
       "Chevrolet         6\n",
       "Audi              6\n",
       "Land              5\n",
       "MG                5\n",
       "VinFast           5\n",
       "Bentley           3\n",
       "Nissan            3\n",
       "Peugeot           3\n",
       "Acura             2\n",
       "Mini              1\n",
       "Volvo             1\n",
       "Cadillac          1\n",
       "Ferrari           1\n",
       "Isuzu             1\n",
       "Rolls-Royce       1\n",
       "Suzuki            1\n",
       "Daewoo            1\n",
       "Volkswagen        1\n",
       "Name: count, dtype: int64"
      ]
     },
     "execution_count": 113,
     "metadata": {},
     "output_type": "execute_result"
    }
   ],
   "execution_count": 113
  },
  {
   "metadata": {
    "ExecuteTime": {
     "end_time": "2024-05-31T09:13:47.877455Z",
     "start_time": "2024-05-31T09:13:47.831180Z"
    }
   },
   "cell_type": "code",
   "source": "df_oto['model'].value_counts()",
   "id": "d3009235fa0ecb6c",
   "outputs": [
    {
     "data": {
      "text/plain": [
       "model\n",
       "3 Sedan 1.5L Luxury       8\n",
       "Ranger Wildtrak 4x4 AT    8\n",
       "Grand i10                 7\n",
       "Xpander 1.5 AT            6\n",
       "CR-V 1.5 L                4\n",
       "                         ..\n",
       "RX 350 Premium            1\n",
       "520i Luxury Line          1\n",
       "Innova 2.0G               1\n",
       "Morning Van 1.0 AT        1\n",
       "Sorento 2.4AT             1\n",
       "Name: count, Length: 225, dtype: int64"
      ]
     },
     "execution_count": 114,
     "metadata": {},
     "output_type": "execute_result"
    }
   ],
   "execution_count": 114
  },
  {
   "metadata": {
    "ExecuteTime": {
     "end_time": "2024-05-31T09:13:47.947237Z",
     "start_time": "2024-05-31T09:13:47.941215Z"
    }
   },
   "cell_type": "code",
   "source": [
    "#convert máy xăng -> xăng( lấy từ thứ 2 và viết hoa chữ đầu)\n",
    "df_oto['engine_type'] = df_oto['engine_type'].str.split().str[1].str.capitalize()"
   ],
   "id": "5c6def6d30bc1e20",
   "outputs": [],
   "execution_count": 115
  },
  {
   "metadata": {
    "ExecuteTime": {
     "end_time": "2024-05-31T09:13:48.130611Z",
     "start_time": "2024-05-31T09:13:48.123049Z"
    }
   },
   "cell_type": "code",
   "source": "df_oto['engine_type'].value_counts()",
   "id": "37bf56b833c8063",
   "outputs": [
    {
     "data": {
      "text/plain": [
       "engine_type\n",
       "Xăng    297\n",
       "Dầu      42\n",
       "Name: count, dtype: int64"
      ]
     },
     "execution_count": 116,
     "metadata": {},
     "output_type": "execute_result"
    }
   ],
   "execution_count": 116
  },
  {
   "metadata": {
    "ExecuteTime": {
     "end_time": "2024-05-31T09:13:48.240078Z",
     "start_time": "2024-05-31T09:13:48.235401Z"
    }
   },
   "cell_type": "code",
   "source": [
    "# nếu là số sàn thì chuyển thành số tay, số hỗn hợp có ít nên chuyển thành số tự động\n",
    "\n",
    "df_oto['transmission'] = df_oto['transmission'].apply(lambda x: 'Số tay' if x == 'Số sàn' else 'Số tự động')"
   ],
   "id": "cd5e79bba65fabaf",
   "outputs": [],
   "execution_count": 117
  },
  {
   "metadata": {
    "ExecuteTime": {
     "end_time": "2024-05-31T09:13:48.268196Z",
     "start_time": "2024-05-31T09:13:48.261432Z"
    }
   },
   "cell_type": "code",
   "source": "df_oto['transmission'].value_counts()",
   "id": "817e5eff0e59691e",
   "outputs": [
    {
     "data": {
      "text/plain": [
       "transmission\n",
       "Số tự động    308\n",
       "Số tay         33\n",
       "Name: count, dtype: int64"
      ]
     },
     "execution_count": 118,
     "metadata": {},
     "output_type": "execute_result"
    }
   ],
   "execution_count": 118
  },
  {
   "metadata": {
    "ExecuteTime": {
     "end_time": "2024-05-31T09:13:48.315461Z",
     "start_time": "2024-05-31T09:13:48.309747Z"
    }
   },
   "cell_type": "code",
   "source": "df_oto['assemble_place'] = df_oto['assemble_place'].apply(lambda x: 'Lắp ráp trong nước' if x == 'Trong nước' else 'Nhập khẩu')",
   "id": "f481bcba12c51c7b",
   "outputs": [],
   "execution_count": 119
  },
  {
   "metadata": {
    "ExecuteTime": {
     "end_time": "2024-05-31T09:13:48.366732Z",
     "start_time": "2024-05-31T09:13:48.354556Z"
    }
   },
   "cell_type": "code",
   "source": "df_oto.head()",
   "id": "fb03c28b30fb011c",
   "outputs": [
    {
     "data": {
      "text/plain": [
       "                           car_name  year         price      assemble_place  \\\n",
       "0       Kia Carnival 2.2D Signature  2022  1.360000e+09  Lắp ráp trong nước   \n",
       "1                  Honda CR-V 1.5 L  2023  9.850000e+08  Lắp ráp trong nước   \n",
       "2               Mazda 3 1.5L Luxury  2018  4.750000e+08  Lắp ráp trong nước   \n",
       "3         Mazda 3 Sedan 1.5L Luxury  2022  6.200000e+08  Lắp ráp trong nước   \n",
       "4  Chevrolet Colorado LT 2.5 MT 4x2  2017  3.850000e+08  Lắp ráp trong nước   \n",
       "\n",
       "    series     km engine_type transmission  \\\n",
       "0      MPV  70000         Dầu   Số tự động   \n",
       "1      SUV   7000        Xăng   Số tự động   \n",
       "2    Sedan  40000        Xăng   Số tự động   \n",
       "3    Sedan   7000        Xăng   Số tự động   \n",
       "4  Bán Tải  90000        Xăng       Số tay   \n",
       "\n",
       "                                                 url      brand  \\\n",
       "0  https://oto.com.vn//mua-ban-xe-kia-carnival-ha...        Kia   \n",
       "1  https://oto.com.vn//mua-ban-xe-honda-cr-v-hcm/...      Honda   \n",
       "2  https://oto.com.vn//mua-ban-xe-mazda-3-hcm/odo...      Mazda   \n",
       "3  https://oto.com.vn//mua-ban-xe-mazda-3-ha-noi/...      Mazda   \n",
       "4  https://oto.com.vn//mua-ban-xe-chevrolet-color...  Chevrolet   \n",
       "\n",
       "                     model  \n",
       "0  Carnival 2.2D Signature  \n",
       "1               CR-V 1.5 L  \n",
       "2            3 1.5L Luxury  \n",
       "3      3 Sedan 1.5L Luxury  \n",
       "4   Colorado LT 2.5 MT 4x2  "
      ],
      "text/html": [
       "<div>\n",
       "<style scoped>\n",
       "    .dataframe tbody tr th:only-of-type {\n",
       "        vertical-align: middle;\n",
       "    }\n",
       "\n",
       "    .dataframe tbody tr th {\n",
       "        vertical-align: top;\n",
       "    }\n",
       "\n",
       "    .dataframe thead th {\n",
       "        text-align: right;\n",
       "    }\n",
       "</style>\n",
       "<table border=\"1\" class=\"dataframe\">\n",
       "  <thead>\n",
       "    <tr style=\"text-align: right;\">\n",
       "      <th></th>\n",
       "      <th>car_name</th>\n",
       "      <th>year</th>\n",
       "      <th>price</th>\n",
       "      <th>assemble_place</th>\n",
       "      <th>series</th>\n",
       "      <th>km</th>\n",
       "      <th>engine_type</th>\n",
       "      <th>transmission</th>\n",
       "      <th>url</th>\n",
       "      <th>brand</th>\n",
       "      <th>model</th>\n",
       "    </tr>\n",
       "  </thead>\n",
       "  <tbody>\n",
       "    <tr>\n",
       "      <th>0</th>\n",
       "      <td>Kia Carnival 2.2D Signature</td>\n",
       "      <td>2022</td>\n",
       "      <td>1.360000e+09</td>\n",
       "      <td>Lắp ráp trong nước</td>\n",
       "      <td>MPV</td>\n",
       "      <td>70000</td>\n",
       "      <td>Dầu</td>\n",
       "      <td>Số tự động</td>\n",
       "      <td>https://oto.com.vn//mua-ban-xe-kia-carnival-ha...</td>\n",
       "      <td>Kia</td>\n",
       "      <td>Carnival 2.2D Signature</td>\n",
       "    </tr>\n",
       "    <tr>\n",
       "      <th>1</th>\n",
       "      <td>Honda CR-V 1.5 L</td>\n",
       "      <td>2023</td>\n",
       "      <td>9.850000e+08</td>\n",
       "      <td>Lắp ráp trong nước</td>\n",
       "      <td>SUV</td>\n",
       "      <td>7000</td>\n",
       "      <td>Xăng</td>\n",
       "      <td>Số tự động</td>\n",
       "      <td>https://oto.com.vn//mua-ban-xe-honda-cr-v-hcm/...</td>\n",
       "      <td>Honda</td>\n",
       "      <td>CR-V 1.5 L</td>\n",
       "    </tr>\n",
       "    <tr>\n",
       "      <th>2</th>\n",
       "      <td>Mazda 3 1.5L Luxury</td>\n",
       "      <td>2018</td>\n",
       "      <td>4.750000e+08</td>\n",
       "      <td>Lắp ráp trong nước</td>\n",
       "      <td>Sedan</td>\n",
       "      <td>40000</td>\n",
       "      <td>Xăng</td>\n",
       "      <td>Số tự động</td>\n",
       "      <td>https://oto.com.vn//mua-ban-xe-mazda-3-hcm/odo...</td>\n",
       "      <td>Mazda</td>\n",
       "      <td>3 1.5L Luxury</td>\n",
       "    </tr>\n",
       "    <tr>\n",
       "      <th>3</th>\n",
       "      <td>Mazda 3 Sedan 1.5L Luxury</td>\n",
       "      <td>2022</td>\n",
       "      <td>6.200000e+08</td>\n",
       "      <td>Lắp ráp trong nước</td>\n",
       "      <td>Sedan</td>\n",
       "      <td>7000</td>\n",
       "      <td>Xăng</td>\n",
       "      <td>Số tự động</td>\n",
       "      <td>https://oto.com.vn//mua-ban-xe-mazda-3-ha-noi/...</td>\n",
       "      <td>Mazda</td>\n",
       "      <td>3 Sedan 1.5L Luxury</td>\n",
       "    </tr>\n",
       "    <tr>\n",
       "      <th>4</th>\n",
       "      <td>Chevrolet Colorado LT 2.5 MT 4x2</td>\n",
       "      <td>2017</td>\n",
       "      <td>3.850000e+08</td>\n",
       "      <td>Lắp ráp trong nước</td>\n",
       "      <td>Bán Tải</td>\n",
       "      <td>90000</td>\n",
       "      <td>Xăng</td>\n",
       "      <td>Số tay</td>\n",
       "      <td>https://oto.com.vn//mua-ban-xe-chevrolet-color...</td>\n",
       "      <td>Chevrolet</td>\n",
       "      <td>Colorado LT 2.5 MT 4x2</td>\n",
       "    </tr>\n",
       "  </tbody>\n",
       "</table>\n",
       "</div>"
      ]
     },
     "execution_count": 120,
     "metadata": {},
     "output_type": "execute_result"
    }
   ],
   "execution_count": 120
  },
  {
   "metadata": {
    "ExecuteTime": {
     "end_time": "2024-05-31T09:13:48.449666Z",
     "start_time": "2024-05-31T09:13:48.433165Z"
    }
   },
   "cell_type": "code",
   "source": "df_bb.head()",
   "id": "761f51ec9632731d",
   "outputs": [
    {
     "data": {
      "text/plain": [
       "                           car_name    year         price      assemble_place  \\\n",
       "0  Kia Sorento Signature 2.2 AT AWD  2020.0  8.990000e+08  Lắp ráp trong nước   \n",
       "2                  Kia Sorento GATH  2018.0  5.680000e+08  Lắp ráp trong nước   \n",
       "4             Mazda CX8 Premium AWD  2022.0  9.290000e+08  Lắp ráp trong nước   \n",
       "6              Nissan Almera 1.0 MT  2022.0  3.690000e+08           Nhập khẩu   \n",
       "7          Bentley Mulsanne 6.75 V8  2011.0  4.900000e+09           Nhập khẩu   \n",
       "\n",
       "  series     km engine_type transmission  \\\n",
       "0    SUV  60000         Dầu   Số tự động   \n",
       "2    SUV  80000        Xăng   Số tự động   \n",
       "4    SUV  50000        Xăng   Số tự động   \n",
       "6  Sedan  25000        Xăng       Số tay   \n",
       "7  Sedan  80000        Xăng   Số tự động   \n",
       "\n",
       "                                                 url    brand  \\\n",
       "0  https://bonbanh.com/xe-kia-sorento-signature-2...      Kia   \n",
       "2  https://bonbanh.com/xe-kia-sorento-gath-2018-5...      Kia   \n",
       "4  https://bonbanh.com/xe-mazda-cx8-premium-awd-2...    Mazda   \n",
       "6  https://bonbanh.com/xe-nissan-almera-1.0-mt-20...   Nissan   \n",
       "7  https://bonbanh.com/xe-bentley-mulsanne-6.75-v...  Bentley   \n",
       "\n",
       "                          model  \n",
       "0  Sorento Signature 2.2 AT AWD  \n",
       "2                  Sorento GATH  \n",
       "4               CX8 Premium AWD  \n",
       "6                 Almera 1.0 MT  \n",
       "7              Mulsanne 6.75 V8  "
      ],
      "text/html": [
       "<div>\n",
       "<style scoped>\n",
       "    .dataframe tbody tr th:only-of-type {\n",
       "        vertical-align: middle;\n",
       "    }\n",
       "\n",
       "    .dataframe tbody tr th {\n",
       "        vertical-align: top;\n",
       "    }\n",
       "\n",
       "    .dataframe thead th {\n",
       "        text-align: right;\n",
       "    }\n",
       "</style>\n",
       "<table border=\"1\" class=\"dataframe\">\n",
       "  <thead>\n",
       "    <tr style=\"text-align: right;\">\n",
       "      <th></th>\n",
       "      <th>car_name</th>\n",
       "      <th>year</th>\n",
       "      <th>price</th>\n",
       "      <th>assemble_place</th>\n",
       "      <th>series</th>\n",
       "      <th>km</th>\n",
       "      <th>engine_type</th>\n",
       "      <th>transmission</th>\n",
       "      <th>url</th>\n",
       "      <th>brand</th>\n",
       "      <th>model</th>\n",
       "    </tr>\n",
       "  </thead>\n",
       "  <tbody>\n",
       "    <tr>\n",
       "      <th>0</th>\n",
       "      <td>Kia Sorento Signature 2.2 AT AWD</td>\n",
       "      <td>2020.0</td>\n",
       "      <td>8.990000e+08</td>\n",
       "      <td>Lắp ráp trong nước</td>\n",
       "      <td>SUV</td>\n",
       "      <td>60000</td>\n",
       "      <td>Dầu</td>\n",
       "      <td>Số tự động</td>\n",
       "      <td>https://bonbanh.com/xe-kia-sorento-signature-2...</td>\n",
       "      <td>Kia</td>\n",
       "      <td>Sorento Signature 2.2 AT AWD</td>\n",
       "    </tr>\n",
       "    <tr>\n",
       "      <th>2</th>\n",
       "      <td>Kia Sorento GATH</td>\n",
       "      <td>2018.0</td>\n",
       "      <td>5.680000e+08</td>\n",
       "      <td>Lắp ráp trong nước</td>\n",
       "      <td>SUV</td>\n",
       "      <td>80000</td>\n",
       "      <td>Xăng</td>\n",
       "      <td>Số tự động</td>\n",
       "      <td>https://bonbanh.com/xe-kia-sorento-gath-2018-5...</td>\n",
       "      <td>Kia</td>\n",
       "      <td>Sorento GATH</td>\n",
       "    </tr>\n",
       "    <tr>\n",
       "      <th>4</th>\n",
       "      <td>Mazda CX8 Premium AWD</td>\n",
       "      <td>2022.0</td>\n",
       "      <td>9.290000e+08</td>\n",
       "      <td>Lắp ráp trong nước</td>\n",
       "      <td>SUV</td>\n",
       "      <td>50000</td>\n",
       "      <td>Xăng</td>\n",
       "      <td>Số tự động</td>\n",
       "      <td>https://bonbanh.com/xe-mazda-cx8-premium-awd-2...</td>\n",
       "      <td>Mazda</td>\n",
       "      <td>CX8 Premium AWD</td>\n",
       "    </tr>\n",
       "    <tr>\n",
       "      <th>6</th>\n",
       "      <td>Nissan Almera 1.0 MT</td>\n",
       "      <td>2022.0</td>\n",
       "      <td>3.690000e+08</td>\n",
       "      <td>Nhập khẩu</td>\n",
       "      <td>Sedan</td>\n",
       "      <td>25000</td>\n",
       "      <td>Xăng</td>\n",
       "      <td>Số tay</td>\n",
       "      <td>https://bonbanh.com/xe-nissan-almera-1.0-mt-20...</td>\n",
       "      <td>Nissan</td>\n",
       "      <td>Almera 1.0 MT</td>\n",
       "    </tr>\n",
       "    <tr>\n",
       "      <th>7</th>\n",
       "      <td>Bentley Mulsanne 6.75 V8</td>\n",
       "      <td>2011.0</td>\n",
       "      <td>4.900000e+09</td>\n",
       "      <td>Nhập khẩu</td>\n",
       "      <td>Sedan</td>\n",
       "      <td>80000</td>\n",
       "      <td>Xăng</td>\n",
       "      <td>Số tự động</td>\n",
       "      <td>https://bonbanh.com/xe-bentley-mulsanne-6.75-v...</td>\n",
       "      <td>Bentley</td>\n",
       "      <td>Mulsanne 6.75 V8</td>\n",
       "    </tr>\n",
       "  </tbody>\n",
       "</table>\n",
       "</div>"
      ]
     },
     "execution_count": 121,
     "metadata": {},
     "output_type": "execute_result"
    }
   ],
   "execution_count": 121
  },
  {
   "metadata": {},
   "cell_type": "markdown",
   "source": "# Kết hợp 2 bảng dữ liệu",
   "id": "8e07351d7ab20db4"
  },
  {
   "metadata": {
    "ExecuteTime": {
     "end_time": "2024-05-31T09:13:48.517702Z",
     "start_time": "2024-05-31T09:13:48.494368Z"
    }
   },
   "cell_type": "code",
   "source": [
    "df = pd.concat([df_bb, df_oto], ignore_index=True)\n",
    "df.head()"
   ],
   "id": "ebcc22ea6a31ed23",
   "outputs": [
    {
     "data": {
      "text/plain": [
       "                           car_name    year         price      assemble_place  \\\n",
       "0  Kia Sorento Signature 2.2 AT AWD  2020.0  8.990000e+08  Lắp ráp trong nước   \n",
       "1                  Kia Sorento GATH  2018.0  5.680000e+08  Lắp ráp trong nước   \n",
       "2             Mazda CX8 Premium AWD  2022.0  9.290000e+08  Lắp ráp trong nước   \n",
       "3              Nissan Almera 1.0 MT  2022.0  3.690000e+08           Nhập khẩu   \n",
       "4          Bentley Mulsanne 6.75 V8  2011.0  4.900000e+09           Nhập khẩu   \n",
       "\n",
       "  series     km engine_type transmission  \\\n",
       "0    SUV  60000         Dầu   Số tự động   \n",
       "1    SUV  80000        Xăng   Số tự động   \n",
       "2    SUV  50000        Xăng   Số tự động   \n",
       "3  Sedan  25000        Xăng       Số tay   \n",
       "4  Sedan  80000        Xăng   Số tự động   \n",
       "\n",
       "                                                 url    brand  \\\n",
       "0  https://bonbanh.com/xe-kia-sorento-signature-2...      Kia   \n",
       "1  https://bonbanh.com/xe-kia-sorento-gath-2018-5...      Kia   \n",
       "2  https://bonbanh.com/xe-mazda-cx8-premium-awd-2...    Mazda   \n",
       "3  https://bonbanh.com/xe-nissan-almera-1.0-mt-20...   Nissan   \n",
       "4  https://bonbanh.com/xe-bentley-mulsanne-6.75-v...  Bentley   \n",
       "\n",
       "                          model  \n",
       "0  Sorento Signature 2.2 AT AWD  \n",
       "1                  Sorento GATH  \n",
       "2               CX8 Premium AWD  \n",
       "3                 Almera 1.0 MT  \n",
       "4              Mulsanne 6.75 V8  "
      ],
      "text/html": [
       "<div>\n",
       "<style scoped>\n",
       "    .dataframe tbody tr th:only-of-type {\n",
       "        vertical-align: middle;\n",
       "    }\n",
       "\n",
       "    .dataframe tbody tr th {\n",
       "        vertical-align: top;\n",
       "    }\n",
       "\n",
       "    .dataframe thead th {\n",
       "        text-align: right;\n",
       "    }\n",
       "</style>\n",
       "<table border=\"1\" class=\"dataframe\">\n",
       "  <thead>\n",
       "    <tr style=\"text-align: right;\">\n",
       "      <th></th>\n",
       "      <th>car_name</th>\n",
       "      <th>year</th>\n",
       "      <th>price</th>\n",
       "      <th>assemble_place</th>\n",
       "      <th>series</th>\n",
       "      <th>km</th>\n",
       "      <th>engine_type</th>\n",
       "      <th>transmission</th>\n",
       "      <th>url</th>\n",
       "      <th>brand</th>\n",
       "      <th>model</th>\n",
       "    </tr>\n",
       "  </thead>\n",
       "  <tbody>\n",
       "    <tr>\n",
       "      <th>0</th>\n",
       "      <td>Kia Sorento Signature 2.2 AT AWD</td>\n",
       "      <td>2020.0</td>\n",
       "      <td>8.990000e+08</td>\n",
       "      <td>Lắp ráp trong nước</td>\n",
       "      <td>SUV</td>\n",
       "      <td>60000</td>\n",
       "      <td>Dầu</td>\n",
       "      <td>Số tự động</td>\n",
       "      <td>https://bonbanh.com/xe-kia-sorento-signature-2...</td>\n",
       "      <td>Kia</td>\n",
       "      <td>Sorento Signature 2.2 AT AWD</td>\n",
       "    </tr>\n",
       "    <tr>\n",
       "      <th>1</th>\n",
       "      <td>Kia Sorento GATH</td>\n",
       "      <td>2018.0</td>\n",
       "      <td>5.680000e+08</td>\n",
       "      <td>Lắp ráp trong nước</td>\n",
       "      <td>SUV</td>\n",
       "      <td>80000</td>\n",
       "      <td>Xăng</td>\n",
       "      <td>Số tự động</td>\n",
       "      <td>https://bonbanh.com/xe-kia-sorento-gath-2018-5...</td>\n",
       "      <td>Kia</td>\n",
       "      <td>Sorento GATH</td>\n",
       "    </tr>\n",
       "    <tr>\n",
       "      <th>2</th>\n",
       "      <td>Mazda CX8 Premium AWD</td>\n",
       "      <td>2022.0</td>\n",
       "      <td>9.290000e+08</td>\n",
       "      <td>Lắp ráp trong nước</td>\n",
       "      <td>SUV</td>\n",
       "      <td>50000</td>\n",
       "      <td>Xăng</td>\n",
       "      <td>Số tự động</td>\n",
       "      <td>https://bonbanh.com/xe-mazda-cx8-premium-awd-2...</td>\n",
       "      <td>Mazda</td>\n",
       "      <td>CX8 Premium AWD</td>\n",
       "    </tr>\n",
       "    <tr>\n",
       "      <th>3</th>\n",
       "      <td>Nissan Almera 1.0 MT</td>\n",
       "      <td>2022.0</td>\n",
       "      <td>3.690000e+08</td>\n",
       "      <td>Nhập khẩu</td>\n",
       "      <td>Sedan</td>\n",
       "      <td>25000</td>\n",
       "      <td>Xăng</td>\n",
       "      <td>Số tay</td>\n",
       "      <td>https://bonbanh.com/xe-nissan-almera-1.0-mt-20...</td>\n",
       "      <td>Nissan</td>\n",
       "      <td>Almera 1.0 MT</td>\n",
       "    </tr>\n",
       "    <tr>\n",
       "      <th>4</th>\n",
       "      <td>Bentley Mulsanne 6.75 V8</td>\n",
       "      <td>2011.0</td>\n",
       "      <td>4.900000e+09</td>\n",
       "      <td>Nhập khẩu</td>\n",
       "      <td>Sedan</td>\n",
       "      <td>80000</td>\n",
       "      <td>Xăng</td>\n",
       "      <td>Số tự động</td>\n",
       "      <td>https://bonbanh.com/xe-bentley-mulsanne-6.75-v...</td>\n",
       "      <td>Bentley</td>\n",
       "      <td>Mulsanne 6.75 V8</td>\n",
       "    </tr>\n",
       "  </tbody>\n",
       "</table>\n",
       "</div>"
      ]
     },
     "execution_count": 122,
     "metadata": {},
     "output_type": "execute_result"
    }
   ],
   "execution_count": 122
  },
  {
   "metadata": {
    "ExecuteTime": {
     "end_time": "2024-05-31T09:13:48.592157Z",
     "start_time": "2024-05-31T09:13:48.585839Z"
    }
   },
   "cell_type": "code",
   "source": [
    "# thay these các giá trị null trong series bằng giá trị xuất hiện nhiều nhất\n",
    "def fill_null(series):\n",
    "    return series.fillna(series.value_counts().index[0])\n",
    "df['series'] = fill_null(df['series'])"
   ],
   "id": "5016438580926275",
   "outputs": [],
   "execution_count": 123
  },
  {
   "metadata": {
    "ExecuteTime": {
     "end_time": "2024-05-31T09:13:48.672066Z",
     "start_time": "2024-05-31T09:13:48.664219Z"
    }
   },
   "cell_type": "code",
   "source": "df['engine_type'] = fill_null(df['engine_type'])",
   "id": "8277dc2fc1f3a630",
   "outputs": [],
   "execution_count": 124
  },
  {
   "metadata": {},
   "cell_type": "markdown",
   "source": "",
   "id": "271c4066b3794e04"
  },
  {
   "metadata": {
    "ExecuteTime": {
     "end_time": "2024-05-31T09:13:48.860612Z",
     "start_time": "2024-05-31T09:13:48.842328Z"
    }
   },
   "cell_type": "code",
   "source": [
    "# Create a dictionary that maps the old series names to the new ones\n",
    "series_dict = {\n",
    "    'SUV': 'SUV',\n",
    "    'Sedan': 'Sedan',\n",
    "    'Crossover': 'Crossover',\n",
    "    'Hatchback': 'Hatchback',\n",
    "    'Bán tải / Pickup': 'Pickup',\n",
    "    'Van/Minivan': 'Van/Minivan',\n",
    "    'Coupe': 'Coupe',\n",
    "    'Convertible/Cabriolet': 'Convertible',\n",
    "    'Truck': 'Truck',\n",
    "    'MPV': 'MPV',\n",
    "    'Bán Tải': 'Pickup',\n",
    "    'Convertible': 'Convertible'\n",
    "}\n",
    "\n",
    "# Replace the old series names with the new ones\n",
    "df['series'] = df['series'].map(series_dict)\n"
   ],
   "id": "61157a37fc3d6f16",
   "outputs": [],
   "execution_count": 125
  },
  {
   "metadata": {
    "ExecuteTime": {
     "end_time": "2024-05-31T09:13:49.228800Z",
     "start_time": "2024-05-31T09:13:48.975501Z"
    }
   },
   "cell_type": "code",
   "source": [
    "model_counts = df['model'].value_counts()\n",
    "\n",
    "# Danh sách các model chỉ xuất hiện một lần\n",
    "rare_models = model_counts[model_counts == 1].index\n",
    "\n",
    "# Thay thế các model hiếm bằng 'Other'\n",
    "df['model'] = df['model'].replace(rare_models, 'Other')"
   ],
   "id": "7afc6e38c5891a94",
   "outputs": [],
   "execution_count": 126
  },
  {
   "metadata": {
    "ExecuteTime": {
     "end_time": "2024-05-31T09:13:49.276146Z",
     "start_time": "2024-05-31T09:13:49.230322Z"
    }
   },
   "cell_type": "code",
   "source": "df['series'].value_counts()",
   "id": "e6d121048fffd249",
   "outputs": [
    {
     "data": {
      "text/plain": [
       "series\n",
       "SUV            5100\n",
       "Sedan          4107\n",
       "Crossover      1125\n",
       "Hatchback       768\n",
       "Pickup          720\n",
       "Van/Minivan     530\n",
       "Coupe            88\n",
       "Convertible      40\n",
       "Truck            29\n",
       "MPV              29\n",
       "Name: count, dtype: int64"
      ]
     },
     "execution_count": 127,
     "metadata": {},
     "output_type": "execute_result"
    }
   ],
   "execution_count": 127
  },
  {
   "metadata": {
    "ExecuteTime": {
     "end_time": "2024-05-31T09:13:49.364639Z",
     "start_time": "2024-05-31T09:13:49.277159Z"
    }
   },
   "cell_type": "code",
   "source": [
    "#dump data\n",
    "df.to_csv('../data/data.csv', index=False)"
   ],
   "id": "6f3414635b9f73b6",
   "outputs": [],
   "execution_count": 128
  },
  {
   "metadata": {
    "ExecuteTime": {
     "end_time": "2024-05-31T09:13:49.378201Z",
     "start_time": "2024-05-31T09:13:49.366655Z"
    }
   },
   "cell_type": "code",
   "source": "df.head()",
   "id": "d88a11e0b65b4124",
   "outputs": [
    {
     "data": {
      "text/plain": [
       "                           car_name    year         price      assemble_place  \\\n",
       "0  Kia Sorento Signature 2.2 AT AWD  2020.0  8.990000e+08  Lắp ráp trong nước   \n",
       "1                  Kia Sorento GATH  2018.0  5.680000e+08  Lắp ráp trong nước   \n",
       "2             Mazda CX8 Premium AWD  2022.0  9.290000e+08  Lắp ráp trong nước   \n",
       "3              Nissan Almera 1.0 MT  2022.0  3.690000e+08           Nhập khẩu   \n",
       "4          Bentley Mulsanne 6.75 V8  2011.0  4.900000e+09           Nhập khẩu   \n",
       "\n",
       "  series     km engine_type transmission  \\\n",
       "0    SUV  60000         Dầu   Số tự động   \n",
       "1    SUV  80000        Xăng   Số tự động   \n",
       "2    SUV  50000        Xăng   Số tự động   \n",
       "3  Sedan  25000        Xăng       Số tay   \n",
       "4  Sedan  80000        Xăng   Số tự động   \n",
       "\n",
       "                                                 url    brand  \\\n",
       "0  https://bonbanh.com/xe-kia-sorento-signature-2...      Kia   \n",
       "1  https://bonbanh.com/xe-kia-sorento-gath-2018-5...      Kia   \n",
       "2  https://bonbanh.com/xe-mazda-cx8-premium-awd-2...    Mazda   \n",
       "3  https://bonbanh.com/xe-nissan-almera-1.0-mt-20...   Nissan   \n",
       "4  https://bonbanh.com/xe-bentley-mulsanne-6.75-v...  Bentley   \n",
       "\n",
       "                          model  \n",
       "0  Sorento Signature 2.2 AT AWD  \n",
       "1                  Sorento GATH  \n",
       "2               CX8 Premium AWD  \n",
       "3                 Almera 1.0 MT  \n",
       "4              Mulsanne 6.75 V8  "
      ],
      "text/html": [
       "<div>\n",
       "<style scoped>\n",
       "    .dataframe tbody tr th:only-of-type {\n",
       "        vertical-align: middle;\n",
       "    }\n",
       "\n",
       "    .dataframe tbody tr th {\n",
       "        vertical-align: top;\n",
       "    }\n",
       "\n",
       "    .dataframe thead th {\n",
       "        text-align: right;\n",
       "    }\n",
       "</style>\n",
       "<table border=\"1\" class=\"dataframe\">\n",
       "  <thead>\n",
       "    <tr style=\"text-align: right;\">\n",
       "      <th></th>\n",
       "      <th>car_name</th>\n",
       "      <th>year</th>\n",
       "      <th>price</th>\n",
       "      <th>assemble_place</th>\n",
       "      <th>series</th>\n",
       "      <th>km</th>\n",
       "      <th>engine_type</th>\n",
       "      <th>transmission</th>\n",
       "      <th>url</th>\n",
       "      <th>brand</th>\n",
       "      <th>model</th>\n",
       "    </tr>\n",
       "  </thead>\n",
       "  <tbody>\n",
       "    <tr>\n",
       "      <th>0</th>\n",
       "      <td>Kia Sorento Signature 2.2 AT AWD</td>\n",
       "      <td>2020.0</td>\n",
       "      <td>8.990000e+08</td>\n",
       "      <td>Lắp ráp trong nước</td>\n",
       "      <td>SUV</td>\n",
       "      <td>60000</td>\n",
       "      <td>Dầu</td>\n",
       "      <td>Số tự động</td>\n",
       "      <td>https://bonbanh.com/xe-kia-sorento-signature-2...</td>\n",
       "      <td>Kia</td>\n",
       "      <td>Sorento Signature 2.2 AT AWD</td>\n",
       "    </tr>\n",
       "    <tr>\n",
       "      <th>1</th>\n",
       "      <td>Kia Sorento GATH</td>\n",
       "      <td>2018.0</td>\n",
       "      <td>5.680000e+08</td>\n",
       "      <td>Lắp ráp trong nước</td>\n",
       "      <td>SUV</td>\n",
       "      <td>80000</td>\n",
       "      <td>Xăng</td>\n",
       "      <td>Số tự động</td>\n",
       "      <td>https://bonbanh.com/xe-kia-sorento-gath-2018-5...</td>\n",
       "      <td>Kia</td>\n",
       "      <td>Sorento GATH</td>\n",
       "    </tr>\n",
       "    <tr>\n",
       "      <th>2</th>\n",
       "      <td>Mazda CX8 Premium AWD</td>\n",
       "      <td>2022.0</td>\n",
       "      <td>9.290000e+08</td>\n",
       "      <td>Lắp ráp trong nước</td>\n",
       "      <td>SUV</td>\n",
       "      <td>50000</td>\n",
       "      <td>Xăng</td>\n",
       "      <td>Số tự động</td>\n",
       "      <td>https://bonbanh.com/xe-mazda-cx8-premium-awd-2...</td>\n",
       "      <td>Mazda</td>\n",
       "      <td>CX8 Premium AWD</td>\n",
       "    </tr>\n",
       "    <tr>\n",
       "      <th>3</th>\n",
       "      <td>Nissan Almera 1.0 MT</td>\n",
       "      <td>2022.0</td>\n",
       "      <td>3.690000e+08</td>\n",
       "      <td>Nhập khẩu</td>\n",
       "      <td>Sedan</td>\n",
       "      <td>25000</td>\n",
       "      <td>Xăng</td>\n",
       "      <td>Số tay</td>\n",
       "      <td>https://bonbanh.com/xe-nissan-almera-1.0-mt-20...</td>\n",
       "      <td>Nissan</td>\n",
       "      <td>Almera 1.0 MT</td>\n",
       "    </tr>\n",
       "    <tr>\n",
       "      <th>4</th>\n",
       "      <td>Bentley Mulsanne 6.75 V8</td>\n",
       "      <td>2011.0</td>\n",
       "      <td>4.900000e+09</td>\n",
       "      <td>Nhập khẩu</td>\n",
       "      <td>Sedan</td>\n",
       "      <td>80000</td>\n",
       "      <td>Xăng</td>\n",
       "      <td>Số tự động</td>\n",
       "      <td>https://bonbanh.com/xe-bentley-mulsanne-6.75-v...</td>\n",
       "      <td>Bentley</td>\n",
       "      <td>Mulsanne 6.75 V8</td>\n",
       "    </tr>\n",
       "  </tbody>\n",
       "</table>\n",
       "</div>"
      ]
     },
     "execution_count": 129,
     "metadata": {},
     "output_type": "execute_result"
    }
   ],
   "execution_count": 129
  },
  {
   "metadata": {
    "ExecuteTime": {
     "end_time": "2024-05-31T09:13:49.394846Z",
     "start_time": "2024-05-31T09:13:49.379721Z"
    }
   },
   "cell_type": "code",
   "source": "df.isnull().sum()",
   "id": "6be3736c9d8d026a",
   "outputs": [
    {
     "data": {
      "text/plain": [
       "car_name          0\n",
       "year              0\n",
       "price             0\n",
       "assemble_place    0\n",
       "series            0\n",
       "km                0\n",
       "engine_type       0\n",
       "transmission      0\n",
       "url               0\n",
       "brand             0\n",
       "model             0\n",
       "dtype: int64"
      ]
     },
     "execution_count": 130,
     "metadata": {},
     "output_type": "execute_result"
    }
   ],
   "execution_count": 130
  },
  {
   "metadata": {
    "ExecuteTime": {
     "end_time": "2024-05-31T09:13:49.397998Z",
     "start_time": "2024-05-31T09:13:49.395855Z"
    }
   },
   "cell_type": "code",
   "source": "",
   "id": "6e8285eec1699182",
   "outputs": [],
   "execution_count": 130
  }
 ],
 "metadata": {
  "kernelspec": {
   "display_name": "Python 3",
   "language": "python",
   "name": "python3"
  },
  "language_info": {
   "codemirror_mode": {
    "name": "ipython",
    "version": 2
   },
   "file_extension": ".py",
   "mimetype": "text/x-python",
   "name": "python",
   "nbconvert_exporter": "python",
   "pygments_lexer": "ipython2",
   "version": "2.7.6"
  }
 },
 "nbformat": 4,
 "nbformat_minor": 5
}
